{
 "cells": [
  {
   "cell_type": "code",
   "execution_count": 22,
   "id": "7a9ac83f",
   "metadata": {},
   "outputs": [],
   "source": [
    "import numpy as np\n",
    "import pandas as pd"
   ]
  },
  {
   "cell_type": "markdown",
   "id": "29512b2f",
   "metadata": {},
   "source": [
    "**Based on the data frame created in the previous task, display the fourth \n",
    "line. Then write those students who scored above average to a separate \n",
    "box.**"
   ]
  },
  {
   "cell_type": "code",
   "execution_count": 23,
   "id": "0dc7d89d",
   "metadata": {
    "scrolled": true
   },
   "outputs": [
    {
     "data": {
      "text/html": [
       "<div>\n",
       "<style scoped>\n",
       "    .dataframe tbody tr th:only-of-type {\n",
       "        vertical-align: middle;\n",
       "    }\n",
       "\n",
       "    .dataframe tbody tr th {\n",
       "        vertical-align: top;\n",
       "    }\n",
       "\n",
       "    .dataframe thead th {\n",
       "        text-align: right;\n",
       "    }\n",
       "</style>\n",
       "<table border=\"1\" class=\"dataframe\">\n",
       "  <thead>\n",
       "    <tr style=\"text-align: right;\">\n",
       "      <th></th>\n",
       "      <th>Names</th>\n",
       "      <th>Scores</th>\n",
       "    </tr>\n",
       "  </thead>\n",
       "  <tbody>\n",
       "    <tr>\n",
       "      <th>1</th>\n",
       "      <td>Merli</td>\n",
       "      <td>100</td>\n",
       "    </tr>\n",
       "    <tr>\n",
       "      <th>2</th>\n",
       "      <td>Aigi</td>\n",
       "      <td>75</td>\n",
       "    </tr>\n",
       "    <tr>\n",
       "      <th>3</th>\n",
       "      <td>Olga</td>\n",
       "      <td>85</td>\n",
       "    </tr>\n",
       "    <tr>\n",
       "      <th>4</th>\n",
       "      <td>Martin</td>\n",
       "      <td>45</td>\n",
       "    </tr>\n",
       "    <tr>\n",
       "      <th>5</th>\n",
       "      <td>Indrek</td>\n",
       "      <td>50</td>\n",
       "    </tr>\n",
       "    <tr>\n",
       "      <th>6</th>\n",
       "      <td>Andres</td>\n",
       "      <td>55</td>\n",
       "    </tr>\n",
       "    <tr>\n",
       "      <th>7</th>\n",
       "      <td>Kerly</td>\n",
       "      <td>73</td>\n",
       "    </tr>\n",
       "    <tr>\n",
       "      <th>8</th>\n",
       "      <td>Merili</td>\n",
       "      <td>89</td>\n",
       "    </tr>\n",
       "    <tr>\n",
       "      <th>9</th>\n",
       "      <td>Sten</td>\n",
       "      <td>94</td>\n",
       "    </tr>\n",
       "    <tr>\n",
       "      <th>10</th>\n",
       "      <td>Niko</td>\n",
       "      <td>100</td>\n",
       "    </tr>\n",
       "  </tbody>\n",
       "</table>\n",
       "</div>"
      ],
      "text/plain": [
       "     Names  Scores\n",
       "1    Merli     100\n",
       "2     Aigi      75\n",
       "3     Olga      85\n",
       "4   Martin      45\n",
       "5   Indrek      50\n",
       "6   Andres      55\n",
       "7    Kerly      73\n",
       "8   Merili      89\n",
       "9     Sten      94\n",
       "10    Niko     100"
      ]
     },
     "execution_count": 23,
     "metadata": {},
     "output_type": "execute_result"
    }
   ],
   "source": [
    "student_scores_data = {\n",
    "    \"Names\": ['Merli', 'Aigi', 'Olga', 'Martin', 'Indrek', 'Andres', 'Kerly', 'Merili', 'Sten', 'Niko'],\n",
    "    \"Scores\": [100, 75, 85, 45, 50, 55, 73, 89, 94, 100]\n",
    "}\n",
    "student_score_table = pd.DataFrame(student_scores_data, index=[1, 2, 3, 4, 5, 6, 7, 8, 9, 10])  # Created dataframe about students and their exams scores\n",
    "student_score_table #'row0', 'row1', 'row2','row3', 'row4','row5', 'row6','row7', 'row8','row9'"
   ]
  },
  {
   "cell_type": "markdown",
   "id": "14f74806",
   "metadata": {},
   "source": [
    "**Display the forth row**"
   ]
  },
  {
   "cell_type": "code",
   "execution_count": 24,
   "id": "33e12b12",
   "metadata": {},
   "outputs": [
    {
     "data": {
      "text/plain": [
       "Names     Olga\n",
       "Scores      85\n",
       "Name: 3, dtype: object"
      ]
     },
     "execution_count": 24,
     "metadata": {},
     "output_type": "execute_result"
    }
   ],
   "source": [
    "student_score_table.loc[3]"
   ]
  },
  {
   "cell_type": "code",
   "execution_count": 25,
   "id": "37977f1a",
   "metadata": {},
   "outputs": [
    {
     "data": {
      "text/plain": [
       "Names     Olga\n",
       "Scores      85\n",
       "Name: 3, dtype: object"
      ]
     },
     "execution_count": 25,
     "metadata": {},
     "output_type": "execute_result"
    }
   ],
   "source": [
    "student_score_table.iloc[2]"
   ]
  },
  {
   "cell_type": "markdown",
   "id": "e1473af8",
   "metadata": {},
   "source": [
    "**new data structure for students who scores were higher than average**"
   ]
  },
  {
   "cell_type": "code",
   "execution_count": 43,
   "id": "1a20b67d",
   "metadata": {},
   "outputs": [
    {
     "data": {
      "text/html": [
       "<div>\n",
       "<style scoped>\n",
       "    .dataframe tbody tr th:only-of-type {\n",
       "        vertical-align: middle;\n",
       "    }\n",
       "\n",
       "    .dataframe tbody tr th {\n",
       "        vertical-align: top;\n",
       "    }\n",
       "\n",
       "    .dataframe thead th {\n",
       "        text-align: right;\n",
       "    }\n",
       "</style>\n",
       "<table border=\"1\" class=\"dataframe\">\n",
       "  <thead>\n",
       "    <tr style=\"text-align: right;\">\n",
       "      <th></th>\n",
       "      <th>Names</th>\n",
       "      <th>Scores</th>\n",
       "    </tr>\n",
       "  </thead>\n",
       "  <tbody>\n",
       "    <tr>\n",
       "      <th>1</th>\n",
       "      <td>Merli</td>\n",
       "      <td>100</td>\n",
       "    </tr>\n",
       "    <tr>\n",
       "      <th>3</th>\n",
       "      <td>Olga</td>\n",
       "      <td>85</td>\n",
       "    </tr>\n",
       "    <tr>\n",
       "      <th>8</th>\n",
       "      <td>Merili</td>\n",
       "      <td>89</td>\n",
       "    </tr>\n",
       "    <tr>\n",
       "      <th>9</th>\n",
       "      <td>Sten</td>\n",
       "      <td>94</td>\n",
       "    </tr>\n",
       "    <tr>\n",
       "      <th>10</th>\n",
       "      <td>Niko</td>\n",
       "      <td>100</td>\n",
       "    </tr>\n",
       "  </tbody>\n",
       "</table>\n",
       "</div>"
      ],
      "text/plain": [
       "     Names  Scores\n",
       "1    Merli     100\n",
       "3     Olga      85\n",
       "8   Merili      89\n",
       "9     Sten      94\n",
       "10    Niko     100"
      ]
     },
     "execution_count": 43,
     "metadata": {},
     "output_type": "execute_result"
    }
   ],
   "source": [
    "student_score_table[(student_score_table.Scores > student_score_table['Scores'].mean())]"
   ]
  },
  {
   "cell_type": "code",
   "execution_count": null,
   "id": "7c89c88e",
   "metadata": {},
   "outputs": [],
   "source": []
  }
 ],
 "metadata": {
  "kernelspec": {
   "display_name": "Python 3 (ipykernel)",
   "language": "python",
   "name": "python3"
  },
  "language_info": {
   "codemirror_mode": {
    "name": "ipython",
    "version": 3
   },
   "file_extension": ".py",
   "mimetype": "text/x-python",
   "name": "python",
   "nbconvert_exporter": "python",
   "pygments_lexer": "ipython3",
   "version": "3.10.5"
  }
 },
 "nbformat": 4,
 "nbformat_minor": 5
}
