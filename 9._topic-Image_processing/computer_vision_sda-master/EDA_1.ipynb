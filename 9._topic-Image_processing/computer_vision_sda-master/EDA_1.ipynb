{
 "cells": [
  {
   "cell_type": "code",
   "execution_count": 1,
   "metadata": {},
   "outputs": [],
   "source": [
    "import pandas as pd\n",
    "from pandas_profiling import ProfileReport\n",
    "import cv2\n",
    "import numpy as np"
   ]
  },
  {
   "cell_type": "code",
   "execution_count": 3,
   "metadata": {},
   "outputs": [],
   "source": [
    "class Dataset:\n",
    "    def __init__(self,\n",
    "                 list_attr_celeba_path=\"list_attr_celeba.csv\",\n",
    "                 list_bbox_celeba_path=\"list_bbox_celeba.csv\",\n",
    "                 list_eval_partition_path=\"list_eval_partition.csv\",\n",
    "                 list_landmarks_align_celeba_path=\"list_landmarks_align_celeba.csv\",\n",
    "                 images_path=\"img_align_celeba/\"\n",
    "                 ):\n",
    "\n",
    "        list_attr_celeba = pd.read_csv(list_attr_celeba_path)\n",
    "        list_bbox_celeba = pd.read_csv(list_bbox_celeba_path)\n",
    "        list_eval_partition = pd.read_csv(list_eval_partition_path)\n",
    "        list_landmarks_align_celeba = pd.read_csv(list_landmarks_align_celeba_path)\n",
    "\n",
    "        df = list_attr_celeba.merge(list_bbox_celeba, on='image_id')\n",
    "        df = df.merge(list_bbox_celeba, on='image_id')\n",
    "        df = df.merge(list_eval_partition, on='image_id')\n",
    "        self.df = df.merge(list_landmarks_align_celeba, on='image_id')\n",
    "        self.images_path = images_path\n",
    "\n",
    "    def generate_report(self, report_name='your_report'):\n",
    "        profile = ProfileReport(self.df, title=\"Pandas Profiling Report\")\n",
    "        profile.to_file(f\"{report_name}.html\")\n",
    "\n",
    "    def show_some_examples(self, attribute: str, positive: bool = True):\n",
    "        \"\"\"\n",
    "        Quick visualization of some examples\n",
    "\n",
    "        :param attribute: One of boolean attribute:\n",
    "        '5_o_Clock_Shadow', 'Arched_Eyebrows', 'Attractive', 'Bags_Under_Eyes', 'Bald', 'Bangs', 'Big_Lips', 'Big_Nose',\n",
    "        'Black_Hair', 'Blond_Hair', 'Blurry', 'Brown_Hair', 'Bushy_Eyebrows','Chubby', 'Double_Chin', 'Eyeglasses',\n",
    "        'Goatee', 'Gray_Hair', 'Heavy_Makeup', 'High_Cheekbones', 'Male', 'Mouth_Slightly_Open', 'Mustache',\n",
    "        'Narrow_Eyes', 'No_Beard', 'Oval_Face', 'Pale_Skin', 'Pointy_Nose', 'Receding_Hairline', 'Rosy_Cheeks',\n",
    "        'Sideburns', 'Smiling', 'Straight_Hair', 'Wavy_Hair', 'Wearing_Earrings', 'Wearing_Hat', 'Wearing_Lipstick',\n",
    "        'Wearing_Necklace', 'Wearing_Necktie', 'Young'\n",
    "        :type attribute: str\n",
    "        :param positive: show positive examples or not (negative if false)\n",
    "        :type positive: boolean\n",
    "        :return: None\n",
    "        :rtype: None\n",
    "        \"\"\"\n",
    "        print(self.df.columns)\n",
    "        if positive:\n",
    "            exist = 1\n",
    "        else:\n",
    "            exist = -1\n",
    "\n",
    "        df = self.df[self.df[attribute] == exist]\n",
    "        images = list(df.head(9)['image_id'])\n",
    "        images = [cv2.imread(self.images_path+path) for path in images]\n",
    "        horizontal_1 = np.concatenate((images[0], images[1], images[2]), axis=1)\n",
    "        horizontal_2 = np.concatenate((images[3], images[4], images[5]), axis=1)\n",
    "        horizontal_3 = np.concatenate((images[6], images[7], images[8]), axis=1)\n",
    "        vertical = np.concatenate((horizontal_1, horizontal_2, horizontal_3), axis=0)\n",
    "        cv2.imshow(\"Examples\", vertical)\n",
    "\n",
    "        cv2.waitKey(0)\n",
    "        cv2.destroyAllWindows()"
   ]
  },
  {
   "cell_type": "code",
   "execution_count": 4,
   "metadata": {},
   "outputs": [
    {
     "name": "stdout",
     "output_type": "stream",
     "text": [
      "Index(['image_id', '5_o_Clock_Shadow', 'Arched_Eyebrows', 'Attractive',\n",
      "       'Bags_Under_Eyes', 'Bald', 'Bangs', 'Big_Lips', 'Big_Nose',\n",
      "       'Black_Hair', 'Blond_Hair', 'Blurry', 'Brown_Hair', 'Bushy_Eyebrows',\n",
      "       'Chubby', 'Double_Chin', 'Eyeglasses', 'Goatee', 'Gray_Hair',\n",
      "       'Heavy_Makeup', 'High_Cheekbones', 'Male', 'Mouth_Slightly_Open',\n",
      "       'Mustache', 'Narrow_Eyes', 'No_Beard', 'Oval_Face', 'Pale_Skin',\n",
      "       'Pointy_Nose', 'Receding_Hairline', 'Rosy_Cheeks', 'Sideburns',\n",
      "       'Smiling', 'Straight_Hair', 'Wavy_Hair', 'Wearing_Earrings',\n",
      "       'Wearing_Hat', 'Wearing_Lipstick', 'Wearing_Necklace',\n",
      "       'Wearing_Necktie', 'Young', 'x_1_x', 'y_1_x', 'width_x', 'height_x',\n",
      "       'x_1_y', 'y_1_y', 'width_y', 'height_y', 'partition', 'lefteye_x',\n",
      "       'lefteye_y', 'righteye_x', 'righteye_y', 'nose_x', 'nose_y',\n",
      "       'leftmouth_x', 'leftmouth_y', 'rightmouth_x', 'rightmouth_y'],\n",
      "      dtype='object')\n"
     ]
    }
   ],
   "source": [
    "if __name__ == \"__main__\":\n",
    "    dataset = Dataset()\n",
    "    dataset.show_some_examples(attribute=\"5_o_Clock_Shadow\", positive=False)"
   ]
  },
  {
   "cell_type": "code",
   "execution_count": 5,
   "metadata": {},
   "outputs": [
    {
     "ename": "ModuleNotFoundError",
     "evalue": "No module named 'imgaug'",
     "output_type": "error",
     "traceback": [
      "\u001b[1;31m---------------------------------------------------------------------------\u001b[0m",
      "\u001b[1;31mModuleNotFoundError\u001b[0m                       Traceback (most recent call last)",
      "\u001b[1;32mc:\\Users\\merli\\SDA\\9._topic-Image_processing\\computer_vision_sda-master\\EDA_1.ipynb Cell 4\u001b[0m in \u001b[0;36m<cell line: 3>\u001b[1;34m()\u001b[0m\n\u001b[0;32m      <a href='vscode-notebook-cell:/c%3A/Users/merli/SDA/9._topic-Image_processing/computer_vision_sda-master/EDA_1.ipynb#W3sZmlsZQ%3D%3D?line=0'>1</a>\u001b[0m \u001b[39mimport\u001b[39;00m \u001b[39mkeras\u001b[39;00m\n\u001b[0;32m      <a href='vscode-notebook-cell:/c%3A/Users/merli/SDA/9._topic-Image_processing/computer_vision_sda-master/EDA_1.ipynb#W3sZmlsZQ%3D%3D?line=1'>2</a>\u001b[0m \u001b[39mimport\u001b[39;00m \u001b[39mnumpy\u001b[39;00m \u001b[39mas\u001b[39;00m \u001b[39mnp\u001b[39;00m\n\u001b[1;32m----> <a href='vscode-notebook-cell:/c%3A/Users/merli/SDA/9._topic-Image_processing/computer_vision_sda-master/EDA_1.ipynb#W3sZmlsZQ%3D%3D?line=2'>3</a>\u001b[0m \u001b[39mimport\u001b[39;00m \u001b[39mimgaug\u001b[39;00m\u001b[39m.\u001b[39;00m\u001b[39maugmenters\u001b[39;00m \u001b[39mas\u001b[39;00m \u001b[39miaa\u001b[39;00m\n",
      "\u001b[1;31mModuleNotFoundError\u001b[0m: No module named 'imgaug'"
     ]
    }
   ],
   "source": [
    "import keras\n",
    "import numpy as np\n",
    "import imgaug.augmenters as iaa"
   ]
  },
  {
   "cell_type": "code",
   "execution_count": null,
   "metadata": {},
   "outputs": [],
   "source": [
    "class DataGenerator(keras.utils.Sequence):\n",
    "    \"\"\"Generates data for Keras\"\"\"\n",
    "\n",
    "    def __init__(self, images, labels, batch_size=64, shuffle=False, augment=False):\n",
    "        self.labels = labels  # array of labels\n",
    "        self.images = images  # array of images\n",
    "        self.batch_size = batch_size  # batch size\n",
    "        self.shuffle = shuffle  # shuffle bool\n",
    "        self.augment = augment  # augment data bool\n",
    "        self.on_epoch_end()\n",
    "\n",
    "    def __len__(self):\n",
    "        'Denotes the number of batches per epoch'\n",
    "        return int(np.floor(len(self.images) / self.batch_size))\n",
    "\n",
    "    def on_epoch_end(self):\n",
    "        'Updates indexes after each epoch'\n",
    "        self.indexes = np.arange(len(self.images))\n",
    "        if self.shuffle:\n",
    "            np.random.shuffle(self.indexes)\n",
    "\n",
    "    def __getitem__(self, index):\n",
    "        'Generate one batch of data'\n",
    "        # selects indices of data for next batch\n",
    "        indexes = self.indexes[index * self.batch_size: (index + 1) * self.batch_size]\n",
    "\n",
    "        # select data and load images\n",
    "        labels = np.array([self.labels[k] for k in indexes])\n",
    "        images = np.array([self.images[k] for k in indexes])\n",
    "\n",
    "        # preprocess and augment data\n",
    "        if self.augment:\n",
    "            images = self.augmentor(images)\n",
    "\n",
    "        images = images / 255\n",
    "        return images, labels\n",
    "\n",
    "    @staticmethod\n",
    "    def augmentor(images):\n",
    "        \"\"\"Apply data augmentation\"\"\"\n",
    "        def sometimes(aug):\n",
    "            return iaa.Sometimes(0.5, aug)\n",
    "        list_of_aumgenters = []\n",
    "        list_of_aumgenters.extend([sometimes(iaa.Crop(px=(1, 16), keep_size=True)),\n",
    "                                   sometimes(iaa.Fliplr(0.5)),\n",
    "                                   sometimes(iaa.GaussianBlur(sigma=(0, 3.0)))])\n",
    "\n",
    "        seq = iaa.Sequential(list_of_aumgenters)\n",
    "\n",
    "        return seq.augment_images(images)"
   ]
  }
 ],
 "metadata": {
  "kernelspec": {
   "display_name": "Python 3.10.5 64-bit",
   "language": "python",
   "name": "python3"
  },
  "language_info": {
   "codemirror_mode": {
    "name": "ipython",
    "version": 3
   },
   "file_extension": ".py",
   "mimetype": "text/x-python",
   "name": "python",
   "nbconvert_exporter": "python",
   "pygments_lexer": "ipython3",
   "version": "3.10.5"
  },
  "orig_nbformat": 4,
  "vscode": {
   "interpreter": {
    "hash": "3429981c687d110c4c5c63635eed955f89f79b5c29f7b8819e5bb3afec2d8ca0"
   }
  }
 },
 "nbformat": 4,
 "nbformat_minor": 2
}
