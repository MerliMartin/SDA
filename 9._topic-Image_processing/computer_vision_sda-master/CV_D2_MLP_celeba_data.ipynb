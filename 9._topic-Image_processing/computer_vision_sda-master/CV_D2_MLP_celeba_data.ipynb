{
 "cells": [
  {
   "cell_type": "code",
   "execution_count": 23,
   "metadata": {},
   "outputs": [
    {
     "name": "stdout",
     "output_type": "stream",
     "text": [
      "Converting images to numpy arrays...\n",
      "Numpy arrays saved in img_align_celeba\n"
     ]
    }
   ],
   "source": [
    "from __future__ import print_function\n",
    "from __future__ import absolute_import\n",
    "from distutils.dir_util import copy_tree\n",
    "\n",
    "import os\n",
    "import sys\n",
    "import glob\n",
    "import json\n",
    "import re\n",
    "import shutil\n",
    "from shutil import copytree, ignore_patterns\n",
    "import numpy as np\n",
    "\n",
    "CONTEXT_LENGTH = 48\n",
    "IMAGE_SIZE = 256\n",
    "BATCH_SIZE = 64\n",
    "EPOCHS = 10\n",
    "STEPS_PER_EPOCH = 72000\n",
    "\n",
    "class Utils:\n",
    "    @staticmethod\n",
    "    def sparsify(label_vector, output_size):\n",
    "        sparse_vector = []\n",
    "\n",
    "        for label in label_vector:\n",
    "            sparse_label = np.zeros(output_size)\n",
    "            sparse_label[label] = 1\n",
    "\n",
    "            sparse_vector.append(sparse_label)\n",
    "\n",
    "        return np.array(sparse_vector)\n",
    "\n",
    "    @staticmethod\n",
    "    def get_preprocessed_img(img_path, image_size):\n",
    "        import cv2\n",
    "        img = cv2.imread(img_path)\n",
    "        img = cv2.resize(img, (image_size, image_size))\n",
    "        img = img.astype('float32')\n",
    "        img /= 255\n",
    "        return img\n",
    "\n",
    "    @staticmethod\n",
    "    def show(image):\n",
    "        import cv2\n",
    "        cv2.namedWindow(\"view\", cv2.WINDOW_AUTOSIZE)\n",
    "        cv2.imshow(\"view\", image)\n",
    "        cv2.waitKey(0)\n",
    "        cv2.destroyWindow(\"view\")\n",
    "\n",
    "print(\"Converting images to numpy arrays...\")\n",
    "input_path = \"img_align_celeba\"\n",
    "output_path = \"img_align_celeba\"\n",
    "for f in os.listdir(input_path):\n",
    "    if f.find(\".jpg\") != -1:\n",
    "        img = Utils.get_preprocessed_img(\"{}/{}\".format(input_path, f), IMAGE_SIZE)\n",
    "        file_name = f[:f.find(\".jpg\")]\n",
    "\n",
    "        np.savez_compressed(\"{}/{}\".format(output_path, file_name), features=img)\n",
    "        retrieve = np.load(\"{}/{}.npz\".format(output_path, file_name))[\"features\"]\n",
    "\n",
    "        assert np.array_equal(img, retrieve)\n",
    "\n",
    "\n",
    "print(\"Numpy arrays saved in {}\".format(output_path))"
   ]
  },
  {
   "cell_type": "code",
   "execution_count": 25,
   "metadata": {},
   "outputs": [
    {
     "data": {
      "text/plain": [
       "<numpy.lib.npyio.NpzFile at 0x17836358190>"
      ]
     },
     "execution_count": 25,
     "metadata": {},
     "output_type": "execute_result"
    }
   ],
   "source": [
    "arrays = np.load(\"all_images.npz\")\n",
    "arrays"
   ]
  },
  {
   "cell_type": "code",
   "execution_count": 11,
   "metadata": {},
   "outputs": [],
   "source": [
    "import numpy as np\n",
    "import pandas as pd\n",
    "from matplotlib import pyplot as plt\n",
    "from tensorflow.keras.utils import to_categorical"
   ]
  },
  {
   "cell_type": "code",
   "execution_count": 3,
   "metadata": {},
   "outputs": [
    {
     "ename": "ValueError",
     "evalue": "too many values to unpack (expected 2)",
     "output_type": "error",
     "traceback": [
      "\u001b[1;31m---------------------------------------------------------------------------\u001b[0m",
      "\u001b[1;31mValueError\u001b[0m                                Traceback (most recent call last)",
      "\u001b[1;32mc:\\Users\\merli\\SDA\\9._topic-Image_processing\\computer_vision_sda-master\\CV_D2_MLP_mentor.ipynb Cell 2\u001b[0m in \u001b[0;36m<cell line: 1>\u001b[1;34m()\u001b[0m\n\u001b[1;32m----> <a href='vscode-notebook-cell:/c%3A/Users/merli/SDA/9._topic-Image_processing/computer_vision_sda-master/CV_D2_MLP_mentor.ipynb#W1sZmlsZQ%3D%3D?line=0'>1</a>\u001b[0m (train_x, train_y), (test_x, test_y) \u001b[39m=\u001b[39m pd\u001b[39m.\u001b[39mread_csv(\u001b[39m\"\u001b[39m\u001b[39mlist_attr_celeba1.csv\u001b[39m\u001b[39m\"\u001b[39m)\n\u001b[0;32m      <a href='vscode-notebook-cell:/c%3A/Users/merli/SDA/9._topic-Image_processing/computer_vision_sda-master/CV_D2_MLP_mentor.ipynb#W1sZmlsZQ%3D%3D?line=2'>3</a>\u001b[0m \u001b[39mprint\u001b[39m(\u001b[39m'\u001b[39m\u001b[39mTraining data shape : \u001b[39m\u001b[39m'\u001b[39m, train_x\u001b[39m.\u001b[39mshape, train_y\u001b[39m.\u001b[39mshape)\n\u001b[0;32m      <a href='vscode-notebook-cell:/c%3A/Users/merli/SDA/9._topic-Image_processing/computer_vision_sda-master/CV_D2_MLP_mentor.ipynb#W1sZmlsZQ%3D%3D?line=3'>4</a>\u001b[0m \u001b[39mprint\u001b[39m(\u001b[39m'\u001b[39m\u001b[39mTesting data shape : \u001b[39m\u001b[39m'\u001b[39m, test_x\u001b[39m.\u001b[39mshape, test_y\u001b[39m.\u001b[39mshape)\n",
      "\u001b[1;31mValueError\u001b[0m: too many values to unpack (expected 2)"
     ]
    }
   ],
   "source": [
    "\n",
    "\n",
    "\n",
    "print('Training data shape : ', train_x.shape, train_y.shape)\n",
    "print('Testing data shape : ', test_x.shape, test_y.shape)\n",
    "\n",
    "# Find the unique numbers from the train labels\n",
    "classes = np.unique(train_y)\n",
    "classes_num = len(classes)\n",
    "print('Total number of outputs : ', classes_num)\n",
    "print('Output classes : ', classes)\n",
    "\n",
    "plt.figure(figsize=[10,5])\n",
    "\n",
    "# Display the first image in training data\n",
    "plt.subplot(121)\n",
    "plt.imshow(train_x[0,:,:], cmap='copper')\n",
    "plt.title(\"Ground Truth : {}\".format(train_y[0]))\n",
    "plt.axis(\"off\")\n",
    "\n",
    "# Display the first image in testing data\n",
    "plt.subplot(122)\n",
    "plt.imshow(test_x[0,:,:], cmap='copper')\n",
    "plt.title(\"Ground Truth : {}\".format(test_y[0]))\n",
    "plt.axis(\"off\")"
   ]
  },
  {
   "cell_type": "markdown",
   "metadata": {},
   "source": [
    "#### 2. Preprocessing"
   ]
  },
  {
   "cell_type": "code",
   "execution_count": 6,
   "metadata": {},
   "outputs": [],
   "source": [
    "# Change from matrix to array of dimension 28x28 to array of dimension 784\n",
    "\n",
    "train_x = train_x.reshape(train_x.shape[0], -1)\n",
    "test_x = test_x.reshape(test_x.shape[0], -1)\n",
    "\n",
    "# 0-255 to 0-1\n",
    "train_x = train_x/255\n",
    "test_x = test_x/255\n",
    "\n",
    "# Change the labels from integer to categorical data\n",
    "train_y_one_hot = keras.utils.to_categorical(train_y)\n",
    "test_y_one_hot = keras.utils.to_categorical(test_y)"
   ]
  },
  {
   "cell_type": "code",
   "execution_count": 7,
   "metadata": {},
   "outputs": [
    {
     "data": {
      "text/plain": [
       "(60000, 784)"
      ]
     },
     "execution_count": 7,
     "metadata": {},
     "output_type": "execute_result"
    }
   ],
   "source": [
    "train_x.shape"
   ]
  },
  {
   "cell_type": "markdown",
   "metadata": {},
   "source": [
    "#### 3. Model Configuration"
   ]
  },
  {
   "cell_type": "code",
   "execution_count": 8,
   "metadata": {},
   "outputs": [
    {
     "name": "stdout",
     "output_type": "stream",
     "text": [
      "Epoch 1/10\n",
      "235/235 [==============================] - 5s 18ms/step - loss: 0.2723 - accuracy: 0.9160 - val_loss: 0.1181 - val_accuracy: 0.9634\n",
      "Epoch 2/10\n",
      "235/235 [==============================] - 4s 16ms/step - loss: 0.0949 - accuracy: 0.9706 - val_loss: 0.1159 - val_accuracy: 0.9620\n",
      "Epoch 3/10\n",
      "235/235 [==============================] - 4s 15ms/step - loss: 0.0576 - accuracy: 0.9815 - val_loss: 0.1020 - val_accuracy: 0.9679\n",
      "Epoch 4/10\n",
      "235/235 [==============================] - 4s 15ms/step - loss: 0.0395 - accuracy: 0.9872 - val_loss: 0.0701 - val_accuracy: 0.9799\n",
      "Epoch 5/10\n",
      "235/235 [==============================] - 4s 19ms/step - loss: 0.0289 - accuracy: 0.9911 - val_loss: 0.0763 - val_accuracy: 0.9786\n",
      "Epoch 6/10\n",
      "235/235 [==============================] - 4s 16ms/step - loss: 0.0209 - accuracy: 0.9931 - val_loss: 0.0661 - val_accuracy: 0.9835\n",
      "Epoch 7/10\n",
      "235/235 [==============================] - 4s 18ms/step - loss: 0.0165 - accuracy: 0.9945 - val_loss: 0.0946 - val_accuracy: 0.9752\n",
      "Epoch 8/10\n",
      "235/235 [==============================] - 4s 17ms/step - loss: 0.0132 - accuracy: 0.9955 - val_loss: 0.0847 - val_accuracy: 0.9810\n",
      "Epoch 9/10\n",
      "235/235 [==============================] - 4s 17ms/step - loss: 0.0118 - accuracy: 0.9963 - val_loss: 0.0838 - val_accuracy: 0.9809\n",
      "Epoch 10/10\n",
      "235/235 [==============================] - 4s 18ms/step - loss: 0.0092 - accuracy: 0.9968 - val_loss: 0.0874 - val_accuracy: 0.9827\n",
      "313/313 [==============================] - 1s 3ms/step - loss: 0.0874 - accuracy: 0.9827\n",
      "Evaluation result on Test Data : Loss = 0.08740945160388947, accuracy = 0.982699990272522\n"
     ]
    }
   ],
   "source": [
    "from tensorflow.keras.models import Sequential\n",
    "from tensorflow.keras.layers import Dense\n",
    "\n",
    "model = Sequential()\n",
    "model.add(Dense(512, activation='relu', input_shape=(train_x.shape[1],)))\n",
    "model.add(Dense(512, activation='relu'))\n",
    "model.add(Dense(classes_num, activation='softmax'))\n",
    "\n",
    "model.compile(optimizer='rmsprop', loss='categorical_crossentropy', metrics=['accuracy'])\n",
    "\n",
    "history = model.fit(train_x, train_y_one_hot,\n",
    "                   batch_size=256, epochs=10, verbose=True,\n",
    "                   validation_data=(test_x, test_y_one_hot))\n",
    "\n",
    "[test_loss, test_acc] = model.evaluate(test_x, test_y_one_hot)\n",
    "print(f\"Evaluation result on Test Data : Loss = {test_loss}, accuracy = {test_acc}\")\n",
    "\n"
   ]
  },
  {
   "cell_type": "code",
   "execution_count": null,
   "metadata": {},
   "outputs": [],
   "source": []
  }
 ],
 "metadata": {
  "kernelspec": {
   "display_name": "Python 3.10.5 64-bit",
   "language": "python",
   "name": "python3"
  },
  "language_info": {
   "codemirror_mode": {
    "name": "ipython",
    "version": 3
   },
   "file_extension": ".py",
   "mimetype": "text/x-python",
   "name": "python",
   "nbconvert_exporter": "python",
   "pygments_lexer": "ipython3",
   "version": "3.10.5"
  },
  "orig_nbformat": 4,
  "vscode": {
   "interpreter": {
    "hash": "3429981c687d110c4c5c63635eed955f89f79b5c29f7b8819e5bb3afec2d8ca0"
   }
  }
 },
 "nbformat": 4,
 "nbformat_minor": 2
}
