{
 "cells": [
  {
   "cell_type": "code",
   "execution_count": 4,
   "metadata": {},
   "outputs": [],
   "source": [
    "import numpy as np\n",
    "from matplotlib import pyplot as plt\n",
    "from tensorflow import keras\n",
    "from tensorflow.keras.utils import to_categorical"
   ]
  },
  {
   "cell_type": "code",
   "execution_count": 5,
   "metadata": {},
   "outputs": [
    {
     "name": "stdout",
     "output_type": "stream",
     "text": [
      "Training data shape :  (60000, 28, 28) (60000,)\n",
      "Testing data shape :  (10000, 28, 28) (10000,)\n",
      "Total number of outputs :  10\n",
      "Output classes :  [0 1 2 3 4 5 6 7 8 9]\n"
     ]
    },
    {
     "data": {
      "text/plain": [
       "(-0.5, 27.5, 27.5, -0.5)"
      ]
     },
     "execution_count": 5,
     "metadata": {},
     "output_type": "execute_result"
    },
    {
     "data": {
      "image/png": "[encoded data removed]",
      "text/plain": [
       "<Figure size 720x360 with 2 Axes>"
      ]
     },
     "metadata": {
      "needs_background": "light"
     },
     "output_type": "display_data"
    }
   ],
   "source": [
    "\n",
    "(train_x, train_y), (test_x, test_y) = keras.datasets.mnist.load_data()\n",
    "\n",
    "print('Training data shape : ', train_x.shape, train_y.shape)\n",
    "print('Testing data shape : ', test_x.shape, test_y.shape)\n",
    "\n",
    "# Find the unique numbers from the train labels\n",
    "classes = np.unique(train_y)\n",
    "classes_num = len(classes)\n",
    "print('Total number of outputs : ', classes_num)\n",
    "print('Output classes : ', classes)\n",
    "\n",
    "plt.figure(figsize=[10,5])\n",
    "\n",
    "# Display the first image in training data\n",
    "plt.subplot(121)\n",
    "plt.imshow(train_x[0,:,:], cmap='copper')\n",
    "plt.title(\"Ground Truth : {}\".format(train_y[0]))\n",
    "plt.axis(\"off\")\n",
    "\n",
    "# Display the first image in testing data\n",
    "plt.subplot(122)\n",
    "plt.imshow(test_x[0,:,:], cmap='copper')\n",
    "plt.title(\"Ground Truth : {}\".format(test_y[0]))\n",
    "plt.axis(\"off\")"
   ]
  },
  {
   "cell_type": "markdown",
   "metadata": {},
   "source": [
    "#### 2. Preprocessing"
   ]
  },
  {
   "cell_type": "code",
   "execution_count": 6,
   "metadata": {},
   "outputs": [],
   "source": [
    "# Change from matrix to array of dimension 28x28 to array of dimension 784\n",
    "\n",
    "train_x = train_x.reshape(train_x.shape[0], -1)\n",
    "test_x = test_x.reshape(test_x.shape[0], -1)\n",
    "\n",
    "# 0-255 to 0-1\n",
    "train_x = train_x/255\n",
    "test_x = test_x/255\n",
    "\n",
    "# Change the labels from integer to categorical data\n",
    "train_y_one_hot = keras.utils.to_categorical(train_y)\n",
    "test_y_one_hot = keras.utils.to_categorical(test_y)"
   ]
  },
  {
   "cell_type": "code",
   "execution_count": 7,
   "metadata": {},
   "outputs": [
    {
     "data": {
      "text/plain": [
       "(60000, 784)"
      ]
     },
     "execution_count": 7,
     "metadata": {},
     "output_type": "execute_result"
    }
   ],
   "source": [
    "train_x.shape"
   ]
  },
  {
   "cell_type": "markdown",
   "metadata": {},
   "source": [
    "#### 3. Model Configuration"
   ]
  },
  {
   "cell_type": "code",
   "execution_count": 8,
   "metadata": {},
   "outputs": [
    {
     "name": "stdout",
     "output_type": "stream",
     "text": [
      "Epoch 1/10\n",
      "235/235 [==============================] - 5s 18ms/step - loss: 0.2723 - accuracy: 0.9160 - val_loss: 0.1181 - val_accuracy: 0.9634\n",
      "Epoch 2/10\n",
      "235/235 [==============================] - 4s 16ms/step - loss: 0.0949 - accuracy: 0.9706 - val_loss: 0.1159 - val_accuracy: 0.9620\n",
      "Epoch 3/10\n",
      "235/235 [==============================] - 4s 15ms/step - loss: 0.0576 - accuracy: 0.9815 - val_loss: 0.1020 - val_accuracy: 0.9679\n",
      "Epoch 4/10\n",
      "235/235 [==============================] - 4s 15ms/step - loss: 0.0395 - accuracy: 0.9872 - val_loss: 0.0701 - val_accuracy: 0.9799\n",
      "Epoch 5/10\n",
      "235/235 [==============================] - 4s 19ms/step - loss: 0.0289 - accuracy: 0.9911 - val_loss: 0.0763 - val_accuracy: 0.9786\n",
      "Epoch 6/10\n",
      "235/235 [==============================] - 4s 16ms/step - loss: 0.0209 - accuracy: 0.9931 - val_loss: 0.0661 - val_accuracy: 0.9835\n",
      "Epoch 7/10\n",
      "235/235 [==============================] - 4s 18ms/step - loss: 0.0165 - accuracy: 0.9945 - val_loss: 0.0946 - val_accuracy: 0.9752\n",
      "Epoch 8/10\n",
      "235/235 [==============================] - 4s 17ms/step - loss: 0.0132 - accuracy: 0.9955 - val_loss: 0.0847 - val_accuracy: 0.9810\n",
      "Epoch 9/10\n",
      "235/235 [==============================] - 4s 17ms/step - loss: 0.0118 - accuracy: 0.9963 - val_loss: 0.0838 - val_accuracy: 0.9809\n",
      "Epoch 10/10\n",
      "235/235 [==============================] - 4s 18ms/step - loss: 0.0092 - accuracy: 0.9968 - val_loss: 0.0874 - val_accuracy: 0.9827\n",
      "313/313 [==============================] - 1s 3ms/step - loss: 0.0874 - accuracy: 0.9827\n",
      "Evaluation result on Test Data : Loss = 0.08740945160388947, accuracy = 0.982699990272522\n"
     ]
    }
   ],
   "source": [
    "from tensorflow.keras.models import Sequential\n",
    "from tensorflow.keras.layers import Dense\n",
    "\n",
    "model = Sequential()\n",
    "model.add(Dense(512, activation='relu', input_shape=(train_x.shape[1],)))\n",
    "model.add(Dense(512, activation='relu'))\n",
    "model.add(Dense(classes_num, activation='softmax'))\n",
    "\n",
    "model.compile(optimizer='rmsprop', loss='categorical_crossentropy', metrics=['accuracy'])\n",
    "\n",
    "history = model.fit(train_x, train_y_one_hot,\n",
    "                   batch_size=256, epochs=10, verbose=True,\n",
    "                   validation_data=(test_x, test_y_one_hot))\n",
    "\n",
    "[test_loss, test_acc] = model.evaluate(test_x, test_y_one_hot)\n",
    "print(f\"Evaluation result on Test Data : Loss = {test_loss}, accuracy = {test_acc}\")\n",
    "\n"
   ]
  },
  {
   "cell_type": "code",
   "execution_count": null,
   "metadata": {},
   "outputs": [],
   "source": []
  }
 ],
 "metadata": {
  "kernelspec": {
   "display_name": "Python 3.10.5 64-bit",
   "language": "python",
   "name": "python3"
  },
  "language_info": {
   "codemirror_mode": {
    "name": "ipython",
    "version": 3
   },
   "file_extension": ".py",
   "mimetype": "text/x-python",
   "name": "python",
   "nbconvert_exporter": "python",
   "pygments_lexer": "ipython3",
   "version": "3.10.5"
  },
  "orig_nbformat": 4,
  "vscode": {
   "interpreter": {
    "hash": "3429981c687d110c4c5c63635eed955f89f79b5c29f7b8819e5bb3afec2d8ca0"
   }
  }
 },
 "nbformat": 4,
 "nbformat_minor": 2
}
