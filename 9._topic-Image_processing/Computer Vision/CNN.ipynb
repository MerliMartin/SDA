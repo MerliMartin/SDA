{
 "cells": [
  {
   "cell_type": "code",
   "execution_count": null,
   "metadata": {},
   "outputs": [],
   "source": []
  }
 ],
 "metadata": {
  "kernelspec": {
   "display_name": "Python 3.10.8 64-bit (microsoft store)",
   "language": "python",
   "name": "python3"
  },
  "language_info": {
   "name": "python",
   "version": "3.10.8"
  },
  "orig_nbformat": 4,
  "vscode": {
   "interpreter": {
    "hash": "04aa9e85f0a87975a5b24e07f65309498190deb4d02ed08f8d67dd994279bb28"
   }
  }
 },
 "nbformat": 4,
 "nbformat_minor": 2
}
