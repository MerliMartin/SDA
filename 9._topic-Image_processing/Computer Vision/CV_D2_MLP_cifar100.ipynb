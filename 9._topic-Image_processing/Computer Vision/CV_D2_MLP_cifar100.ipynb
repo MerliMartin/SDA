{
 "cells": [
  {
   "cell_type": "code",
   "execution_count": 38,
   "metadata": {},
   "outputs": [],
   "source": [
    "import numpy as np\n",
    "from matplotlib import pyplot as plt\n",
    "from tensorflow import keras\n",
    "from tensorflow.keras.utils import to_categorical"
   ]
  },
  {
   "cell_type": "code",
   "execution_count": 39,
   "metadata": {},
   "outputs": [
    {
     "name": "stdout",
     "output_type": "stream",
     "text": [
      "Training data shape :  (50000, 32, 32, 3) (50000, 1)\n",
      "Testing data shape :  (10000, 32, 32, 3) (10000, 1)\n"
     ]
    }
   ],
   "source": [
    "(train_x, train_y), (test_x, test_y) = keras.datasets.cifar100.load_data()\n",
    "\n",
    "print('Training data shape : ', train_x.shape, train_y.shape)\n",
    "print('Testing data shape : ', test_x.shape, test_y.shape)"
   ]
  },
  {
   "cell_type": "code",
   "execution_count": 40,
   "metadata": {},
   "outputs": [
    {
     "name": "stdout",
     "output_type": "stream",
     "text": [
      "Total number of outputs :  100\n",
      "Output classes :  [ 0  1  2  3  4  5  6  7  8  9 10 11 12 13 14 15 16 17 18 19 20 21 22 23\n",
      " 24 25 26 27 28 29 30 31 32 33 34 35 36 37 38 39 40 41 42 43 44 45 46 47\n",
      " 48 49 50 51 52 53 54 55 56 57 58 59 60 61 62 63 64 65 66 67 68 69 70 71\n",
      " 72 73 74 75 76 77 78 79 80 81 82 83 84 85 86 87 88 89 90 91 92 93 94 95\n",
      " 96 97 98 99]\n"
     ]
    }
   ],
   "source": [
    "# Find the unique numbers from the train labels\n",
    "classes = np.unique(train_y)\n",
    "classes_num = len(classes)\n",
    "print('Total number of outputs : ', classes_num)\n",
    "print('Output classes : ', classes)"
   ]
  },
  {
   "cell_type": "code",
   "execution_count": 41,
   "metadata": {},
   "outputs": [
    {
     "data": {
      "text/plain": [
       "(-0.5, 31.5, 31.5, -0.5)"
      ]
     },
     "execution_count": 41,
     "metadata": {},
     "output_type": "execute_result"
    },
    {
     "data": {
      "image/png": "[encoded data removed]",
      "text/plain": [
       "<Figure size 360x180 with 2 Axes>"
      ]
     },
     "metadata": {
      "needs_background": "light"
     },
     "output_type": "display_data"
    }
   ],
   "source": [
    "plt.figure(figsize=[5,2.5])\n",
    "\n",
    "# Display the first image in training data\n",
    "plt.subplot(121)\n",
    "plt.imshow(train_x[0,:,:], cmap='copper')\n",
    "plt.title(\"Ground Truth : {}\".format(train_y[0]))\n",
    "plt.axis(\"off\")\n",
    "\n",
    "# Display the first image in testing data\n",
    "plt.subplot(122)\n",
    "plt.imshow(test_x[0,:,:], cmap='copper')\n",
    "plt.title(\"Ground Truth : {}\".format(test_y[0]))\n",
    "plt.axis(\"off\")\n"
   ]
  },
  {
   "cell_type": "code",
   "execution_count": 42,
   "metadata": {},
   "outputs": [
    {
     "data": {
      "text/plain": [
       "(50000, 100)"
      ]
     },
     "execution_count": 42,
     "metadata": {},
     "output_type": "execute_result"
    }
   ],
   "source": [
    "# Change the labels from integer to categorical data\n",
    "train_y_one_hot = keras.utils.to_categorical(train_y)\n",
    "test_y_one_hot = keras.utils.to_categorical(test_y) \n",
    "train_y_one_hot.shape"
   ]
  },
  {
   "cell_type": "code",
   "execution_count": 43,
   "metadata": {},
   "outputs": [
    {
     "data": {
      "text/plain": [
       "(50000, 32, 32, 3)"
      ]
     },
     "execution_count": 43,
     "metadata": {},
     "output_type": "execute_result"
    }
   ],
   "source": [
    "train_x.shape"
   ]
  },
  {
   "cell_type": "code",
   "execution_count": 44,
   "metadata": {},
   "outputs": [],
   "source": [
    "from tensorflow.keras.models import Sequential\n",
    "from tensorflow.keras.layers import Conv2D, MaxPooling2D, Flatten, Dense, BatchNormalization, Dropout"
   ]
  },
  {
   "cell_type": "code",
   "execution_count": 45,
   "metadata": {},
   "outputs": [
    {
     "name": "stdout",
     "output_type": "stream",
     "text": [
      "Epoch 1/30\n",
      "782/782 [==============================] - 214s 271ms/step - loss: nan - accuracy: 0.0100 - val_loss: nan - val_accuracy: 0.0100\n",
      "Epoch 2/30\n",
      "782/782 [==============================] - 203s 260ms/step - loss: nan - accuracy: 0.0100 - val_loss: nan - val_accuracy: 0.0100\n",
      "Epoch 3/30\n",
      "782/782 [==============================] - 202s 258ms/step - loss: nan - accuracy: 0.0100 - val_loss: nan - val_accuracy: 0.0100\n",
      "Epoch 4/30\n",
      "782/782 [==============================] - 161s 206ms/step - loss: nan - accuracy: 0.0100 - val_loss: nan - val_accuracy: 0.0100\n",
      "Epoch 5/30\n",
      "782/782 [==============================] - 173s 221ms/step - loss: nan - accuracy: 0.0100 - val_loss: nan - val_accuracy: 0.0100\n",
      "Epoch 6/30\n",
      "782/782 [==============================] - 169s 217ms/step - loss: nan - accuracy: 0.0100 - val_loss: nan - val_accuracy: 0.0100\n",
      "Epoch 7/30\n",
      "782/782 [==============================] - 170s 217ms/step - loss: nan - accuracy: 0.0100 - val_loss: nan - val_accuracy: 0.0100\n",
      "Epoch 8/30\n",
      "782/782 [==============================] - 156s 200ms/step - loss: nan - accuracy: 0.0100 - val_loss: nan - val_accuracy: 0.0100\n",
      "Epoch 9/30\n",
      "782/782 [==============================] - 151s 193ms/step - loss: nan - accuracy: 0.0100 - val_loss: nan - val_accuracy: 0.0100\n",
      "Epoch 10/30\n",
      "782/782 [==============================] - 152s 195ms/step - loss: nan - accuracy: 0.0100 - val_loss: nan - val_accuracy: 0.0100\n",
      "Epoch 11/30\n",
      "782/782 [==============================] - 153s 196ms/step - loss: nan - accuracy: 0.0100 - val_loss: nan - val_accuracy: 0.0100\n",
      "Epoch 12/30\n",
      "782/782 [==============================] - 158s 202ms/step - loss: nan - accuracy: 0.0100 - val_loss: nan - val_accuracy: 0.0100\n",
      "Epoch 13/30\n",
      "782/782 [==============================] - 154s 197ms/step - loss: nan - accuracy: 0.0100 - val_loss: nan - val_accuracy: 0.0100\n",
      "Epoch 14/30\n",
      "782/782 [==============================] - 154s 197ms/step - loss: nan - accuracy: 0.0100 - val_loss: nan - val_accuracy: 0.0100\n",
      "Epoch 15/30\n",
      "782/782 [==============================] - 157s 201ms/step - loss: nan - accuracy: 0.0100 - val_loss: nan - val_accuracy: 0.0100\n",
      "Epoch 16/30\n",
      "782/782 [==============================] - 172s 220ms/step - loss: nan - accuracy: 0.0100 - val_loss: nan - val_accuracy: 0.0100\n",
      "Epoch 17/30\n",
      "782/782 [==============================] - 173s 221ms/step - loss: nan - accuracy: 0.0100 - val_loss: nan - val_accuracy: 0.0100\n",
      "Epoch 18/30\n",
      "782/782 [==============================] - 146s 187ms/step - loss: nan - accuracy: 0.0100 - val_loss: nan - val_accuracy: 0.0100\n",
      "Epoch 19/30\n",
      "782/782 [==============================] - 128s 164ms/step - loss: nan - accuracy: 0.0100 - val_loss: nan - val_accuracy: 0.0100\n",
      "Epoch 20/30\n",
      "782/782 [==============================] - 125s 159ms/step - loss: nan - accuracy: 0.0100 - val_loss: nan - val_accuracy: 0.0100\n",
      "Epoch 21/30\n",
      "782/782 [==============================] - 136s 174ms/step - loss: nan - accuracy: 0.0100 - val_loss: nan - val_accuracy: 0.0100\n",
      "Epoch 22/30\n",
      "782/782 [==============================] - 134s 171ms/step - loss: nan - accuracy: 0.0100 - val_loss: nan - val_accuracy: 0.0100\n",
      "Epoch 23/30\n",
      "782/782 [==============================] - 132s 169ms/step - loss: nan - accuracy: 0.0100 - val_loss: nan - val_accuracy: 0.0100\n",
      "Epoch 24/30\n",
      "782/782 [==============================] - 129s 165ms/step - loss: nan - accuracy: 0.0100 - val_loss: nan - val_accuracy: 0.0100\n",
      "Epoch 25/30\n",
      "782/782 [==============================] - 135s 172ms/step - loss: nan - accuracy: 0.0100 - val_loss: nan - val_accuracy: 0.0100\n",
      "Epoch 26/30\n",
      "782/782 [==============================] - 132s 169ms/step - loss: nan - accuracy: 0.0100 - val_loss: nan - val_accuracy: 0.0100\n",
      "Epoch 27/30\n",
      "782/782 [==============================] - 133s 170ms/step - loss: nan - accuracy: 0.0100 - val_loss: nan - val_accuracy: 0.0100\n",
      "Epoch 28/30\n",
      "782/782 [==============================] - 133s 170ms/step - loss: nan - accuracy: 0.0100 - val_loss: nan - val_accuracy: 0.0100\n",
      "Epoch 29/30\n",
      "782/782 [==============================] - 128s 163ms/step - loss: nan - accuracy: 0.0100 - val_loss: nan - val_accuracy: 0.0100\n",
      "Epoch 30/30\n",
      "782/782 [==============================] - 127s 162ms/step - loss: nan - accuracy: 0.0100 - val_loss: nan - val_accuracy: 0.0100\n"
     ]
    }
   ],
   "source": [
    "model = Sequential()\n",
    "\n",
    "model.add(Conv2D(32, (3, 3), activation='relu',\n",
    "kernel_initializer='he_uniform', padding='same', input_shape=(32, 32, 3)))\n",
    "\n",
    "model.add(Conv2D(32, (3, 3), activation='relu',\n",
    "kernel_initializer='he_uniform', padding='same'))\n",
    "\n",
    "model.add(MaxPooling2D((2, 2)))\n",
    "model.add(Conv2D(64, (3, 3), activation='relu',\n",
    "kernel_initializer='he_uniform', padding='same'))\n",
    "\n",
    "model.add(Conv2D(64, (3, 3), activation='relu',\n",
    "kernel_initializer='he_uniform', padding='same'))\n",
    "\n",
    "model.add(MaxPooling2D((2, 2)))\n",
    "model.add(Conv2D(128, (3, 3), activation='relu',\n",
    "kernel_initializer='he_uniform', padding='same'))\n",
    "\n",
    "model.add(Conv2D(128, (3, 3), activation='relu',\n",
    "kernel_initializer='he_uniform', padding='same'))\n",
    "\n",
    "model.add(MaxPooling2D((2, 2)))\n",
    "model.add(Flatten())\n",
    "model.add(Dense(128, activation='relu', kernel_initializer='he_uniform'))\n",
    "model.add(Dense(100, activation='softmax'))\n",
    "# compile model\n",
    "opt = keras.optimizers.SGD(lr=0.001, momentum=0.9)\n",
    "model.compile(optimizer=opt, loss='categorical_crossentropy',\n",
    "metrics=['accuracy'])\n",
    "#fit model\n",
    "history = model.fit(train_x, train_y_one_hot, epochs=30, batch_size=64,\n",
    "validation_data=(test_x, test_y_one_hot), verbose=1)"
   ]
  },
  {
   "cell_type": "code",
   "execution_count": 46,
   "metadata": {},
   "outputs": [],
   "source": [
    "model = Sequential ()\n",
    "\n",
    "model.add (Conv2D(32, (3, 3), activation= 'relu', kernel_initializer= 'he_uniform' ,\n",
    "padding= 'same', input_shape= (32, 32, 3)))\n",
    "\n",
    "model.add (BatchNormalization ())\n",
    "model.add (Conv2D(32, (3, 3), activation= 'relu', kernel_initializer= 'he_uniform' ,\n",
    "padding= 'same'))\n",
    "\n",
    "model.add (BatchNormalization ())\n",
    "model.add (MaxPooling2D ((2, 2)))\n",
    "model.add (Dropout(0.2))\n",
    "model.add (Conv2D(64, (3, 3), activation= 'relu', kernel_initializer= 'he_uniform' ,\n",
    "padding= 'same'))\n",
    "\n",
    "model.add (BatchNormalization ())\n",
    "model.add (Conv2D(64, (3, 3), activation= 'relu', kernel_initializer= 'he_uniform' ,\n",
    "padding= 'same'))\n",
    "model.add (BatchNormalization ())\n",
    "model.add (MaxPooling2D ((2, 2)))\n",
    "model.add (Dropout(0.3))\n",
    "model.add (Conv2D(128, (3, 3), activation= 'relu', kernel_initializer= 'he_uniform' ,\n",
    "padding= 'same'))\n",
    "\n",
    "model.add (BatchNormalization ())\n",
    "model.add (Conv2D(128, (3, 3), activation= 'relu', kernel_initializer= 'he_uniform' ,\n",
    "padding= 'same'))\n",
    "\n",
    "model.add (BatchNormalization ())\n",
    "model.add (MaxPooling2D ((2, 2)))\n",
    "model.add (Dropout(0.4))\n",
    "model.add (Flatten())\n",
    "model.add (Dense(128, activation= 'relu', kernel_initializer= 'he_uniform' ))\n",
    "\n",
    "model.add (BatchNormalization ())\n",
    "model.add (Dropout(0.5))\n",
    "model.add (Dense(10, activation= 'softmax' ))\n"
   ]
  },
  {
   "cell_type": "code",
   "execution_count": null,
   "metadata": {},
   "outputs": [],
   "source": []
  }
 ],
 "metadata": {
  "kernelspec": {
   "display_name": "Python 3.10.5 64-bit",
   "language": "python",
   "name": "python3"
  },
  "language_info": {
   "codemirror_mode": {
    "name": "ipython",
    "version": 3
   },
   "file_extension": ".py",
   "mimetype": "text/x-python",
   "name": "python",
   "nbconvert_exporter": "python",
   "pygments_lexer": "ipython3",
   "version": "3.10.5"
  },
  "orig_nbformat": 4,
  "vscode": {
   "interpreter": {
    "hash": "3429981c687d110c4c5c63635eed955f89f79b5c29f7b8819e5bb3afec2d8ca0"
   }
  }
 },
 "nbformat": 4,
 "nbformat_minor": 2
}
