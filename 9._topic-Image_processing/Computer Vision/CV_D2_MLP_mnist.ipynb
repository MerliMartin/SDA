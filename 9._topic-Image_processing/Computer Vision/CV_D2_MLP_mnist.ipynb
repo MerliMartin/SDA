{
 "cells": [
  {
   "cell_type": "code",
   "execution_count": 36,
   "metadata": {},
   "outputs": [],
   "source": [
    "import numpy as np\n",
    "from matplotlib import pyplot as plt\n",
    "from tensorflow import keras\n",
    "\n",
    "from tensorflow.keras.utils import to_categorical"
   ]
  },
  {
   "cell_type": "code",
   "execution_count": 37,
   "metadata": {},
   "outputs": [
    {
     "name": "stdout",
     "output_type": "stream",
     "text": [
      "Training data shape:  (60000, 28, 28) (60000,)\n",
      "Testing data shape:  (10000, 28, 28) (10000,)\n"
     ]
    }
   ],
   "source": [
    "(train_x, train_y), (test_x, test_y) = keras.datasets.mnist.load_data()\n",
    "\n",
    "print('Training data shape: ', train_x.shape, train_y.shape)\n",
    "print('Testing data shape: ', test_x.shape, test_y.shape)  # shape = (W * H * Depth)"
   ]
  },
  {
   "cell_type": "code",
   "execution_count": 38,
   "metadata": {},
   "outputs": [
    {
     "data": {
      "text/plain": [
       "<matplotlib.image.AxesImage at 0x1bf54ab4040>"
      ]
     },
     "execution_count": 38,
     "metadata": {},
     "output_type": "execute_result"
    },
    {
     "data": {
      "image/png": "[encoded data removed]",
      "text/plain": [
       "<Figure size 432x288 with 1 Axes>"
      ]
     },
     "metadata": {
      "needs_background": "light"
     },
     "output_type": "display_data"
    }
   ],
   "source": [
    "plt.imshow(train_x[5,:,:], cmap=\"Greys\")  # cmap = virdis"
   ]
  },
  {
   "cell_type": "code",
   "execution_count": 39,
   "metadata": {},
   "outputs": [
    {
     "data": {
      "text/plain": [
       "array([5, 0, 4, 1, 9, 2, 1, 3, 1, 4, 3, 5, 3, 6, 1, 7, 2, 8, 6, 9],\n",
       "      dtype=uint8)"
      ]
     },
     "execution_count": 39,
     "metadata": {},
     "output_type": "execute_result"
    }
   ],
   "source": [
    "train_y[:20]"
   ]
  },
  {
   "cell_type": "code",
   "execution_count": 40,
   "metadata": {},
   "outputs": [
    {
     "name": "stdout",
     "output_type": "stream",
     "text": [
      "Total number of outputs:  10\n",
      "Output classes:  [0 1 2 3 4 5 6 7 8 9]\n"
     ]
    }
   ],
   "source": [
    "# Find the unique numbers from the train labels\n",
    "classes = np.unique(train_y)\n",
    "classes_num = len(classes)\n",
    "print('Total number of outputs: ', classes_num)\n",
    "print('Output classes: ', classes)"
   ]
  },
  {
   "cell_type": "code",
   "execution_count": 41,
   "metadata": {},
   "outputs": [
    {
     "data": {
      "text/plain": [
       "(-0.5, 27.5, 27.5, -0.5)"
      ]
     },
     "execution_count": 41,
     "metadata": {},
     "output_type": "execute_result"
    },
    {
     "data": {
      "image/png": "[encoded data removed]",
      "text/plain": [
       "<Figure size 720x360 with 2 Axes>"
      ]
     },
     "metadata": {
      "needs_background": "light"
     },
     "output_type": "display_data"
    }
   ],
   "source": [
    "plt.figure(figsize=[10,5])\n",
    "\n",
    "# Display the first image in training data\n",
    "plt.subplot(121)\n",
    "plt.imshow(train_x[0,:,:], cmap='copper')\n",
    "plt.title(\"Ground Truth: {}\".format(train_y[0]))\n",
    "plt.axis(\"off\")\n",
    "\n",
    "# Display the first image in testing data\n",
    "plt.subplot(122)\n",
    "plt.imshow(test_x[0,:,:], cmap='copper')\n",
    "plt.title(\"Ground Truth: {}\".format(test_y[0]))\n",
    "plt.axis(\"off\")"
   ]
  },
  {
   "cell_type": "markdown",
   "metadata": {},
   "source": [
    "### 2. Preprocessing"
   ]
  },
  {
   "cell_type": "code",
   "execution_count": 42,
   "metadata": {},
   "outputs": [
    {
     "name": "stdout",
     "output_type": "stream",
     "text": [
      "(784,)\n"
     ]
    }
   ],
   "source": [
    "# Change from matrix to array of dimension 28x28 to array of dimension 784\n",
    "\n",
    "train_x = train_x.reshape(train_x.shape[0], -1)\n",
    "test_x = test_x.reshape(test_x.shape[0], -1)\n",
    "\n",
    "print(train_x[0].shape)"
   ]
  },
  {
   "cell_type": "code",
   "execution_count": 43,
   "metadata": {},
   "outputs": [],
   "source": [
    "# 0-255 to 0-1\n",
    "train_x = train_x/255\n",
    "test_x = test_x/255\n",
    "\n",
    "# Change the labels from integer to categorical data\n",
    "train_y_one_hot = keras.utils.to_categorical(train_y)\n",
    "test_y_one_hot = keras.utils.to_categorical(test_y) "
   ]
  },
  {
   "cell_type": "code",
   "execution_count": 44,
   "metadata": {},
   "outputs": [
    {
     "data": {
      "text/plain": [
       "((60000,), (60000, 10))"
      ]
     },
     "execution_count": 44,
     "metadata": {},
     "output_type": "execute_result"
    }
   ],
   "source": [
    "train_y.shape, train_y_one_hot.shape"
   ]
  },
  {
   "cell_type": "code",
   "execution_count": 45,
   "metadata": {},
   "outputs": [
    {
     "data": {
      "text/html": [
       "<div>\n",
       "<style scoped>\n",
       "    .dataframe tbody tr th:only-of-type {\n",
       "        vertical-align: middle;\n",
       "    }\n",
       "\n",
       "    .dataframe tbody tr th {\n",
       "        vertical-align: top;\n",
       "    }\n",
       "\n",
       "    .dataframe thead th {\n",
       "        text-align: right;\n",
       "    }\n",
       "</style>\n",
       "<table border=\"1\" class=\"dataframe\">\n",
       "  <thead>\n",
       "    <tr style=\"text-align: right;\">\n",
       "      <th></th>\n",
       "      <th>C0</th>\n",
       "      <th>C1</th>\n",
       "      <th>C2</th>\n",
       "      <th>C3</th>\n",
       "      <th>C4</th>\n",
       "      <th>C5</th>\n",
       "      <th>C6</th>\n",
       "      <th>C7</th>\n",
       "      <th>C8</th>\n",
       "      <th>C9</th>\n",
       "    </tr>\n",
       "  </thead>\n",
       "  <tbody>\n",
       "    <tr>\n",
       "      <th>0</th>\n",
       "      <td>0.0</td>\n",
       "      <td>0.0</td>\n",
       "      <td>0.0</td>\n",
       "      <td>0.0</td>\n",
       "      <td>0.0</td>\n",
       "      <td>1.0</td>\n",
       "      <td>0.0</td>\n",
       "      <td>0.0</td>\n",
       "      <td>0.0</td>\n",
       "      <td>0.0</td>\n",
       "    </tr>\n",
       "    <tr>\n",
       "      <th>1</th>\n",
       "      <td>1.0</td>\n",
       "      <td>0.0</td>\n",
       "      <td>0.0</td>\n",
       "      <td>0.0</td>\n",
       "      <td>0.0</td>\n",
       "      <td>0.0</td>\n",
       "      <td>0.0</td>\n",
       "      <td>0.0</td>\n",
       "      <td>0.0</td>\n",
       "      <td>0.0</td>\n",
       "    </tr>\n",
       "    <tr>\n",
       "      <th>2</th>\n",
       "      <td>0.0</td>\n",
       "      <td>0.0</td>\n",
       "      <td>0.0</td>\n",
       "      <td>0.0</td>\n",
       "      <td>1.0</td>\n",
       "      <td>0.0</td>\n",
       "      <td>0.0</td>\n",
       "      <td>0.0</td>\n",
       "      <td>0.0</td>\n",
       "      <td>0.0</td>\n",
       "    </tr>\n",
       "    <tr>\n",
       "      <th>3</th>\n",
       "      <td>0.0</td>\n",
       "      <td>1.0</td>\n",
       "      <td>0.0</td>\n",
       "      <td>0.0</td>\n",
       "      <td>0.0</td>\n",
       "      <td>0.0</td>\n",
       "      <td>0.0</td>\n",
       "      <td>0.0</td>\n",
       "      <td>0.0</td>\n",
       "      <td>0.0</td>\n",
       "    </tr>\n",
       "    <tr>\n",
       "      <th>4</th>\n",
       "      <td>0.0</td>\n",
       "      <td>0.0</td>\n",
       "      <td>0.0</td>\n",
       "      <td>0.0</td>\n",
       "      <td>0.0</td>\n",
       "      <td>0.0</td>\n",
       "      <td>0.0</td>\n",
       "      <td>0.0</td>\n",
       "      <td>0.0</td>\n",
       "      <td>1.0</td>\n",
       "    </tr>\n",
       "    <tr>\n",
       "      <th>5</th>\n",
       "      <td>0.0</td>\n",
       "      <td>0.0</td>\n",
       "      <td>1.0</td>\n",
       "      <td>0.0</td>\n",
       "      <td>0.0</td>\n",
       "      <td>0.0</td>\n",
       "      <td>0.0</td>\n",
       "      <td>0.0</td>\n",
       "      <td>0.0</td>\n",
       "      <td>0.0</td>\n",
       "    </tr>\n",
       "    <tr>\n",
       "      <th>6</th>\n",
       "      <td>0.0</td>\n",
       "      <td>1.0</td>\n",
       "      <td>0.0</td>\n",
       "      <td>0.0</td>\n",
       "      <td>0.0</td>\n",
       "      <td>0.0</td>\n",
       "      <td>0.0</td>\n",
       "      <td>0.0</td>\n",
       "      <td>0.0</td>\n",
       "      <td>0.0</td>\n",
       "    </tr>\n",
       "    <tr>\n",
       "      <th>7</th>\n",
       "      <td>0.0</td>\n",
       "      <td>0.0</td>\n",
       "      <td>0.0</td>\n",
       "      <td>1.0</td>\n",
       "      <td>0.0</td>\n",
       "      <td>0.0</td>\n",
       "      <td>0.0</td>\n",
       "      <td>0.0</td>\n",
       "      <td>0.0</td>\n",
       "      <td>0.0</td>\n",
       "    </tr>\n",
       "    <tr>\n",
       "      <th>8</th>\n",
       "      <td>0.0</td>\n",
       "      <td>1.0</td>\n",
       "      <td>0.0</td>\n",
       "      <td>0.0</td>\n",
       "      <td>0.0</td>\n",
       "      <td>0.0</td>\n",
       "      <td>0.0</td>\n",
       "      <td>0.0</td>\n",
       "      <td>0.0</td>\n",
       "      <td>0.0</td>\n",
       "    </tr>\n",
       "    <tr>\n",
       "      <th>9</th>\n",
       "      <td>0.0</td>\n",
       "      <td>0.0</td>\n",
       "      <td>0.0</td>\n",
       "      <td>0.0</td>\n",
       "      <td>1.0</td>\n",
       "      <td>0.0</td>\n",
       "      <td>0.0</td>\n",
       "      <td>0.0</td>\n",
       "      <td>0.0</td>\n",
       "      <td>0.0</td>\n",
       "    </tr>\n",
       "    <tr>\n",
       "      <th>10</th>\n",
       "      <td>0.0</td>\n",
       "      <td>0.0</td>\n",
       "      <td>0.0</td>\n",
       "      <td>1.0</td>\n",
       "      <td>0.0</td>\n",
       "      <td>0.0</td>\n",
       "      <td>0.0</td>\n",
       "      <td>0.0</td>\n",
       "      <td>0.0</td>\n",
       "      <td>0.0</td>\n",
       "    </tr>\n",
       "    <tr>\n",
       "      <th>11</th>\n",
       "      <td>0.0</td>\n",
       "      <td>0.0</td>\n",
       "      <td>0.0</td>\n",
       "      <td>0.0</td>\n",
       "      <td>0.0</td>\n",
       "      <td>1.0</td>\n",
       "      <td>0.0</td>\n",
       "      <td>0.0</td>\n",
       "      <td>0.0</td>\n",
       "      <td>0.0</td>\n",
       "    </tr>\n",
       "    <tr>\n",
       "      <th>12</th>\n",
       "      <td>0.0</td>\n",
       "      <td>0.0</td>\n",
       "      <td>0.0</td>\n",
       "      <td>1.0</td>\n",
       "      <td>0.0</td>\n",
       "      <td>0.0</td>\n",
       "      <td>0.0</td>\n",
       "      <td>0.0</td>\n",
       "      <td>0.0</td>\n",
       "      <td>0.0</td>\n",
       "    </tr>\n",
       "    <tr>\n",
       "      <th>13</th>\n",
       "      <td>0.0</td>\n",
       "      <td>0.0</td>\n",
       "      <td>0.0</td>\n",
       "      <td>0.0</td>\n",
       "      <td>0.0</td>\n",
       "      <td>0.0</td>\n",
       "      <td>1.0</td>\n",
       "      <td>0.0</td>\n",
       "      <td>0.0</td>\n",
       "      <td>0.0</td>\n",
       "    </tr>\n",
       "    <tr>\n",
       "      <th>14</th>\n",
       "      <td>0.0</td>\n",
       "      <td>1.0</td>\n",
       "      <td>0.0</td>\n",
       "      <td>0.0</td>\n",
       "      <td>0.0</td>\n",
       "      <td>0.0</td>\n",
       "      <td>0.0</td>\n",
       "      <td>0.0</td>\n",
       "      <td>0.0</td>\n",
       "      <td>0.0</td>\n",
       "    </tr>\n",
       "  </tbody>\n",
       "</table>\n",
       "</div>"
      ],
      "text/plain": [
       "     C0   C1   C2   C3   C4   C5   C6   C7   C8   C9\n",
       "0   0.0  0.0  0.0  0.0  0.0  1.0  0.0  0.0  0.0  0.0\n",
       "1   1.0  0.0  0.0  0.0  0.0  0.0  0.0  0.0  0.0  0.0\n",
       "2   0.0  0.0  0.0  0.0  1.0  0.0  0.0  0.0  0.0  0.0\n",
       "3   0.0  1.0  0.0  0.0  0.0  0.0  0.0  0.0  0.0  0.0\n",
       "4   0.0  0.0  0.0  0.0  0.0  0.0  0.0  0.0  0.0  1.0\n",
       "5   0.0  0.0  1.0  0.0  0.0  0.0  0.0  0.0  0.0  0.0\n",
       "6   0.0  1.0  0.0  0.0  0.0  0.0  0.0  0.0  0.0  0.0\n",
       "7   0.0  0.0  0.0  1.0  0.0  0.0  0.0  0.0  0.0  0.0\n",
       "8   0.0  1.0  0.0  0.0  0.0  0.0  0.0  0.0  0.0  0.0\n",
       "9   0.0  0.0  0.0  0.0  1.0  0.0  0.0  0.0  0.0  0.0\n",
       "10  0.0  0.0  0.0  1.0  0.0  0.0  0.0  0.0  0.0  0.0\n",
       "11  0.0  0.0  0.0  0.0  0.0  1.0  0.0  0.0  0.0  0.0\n",
       "12  0.0  0.0  0.0  1.0  0.0  0.0  0.0  0.0  0.0  0.0\n",
       "13  0.0  0.0  0.0  0.0  0.0  0.0  1.0  0.0  0.0  0.0\n",
       "14  0.0  1.0  0.0  0.0  0.0  0.0  0.0  0.0  0.0  0.0"
      ]
     },
     "execution_count": 45,
     "metadata": {},
     "output_type": "execute_result"
    }
   ],
   "source": [
    "import pandas as pd\n",
    "\n",
    "pd.DataFrame(train_y_one_hot, columns=[f\"C{i}\" for i in classes]).head(n=15)"
   ]
  },
  {
   "cell_type": "markdown",
   "metadata": {},
   "source": [
    "### 3. Model Configuration"
   ]
  },
  {
   "cell_type": "code",
   "execution_count": 46,
   "metadata": {},
   "outputs": [],
   "source": [
    "from tensorflow.keras.models import Sequential\n",
    "from tensorflow.keras.layers import Dense"
   ]
  },
  {
   "cell_type": "code",
   "execution_count": 47,
   "metadata": {},
   "outputs": [
    {
     "name": "stdout",
     "output_type": "stream",
     "text": [
      "Epoch 1/10\n",
      "235/235 [==============================] - 3s 13ms/step - loss: 0.2704 - accuracy: 0.9149 - val_loss: 0.1195 - val_accuracy: 0.9610\n",
      "Epoch 2/10\n",
      "235/235 [==============================] - 3s 12ms/step - loss: 0.0938 - accuracy: 0.9711 - val_loss: 0.0870 - val_accuracy: 0.9716\n",
      "Epoch 3/10\n",
      "235/235 [==============================] - 3s 12ms/step - loss: 0.0597 - accuracy: 0.9811 - val_loss: 0.0705 - val_accuracy: 0.9773\n",
      "Epoch 4/10\n",
      "235/235 [==============================] - 3s 12ms/step - loss: 0.0401 - accuracy: 0.9871 - val_loss: 0.1055 - val_accuracy: 0.9667\n",
      "Epoch 5/10\n",
      "235/235 [==============================] - 3s 12ms/step - loss: 0.0294 - accuracy: 0.9908 - val_loss: 0.0892 - val_accuracy: 0.9766\n",
      "Epoch 6/10\n",
      "235/235 [==============================] - 3s 12ms/step - loss: 0.0224 - accuracy: 0.9924 - val_loss: 0.0881 - val_accuracy: 0.9780\n",
      "Epoch 7/10\n",
      "235/235 [==============================] - 3s 12ms/step - loss: 0.0177 - accuracy: 0.9945 - val_loss: 0.0678 - val_accuracy: 0.9824\n",
      "Epoch 8/10\n",
      "235/235 [==============================] - 3s 12ms/step - loss: 0.0136 - accuracy: 0.9954 - val_loss: 0.0960 - val_accuracy: 0.9774\n",
      "Epoch 9/10\n",
      "235/235 [==============================] - 3s 12ms/step - loss: 0.0110 - accuracy: 0.9965 - val_loss: 0.0875 - val_accuracy: 0.9800\n",
      "Epoch 10/10\n",
      "235/235 [==============================] - 3s 14ms/step - loss: 0.0093 - accuracy: 0.9971 - val_loss: 0.0967 - val_accuracy: 0.9805\n",
      "313/313 [==============================] - 1s 3ms/step - loss: 0.0967 - accuracy: 0.9805\n",
      "Evaluation result on Test Data : Loss = 0.09667813032865524, accuracy = 0.9804999828338623\n"
     ]
    }
   ],
   "source": [
    "model = Sequential()\n",
    "\n",
    "# Input layyer\n",
    "model.add(Dense(512, activation='relu', input_shape=(train_x.shape[1],)))\n",
    "\n",
    "# Midden layer(s)\n",
    "model.add(Dense(512, activation='relu'))\n",
    "\n",
    "# Output layer\n",
    "model.add(Dense(classes_num, activation='softmax'))\n",
    "\n",
    "# Model parameters\n",
    "model.compile(optimizer='rmsprop', loss='categorical_crossentropy', metrics=['accuracy'])\n",
    "\n",
    "# Model training\n",
    "\n",
    "# Function/Perceptron: predicts binary class: win or lose\n",
    "# x1: current standings/rank: 1 ... 50\n",
    "# x2: time of day: 6-21\n",
    "\n",
    "# Dataset (0: 100, 2,1): 100(number of games), 2 (x1, x2), 1 {win, lose}\n",
    "# Input 1: D[0,:,0] -> 0\n",
    "\n",
    "# Epochs: Invloves seeing all images in the training data during one cycle\n",
    "# Interations: Updates made to network weights based on single or multiple images (batch size)\n",
    "history = model.fit(train_x, train_y_one_hot,\n",
    "                   batch_size=256, epochs=10, verbose=True,\n",
    "                   validation_data=(test_x, test_y_one_hot))\n",
    "\n",
    "[test_loss, test_acc] = model.evaluate(test_x, test_y_one_hot)\n",
    "print(f\"Evaluation result on Test Data : Loss = {test_loss}, accuracy = {test_acc}\")\n",
    "\n"
   ]
  },
  {
   "cell_type": "code",
   "execution_count": 48,
   "metadata": {},
   "outputs": [
    {
     "name": "stdout",
     "output_type": "stream",
     "text": [
      "Epoch 1/10\n",
      "235/235 [==============================] - 3s 11ms/step - loss: 0.3108 - accuracy: 0.9109 - val_loss: 0.1767 - val_accuracy: 0.9457\n",
      "Epoch 2/10\n",
      "235/235 [==============================] - 2s 9ms/step - loss: 0.1291 - accuracy: 0.9626 - val_loss: 0.1140 - val_accuracy: 0.9637\n",
      "Epoch 3/10\n",
      "235/235 [==============================] - 2s 8ms/step - loss: 0.0851 - accuracy: 0.9749 - val_loss: 0.0915 - val_accuracy: 0.9716\n",
      "Epoch 4/10\n",
      "235/235 [==============================] - 2s 8ms/step - loss: 0.0614 - accuracy: 0.9820 - val_loss: 0.0749 - val_accuracy: 0.9768\n",
      "Epoch 5/10\n",
      "235/235 [==============================] - 2s 8ms/step - loss: 0.0477 - accuracy: 0.9861 - val_loss: 0.0673 - val_accuracy: 0.9798\n",
      "Epoch 6/10\n",
      "235/235 [==============================] - 2s 8ms/step - loss: 0.0366 - accuracy: 0.9890 - val_loss: 0.0814 - val_accuracy: 0.9756\n",
      "Epoch 7/10\n",
      "235/235 [==============================] - 2s 8ms/step - loss: 0.0287 - accuracy: 0.9917 - val_loss: 0.0687 - val_accuracy: 0.9794\n",
      "Epoch 8/10\n",
      "235/235 [==============================] - 2s 9ms/step - loss: 0.0228 - accuracy: 0.9935 - val_loss: 0.0616 - val_accuracy: 0.9804\n",
      "Epoch 9/10\n",
      "235/235 [==============================] - 2s 8ms/step - loss: 0.0179 - accuracy: 0.9950 - val_loss: 0.0559 - val_accuracy: 0.9833\n",
      "Epoch 10/10\n",
      "235/235 [==============================] - 2s 8ms/step - loss: 0.0135 - accuracy: 0.9965 - val_loss: 0.0627 - val_accuracy: 0.9808\n",
      "313/313 [==============================] - 1s 2ms/step - loss: 0.0627 - accuracy: 0.9808\n",
      "Evaluation result on Test Data : Loss = 0.06265503168106079, accuracy = 0.9807999730110168\n"
     ]
    }
   ],
   "source": [
    "import tensorflow as tf\n",
    "\n",
    "# MLP Model Architecture (MLP - Multilayer perception)\n",
    "model = Sequential()\n",
    "\n",
    "# Input layyer\n",
    "model.add(tf.keras.Input(shape=(train_x.shape[1])))\n",
    "\n",
    "# Midden layer(s)\n",
    "model.add(Dense(512, activation='relu'))\n",
    "\n",
    "# Output layer\n",
    "model.add(Dense(classes_num, activation='softmax'))\n",
    "\n",
    "# Model parameters\n",
    "model.compile(optimizer='rmsprop', loss='categorical_crossentropy', metrics=['accuracy'])\n",
    "\n",
    "# Model training\n",
    "\n",
    "# Function/Perceptron: predicts binary class: win or lose\n",
    "# x1: current standings/rank: 1 ... 50\n",
    "# x2: time of day: 6-21\n",
    "\n",
    "# Dataset (0: 100, 2,1): 100(number of games), 2 (x1, x2), 1 {win, lose}\n",
    "# Input 1: D[0,:,0] -> 0\n",
    "\n",
    "# Epochs: Invloves seeing all images in the training data during one cycle\n",
    "# Interations: Updates made to network weights based on single or multiple images (batch size)\n",
    "history = model.fit(train_x, train_y_one_hot,\n",
    "                   batch_size=256, epochs=10, verbose=True,\n",
    "                   validation_data=(test_x, test_y_one_hot))\n",
    "\n",
    "[test_loss, test_acc] = model.evaluate(test_x, test_y_one_hot)\n",
    "print(f\"Evaluation result on Test Data : Loss = {test_loss}, accuracy = {test_acc}\")"
   ]
  },
  {
   "cell_type": "markdown",
   "metadata": {},
   "source": [
    "### 4. Visualize Learning results"
   ]
  },
  {
   "cell_type": "code",
   "execution_count": 49,
   "metadata": {},
   "outputs": [
    {
     "data": {
      "image/png": "[encoded data removed]",
      "text/plain": [
       "<Figure size 576x432 with 1 Axes>"
      ]
     },
     "metadata": {
      "needs_background": "light"
     },
     "output_type": "display_data"
    },
    {
     "data": {
      "image/png": "[encoded data removed]",
      "text/plain": [
       "<Figure size 576x432 with 1 Axes>"
      ]
     },
     "metadata": {
      "needs_background": "light"
     },
     "output_type": "display_data"
    }
   ],
   "source": [
    "def plot_history(history):\n",
    "    # Plot the Loss Curves\n",
    "    plt.figure(figsize=[8,6])\n",
    "    \n",
    "    plt.plot(history.history['loss'], 'r', linewidth=3.0)\n",
    "    plt.plot(history.history['val_loss'], 'b', linewidth=3.0)\n",
    "    \n",
    "    plt.legend(['Training loss', 'Validation Loss'], fontsize=12)\n",
    "    plt.xlabel('Epochs', fontsize=16)\n",
    "    plt.ylabel('Loss', fontsize=16)\n",
    "    plt.title('Loss Curves', fontsize=16)\n",
    "    \n",
    "    # Plot the Accuracy Curves\n",
    "    plt.figure(figsize=[8,6])\n",
    "    \n",
    "    plt.plot(history.history['accuracy'], 'r', linewidth=3.0)    \n",
    "    plt.plot(history.history['val_accuracy'], 'b', linewidth=3.0)\n",
    "    \n",
    "    plt.legend(['Training Accuracy', 'Validation Accuracy'], fontsize=12)\n",
    "    plt.xlabel('Epochs ', fontsize=16)\n",
    "    plt.ylabel('Accuracy', fontsize=16)\n",
    "    plt.title('Accuracy Curves', fontsize=16)\n",
    "    \n",
    "plot_history(history)"
   ]
  },
  {
   "cell_type": "markdown",
   "metadata": {},
   "source": [
    "Lightweight CNN example"
   ]
  },
  {
   "cell_type": "code",
   "execution_count": 50,
   "metadata": {},
   "outputs": [],
   "source": [
    "import tensorflow as tf\n",
    "from tensorflow import keras\n",
    "from tensorflow.keras.layers import Conv2D, MaxPooling2D, Flatten, Dense"
   ]
  },
  {
   "cell_type": "code",
   "execution_count": 51,
   "metadata": {},
   "outputs": [
    {
     "name": "stdout",
     "output_type": "stream",
     "text": [
      "Model: \"sequential_8\"\n",
      "_________________________________________________________________\n",
      " Layer (type)                Output Shape              Param #   \n",
      "=================================================================\n",
      " conv2d_7 (Conv2D)           (None, 26, 26, 32)        320       \n",
      "                                                                 \n",
      " flatten_2 (Flatten)         (None, 21632)             0         \n",
      "                                                                 \n",
      " dense_18 (Dense)            (None, 10)                216330    \n",
      "                                                                 \n",
      "=================================================================\n",
      "Total params: 216,650\n",
      "Trainable params: 216,650\n",
      "Non-trainable params: 0\n",
      "_________________________________________________________________\n"
     ]
    }
   ],
   "source": [
    "# Define your architecture\n",
    "model = keras.Sequential()\n",
    "\n",
    "# Input layer \n",
    "model.add(tf.keras.Input(shape=(28, 28, 1)))\n",
    "\n",
    "# Hiffen layer\n",
    "model.add(Conv2D(32, (3, 3), activation='relu', kernel_initializer='he_uniform'))\n",
    "model.add(Flatten())\n",
    "\n",
    "# Outout layer\n",
    "model.add(Dense(10, activation='softmax'))\n",
    "\n",
    "model.summary()"
   ]
  },
  {
   "cell_type": "code",
   "execution_count": 52,
   "metadata": {},
   "outputs": [],
   "source": [
    "(train_x, train_y), (test_x, test_y) = keras.datasets.mnist.load_data()\n",
    "\n",
    "# Change the labels from integer to categorical data\n",
    "train_y_one_hot = keras.utils.to_categorical(train_y)\n",
    "test_y_one_hot = keras.utils.to_categorical(test_y)"
   ]
  },
  {
   "cell_type": "code",
   "execution_count": 53,
   "metadata": {},
   "outputs": [
    {
     "name": "stdout",
     "output_type": "stream",
     "text": [
      "Epoch 1/30\n"
     ]
    },
    {
     "name": "stderr",
     "output_type": "stream",
     "text": [
      "c:\\Users\\merli\\AppData\\Local\\Programs\\Python\\Python310\\lib\\site-packages\\keras\\optimizers\\optimizer_v2\\gradient_descent.py:111: UserWarning: The `lr` argument is deprecated, use `learning_rate` instead.\n",
      "  super().__init__(name, **kwargs)\n"
     ]
    },
    {
     "name": "stdout",
     "output_type": "stream",
     "text": [
      "938/938 [==============================] - 11s 12ms/step - loss: 15.2443 - accuracy: 0.3517 - val_loss: 0.7670 - val_accuracy: 0.7602\n",
      "Epoch 2/30\n",
      "938/938 [==============================] - 12s 13ms/step - loss: 0.5859 - accuracy: 0.8108 - val_loss: 0.4235 - val_accuracy: 0.8688\n",
      "Epoch 3/30\n",
      "938/938 [==============================] - 11s 12ms/step - loss: 0.3198 - accuracy: 0.8992 - val_loss: 0.2755 - val_accuracy: 0.9188\n",
      "Epoch 4/30\n",
      "938/938 [==============================] - 12s 13ms/step - loss: 0.2368 - accuracy: 0.9259 - val_loss: 0.2601 - val_accuracy: 0.9261\n",
      "Epoch 5/30\n",
      "938/938 [==============================] - 13s 14ms/step - loss: 0.2040 - accuracy: 0.9365 - val_loss: 0.2329 - val_accuracy: 0.9310\n",
      "Epoch 6/30\n",
      "938/938 [==============================] - 12s 13ms/step - loss: 0.1862 - accuracy: 0.9421 - val_loss: 0.2256 - val_accuracy: 0.9343\n",
      "Epoch 7/30\n",
      "938/938 [==============================] - 12s 12ms/step - loss: 0.1742 - accuracy: 0.9449 - val_loss: 0.2477 - val_accuracy: 0.9303\n",
      "Epoch 8/30\n",
      "938/938 [==============================] - 12s 13ms/step - loss: 0.1645 - accuracy: 0.9486 - val_loss: 0.2201 - val_accuracy: 0.9366\n",
      "Epoch 9/30\n",
      "938/938 [==============================] - 11s 12ms/step - loss: 0.1583 - accuracy: 0.9498 - val_loss: 0.2255 - val_accuracy: 0.9354\n",
      "Epoch 10/30\n",
      "938/938 [==============================] - 12s 12ms/step - loss: 0.1574 - accuracy: 0.9503 - val_loss: 0.2221 - val_accuracy: 0.9376\n",
      "Epoch 11/30\n",
      "938/938 [==============================] - 12s 12ms/step - loss: 0.1514 - accuracy: 0.9512 - val_loss: 0.2104 - val_accuracy: 0.9395\n",
      "Epoch 12/30\n",
      "938/938 [==============================] - 11s 12ms/step - loss: 0.1467 - accuracy: 0.9528 - val_loss: 0.2235 - val_accuracy: 0.9353\n",
      "Epoch 13/30\n",
      "938/938 [==============================] - 10s 11ms/step - loss: 0.1412 - accuracy: 0.9549 - val_loss: 0.2125 - val_accuracy: 0.9408\n",
      "Epoch 14/30\n",
      "938/938 [==============================] - 12s 13ms/step - loss: 0.1372 - accuracy: 0.9554 - val_loss: 0.2176 - val_accuracy: 0.9403\n",
      "Epoch 15/30\n",
      "938/938 [==============================] - 12s 12ms/step - loss: 0.1379 - accuracy: 0.9566 - val_loss: 0.2264 - val_accuracy: 0.9377\n",
      "Epoch 16/30\n",
      "938/938 [==============================] - 11s 12ms/step - loss: 0.1310 - accuracy: 0.9586 - val_loss: 0.2258 - val_accuracy: 0.9410\n",
      "Epoch 17/30\n",
      "938/938 [==============================] - 11s 11ms/step - loss: 0.1303 - accuracy: 0.9578 - val_loss: 0.2628 - val_accuracy: 0.9360\n",
      "Epoch 18/30\n",
      "938/938 [==============================] - 12s 13ms/step - loss: 0.1283 - accuracy: 0.9584 - val_loss: 0.2468 - val_accuracy: 0.9416\n",
      "Epoch 19/30\n",
      "938/938 [==============================] - 11s 11ms/step - loss: 0.1278 - accuracy: 0.9588 - val_loss: 0.2346 - val_accuracy: 0.9412\n",
      "Epoch 20/30\n",
      "938/938 [==============================] - 12s 13ms/step - loss: 0.1263 - accuracy: 0.9593 - val_loss: 0.2300 - val_accuracy: 0.9425\n",
      "Epoch 21/30\n",
      "938/938 [==============================] - 11s 12ms/step - loss: 0.1230 - accuracy: 0.9603 - val_loss: 0.2498 - val_accuracy: 0.9421\n",
      "Epoch 22/30\n",
      "938/938 [==============================] - 11s 12ms/step - loss: 0.1249 - accuracy: 0.9587 - val_loss: 0.2427 - val_accuracy: 0.9353\n",
      "Epoch 23/30\n",
      "938/938 [==============================] - 11s 12ms/step - loss: 0.1195 - accuracy: 0.9606 - val_loss: 0.2433 - val_accuracy: 0.9390\n",
      "Epoch 24/30\n",
      "938/938 [==============================] - 11s 12ms/step - loss: 0.1194 - accuracy: 0.9619 - val_loss: 0.2329 - val_accuracy: 0.9423\n",
      "Epoch 25/30\n",
      "938/938 [==============================] - 11s 11ms/step - loss: 0.1218 - accuracy: 0.9598 - val_loss: 0.2380 - val_accuracy: 0.9417\n",
      "Epoch 26/30\n",
      "938/938 [==============================] - 11s 12ms/step - loss: 0.1206 - accuracy: 0.9613 - val_loss: 0.2388 - val_accuracy: 0.9402\n",
      "Epoch 27/30\n",
      "938/938 [==============================] - 11s 12ms/step - loss: 0.1209 - accuracy: 0.9612 - val_loss: 0.2376 - val_accuracy: 0.9398\n",
      "Epoch 28/30\n",
      "938/938 [==============================] - 11s 12ms/step - loss: 0.1160 - accuracy: 0.9625 - val_loss: 0.2412 - val_accuracy: 0.9390\n",
      "Epoch 29/30\n",
      "938/938 [==============================] - 11s 12ms/step - loss: 0.1157 - accuracy: 0.9621 - val_loss: 0.2627 - val_accuracy: 0.9412\n",
      "Epoch 30/30\n",
      "938/938 [==============================] - 11s 12ms/step - loss: 0.1200 - accuracy: 0.9607 - val_loss: 0.2892 - val_accuracy: 0.9280\n"
     ]
    }
   ],
   "source": [
    "# compile model\n",
    "opt = keras.optimizers.SGD(lr=0.001, momentum=0.9)\n",
    "model.compile(optimizer=opt, loss='categorical_crossentropy', metrics=['accuracy'])\n",
    "\n",
    "# # fit model\n",
    "history = model.fit(train_x, train_y_one_hot, epochs=30, batch_size=64, validation_data=(test_x, test_y_one_hot), verbose=1)"
   ]
  },
  {
   "cell_type": "code",
   "execution_count": 54,
   "metadata": {},
   "outputs": [
    {
     "name": "stdout",
     "output_type": "stream",
     "text": [
      "313/313 [==============================] - 1s 3ms/step - loss: 0.2892 - accuracy: 0.9280\n",
      "Evaluate result on Test Data: Loss = 0.28922799229621887, accuracy = 0.9279999732971191\n"
     ]
    }
   ],
   "source": [
    "[test_loss, test_acc] = model.evaluate(test_x, test_y_one_hot)\n",
    "print(f\"Evaluate result on Test Data: Loss = {test_loss}, accuracy = {test_acc}\")"
   ]
  },
  {
   "cell_type": "code",
   "execution_count": null,
   "metadata": {},
   "outputs": [],
   "source": []
  },
  {
   "cell_type": "code",
   "execution_count": null,
   "metadata": {},
   "outputs": [],
   "source": []
  }
 ],
 "metadata": {
  "kernelspec": {
   "display_name": "Python 3.10.5 64-bit",
   "language": "python",
   "name": "python3"
  },
  "language_info": {
   "codemirror_mode": {
    "name": "ipython",
    "version": 3
   },
   "file_extension": ".py",
   "mimetype": "text/x-python",
   "name": "python",
   "nbconvert_exporter": "python",
   "pygments_lexer": "ipython3",
   "version": "3.10.5"
  },
  "orig_nbformat": 4,
  "vscode": {
   "interpreter": {
    "hash": "3429981c687d110c4c5c63635eed955f89f79b5c29f7b8819e5bb3afec2d8ca0"
   }
  }
 },
 "nbformat": 4,
 "nbformat_minor": 2
}
