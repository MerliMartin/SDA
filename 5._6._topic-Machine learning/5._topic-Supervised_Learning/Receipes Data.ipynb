{
 "cells": [
  {
   "cell_type": "markdown",
   "id": "878c0e89",
   "metadata": {
    "toc": true
   },
   "source": [
    "<h1>Table of Contents<span class=\"tocSkip\"></span></h1>\n",
    "<div class=\"toc\"><ul class=\"toc-item\"><li><span><a href=\"#Full-model-develpoment-cycle\" data-toc-modified-id=\"Full-model-develpoment-cycle-1\"><span class=\"toc-item-num\">1&nbsp;&nbsp;</span>Full model develpoment cycle</a></span><ul class=\"toc-item\"><li><span><a href=\"#Packages-import,-data-visualisation,-data-cleaning\" data-toc-modified-id=\"Packages-import,-data-visualisation,-data-cleaning-1.1\"><span class=\"toc-item-num\">1.1&nbsp;&nbsp;</span>Packages import, data visualisation, data cleaning</a></span></li><li><span><a href=\"#Univariate-analysis\" data-toc-modified-id=\"Univariate-analysis-1.2\"><span class=\"toc-item-num\">1.2&nbsp;&nbsp;</span>Univariate analysis</a></span></li><li><span><a href=\"#Multivariate-analysis\" data-toc-modified-id=\"Multivariate-analysis-1.3\"><span class=\"toc-item-num\">1.3&nbsp;&nbsp;</span>Multivariate analysis</a></span></li><li><span><a href=\"#Model-Selection\" data-toc-modified-id=\"Model-Selection-1.4\"><span class=\"toc-item-num\">1.4&nbsp;&nbsp;</span>Model Selection</a></span></li></ul></li></ul></div>"
   ]
  },
  {
   "cell_type": "markdown",
   "id": "67e24330",
   "metadata": {},
   "source": [
    "# Full model develpoment cycle\n",
    "\n",
    "Reminder:\n",
    "\n",
    "There are 5 main steps in building a greate regression model\n",
    "\n",
    "1. Univariate anlysis\n",
    "2. Multivariate analysis\n",
    "3. Feature selection\n",
    "4. Model Training and Evaluation (for all potential model candidates)\n",
    "5. Best Model Selection"
   ]
  },
  {
   "cell_type": "markdown",
   "id": "214b5de7",
   "metadata": {},
   "source": [
    "## Packages import, data visualisation, data cleaning"
   ]
  },
  {
   "cell_type": "code",
   "execution_count": 1,
   "id": "d8fb90bf",
   "metadata": {
    "ExecuteTime": {
     "end_time": "2022-08-09T18:49:30.593878Z",
     "start_time": "2022-08-09T18:49:28.878962Z"
    }
   },
   "outputs": [],
   "source": [
    "import numpy as np\n",
    "import pandas as pd\n",
    "\n",
    "# plots\n",
    "import seaborn as sns\n",
    "import matplotlib.pyplot as plt\n",
    "\n",
    "# model\n",
    "from sklearn.linear_model import LinearRegression\n",
    "from sklearn.tree import DecisionTreeRegressor\n",
    "\n",
    "# splitting the data\n",
    "from sklearn.model_selection import train_test_split\n",
    "\n",
    "# metrics\n",
    "from sklearn.metrics import r2_score, mean_absolute_error, mean_squared_error"
   ]
  },
  {
   "cell_type": "code",
   "execution_count": 2,
   "id": "6ef53076",
   "metadata": {
    "ExecuteTime": {
     "end_time": "2022-08-09T18:49:30.656828Z",
     "start_time": "2022-08-09T18:49:30.596825Z"
    }
   },
   "outputs": [],
   "source": [
    "receipe_data = pd.read_csv('receipes.csv', index_col=0)"
   ]
  },
  {
   "cell_type": "code",
   "execution_count": 3,
   "id": "b96288ff",
   "metadata": {
    "ExecuteTime": {
     "end_time": "2022-08-09T18:49:30.671753Z",
     "start_time": "2022-08-09T18:49:30.657830Z"
    }
   },
   "outputs": [
    {
     "data": {
      "text/plain": [
       "(20052, 15)"
      ]
     },
     "execution_count": 3,
     "metadata": {},
     "output_type": "execute_result"
    }
   ],
   "source": [
    "receipe_data.shape"
   ]
  },
  {
   "cell_type": "code",
   "execution_count": 4,
   "id": "28d6a16d",
   "metadata": {
    "ExecuteTime": {
     "end_time": "2022-08-09T18:49:30.703684Z",
     "start_time": "2022-08-09T18:49:30.675732Z"
    }
   },
   "outputs": [
    {
     "data": {
      "text/html": [
       "<div>\n",
       "<style scoped>\n",
       "    .dataframe tbody tr th:only-of-type {\n",
       "        vertical-align: middle;\n",
       "    }\n",
       "\n",
       "    .dataframe tbody tr th {\n",
       "        vertical-align: top;\n",
       "    }\n",
       "\n",
       "    .dataframe thead th {\n",
       "        text-align: right;\n",
       "    }\n",
       "</style>\n",
       "<table border=\"1\" class=\"dataframe\">\n",
       "  <thead>\n",
       "    <tr style=\"text-align: right;\">\n",
       "      <th></th>\n",
       "      <th>title</th>\n",
       "      <th>rating</th>\n",
       "      <th>calories</th>\n",
       "      <th>protein</th>\n",
       "      <th>fat</th>\n",
       "      <th>sodium</th>\n",
       "      <th>dinner</th>\n",
       "      <th>lunch</th>\n",
       "      <th>dessert</th>\n",
       "      <th>drink</th>\n",
       "      <th>dairy free</th>\n",
       "      <th>vegetarian</th>\n",
       "      <th>seafood</th>\n",
       "      <th>low carb</th>\n",
       "      <th>low cholesterol</th>\n",
       "    </tr>\n",
       "  </thead>\n",
       "  <tbody>\n",
       "    <tr>\n",
       "      <th>0</th>\n",
       "      <td>Lentil, Apple, and Turkey Wrap</td>\n",
       "      <td>2.500</td>\n",
       "      <td>426.0</td>\n",
       "      <td>30.0</td>\n",
       "      <td>7.0</td>\n",
       "      <td>559.0</td>\n",
       "      <td>0.0</td>\n",
       "      <td>0.0</td>\n",
       "      <td>0.0</td>\n",
       "      <td>0.0</td>\n",
       "      <td>0.0</td>\n",
       "      <td>0.0</td>\n",
       "      <td>0.0</td>\n",
       "      <td>0.0</td>\n",
       "      <td>0.0</td>\n",
       "    </tr>\n",
       "    <tr>\n",
       "      <th>1</th>\n",
       "      <td>Boudin Blanc Terrine with Red Onion Confit</td>\n",
       "      <td>4.375</td>\n",
       "      <td>403.0</td>\n",
       "      <td>18.0</td>\n",
       "      <td>23.0</td>\n",
       "      <td>1439.0</td>\n",
       "      <td>0.0</td>\n",
       "      <td>0.0</td>\n",
       "      <td>0.0</td>\n",
       "      <td>0.0</td>\n",
       "      <td>0.0</td>\n",
       "      <td>0.0</td>\n",
       "      <td>0.0</td>\n",
       "      <td>0.0</td>\n",
       "      <td>0.0</td>\n",
       "    </tr>\n",
       "    <tr>\n",
       "      <th>2</th>\n",
       "      <td>Potato and Fennel Soup Hodge</td>\n",
       "      <td>3.750</td>\n",
       "      <td>165.0</td>\n",
       "      <td>6.0</td>\n",
       "      <td>7.0</td>\n",
       "      <td>165.0</td>\n",
       "      <td>0.0</td>\n",
       "      <td>0.0</td>\n",
       "      <td>0.0</td>\n",
       "      <td>0.0</td>\n",
       "      <td>0.0</td>\n",
       "      <td>0.0</td>\n",
       "      <td>0.0</td>\n",
       "      <td>0.0</td>\n",
       "      <td>0.0</td>\n",
       "    </tr>\n",
       "    <tr>\n",
       "      <th>3</th>\n",
       "      <td>Mahi-Mahi in Tomato Olive Sauce</td>\n",
       "      <td>5.000</td>\n",
       "      <td>NaN</td>\n",
       "      <td>NaN</td>\n",
       "      <td>NaN</td>\n",
       "      <td>NaN</td>\n",
       "      <td>1.0</td>\n",
       "      <td>0.0</td>\n",
       "      <td>0.0</td>\n",
       "      <td>0.0</td>\n",
       "      <td>1.0</td>\n",
       "      <td>0.0</td>\n",
       "      <td>0.0</td>\n",
       "      <td>0.0</td>\n",
       "      <td>0.0</td>\n",
       "    </tr>\n",
       "    <tr>\n",
       "      <th>4</th>\n",
       "      <td>Spinach Noodle Casserole</td>\n",
       "      <td>3.125</td>\n",
       "      <td>547.0</td>\n",
       "      <td>20.0</td>\n",
       "      <td>32.0</td>\n",
       "      <td>452.0</td>\n",
       "      <td>0.0</td>\n",
       "      <td>0.0</td>\n",
       "      <td>0.0</td>\n",
       "      <td>0.0</td>\n",
       "      <td>0.0</td>\n",
       "      <td>1.0</td>\n",
       "      <td>0.0</td>\n",
       "      <td>0.0</td>\n",
       "      <td>0.0</td>\n",
       "    </tr>\n",
       "  </tbody>\n",
       "</table>\n",
       "</div>"
      ],
      "text/plain": [
       "                                         title  rating  calories  protein  \\\n",
       "0              Lentil, Apple, and Turkey Wrap    2.500     426.0     30.0   \n",
       "1  Boudin Blanc Terrine with Red Onion Confit    4.375     403.0     18.0   \n",
       "2                Potato and Fennel Soup Hodge    3.750     165.0      6.0   \n",
       "3             Mahi-Mahi in Tomato Olive Sauce    5.000       NaN      NaN   \n",
       "4                    Spinach Noodle Casserole    3.125     547.0     20.0   \n",
       "\n",
       "    fat  sodium  dinner  lunch  dessert  drink  dairy free  vegetarian  \\\n",
       "0   7.0   559.0     0.0    0.0      0.0    0.0         0.0         0.0   \n",
       "1  23.0  1439.0     0.0    0.0      0.0    0.0         0.0         0.0   \n",
       "2   7.0   165.0     0.0    0.0      0.0    0.0         0.0         0.0   \n",
       "3   NaN     NaN     1.0    0.0      0.0    0.0         1.0         0.0   \n",
       "4  32.0   452.0     0.0    0.0      0.0    0.0         0.0         1.0   \n",
       "\n",
       "   seafood  low carb  low cholesterol  \n",
       "0      0.0       0.0              0.0  \n",
       "1      0.0       0.0              0.0  \n",
       "2      0.0       0.0              0.0  \n",
       "3      0.0       0.0              0.0  \n",
       "4      0.0       0.0              0.0  "
      ]
     },
     "execution_count": 4,
     "metadata": {},
     "output_type": "execute_result"
    }
   ],
   "source": [
    "receipe_data.head()"
   ]
  },
  {
   "cell_type": "code",
   "execution_count": 5,
   "id": "373a607a",
   "metadata": {
    "ExecuteTime": {
     "end_time": "2022-08-09T18:49:30.735572Z",
     "start_time": "2022-08-09T18:49:30.706650Z"
    }
   },
   "outputs": [
    {
     "name": "stdout",
     "output_type": "stream",
     "text": [
      "<class 'pandas.core.frame.DataFrame'>\n",
      "Int64Index: 20052 entries, 0 to 20051\n",
      "Data columns (total 15 columns):\n",
      " #   Column           Non-Null Count  Dtype  \n",
      "---  ------           --------------  -----  \n",
      " 0   title            20052 non-null  object \n",
      " 1   rating           20052 non-null  float64\n",
      " 2   calories         15935 non-null  float64\n",
      " 3   protein          15890 non-null  float64\n",
      " 4   fat              15869 non-null  float64\n",
      " 5   sodium           15933 non-null  float64\n",
      " 6   dinner           20052 non-null  float64\n",
      " 7   lunch            20052 non-null  float64\n",
      " 8   dessert          20052 non-null  float64\n",
      " 9   drink            20052 non-null  float64\n",
      " 10  dairy free       20052 non-null  float64\n",
      " 11  vegetarian       20052 non-null  float64\n",
      " 12  seafood          20052 non-null  float64\n",
      " 13  low carb         20052 non-null  float64\n",
      " 14  low cholesterol  20052 non-null  float64\n",
      "dtypes: float64(14), object(1)\n",
      "memory usage: 2.4+ MB\n"
     ]
    }
   ],
   "source": [
    "receipe_data.info()"
   ]
  },
  {
   "cell_type": "code",
   "execution_count": 6,
   "id": "fdf94d75",
   "metadata": {
    "ExecuteTime": {
     "end_time": "2022-08-09T18:49:30.752528Z",
     "start_time": "2022-08-09T18:49:30.738564Z"
    }
   },
   "outputs": [],
   "source": [
    "receipe_data.dropna(inplace=True)"
   ]
  },
  {
   "cell_type": "code",
   "execution_count": 7,
   "id": "3993c8fe",
   "metadata": {
    "ExecuteTime": {
     "end_time": "2022-08-09T18:49:30.766490Z",
     "start_time": "2022-08-09T18:49:30.754522Z"
    }
   },
   "outputs": [
    {
     "data": {
      "text/plain": [
       "(15864, 15)"
      ]
     },
     "execution_count": 7,
     "metadata": {},
     "output_type": "execute_result"
    }
   ],
   "source": [
    "receipe_data.shape"
   ]
  },
  {
   "cell_type": "code",
   "execution_count": 8,
   "id": "2afce682",
   "metadata": {
    "ExecuteTime": {
     "end_time": "2022-08-09T18:49:30.797406Z",
     "start_time": "2022-08-09T18:49:30.769481Z"
    }
   },
   "outputs": [
    {
     "data": {
      "text/html": [
       "<div>\n",
       "<style scoped>\n",
       "    .dataframe tbody tr th:only-of-type {\n",
       "        vertical-align: middle;\n",
       "    }\n",
       "\n",
       "    .dataframe tbody tr th {\n",
       "        vertical-align: top;\n",
       "    }\n",
       "\n",
       "    .dataframe thead th {\n",
       "        text-align: right;\n",
       "    }\n",
       "</style>\n",
       "<table border=\"1\" class=\"dataframe\">\n",
       "  <thead>\n",
       "    <tr style=\"text-align: right;\">\n",
       "      <th></th>\n",
       "      <th>title</th>\n",
       "      <th>rating</th>\n",
       "      <th>calories</th>\n",
       "      <th>protein</th>\n",
       "      <th>fat</th>\n",
       "      <th>sodium</th>\n",
       "      <th>dinner</th>\n",
       "      <th>lunch</th>\n",
       "      <th>dessert</th>\n",
       "      <th>drink</th>\n",
       "      <th>dairy free</th>\n",
       "      <th>vegetarian</th>\n",
       "      <th>seafood</th>\n",
       "      <th>low carb</th>\n",
       "      <th>low cholesterol</th>\n",
       "    </tr>\n",
       "  </thead>\n",
       "  <tbody>\n",
       "    <tr>\n",
       "      <th>0</th>\n",
       "      <td>Lentil, Apple, and Turkey Wrap</td>\n",
       "      <td>2.500</td>\n",
       "      <td>426.0</td>\n",
       "      <td>30.0</td>\n",
       "      <td>7.0</td>\n",
       "      <td>559.0</td>\n",
       "      <td>0.0</td>\n",
       "      <td>0.0</td>\n",
       "      <td>0.0</td>\n",
       "      <td>0.0</td>\n",
       "      <td>0.0</td>\n",
       "      <td>0.0</td>\n",
       "      <td>0.0</td>\n",
       "      <td>0.0</td>\n",
       "      <td>0.0</td>\n",
       "    </tr>\n",
       "    <tr>\n",
       "      <th>1</th>\n",
       "      <td>Boudin Blanc Terrine with Red Onion Confit</td>\n",
       "      <td>4.375</td>\n",
       "      <td>403.0</td>\n",
       "      <td>18.0</td>\n",
       "      <td>23.0</td>\n",
       "      <td>1439.0</td>\n",
       "      <td>0.0</td>\n",
       "      <td>0.0</td>\n",
       "      <td>0.0</td>\n",
       "      <td>0.0</td>\n",
       "      <td>0.0</td>\n",
       "      <td>0.0</td>\n",
       "      <td>0.0</td>\n",
       "      <td>0.0</td>\n",
       "      <td>0.0</td>\n",
       "    </tr>\n",
       "    <tr>\n",
       "      <th>2</th>\n",
       "      <td>Potato and Fennel Soup Hodge</td>\n",
       "      <td>3.750</td>\n",
       "      <td>165.0</td>\n",
       "      <td>6.0</td>\n",
       "      <td>7.0</td>\n",
       "      <td>165.0</td>\n",
       "      <td>0.0</td>\n",
       "      <td>0.0</td>\n",
       "      <td>0.0</td>\n",
       "      <td>0.0</td>\n",
       "      <td>0.0</td>\n",
       "      <td>0.0</td>\n",
       "      <td>0.0</td>\n",
       "      <td>0.0</td>\n",
       "      <td>0.0</td>\n",
       "    </tr>\n",
       "    <tr>\n",
       "      <th>4</th>\n",
       "      <td>Spinach Noodle Casserole</td>\n",
       "      <td>3.125</td>\n",
       "      <td>547.0</td>\n",
       "      <td>20.0</td>\n",
       "      <td>32.0</td>\n",
       "      <td>452.0</td>\n",
       "      <td>0.0</td>\n",
       "      <td>0.0</td>\n",
       "      <td>0.0</td>\n",
       "      <td>0.0</td>\n",
       "      <td>0.0</td>\n",
       "      <td>1.0</td>\n",
       "      <td>0.0</td>\n",
       "      <td>0.0</td>\n",
       "      <td>0.0</td>\n",
       "    </tr>\n",
       "    <tr>\n",
       "      <th>5</th>\n",
       "      <td>The Best Blts</td>\n",
       "      <td>4.375</td>\n",
       "      <td>948.0</td>\n",
       "      <td>19.0</td>\n",
       "      <td>79.0</td>\n",
       "      <td>1042.0</td>\n",
       "      <td>0.0</td>\n",
       "      <td>0.0</td>\n",
       "      <td>0.0</td>\n",
       "      <td>0.0</td>\n",
       "      <td>0.0</td>\n",
       "      <td>0.0</td>\n",
       "      <td>0.0</td>\n",
       "      <td>0.0</td>\n",
       "      <td>0.0</td>\n",
       "    </tr>\n",
       "  </tbody>\n",
       "</table>\n",
       "</div>"
      ],
      "text/plain": [
       "                                         title  rating  calories  protein  \\\n",
       "0              Lentil, Apple, and Turkey Wrap    2.500     426.0     30.0   \n",
       "1  Boudin Blanc Terrine with Red Onion Confit    4.375     403.0     18.0   \n",
       "2                Potato and Fennel Soup Hodge    3.750     165.0      6.0   \n",
       "4                    Spinach Noodle Casserole    3.125     547.0     20.0   \n",
       "5                               The Best Blts    4.375     948.0     19.0   \n",
       "\n",
       "    fat  sodium  dinner  lunch  dessert  drink  dairy free  vegetarian  \\\n",
       "0   7.0   559.0     0.0    0.0      0.0    0.0         0.0         0.0   \n",
       "1  23.0  1439.0     0.0    0.0      0.0    0.0         0.0         0.0   \n",
       "2   7.0   165.0     0.0    0.0      0.0    0.0         0.0         0.0   \n",
       "4  32.0   452.0     0.0    0.0      0.0    0.0         0.0         1.0   \n",
       "5  79.0  1042.0     0.0    0.0      0.0    0.0         0.0         0.0   \n",
       "\n",
       "   seafood  low carb  low cholesterol  \n",
       "0      0.0       0.0              0.0  \n",
       "1      0.0       0.0              0.0  \n",
       "2      0.0       0.0              0.0  \n",
       "4      0.0       0.0              0.0  \n",
       "5      0.0       0.0              0.0  "
      ]
     },
     "execution_count": 8,
     "metadata": {},
     "output_type": "execute_result"
    }
   ],
   "source": [
    "receipe_data.head()"
   ]
  },
  {
   "cell_type": "code",
   "execution_count": 9,
   "id": "29cf1cd9",
   "metadata": {
    "ExecuteTime": {
     "end_time": "2022-08-09T18:49:30.827326Z",
     "start_time": "2022-08-09T18:49:30.800399Z"
    }
   },
   "outputs": [
    {
     "data": {
      "text/html": [
       "<div>\n",
       "<style scoped>\n",
       "    .dataframe tbody tr th:only-of-type {\n",
       "        vertical-align: middle;\n",
       "    }\n",
       "\n",
       "    .dataframe tbody tr th {\n",
       "        vertical-align: top;\n",
       "    }\n",
       "\n",
       "    .dataframe thead th {\n",
       "        text-align: right;\n",
       "    }\n",
       "</style>\n",
       "<table border=\"1\" class=\"dataframe\">\n",
       "  <thead>\n",
       "    <tr style=\"text-align: right;\">\n",
       "      <th></th>\n",
       "      <th>title</th>\n",
       "      <th>rating</th>\n",
       "      <th>calories</th>\n",
       "      <th>protein</th>\n",
       "      <th>fat</th>\n",
       "      <th>sodium</th>\n",
       "      <th>dinner</th>\n",
       "      <th>lunch</th>\n",
       "      <th>dessert</th>\n",
       "      <th>drink</th>\n",
       "      <th>dairy free</th>\n",
       "      <th>vegetarian</th>\n",
       "      <th>seafood</th>\n",
       "      <th>low carb</th>\n",
       "      <th>low cholesterol</th>\n",
       "    </tr>\n",
       "  </thead>\n",
       "  <tbody>\n",
       "    <tr>\n",
       "      <th>9</th>\n",
       "      <td>Ham Persillade with Mustard Potato Salad and M...</td>\n",
       "      <td>3.750</td>\n",
       "      <td>602.0</td>\n",
       "      <td>23.0</td>\n",
       "      <td>41.0</td>\n",
       "      <td>1696.0</td>\n",
       "      <td>0.0</td>\n",
       "      <td>1.0</td>\n",
       "      <td>0.0</td>\n",
       "      <td>0.0</td>\n",
       "      <td>1.0</td>\n",
       "      <td>0.0</td>\n",
       "      <td>0.0</td>\n",
       "      <td>0.0</td>\n",
       "      <td>0.0</td>\n",
       "    </tr>\n",
       "    <tr>\n",
       "      <th>19</th>\n",
       "      <td>Tuna, Asparagus, and New Potato Salad with Chi...</td>\n",
       "      <td>5.000</td>\n",
       "      <td>421.0</td>\n",
       "      <td>10.0</td>\n",
       "      <td>33.0</td>\n",
       "      <td>383.0</td>\n",
       "      <td>0.0</td>\n",
       "      <td>1.0</td>\n",
       "      <td>0.0</td>\n",
       "      <td>0.0</td>\n",
       "      <td>1.0</td>\n",
       "      <td>0.0</td>\n",
       "      <td>0.0</td>\n",
       "      <td>0.0</td>\n",
       "      <td>0.0</td>\n",
       "    </tr>\n",
       "    <tr>\n",
       "      <th>26</th>\n",
       "      <td>Cucumber-Basil Egg Salad</td>\n",
       "      <td>3.750</td>\n",
       "      <td>215.0</td>\n",
       "      <td>6.0</td>\n",
       "      <td>20.0</td>\n",
       "      <td>250.0</td>\n",
       "      <td>1.0</td>\n",
       "      <td>1.0</td>\n",
       "      <td>0.0</td>\n",
       "      <td>0.0</td>\n",
       "      <td>1.0</td>\n",
       "      <td>1.0</td>\n",
       "      <td>0.0</td>\n",
       "      <td>0.0</td>\n",
       "      <td>0.0</td>\n",
       "    </tr>\n",
       "    <tr>\n",
       "      <th>35</th>\n",
       "      <td>Aztec Chicken</td>\n",
       "      <td>3.750</td>\n",
       "      <td>625.0</td>\n",
       "      <td>39.0</td>\n",
       "      <td>44.0</td>\n",
       "      <td>1248.0</td>\n",
       "      <td>1.0</td>\n",
       "      <td>0.0</td>\n",
       "      <td>0.0</td>\n",
       "      <td>0.0</td>\n",
       "      <td>0.0</td>\n",
       "      <td>0.0</td>\n",
       "      <td>0.0</td>\n",
       "      <td>0.0</td>\n",
       "      <td>0.0</td>\n",
       "    </tr>\n",
       "    <tr>\n",
       "      <th>50</th>\n",
       "      <td>Mexican Chile and Mushroom Soup</td>\n",
       "      <td>3.125</td>\n",
       "      <td>166.0</td>\n",
       "      <td>8.0</td>\n",
       "      <td>12.0</td>\n",
       "      <td>508.0</td>\n",
       "      <td>0.0</td>\n",
       "      <td>1.0</td>\n",
       "      <td>0.0</td>\n",
       "      <td>0.0</td>\n",
       "      <td>1.0</td>\n",
       "      <td>0.0</td>\n",
       "      <td>0.0</td>\n",
       "      <td>0.0</td>\n",
       "      <td>0.0</td>\n",
       "    </tr>\n",
       "  </tbody>\n",
       "</table>\n",
       "</div>"
      ],
      "text/plain": [
       "                                                title  rating  calories  \\\n",
       "9   Ham Persillade with Mustard Potato Salad and M...   3.750     602.0   \n",
       "19  Tuna, Asparagus, and New Potato Salad with Chi...   5.000     421.0   \n",
       "26                          Cucumber-Basil Egg Salad    3.750     215.0   \n",
       "35                                     Aztec Chicken    3.750     625.0   \n",
       "50                   Mexican Chile and Mushroom Soup    3.125     166.0   \n",
       "\n",
       "    protein   fat  sodium  dinner  lunch  dessert  drink  dairy free  \\\n",
       "9      23.0  41.0  1696.0     0.0    1.0      0.0    0.0         1.0   \n",
       "19     10.0  33.0   383.0     0.0    1.0      0.0    0.0         1.0   \n",
       "26      6.0  20.0   250.0     1.0    1.0      0.0    0.0         1.0   \n",
       "35     39.0  44.0  1248.0     1.0    0.0      0.0    0.0         0.0   \n",
       "50      8.0  12.0   508.0     0.0    1.0      0.0    0.0         1.0   \n",
       "\n",
       "    vegetarian  seafood  low carb  low cholesterol  \n",
       "9          0.0      0.0       0.0              0.0  \n",
       "19         0.0      0.0       0.0              0.0  \n",
       "26         1.0      0.0       0.0              0.0  \n",
       "35         0.0      0.0       0.0              0.0  \n",
       "50         0.0      0.0       0.0              0.0  "
      ]
     },
     "execution_count": 9,
     "metadata": {},
     "output_type": "execute_result"
    }
   ],
   "source": [
    "# Example: get the rows that have dessert equal to 1.0\n",
    "data_dessert = receipe_data[(receipe_data['dessert']==1.0)]\n",
    "# Exaple: ger the rows that have lunch AND dinner equal to 1.0\n",
    "data_lunch_and_dinner = receipe_data[(receipe_data['lunch']==1.0) & (receipe_data['dinner']==1.0)]\n",
    "\n",
    "# Filter the rows, where lunch OR dinner equal to 1.0\n",
    "data_lunch_or_dinner = receipe_data[(receipe_data['lunch']==1.0) | (receipe_data['dinner']==1.0)]\n",
    "data_lunch_or_dinner.head()"
   ]
  },
  {
   "cell_type": "code",
   "execution_count": 10,
   "id": "e6b9b569",
   "metadata": {
    "ExecuteTime": {
     "end_time": "2022-08-09T18:49:30.843284Z",
     "start_time": "2022-08-09T18:49:30.830320Z"
    }
   },
   "outputs": [
    {
     "data": {
      "text/plain": [
       "(2448, 15)"
      ]
     },
     "execution_count": 10,
     "metadata": {},
     "output_type": "execute_result"
    }
   ],
   "source": [
    "data_lunch_or_dinner.shape"
   ]
  },
  {
   "cell_type": "code",
   "execution_count": 11,
   "id": "7a71a9d1",
   "metadata": {
    "ExecuteTime": {
     "end_time": "2022-08-09T18:49:30.904121Z",
     "start_time": "2022-08-09T18:49:30.847275Z"
    }
   },
   "outputs": [
    {
     "data": {
      "text/html": [
       "<div>\n",
       "<style scoped>\n",
       "    .dataframe tbody tr th:only-of-type {\n",
       "        vertical-align: middle;\n",
       "    }\n",
       "\n",
       "    .dataframe tbody tr th {\n",
       "        vertical-align: top;\n",
       "    }\n",
       "\n",
       "    .dataframe thead th {\n",
       "        text-align: right;\n",
       "    }\n",
       "</style>\n",
       "<table border=\"1\" class=\"dataframe\">\n",
       "  <thead>\n",
       "    <tr style=\"text-align: right;\">\n",
       "      <th></th>\n",
       "      <th>rating</th>\n",
       "      <th>calories</th>\n",
       "      <th>protein</th>\n",
       "      <th>fat</th>\n",
       "      <th>sodium</th>\n",
       "      <th>dinner</th>\n",
       "      <th>lunch</th>\n",
       "      <th>dessert</th>\n",
       "      <th>drink</th>\n",
       "      <th>dairy free</th>\n",
       "      <th>vegetarian</th>\n",
       "      <th>seafood</th>\n",
       "      <th>low carb</th>\n",
       "      <th>low cholesterol</th>\n",
       "    </tr>\n",
       "  </thead>\n",
       "  <tbody>\n",
       "    <tr>\n",
       "      <th>count</th>\n",
       "      <td>2448.000000</td>\n",
       "      <td>2.448000e+03</td>\n",
       "      <td>2448.000000</td>\n",
       "      <td>2448.000000</td>\n",
       "      <td>2.448000e+03</td>\n",
       "      <td>2448.000000</td>\n",
       "      <td>2448.000000</td>\n",
       "      <td>2448.000000</td>\n",
       "      <td>2448.0</td>\n",
       "      <td>2448.000000</td>\n",
       "      <td>2448.000000</td>\n",
       "      <td>2448.000000</td>\n",
       "      <td>2448.000000</td>\n",
       "      <td>2448.000000</td>\n",
       "    </tr>\n",
       "    <tr>\n",
       "      <th>mean</th>\n",
       "      <td>3.921569</td>\n",
       "      <td>4.104272e+03</td>\n",
       "      <td>234.106618</td>\n",
       "      <td>225.220997</td>\n",
       "      <td>3.654572e+03</td>\n",
       "      <td>0.775327</td>\n",
       "      <td>0.383170</td>\n",
       "      <td>0.003676</td>\n",
       "      <td>0.0</td>\n",
       "      <td>0.395425</td>\n",
       "      <td>0.234069</td>\n",
       "      <td>0.075163</td>\n",
       "      <td>0.017974</td>\n",
       "      <td>0.029003</td>\n",
       "    </tr>\n",
       "    <tr>\n",
       "      <th>std</th>\n",
       "      <td>1.155744</td>\n",
       "      <td>1.187899e+05</td>\n",
       "      <td>6757.324849</td>\n",
       "      <td>6329.069028</td>\n",
       "      <td>8.960562e+04</td>\n",
       "      <td>0.417452</td>\n",
       "      <td>0.486258</td>\n",
       "      <td>0.060535</td>\n",
       "      <td>0.0</td>\n",
       "      <td>0.489042</td>\n",
       "      <td>0.423502</td>\n",
       "      <td>0.263709</td>\n",
       "      <td>0.132883</td>\n",
       "      <td>0.167850</td>\n",
       "    </tr>\n",
       "    <tr>\n",
       "      <th>min</th>\n",
       "      <td>0.000000</td>\n",
       "      <td>3.000000e+00</td>\n",
       "      <td>0.000000</td>\n",
       "      <td>0.000000</td>\n",
       "      <td>2.000000e+00</td>\n",
       "      <td>0.000000</td>\n",
       "      <td>0.000000</td>\n",
       "      <td>0.000000</td>\n",
       "      <td>0.0</td>\n",
       "      <td>0.000000</td>\n",
       "      <td>0.000000</td>\n",
       "      <td>0.000000</td>\n",
       "      <td>0.000000</td>\n",
       "      <td>0.000000</td>\n",
       "    </tr>\n",
       "    <tr>\n",
       "      <th>25%</th>\n",
       "      <td>3.750000</td>\n",
       "      <td>3.170000e+02</td>\n",
       "      <td>13.000000</td>\n",
       "      <td>16.000000</td>\n",
       "      <td>2.970000e+02</td>\n",
       "      <td>1.000000</td>\n",
       "      <td>0.000000</td>\n",
       "      <td>0.000000</td>\n",
       "      <td>0.0</td>\n",
       "      <td>0.000000</td>\n",
       "      <td>0.000000</td>\n",
       "      <td>0.000000</td>\n",
       "      <td>0.000000</td>\n",
       "      <td>0.000000</td>\n",
       "    </tr>\n",
       "    <tr>\n",
       "      <th>50%</th>\n",
       "      <td>4.375000</td>\n",
       "      <td>5.165000e+02</td>\n",
       "      <td>28.000000</td>\n",
       "      <td>29.000000</td>\n",
       "      <td>6.425000e+02</td>\n",
       "      <td>1.000000</td>\n",
       "      <td>0.000000</td>\n",
       "      <td>0.000000</td>\n",
       "      <td>0.0</td>\n",
       "      <td>0.000000</td>\n",
       "      <td>0.000000</td>\n",
       "      <td>0.000000</td>\n",
       "      <td>0.000000</td>\n",
       "      <td>0.000000</td>\n",
       "    </tr>\n",
       "    <tr>\n",
       "      <th>75%</th>\n",
       "      <td>4.375000</td>\n",
       "      <td>8.100000e+02</td>\n",
       "      <td>48.000000</td>\n",
       "      <td>50.000000</td>\n",
       "      <td>1.137750e+03</td>\n",
       "      <td>1.000000</td>\n",
       "      <td>1.000000</td>\n",
       "      <td>0.000000</td>\n",
       "      <td>0.0</td>\n",
       "      <td>1.000000</td>\n",
       "      <td>0.000000</td>\n",
       "      <td>0.000000</td>\n",
       "      <td>0.000000</td>\n",
       "      <td>0.000000</td>\n",
       "    </tr>\n",
       "    <tr>\n",
       "      <th>max</th>\n",
       "      <td>5.000000</td>\n",
       "      <td>4.157357e+06</td>\n",
       "      <td>236489.000000</td>\n",
       "      <td>221495.000000</td>\n",
       "      <td>3.134853e+06</td>\n",
       "      <td>1.000000</td>\n",
       "      <td>1.000000</td>\n",
       "      <td>1.000000</td>\n",
       "      <td>0.0</td>\n",
       "      <td>1.000000</td>\n",
       "      <td>1.000000</td>\n",
       "      <td>1.000000</td>\n",
       "      <td>1.000000</td>\n",
       "      <td>1.000000</td>\n",
       "    </tr>\n",
       "  </tbody>\n",
       "</table>\n",
       "</div>"
      ],
      "text/plain": [
       "            rating      calories        protein            fat        sodium  \\\n",
       "count  2448.000000  2.448000e+03    2448.000000    2448.000000  2.448000e+03   \n",
       "mean      3.921569  4.104272e+03     234.106618     225.220997  3.654572e+03   \n",
       "std       1.155744  1.187899e+05    6757.324849    6329.069028  8.960562e+04   \n",
       "min       0.000000  3.000000e+00       0.000000       0.000000  2.000000e+00   \n",
       "25%       3.750000  3.170000e+02      13.000000      16.000000  2.970000e+02   \n",
       "50%       4.375000  5.165000e+02      28.000000      29.000000  6.425000e+02   \n",
       "75%       4.375000  8.100000e+02      48.000000      50.000000  1.137750e+03   \n",
       "max       5.000000  4.157357e+06  236489.000000  221495.000000  3.134853e+06   \n",
       "\n",
       "            dinner        lunch      dessert   drink   dairy free  \\\n",
       "count  2448.000000  2448.000000  2448.000000  2448.0  2448.000000   \n",
       "mean      0.775327     0.383170     0.003676     0.0     0.395425   \n",
       "std       0.417452     0.486258     0.060535     0.0     0.489042   \n",
       "min       0.000000     0.000000     0.000000     0.0     0.000000   \n",
       "25%       1.000000     0.000000     0.000000     0.0     0.000000   \n",
       "50%       1.000000     0.000000     0.000000     0.0     0.000000   \n",
       "75%       1.000000     1.000000     0.000000     0.0     1.000000   \n",
       "max       1.000000     1.000000     1.000000     0.0     1.000000   \n",
       "\n",
       "        vegetarian      seafood     low carb  low cholesterol  \n",
       "count  2448.000000  2448.000000  2448.000000      2448.000000  \n",
       "mean      0.234069     0.075163     0.017974         0.029003  \n",
       "std       0.423502     0.263709     0.132883         0.167850  \n",
       "min       0.000000     0.000000     0.000000         0.000000  \n",
       "25%       0.000000     0.000000     0.000000         0.000000  \n",
       "50%       0.000000     0.000000     0.000000         0.000000  \n",
       "75%       0.000000     0.000000     0.000000         0.000000  \n",
       "max       1.000000     1.000000     1.000000         1.000000  "
      ]
     },
     "execution_count": 11,
     "metadata": {},
     "output_type": "execute_result"
    }
   ],
   "source": [
    "data_lunch_or_dinner.describe()"
   ]
  },
  {
   "cell_type": "markdown",
   "id": "6e147276",
   "metadata": {},
   "source": [
    "## Univariate analysis"
   ]
  },
  {
   "cell_type": "code",
   "execution_count": 12,
   "id": "6c8d6638",
   "metadata": {
    "ExecuteTime": {
     "end_time": "2022-08-09T18:49:32.364264Z",
     "start_time": "2022-08-09T18:49:30.906116Z"
    }
   },
   "outputs": [
    {
     "data": {
      "image/png": "[encoded data removed]",
      "text/plain": [
       "<Figure size 1800x1080 with 16 Axes>"
      ]
     },
     "metadata": {
      "needs_background": "light"
     },
     "output_type": "display_data"
    }
   ],
   "source": [
    "data_lunch_or_dinner.hist(bins=10, figsize=(25,15))\n",
    "plt.show()"
   ]
  },
  {
   "cell_type": "code",
   "execution_count": 13,
   "id": "7306c76b",
   "metadata": {
    "ExecuteTime": {
     "end_time": "2022-08-09T18:49:32.379225Z",
     "start_time": "2022-08-09T18:49:32.367261Z"
    }
   },
   "outputs": [
    {
     "name": "stdout",
     "output_type": "stream",
     "text": [
      "29.0 225.22099673202615 221495.0\n",
      "28.0 234.1066176470588 236489.0\n",
      "642.5 3654.5723039215686 3134853.0\n",
      "0.0 0.003676470588235294 1.0\n"
     ]
    }
   ],
   "source": [
    "print(data_lunch_or_dinner.fat.median(), data_lunch_or_dinner.fat.mean(), max(data_lunch_or_dinner.fat))\n",
    "print(data_lunch_or_dinner.protein.median(), data_lunch_or_dinner.protein.mean(), max(data_lunch_or_dinner.protein))\n",
    "print(data_lunch_or_dinner.sodium.median(), data_lunch_or_dinner.sodium.mean(), max(data_lunch_or_dinner.sodium))\n",
    "print(data_lunch_or_dinner.dessert.median(), data_lunch_or_dinner.dessert.mean(), max(data_lunch_or_dinner.dessert))"
   ]
  },
  {
   "cell_type": "code",
   "execution_count": 14,
   "id": "ab22953e",
   "metadata": {
    "ExecuteTime": {
     "end_time": "2022-08-09T18:49:32.410141Z",
     "start_time": "2022-08-09T18:49:32.381219Z"
    }
   },
   "outputs": [],
   "source": [
    "df = data_lunch_or_dinner[(data_lunch_or_dinner['fat']<=400)\n",
    "                          &(data_lunch_or_dinner['protein']<=300)\n",
    "                          &(data_lunch_or_dinner['sodium']<=2000)\n",
    "                          &(data_lunch_or_dinner['dessert']==0.0)]"
   ]
  },
  {
   "cell_type": "code",
   "execution_count": 15,
   "id": "4c5505aa",
   "metadata": {
    "ExecuteTime": {
     "end_time": "2022-08-09T18:49:32.425102Z",
     "start_time": "2022-08-09T18:49:32.412136Z"
    }
   },
   "outputs": [
    {
     "data": {
      "text/plain": [
       "(2188, 15)"
      ]
     },
     "execution_count": 15,
     "metadata": {},
     "output_type": "execute_result"
    }
   ],
   "source": [
    "df.shape"
   ]
  },
  {
   "cell_type": "code",
   "execution_count": 16,
   "id": "0495a4a7",
   "metadata": {
    "ExecuteTime": {
     "end_time": "2022-08-09T18:49:32.441060Z",
     "start_time": "2022-08-09T18:49:32.428094Z"
    }
   },
   "outputs": [
    {
     "name": "stdout",
     "output_type": "stream",
     "text": [
      "26.0 36.40219378427788 310.0\n",
      "25.0 32.217550274223036 267.0\n",
      "557.5 657.0749542961609 2000.0\n",
      "0.0 0.0 0.0\n"
     ]
    }
   ],
   "source": [
    "print(df.fat.median(), df.fat.mean(), max(df.fat))\n",
    "print(df.protein.median(), df.protein.mean(), max(df.protein))\n",
    "print(df.sodium.median(), df.sodium.mean(), max(df.sodium))\n",
    "print(df.dessert.median(), df.dessert.mean(), max(df.dessert))"
   ]
  },
  {
   "cell_type": "code",
   "execution_count": 17,
   "id": "67c05280",
   "metadata": {
    "ExecuteTime": {
     "end_time": "2022-08-09T18:49:32.471976Z",
     "start_time": "2022-08-09T18:49:32.446053Z"
    }
   },
   "outputs": [
    {
     "data": {
      "text/html": [
       "<div>\n",
       "<style scoped>\n",
       "    .dataframe tbody tr th:only-of-type {\n",
       "        vertical-align: middle;\n",
       "    }\n",
       "\n",
       "    .dataframe tbody tr th {\n",
       "        vertical-align: top;\n",
       "    }\n",
       "\n",
       "    .dataframe thead th {\n",
       "        text-align: right;\n",
       "    }\n",
       "</style>\n",
       "<table border=\"1\" class=\"dataframe\">\n",
       "  <thead>\n",
       "    <tr style=\"text-align: right;\">\n",
       "      <th></th>\n",
       "      <th>title</th>\n",
       "      <th>rating</th>\n",
       "      <th>calories</th>\n",
       "      <th>protein</th>\n",
       "      <th>fat</th>\n",
       "      <th>sodium</th>\n",
       "      <th>dinner</th>\n",
       "      <th>lunch</th>\n",
       "      <th>dessert</th>\n",
       "      <th>drink</th>\n",
       "      <th>dairy free</th>\n",
       "      <th>vegetarian</th>\n",
       "      <th>seafood</th>\n",
       "      <th>low carb</th>\n",
       "      <th>low cholesterol</th>\n",
       "    </tr>\n",
       "  </thead>\n",
       "  <tbody>\n",
       "    <tr>\n",
       "      <th>9</th>\n",
       "      <td>Ham Persillade with Mustard Potato Salad and M...</td>\n",
       "      <td>3.750</td>\n",
       "      <td>602.0</td>\n",
       "      <td>23.0</td>\n",
       "      <td>41.0</td>\n",
       "      <td>1696.0</td>\n",
       "      <td>0.0</td>\n",
       "      <td>1.0</td>\n",
       "      <td>0.0</td>\n",
       "      <td>0.0</td>\n",
       "      <td>1.0</td>\n",
       "      <td>0.0</td>\n",
       "      <td>0.0</td>\n",
       "      <td>0.0</td>\n",
       "      <td>0.0</td>\n",
       "    </tr>\n",
       "    <tr>\n",
       "      <th>19</th>\n",
       "      <td>Tuna, Asparagus, and New Potato Salad with Chi...</td>\n",
       "      <td>5.000</td>\n",
       "      <td>421.0</td>\n",
       "      <td>10.0</td>\n",
       "      <td>33.0</td>\n",
       "      <td>383.0</td>\n",
       "      <td>0.0</td>\n",
       "      <td>1.0</td>\n",
       "      <td>0.0</td>\n",
       "      <td>0.0</td>\n",
       "      <td>1.0</td>\n",
       "      <td>0.0</td>\n",
       "      <td>0.0</td>\n",
       "      <td>0.0</td>\n",
       "      <td>0.0</td>\n",
       "    </tr>\n",
       "    <tr>\n",
       "      <th>26</th>\n",
       "      <td>Cucumber-Basil Egg Salad</td>\n",
       "      <td>3.750</td>\n",
       "      <td>215.0</td>\n",
       "      <td>6.0</td>\n",
       "      <td>20.0</td>\n",
       "      <td>250.0</td>\n",
       "      <td>1.0</td>\n",
       "      <td>1.0</td>\n",
       "      <td>0.0</td>\n",
       "      <td>0.0</td>\n",
       "      <td>1.0</td>\n",
       "      <td>1.0</td>\n",
       "      <td>0.0</td>\n",
       "      <td>0.0</td>\n",
       "      <td>0.0</td>\n",
       "    </tr>\n",
       "    <tr>\n",
       "      <th>35</th>\n",
       "      <td>Aztec Chicken</td>\n",
       "      <td>3.750</td>\n",
       "      <td>625.0</td>\n",
       "      <td>39.0</td>\n",
       "      <td>44.0</td>\n",
       "      <td>1248.0</td>\n",
       "      <td>1.0</td>\n",
       "      <td>0.0</td>\n",
       "      <td>0.0</td>\n",
       "      <td>0.0</td>\n",
       "      <td>0.0</td>\n",
       "      <td>0.0</td>\n",
       "      <td>0.0</td>\n",
       "      <td>0.0</td>\n",
       "      <td>0.0</td>\n",
       "    </tr>\n",
       "    <tr>\n",
       "      <th>50</th>\n",
       "      <td>Mexican Chile and Mushroom Soup</td>\n",
       "      <td>3.125</td>\n",
       "      <td>166.0</td>\n",
       "      <td>8.0</td>\n",
       "      <td>12.0</td>\n",
       "      <td>508.0</td>\n",
       "      <td>0.0</td>\n",
       "      <td>1.0</td>\n",
       "      <td>0.0</td>\n",
       "      <td>0.0</td>\n",
       "      <td>1.0</td>\n",
       "      <td>0.0</td>\n",
       "      <td>0.0</td>\n",
       "      <td>0.0</td>\n",
       "      <td>0.0</td>\n",
       "    </tr>\n",
       "  </tbody>\n",
       "</table>\n",
       "</div>"
      ],
      "text/plain": [
       "                                                title  rating  calories  \\\n",
       "9   Ham Persillade with Mustard Potato Salad and M...   3.750     602.0   \n",
       "19  Tuna, Asparagus, and New Potato Salad with Chi...   5.000     421.0   \n",
       "26                          Cucumber-Basil Egg Salad    3.750     215.0   \n",
       "35                                     Aztec Chicken    3.750     625.0   \n",
       "50                   Mexican Chile and Mushroom Soup    3.125     166.0   \n",
       "\n",
       "    protein   fat  sodium  dinner  lunch  dessert  drink  dairy free  \\\n",
       "9      23.0  41.0  1696.0     0.0    1.0      0.0    0.0         1.0   \n",
       "19     10.0  33.0   383.0     0.0    1.0      0.0    0.0         1.0   \n",
       "26      6.0  20.0   250.0     1.0    1.0      0.0    0.0         1.0   \n",
       "35     39.0  44.0  1248.0     1.0    0.0      0.0    0.0         0.0   \n",
       "50      8.0  12.0   508.0     0.0    1.0      0.0    0.0         1.0   \n",
       "\n",
       "    vegetarian  seafood  low carb  low cholesterol  \n",
       "9          0.0      0.0       0.0              0.0  \n",
       "19         0.0      0.0       0.0              0.0  \n",
       "26         1.0      0.0       0.0              0.0  \n",
       "35         0.0      0.0       0.0              0.0  \n",
       "50         0.0      0.0       0.0              0.0  "
      ]
     },
     "execution_count": 17,
     "metadata": {},
     "output_type": "execute_result"
    }
   ],
   "source": [
    "df.head()"
   ]
  },
  {
   "cell_type": "code",
   "execution_count": 18,
   "id": "54e09d62",
   "metadata": {
    "ExecuteTime": {
     "end_time": "2022-08-09T18:49:33.006728Z",
     "start_time": "2022-08-09T18:49:32.473972Z"
    }
   },
   "outputs": [
    {
     "name": "stderr",
     "output_type": "stream",
     "text": [
      "C:\\Users\\merli\\AppData\\Local\\Temp\\ipykernel_12472\\2344354111.py:1: SettingWithCopyWarning: \n",
      "A value is trying to be set on a copy of a slice from a DataFrame\n",
      "\n",
      "See the caveats in the documentation: https://pandas.pydata.org/pandas-docs/stable/user_guide/indexing.html#returning-a-view-versus-a-copy\n",
      "  df.drop(['drink', 'dessert', 'title'], axis=1, inplace=True)\n"
     ]
    }
   ],
   "source": [
    "df.drop(['drink', 'dessert', 'title'], axis=1, inplace=True)"
   ]
  },
  {
   "cell_type": "code",
   "execution_count": 19,
   "id": "081974b7",
   "metadata": {
    "ExecuteTime": {
     "end_time": "2022-08-09T18:49:33.037610Z",
     "start_time": "2022-08-09T18:49:33.009675Z"
    }
   },
   "outputs": [
    {
     "data": {
      "text/html": [
       "<div>\n",
       "<style scoped>\n",
       "    .dataframe tbody tr th:only-of-type {\n",
       "        vertical-align: middle;\n",
       "    }\n",
       "\n",
       "    .dataframe tbody tr th {\n",
       "        vertical-align: top;\n",
       "    }\n",
       "\n",
       "    .dataframe thead th {\n",
       "        text-align: right;\n",
       "    }\n",
       "</style>\n",
       "<table border=\"1\" class=\"dataframe\">\n",
       "  <thead>\n",
       "    <tr style=\"text-align: right;\">\n",
       "      <th></th>\n",
       "      <th>rating</th>\n",
       "      <th>calories</th>\n",
       "      <th>protein</th>\n",
       "      <th>fat</th>\n",
       "      <th>sodium</th>\n",
       "      <th>dinner</th>\n",
       "      <th>lunch</th>\n",
       "      <th>dairy free</th>\n",
       "      <th>vegetarian</th>\n",
       "      <th>seafood</th>\n",
       "      <th>low carb</th>\n",
       "      <th>low cholesterol</th>\n",
       "    </tr>\n",
       "  </thead>\n",
       "  <tbody>\n",
       "    <tr>\n",
       "      <th>9</th>\n",
       "      <td>3.750</td>\n",
       "      <td>602.0</td>\n",
       "      <td>23.0</td>\n",
       "      <td>41.0</td>\n",
       "      <td>1696.0</td>\n",
       "      <td>0.0</td>\n",
       "      <td>1.0</td>\n",
       "      <td>1.0</td>\n",
       "      <td>0.0</td>\n",
       "      <td>0.0</td>\n",
       "      <td>0.0</td>\n",
       "      <td>0.0</td>\n",
       "    </tr>\n",
       "    <tr>\n",
       "      <th>19</th>\n",
       "      <td>5.000</td>\n",
       "      <td>421.0</td>\n",
       "      <td>10.0</td>\n",
       "      <td>33.0</td>\n",
       "      <td>383.0</td>\n",
       "      <td>0.0</td>\n",
       "      <td>1.0</td>\n",
       "      <td>1.0</td>\n",
       "      <td>0.0</td>\n",
       "      <td>0.0</td>\n",
       "      <td>0.0</td>\n",
       "      <td>0.0</td>\n",
       "    </tr>\n",
       "    <tr>\n",
       "      <th>26</th>\n",
       "      <td>3.750</td>\n",
       "      <td>215.0</td>\n",
       "      <td>6.0</td>\n",
       "      <td>20.0</td>\n",
       "      <td>250.0</td>\n",
       "      <td>1.0</td>\n",
       "      <td>1.0</td>\n",
       "      <td>1.0</td>\n",
       "      <td>1.0</td>\n",
       "      <td>0.0</td>\n",
       "      <td>0.0</td>\n",
       "      <td>0.0</td>\n",
       "    </tr>\n",
       "    <tr>\n",
       "      <th>35</th>\n",
       "      <td>3.750</td>\n",
       "      <td>625.0</td>\n",
       "      <td>39.0</td>\n",
       "      <td>44.0</td>\n",
       "      <td>1248.0</td>\n",
       "      <td>1.0</td>\n",
       "      <td>0.0</td>\n",
       "      <td>0.0</td>\n",
       "      <td>0.0</td>\n",
       "      <td>0.0</td>\n",
       "      <td>0.0</td>\n",
       "      <td>0.0</td>\n",
       "    </tr>\n",
       "    <tr>\n",
       "      <th>50</th>\n",
       "      <td>3.125</td>\n",
       "      <td>166.0</td>\n",
       "      <td>8.0</td>\n",
       "      <td>12.0</td>\n",
       "      <td>508.0</td>\n",
       "      <td>0.0</td>\n",
       "      <td>1.0</td>\n",
       "      <td>1.0</td>\n",
       "      <td>0.0</td>\n",
       "      <td>0.0</td>\n",
       "      <td>0.0</td>\n",
       "      <td>0.0</td>\n",
       "    </tr>\n",
       "    <tr>\n",
       "      <th>...</th>\n",
       "      <td>...</td>\n",
       "      <td>...</td>\n",
       "      <td>...</td>\n",
       "      <td>...</td>\n",
       "      <td>...</td>\n",
       "      <td>...</td>\n",
       "      <td>...</td>\n",
       "      <td>...</td>\n",
       "      <td>...</td>\n",
       "      <td>...</td>\n",
       "      <td>...</td>\n",
       "      <td>...</td>\n",
       "    </tr>\n",
       "    <tr>\n",
       "      <th>20021</th>\n",
       "      <td>5.000</td>\n",
       "      <td>772.0</td>\n",
       "      <td>53.0</td>\n",
       "      <td>32.0</td>\n",
       "      <td>1467.0</td>\n",
       "      <td>1.0</td>\n",
       "      <td>0.0</td>\n",
       "      <td>0.0</td>\n",
       "      <td>0.0</td>\n",
       "      <td>0.0</td>\n",
       "      <td>0.0</td>\n",
       "      <td>0.0</td>\n",
       "    </tr>\n",
       "    <tr>\n",
       "      <th>20023</th>\n",
       "      <td>3.125</td>\n",
       "      <td>293.0</td>\n",
       "      <td>4.0</td>\n",
       "      <td>27.0</td>\n",
       "      <td>647.0</td>\n",
       "      <td>0.0</td>\n",
       "      <td>1.0</td>\n",
       "      <td>1.0</td>\n",
       "      <td>1.0</td>\n",
       "      <td>0.0</td>\n",
       "      <td>0.0</td>\n",
       "      <td>0.0</td>\n",
       "    </tr>\n",
       "    <tr>\n",
       "      <th>20041</th>\n",
       "      <td>2.500</td>\n",
       "      <td>843.0</td>\n",
       "      <td>59.0</td>\n",
       "      <td>59.0</td>\n",
       "      <td>351.0</td>\n",
       "      <td>1.0</td>\n",
       "      <td>0.0</td>\n",
       "      <td>0.0</td>\n",
       "      <td>0.0</td>\n",
       "      <td>0.0</td>\n",
       "      <td>0.0</td>\n",
       "      <td>0.0</td>\n",
       "    </tr>\n",
       "    <tr>\n",
       "      <th>20048</th>\n",
       "      <td>4.375</td>\n",
       "      <td>671.0</td>\n",
       "      <td>22.0</td>\n",
       "      <td>28.0</td>\n",
       "      <td>583.0</td>\n",
       "      <td>1.0</td>\n",
       "      <td>0.0</td>\n",
       "      <td>0.0</td>\n",
       "      <td>0.0</td>\n",
       "      <td>0.0</td>\n",
       "      <td>0.0</td>\n",
       "      <td>0.0</td>\n",
       "    </tr>\n",
       "    <tr>\n",
       "      <th>20049</th>\n",
       "      <td>4.375</td>\n",
       "      <td>563.0</td>\n",
       "      <td>31.0</td>\n",
       "      <td>38.0</td>\n",
       "      <td>652.0</td>\n",
       "      <td>1.0</td>\n",
       "      <td>0.0</td>\n",
       "      <td>0.0</td>\n",
       "      <td>0.0</td>\n",
       "      <td>0.0</td>\n",
       "      <td>0.0</td>\n",
       "      <td>0.0</td>\n",
       "    </tr>\n",
       "  </tbody>\n",
       "</table>\n",
       "<p>2188 rows × 12 columns</p>\n",
       "</div>"
      ],
      "text/plain": [
       "       rating  calories  protein   fat  sodium  dinner  lunch  dairy free  \\\n",
       "9       3.750     602.0     23.0  41.0  1696.0     0.0    1.0         1.0   \n",
       "19      5.000     421.0     10.0  33.0   383.0     0.0    1.0         1.0   \n",
       "26      3.750     215.0      6.0  20.0   250.0     1.0    1.0         1.0   \n",
       "35      3.750     625.0     39.0  44.0  1248.0     1.0    0.0         0.0   \n",
       "50      3.125     166.0      8.0  12.0   508.0     0.0    1.0         1.0   \n",
       "...       ...       ...      ...   ...     ...     ...    ...         ...   \n",
       "20021   5.000     772.0     53.0  32.0  1467.0     1.0    0.0         0.0   \n",
       "20023   3.125     293.0      4.0  27.0   647.0     0.0    1.0         1.0   \n",
       "20041   2.500     843.0     59.0  59.0   351.0     1.0    0.0         0.0   \n",
       "20048   4.375     671.0     22.0  28.0   583.0     1.0    0.0         0.0   \n",
       "20049   4.375     563.0     31.0  38.0   652.0     1.0    0.0         0.0   \n",
       "\n",
       "       vegetarian  seafood  low carb  low cholesterol  \n",
       "9             0.0      0.0       0.0              0.0  \n",
       "19            0.0      0.0       0.0              0.0  \n",
       "26            1.0      0.0       0.0              0.0  \n",
       "35            0.0      0.0       0.0              0.0  \n",
       "50            0.0      0.0       0.0              0.0  \n",
       "...           ...      ...       ...              ...  \n",
       "20021         0.0      0.0       0.0              0.0  \n",
       "20023         1.0      0.0       0.0              0.0  \n",
       "20041         0.0      0.0       0.0              0.0  \n",
       "20048         0.0      0.0       0.0              0.0  \n",
       "20049         0.0      0.0       0.0              0.0  \n",
       "\n",
       "[2188 rows x 12 columns]"
      ]
     },
     "execution_count": 19,
     "metadata": {},
     "output_type": "execute_result"
    }
   ],
   "source": [
    "df"
   ]
  },
  {
   "cell_type": "code",
   "execution_count": 20,
   "id": "a8a4f7b5",
   "metadata": {
    "ExecuteTime": {
     "end_time": "2022-08-09T18:49:34.437725Z",
     "start_time": "2022-08-09T18:49:33.040590Z"
    }
   },
   "outputs": [
    {
     "data": {
      "image/png": "[encoded data removed]",
      "text/plain": [
       "<Figure size 432x288 with 1 Axes>"
      ]
     },
     "metadata": {
      "needs_background": "light"
     },
     "output_type": "display_data"
    },
    {
     "data": {
      "image/png": "[encoded data removed]",
      "text/plain": [
       "<Figure size 432x288 with 1 Axes>"
      ]
     },
     "metadata": {
      "needs_background": "light"
     },
     "output_type": "display_data"
    },
    {
     "data": {
      "image/png": "[encoded data removed]",
      "text/plain": [
       "<Figure size 432x288 with 1 Axes>"
      ]
     },
     "metadata": {
      "needs_background": "light"
     },
     "output_type": "display_data"
    },
    {
     "data": {
      "image/png": "[encoded data removed]",
      "text/plain": [
       "<Figure size 432x288 with 1 Axes>"
      ]
     },
     "metadata": {
      "needs_background": "light"
     },
     "output_type": "display_data"
    },
    {
     "data": {
      "image/png": "[encoded data removed]",
      "text/plain": [
       "<Figure size 432x288 with 1 Axes>"
      ]
     },
     "metadata": {
      "needs_background": "light"
     },
     "output_type": "display_data"
    },
    {
     "data": {
      "image/png": "[encoded data removed]",
      "text/plain": [
       "<Figure size 432x288 with 1 Axes>"
      ]
     },
     "metadata": {
      "needs_background": "light"
     },
     "output_type": "display_data"
    },
    {
     "data": {
      "image/png": "[encoded data removed]",
      "text/plain": [
       "<Figure size 432x288 with 1 Axes>"
      ]
     },
     "metadata": {
      "needs_background": "light"
     },
     "output_type": "display_data"
    },
    {
     "data": {
      "image/png": "[encoded data removed]",
      "text/plain": [
       "<Figure size 432x288 with 1 Axes>"
      ]
     },
     "metadata": {
      "needs_background": "light"
     },
     "output_type": "display_data"
    },
    {
     "data": {
      "image/png": "[encoded data removed]",
      "text/plain": [
       "<Figure size 432x288 with 1 Axes>"
      ]
     },
     "metadata": {
      "needs_background": "light"
     },
     "output_type": "display_data"
    },
    {
     "data": {
      "image/png": "[encoded data removed]",
      "text/plain": [
       "<Figure size 432x288 with 1 Axes>"
      ]
     },
     "metadata": {
      "needs_background": "light"
     },
     "output_type": "display_data"
    },
    {
     "data": {
      "image/png": "[encoded data removed]",
      "text/plain": [
       "<Figure size 432x288 with 1 Axes>"
      ]
     },
     "metadata": {
      "needs_background": "light"
     },
     "output_type": "display_data"
    },
    {
     "data": {
      "image/png": "[encoded data removed]",
      "text/plain": [
       "<Figure size 432x288 with 1 Axes>"
      ]
     },
     "metadata": {
      "needs_background": "light"
     },
     "output_type": "display_data"
    }
   ],
   "source": [
    "for i, col in enumerate(df.columns):\n",
    "    plt.scatter(df[col], df['calories'])\n",
    "    plt.xlabel(str(col))\n",
    "    plt.ylabel('calories')\n",
    "    plt.show()"
   ]
  },
  {
   "cell_type": "markdown",
   "id": "edcf16ac",
   "metadata": {},
   "source": [
    "## Multivariate analysis"
   ]
  },
  {
   "cell_type": "code",
   "execution_count": 21,
   "id": "5df8e0a0",
   "metadata": {
    "ExecuteTime": {
     "end_time": "2022-08-09T18:49:35.146992Z",
     "start_time": "2022-08-09T18:49:34.439492Z"
    }
   },
   "outputs": [
    {
     "data": {
      "text/plain": [
       "<AxesSubplot:>"
      ]
     },
     "execution_count": 21,
     "metadata": {},
     "output_type": "execute_result"
    },
    {
     "data": {
      "image/png": "[encoded data removed]",
      "text/plain": [
       "<Figure size 1080x1080 with 2 Axes>"
      ]
     },
     "metadata": {
      "needs_background": "light"
     },
     "output_type": "display_data"
    }
   ],
   "source": [
    "fig, ax = plt.subplots(figsize=(15,15))\n",
    "corr = df.corr()\n",
    "sns.heatmap(corr,cmap='Blues', annot=True, ax=ax)"
   ]
  },
  {
   "cell_type": "code",
   "execution_count": 22,
   "id": "f5ed0493",
   "metadata": {
    "ExecuteTime": {
     "end_time": "2022-08-09T18:49:35.162183Z",
     "start_time": "2022-08-09T18:49:35.148955Z"
    }
   },
   "outputs": [],
   "source": [
    "X = df.drop(['calories', 'lunch', 'dinner'], axis=1)\n",
    "y = df['calories']"
   ]
  },
  {
   "cell_type": "code",
   "execution_count": 23,
   "id": "db489555",
   "metadata": {
    "ExecuteTime": {
     "end_time": "2022-08-09T18:49:35.177135Z",
     "start_time": "2022-08-09T18:49:35.164181Z"
    }
   },
   "outputs": [],
   "source": [
    "X_train, X_test, y_train, y_test = train_test_split(X, y, test_size=0.3, random_state=42)"
   ]
  },
  {
   "cell_type": "code",
   "execution_count": 24,
   "id": "d970faca",
   "metadata": {
    "ExecuteTime": {
     "end_time": "2022-08-09T18:49:35.193142Z",
     "start_time": "2022-08-09T18:49:35.178995Z"
    }
   },
   "outputs": [
    {
     "data": {
      "text/html": [
       "<style>#sk-container-id-1 {color: black;background-color: white;}#sk-container-id-1 pre{padding: 0;}#sk-container-id-1 div.sk-toggleable {background-color: white;}#sk-container-id-1 label.sk-toggleable__label {cursor: pointer;display: block;width: 100%;margin-bottom: 0;padding: 0.3em;box-sizing: border-box;text-align: center;}#sk-container-id-1 label.sk-toggleable__label-arrow:before {content: \"▸\";float: left;margin-right: 0.25em;color: #696969;}#sk-container-id-1 label.sk-toggleable__label-arrow:hover:before {color: black;}#sk-container-id-1 div.sk-estimator:hover label.sk-toggleable__label-arrow:before {color: black;}#sk-container-id-1 div.sk-toggleable__content {max-height: 0;max-width: 0;overflow: hidden;text-align: left;background-color: #f0f8ff;}#sk-container-id-1 div.sk-toggleable__content pre {margin: 0.2em;color: black;border-radius: 0.25em;background-color: #f0f8ff;}#sk-container-id-1 input.sk-toggleable__control:checked~div.sk-toggleable__content {max-height: 200px;max-width: 100%;overflow: auto;}#sk-container-id-1 input.sk-toggleable__control:checked~label.sk-toggleable__label-arrow:before {content: \"▾\";}#sk-container-id-1 div.sk-estimator input.sk-toggleable__control:checked~label.sk-toggleable__label {background-color: #d4ebff;}#sk-container-id-1 div.sk-label input.sk-toggleable__control:checked~label.sk-toggleable__label {background-color: #d4ebff;}#sk-container-id-1 input.sk-hidden--visually {border: 0;clip: rect(1px 1px 1px 1px);clip: rect(1px, 1px, 1px, 1px);height: 1px;margin: -1px;overflow: hidden;padding: 0;position: absolute;width: 1px;}#sk-container-id-1 div.sk-estimator {font-family: monospace;background-color: #f0f8ff;border: 1px dotted black;border-radius: 0.25em;box-sizing: border-box;margin-bottom: 0.5em;}#sk-container-id-1 div.sk-estimator:hover {background-color: #d4ebff;}#sk-container-id-1 div.sk-parallel-item::after {content: \"\";width: 100%;border-bottom: 1px solid gray;flex-grow: 1;}#sk-container-id-1 div.sk-label:hover label.sk-toggleable__label {background-color: #d4ebff;}#sk-container-id-1 div.sk-serial::before {content: \"\";position: absolute;border-left: 1px solid gray;box-sizing: border-box;top: 0;bottom: 0;left: 50%;z-index: 0;}#sk-container-id-1 div.sk-serial {display: flex;flex-direction: column;align-items: center;background-color: white;padding-right: 0.2em;padding-left: 0.2em;position: relative;}#sk-container-id-1 div.sk-item {position: relative;z-index: 1;}#sk-container-id-1 div.sk-parallel {display: flex;align-items: stretch;justify-content: center;background-color: white;position: relative;}#sk-container-id-1 div.sk-item::before, #sk-container-id-1 div.sk-parallel-item::before {content: \"\";position: absolute;border-left: 1px solid gray;box-sizing: border-box;top: 0;bottom: 0;left: 50%;z-index: -1;}#sk-container-id-1 div.sk-parallel-item {display: flex;flex-direction: column;z-index: 1;position: relative;background-color: white;}#sk-container-id-1 div.sk-parallel-item:first-child::after {align-self: flex-end;width: 50%;}#sk-container-id-1 div.sk-parallel-item:last-child::after {align-self: flex-start;width: 50%;}#sk-container-id-1 div.sk-parallel-item:only-child::after {width: 0;}#sk-container-id-1 div.sk-dashed-wrapped {border: 1px dashed gray;margin: 0 0.4em 0.5em 0.4em;box-sizing: border-box;padding-bottom: 0.4em;background-color: white;}#sk-container-id-1 div.sk-label label {font-family: monospace;font-weight: bold;display: inline-block;line-height: 1.2em;}#sk-container-id-1 div.sk-label-container {text-align: center;}#sk-container-id-1 div.sk-container {/* jupyter's `normalize.less` sets `[hidden] { display: none; }` but bootstrap.min.css set `[hidden] { display: none !important; }` so we also need the `!important` here to be able to override the default hidden behavior on the sphinx rendered scikit-learn.org. See: https://github.com/scikit-learn/scikit-learn/issues/21755 */display: inline-block !important;position: relative;}#sk-container-id-1 div.sk-text-repr-fallback {display: none;}</style><div id=\"sk-container-id-1\" class=\"sk-top-container\"><div class=\"sk-text-repr-fallback\"><pre>LinearRegression()</pre><b>In a Jupyter environment, please rerun this cell to show the HTML representation or trust the notebook. <br />On GitHub, the HTML representation is unable to render, please try loading this page with nbviewer.org.</b></div><div class=\"sk-container\" hidden><div class=\"sk-item\"><div class=\"sk-estimator sk-toggleable\"><input class=\"sk-toggleable__control sk-hidden--visually\" id=\"sk-estimator-id-1\" type=\"checkbox\" checked><label for=\"sk-estimator-id-1\" class=\"sk-toggleable__label sk-toggleable__label-arrow\">LinearRegression</label><div class=\"sk-toggleable__content\"><pre>LinearRegression()</pre></div></div></div></div></div>"
      ],
      "text/plain": [
       "LinearRegression()"
      ]
     },
     "execution_count": 24,
     "metadata": {},
     "output_type": "execute_result"
    }
   ],
   "source": [
    "reg1 = LinearRegression()\n",
    "reg1.fit(X_train, y_train)"
   ]
  },
  {
   "cell_type": "code",
   "execution_count": 25,
   "id": "9615cf05",
   "metadata": {
    "ExecuteTime": {
     "end_time": "2022-08-09T18:49:35.208103Z",
     "start_time": "2022-08-09T18:49:35.195138Z"
    }
   },
   "outputs": [
    {
     "name": "stdout",
     "output_type": "stream",
     "text": [
      "0.9197838656111264\n",
      "0.93722958884026\n",
      "122.57398844226599\n",
      "109.39218575966188\n"
     ]
    }
   ],
   "source": [
    "y_pred_train = reg1.predict(X_train)\n",
    "y_pred_test = reg1.predict(X_test)\n",
    "print(r2_score(y_train, y_pred_train))\n",
    "print(r2_score(y_test, y_pred_test))\n",
    "print(mean_squared_error(y_train, y_pred_train, squared=False))\n",
    "print(mean_squared_error(y_test, y_pred_test, squared=False))"
   ]
  },
  {
   "cell_type": "code",
   "execution_count": 26,
   "id": "fd8d2b5e",
   "metadata": {
    "ExecuteTime": {
     "end_time": "2022-08-09T18:49:35.238086Z",
     "start_time": "2022-08-09T18:49:35.211095Z"
    }
   },
   "outputs": [
    {
     "data": {
      "text/html": [
       "<style>#sk-container-id-2 {color: black;background-color: white;}#sk-container-id-2 pre{padding: 0;}#sk-container-id-2 div.sk-toggleable {background-color: white;}#sk-container-id-2 label.sk-toggleable__label {cursor: pointer;display: block;width: 100%;margin-bottom: 0;padding: 0.3em;box-sizing: border-box;text-align: center;}#sk-container-id-2 label.sk-toggleable__label-arrow:before {content: \"▸\";float: left;margin-right: 0.25em;color: #696969;}#sk-container-id-2 label.sk-toggleable__label-arrow:hover:before {color: black;}#sk-container-id-2 div.sk-estimator:hover label.sk-toggleable__label-arrow:before {color: black;}#sk-container-id-2 div.sk-toggleable__content {max-height: 0;max-width: 0;overflow: hidden;text-align: left;background-color: #f0f8ff;}#sk-container-id-2 div.sk-toggleable__content pre {margin: 0.2em;color: black;border-radius: 0.25em;background-color: #f0f8ff;}#sk-container-id-2 input.sk-toggleable__control:checked~div.sk-toggleable__content {max-height: 200px;max-width: 100%;overflow: auto;}#sk-container-id-2 input.sk-toggleable__control:checked~label.sk-toggleable__label-arrow:before {content: \"▾\";}#sk-container-id-2 div.sk-estimator input.sk-toggleable__control:checked~label.sk-toggleable__label {background-color: #d4ebff;}#sk-container-id-2 div.sk-label input.sk-toggleable__control:checked~label.sk-toggleable__label {background-color: #d4ebff;}#sk-container-id-2 input.sk-hidden--visually {border: 0;clip: rect(1px 1px 1px 1px);clip: rect(1px, 1px, 1px, 1px);height: 1px;margin: -1px;overflow: hidden;padding: 0;position: absolute;width: 1px;}#sk-container-id-2 div.sk-estimator {font-family: monospace;background-color: #f0f8ff;border: 1px dotted black;border-radius: 0.25em;box-sizing: border-box;margin-bottom: 0.5em;}#sk-container-id-2 div.sk-estimator:hover {background-color: #d4ebff;}#sk-container-id-2 div.sk-parallel-item::after {content: \"\";width: 100%;border-bottom: 1px solid gray;flex-grow: 1;}#sk-container-id-2 div.sk-label:hover label.sk-toggleable__label {background-color: #d4ebff;}#sk-container-id-2 div.sk-serial::before {content: \"\";position: absolute;border-left: 1px solid gray;box-sizing: border-box;top: 0;bottom: 0;left: 50%;z-index: 0;}#sk-container-id-2 div.sk-serial {display: flex;flex-direction: column;align-items: center;background-color: white;padding-right: 0.2em;padding-left: 0.2em;position: relative;}#sk-container-id-2 div.sk-item {position: relative;z-index: 1;}#sk-container-id-2 div.sk-parallel {display: flex;align-items: stretch;justify-content: center;background-color: white;position: relative;}#sk-container-id-2 div.sk-item::before, #sk-container-id-2 div.sk-parallel-item::before {content: \"\";position: absolute;border-left: 1px solid gray;box-sizing: border-box;top: 0;bottom: 0;left: 50%;z-index: -1;}#sk-container-id-2 div.sk-parallel-item {display: flex;flex-direction: column;z-index: 1;position: relative;background-color: white;}#sk-container-id-2 div.sk-parallel-item:first-child::after {align-self: flex-end;width: 50%;}#sk-container-id-2 div.sk-parallel-item:last-child::after {align-self: flex-start;width: 50%;}#sk-container-id-2 div.sk-parallel-item:only-child::after {width: 0;}#sk-container-id-2 div.sk-dashed-wrapped {border: 1px dashed gray;margin: 0 0.4em 0.5em 0.4em;box-sizing: border-box;padding-bottom: 0.4em;background-color: white;}#sk-container-id-2 div.sk-label label {font-family: monospace;font-weight: bold;display: inline-block;line-height: 1.2em;}#sk-container-id-2 div.sk-label-container {text-align: center;}#sk-container-id-2 div.sk-container {/* jupyter's `normalize.less` sets `[hidden] { display: none; }` but bootstrap.min.css set `[hidden] { display: none !important; }` so we also need the `!important` here to be able to override the default hidden behavior on the sphinx rendered scikit-learn.org. See: https://github.com/scikit-learn/scikit-learn/issues/21755 */display: inline-block !important;position: relative;}#sk-container-id-2 div.sk-text-repr-fallback {display: none;}</style><div id=\"sk-container-id-2\" class=\"sk-top-container\"><div class=\"sk-text-repr-fallback\"><pre>DecisionTreeRegressor(max_depth=10, min_samples_leaf=10)</pre><b>In a Jupyter environment, please rerun this cell to show the HTML representation or trust the notebook. <br />On GitHub, the HTML representation is unable to render, please try loading this page with nbviewer.org.</b></div><div class=\"sk-container\" hidden><div class=\"sk-item\"><div class=\"sk-estimator sk-toggleable\"><input class=\"sk-toggleable__control sk-hidden--visually\" id=\"sk-estimator-id-2\" type=\"checkbox\" checked><label for=\"sk-estimator-id-2\" class=\"sk-toggleable__label sk-toggleable__label-arrow\">DecisionTreeRegressor</label><div class=\"sk-toggleable__content\"><pre>DecisionTreeRegressor(max_depth=10, min_samples_leaf=10)</pre></div></div></div></div></div>"
      ],
      "text/plain": [
       "DecisionTreeRegressor(max_depth=10, min_samples_leaf=10)"
      ]
     },
     "execution_count": 26,
     "metadata": {},
     "output_type": "execute_result"
    }
   ],
   "source": [
    "tree1 = DecisionTreeRegressor(max_depth=10, min_samples_leaf=10)\n",
    "tree1.fit(X_train, y_train)"
   ]
  },
  {
   "cell_type": "code",
   "execution_count": 27,
   "id": "b52f0066",
   "metadata": {
    "ExecuteTime": {
     "end_time": "2022-08-09T18:49:35.254044Z",
     "start_time": "2022-08-09T18:49:35.240082Z"
    }
   },
   "outputs": [
    {
     "name": "stdout",
     "output_type": "stream",
     "text": [
      "0.916540381387451\n",
      "0.908905272800757\n",
      "125.02752985428437\n",
      "131.78179935954057\n"
     ]
    }
   ],
   "source": [
    "y_pred_train = tree1.predict(X_train)\n",
    "y_pred_test = tree1.predict(X_test)\n",
    "print(r2_score(y_train, y_pred_train))\n",
    "print(r2_score(y_test, y_pred_test))\n",
    "print(mean_squared_error(y_train, y_pred_train, squared=False))\n",
    "print(mean_squared_error(y_test, y_pred_test, squared=False))"
   ]
  },
  {
   "cell_type": "markdown",
   "id": "30e6e535",
   "metadata": {},
   "source": [
    "## Model Selection\n",
    "\n",
    "According to the better metrics and clear linear dependencies we have seen on the scatter plots, the final model choice is a Multivariate Linear Regression."
   ]
  },
  {
   "cell_type": "code",
   "execution_count": null,
   "id": "3f51f3f0",
   "metadata": {},
   "outputs": [],
   "source": []
  }
 ],
 "metadata": {
  "kernelspec": {
   "display_name": "Python 3 (ipykernel)",
   "language": "python",
   "name": "python3"
  },
  "language_info": {
   "codemirror_mode": {
    "name": "ipython",
    "version": 3
   },
   "file_extension": ".py",
   "mimetype": "text/x-python",
   "name": "python",
   "nbconvert_exporter": "python",
   "pygments_lexer": "ipython3",
   "version": "3.10.5"
  },
  "toc": {
   "base_numbering": 1,
   "nav_menu": {},
   "number_sections": true,
   "sideBar": true,
   "skip_h1_title": false,
   "title_cell": "Table of Contents",
   "title_sidebar": "Contents",
   "toc_cell": true,
   "toc_position": {},
   "toc_section_display": true,
   "toc_window_display": false
  }
 },
 "nbformat": 4,
 "nbformat_minor": 5
}
