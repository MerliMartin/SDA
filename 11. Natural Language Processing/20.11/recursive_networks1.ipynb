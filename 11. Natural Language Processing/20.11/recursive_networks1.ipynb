{
 "cells": [
  {
   "cell_type": "code",
   "execution_count": 3,
   "metadata": {
    "colab": {
     "base_uri": "https://localhost:8080/",
     "height": 35
    },
    "id": "rqxkVD5maZd5",
    "outputId": "6278aa36-97e8-4c4f-c3ff-9c87105b3847"
   },
   "outputs": [
    {
     "data": {
      "application/vnd.google.colaboratory.intrinsic+json": {
       "type": "string"
      },
      "text/plain": [
       "'2.8.0'"
      ]
     },
     "execution_count": 3,
     "metadata": {},
     "output_type": "execute_result"
    }
   ],
   "source": [
    "# import keras\n",
    "import keras\n",
    "keras.__version__"
   ]
  },
  {
   "cell_type": "markdown",
   "metadata": {
    "id": "e-vZfTTaaZeA"
   },
   "source": [
    "# Recursive neural networks\n",
    "\n",
    "[...]\n",
    "\n",
    "## Recursive layer in the Keras package\n",
    "\n",
    "\n",
    "The process we implemented using the Numpy library is equivalent to a simple layer called The SimpleRNN of the Keras package:"
   ]
  },
  {
   "cell_type": "code",
   "execution_count": 4,
   "metadata": {
    "id": "0_aCUilHaZeB"
   },
   "outputs": [],
   "source": [
    "from keras.layers import SimpleRNN"
   ]
  },
  {
   "cell_type": "markdown",
   "metadata": {
    "id": "krg9AmNVaZeC"
   },
   "source": [
    "However, there is a small difference between these implementations: the SimpleRNN layer divides the sequences into batches (this is done by all Keras layers) — it does not process individual sequences as it did in the example implemented with The Numpy library. Therefore, this layer accepts input objects with a shape (input_value, time_steps, entry_characteristics) and not (time_steps, entry_characteristics).\n",
    "\n",
    "The SimpleRNN layer, like all recursive layers of the Keras package, can be run in two modes: it can return full sequences of consecutive output objects for each step of time (three-dimensional tensors in shape (input_value, time_steps, entry_characteristics)) or only the last output objects of individual input sequences (two-dimensional tensors in shape (time_steps, entry_characteristics)). The selection of the operating mode is made using the return_sequences argument. Let's analyze an example where the SimpleRNN layer is applied, and the output is returned only when processing the last step of time:"
   ]
  },
  {
   "cell_type": "code",
   "execution_count": 5,
   "metadata": {
    "colab": {
     "base_uri": "https://localhost:8080/"
    },
    "id": "hh1-wECtaZeC",
    "outputId": "33abe6dc-cb48-4d94-adb2-7241dc96fccb"
   },
   "outputs": [
    {
     "name": "stdout",
     "output_type": "stream",
     "text": [
      "Model: \"sequential_1\"\n",
      "_________________________________________________________________\n",
      " Layer (type)                Output Shape              Param #   \n",
      "=================================================================\n",
      " embedding_1 (Embedding)     (None, None, 32)          320000    \n",
      "                                                                 \n",
      " simple_rnn_1 (SimpleRNN)    (None, 32)                2080      \n",
      "                                                                 \n",
      "=================================================================\n",
      "Total params: 322,080\n",
      "Trainable params: 322,080\n",
      "Non-trainable params: 0\n",
      "_________________________________________________________________\n"
     ]
    }
   ],
   "source": [
    "from keras.models import Sequential\n",
    "from keras.layers import Embedding, SimpleRNN\n",
    "\n",
    "model = Sequential()\n",
    "model.add(Embedding(10000, 32))\n",
    "model.add(SimpleRNN(32))\n",
    "model.summary()"
   ]
  },
  {
   "cell_type": "code",
   "execution_count": 5,
   "metadata": {
    "id": "DTSZWavyBthT"
   },
   "outputs": [],
   "source": []
  },
  {
   "cell_type": "code",
   "execution_count": 6,
   "metadata": {
    "colab": {
     "base_uri": "https://localhost:8080/"
    },
    "id": "7tcM3SL_aZeD",
    "outputId": "e7652f92-4274-426d-ebf4-311bfd13ae13",
    "scrolled": true
   },
   "outputs": [
    {
     "name": "stdout",
     "output_type": "stream",
     "text": [
      "Model: \"sequential_2\"\n",
      "_________________________________________________________________\n",
      " Layer (type)                Output Shape              Param #   \n",
      "=================================================================\n",
      " embedding_2 (Embedding)     (None, None, 32)          320000    \n",
      "                                                                 \n",
      " simple_rnn_2 (SimpleRNN)    (None, None, 32)          2080      \n",
      "                                                                 \n",
      "=================================================================\n",
      "Total params: 322,080\n",
      "Trainable params: 322,080\n",
      "Non-trainable params: 0\n",
      "_________________________________________________________________\n"
     ]
    }
   ],
   "source": [
    "model = Sequential()\n",
    "model.add(Embedding(10000, 32))\n",
    "model.add(SimpleRNN(32, return_sequences=True))\n",
    "model.summary()"
   ]
  },
  {
   "cell_type": "markdown",
   "metadata": {
    "id": "bpYkkSeOaZeE"
   },
   "source": [
    "Sometimes it's a good idea to create a stack of several recursive layers. This increases the power of representation by the network. With this configuration, all intermediate layers must return the full sequence of output objects:"
   ]
  },
  {
   "cell_type": "code",
   "execution_count": 7,
   "metadata": {
    "colab": {
     "base_uri": "https://localhost:8080/"
    },
    "id": "QwzO0M4QaZeE",
    "outputId": "1a35182c-73b9-49d1-f0fd-9f10bde29ab3"
   },
   "outputs": [
    {
     "name": "stdout",
     "output_type": "stream",
     "text": [
      "Model: \"sequential_3\"\n",
      "_________________________________________________________________\n",
      " Layer (type)                Output Shape              Param #   \n",
      "=================================================================\n",
      " embedding_3 (Embedding)     (None, None, 32)          320000    \n",
      "                                                                 \n",
      " simple_rnn_3 (SimpleRNN)    (None, None, 32)          2080      \n",
      "                                                                 \n",
      " simple_rnn_4 (SimpleRNN)    (None, None, 32)          2080      \n",
      "                                                                 \n",
      " simple_rnn_5 (SimpleRNN)    (None, None, 32)          2080      \n",
      "                                                                 \n",
      " simple_rnn_6 (SimpleRNN)    (None, 32)                2080      \n",
      "                                                                 \n",
      "=================================================================\n",
      "Total params: 328,320\n",
      "Trainable params: 328,320\n",
      "Non-trainable params: 0\n",
      "_________________________________________________________________\n"
     ]
    }
   ],
   "source": [
    "model = Sequential()\n",
    "model.add(Embedding(10000, 32))\n",
    "model.add(SimpleRNN(32, return_sequences=True))\n",
    "model.add(SimpleRNN(32, return_sequences=True))\n",
    "model.add(SimpleRNN(32, return_sequences=True))\n",
    "model.add(SimpleRNN(32))  # The last layer returns only the last output object.\n",
    "model.summary()"
   ]
  },
  {
   "cell_type": "markdown",
   "metadata": {
    "id": "438ch59iaZeF"
   },
   "source": [
    "Now let's use such a model to solve the problem of rating movie reviews. Let's start with the pre-processing of data:"
   ]
  },
  {
   "cell_type": "code",
   "execution_count": 8,
   "metadata": {
    "colab": {
     "base_uri": "https://localhost:8080/"
    },
    "id": "zB9XO6f9aZeF",
    "outputId": "292a9299-93e6-4909-b57b-fe4b9826d589"
   },
   "outputs": [
    {
     "name": "stdout",
     "output_type": "stream",
     "text": [
      "Loading data...\n",
      "Downloading data from https://storage.googleapis.com/tensorflow/tf-keras-datasets/imdb.npz\n",
      "17465344/17464789 [==============================] - 0s 0us/step\n",
      "17473536/17464789 [==============================] - 0s 0us/step\n",
      "25000 training sequences\n",
      "25000 test sequences\n",
      "Sequences (samples x time)\n",
      "Shape of the object input_train: (25000, 500)\n",
      "Shape of the object input_test: (25000, 500)\n"
     ]
    }
   ],
   "source": [
    "from keras.datasets import imdb\n",
    "from keras.preprocessing import sequence\n",
    "\n",
    "max_features = 10000  # The number of words treated as characteristics.\n",
    "maxlen = 500  # Cuts reviews after this number of words belonging to the set of max_features words most common in the set.\n",
    "batch_size = 32\n",
    "\n",
    "print('Loading data...')\n",
    "(input_train, y_train), (input_test, y_test) = imdb.load_data(num_words=max_features)\n",
    "print(len(input_train), 'training sequences')\n",
    "print(len(input_test), 'test sequences')\n",
    "\n",
    "print('Sequences (samples x time)')\n",
    "input_train = sequence.pad_sequences(input_train, maxlen=maxlen)\n",
    "input_test = sequence.pad_sequences(input_test, maxlen=maxlen)\n",
    "print('Shape of the object input_train:', input_train.shape)\n",
    "print('Shape of the object input_test:', input_test.shape)\n"
   ]
  },
  {
   "cell_type": "markdown",
   "metadata": {
    "id": "y8G3ledDaZeG"
   },
   "source": [
    "Let's train a simple recursive network using the Embedding layer and the SimpleRNN layer."
   ]
  },
  {
   "cell_type": "code",
   "execution_count": 9,
   "metadata": {
    "colab": {
     "base_uri": "https://localhost:8080/"
    },
    "id": "VrTd0k-SaZeG",
    "outputId": "9d41504d-515c-4fed-af85-d01ebffb303e",
    "scrolled": true
   },
   "outputs": [
    {
     "name": "stdout",
     "output_type": "stream",
     "text": [
      "Epoch 1/10\n",
      "157/157 [==============================] - 29s 173ms/step - loss: 0.6280 - acc: 0.6360 - val_loss: 0.8453 - val_acc: 0.5480\n",
      "Epoch 2/10\n",
      "157/157 [==============================] - 27s 171ms/step - loss: 0.3997 - acc: 0.8299 - val_loss: 0.6027 - val_acc: 0.7452\n",
      "Epoch 3/10\n",
      "157/157 [==============================] - 28s 178ms/step - loss: 0.3043 - acc: 0.8759 - val_loss: 0.3943 - val_acc: 0.8206\n",
      "Epoch 4/10\n",
      "157/157 [==============================] - 27s 171ms/step - loss: 0.2380 - acc: 0.9072 - val_loss: 0.3743 - val_acc: 0.8548\n",
      "Epoch 5/10\n",
      "157/157 [==============================] - 27s 171ms/step - loss: 0.1896 - acc: 0.9298 - val_loss: 0.4064 - val_acc: 0.8414\n",
      "Epoch 6/10\n",
      "157/157 [==============================] - 27s 171ms/step - loss: 0.1501 - acc: 0.9455 - val_loss: 0.4117 - val_acc: 0.8312\n",
      "Epoch 7/10\n",
      "157/157 [==============================] - 27s 172ms/step - loss: 0.1010 - acc: 0.9646 - val_loss: 0.6012 - val_acc: 0.7618\n",
      "Epoch 8/10\n",
      "157/157 [==============================] - 27s 171ms/step - loss: 0.0723 - acc: 0.9760 - val_loss: 0.4661 - val_acc: 0.8480\n",
      "Epoch 9/10\n",
      "157/157 [==============================] - 27s 170ms/step - loss: 0.0445 - acc: 0.9866 - val_loss: 0.6288 - val_acc: 0.8356\n",
      "Epoch 10/10\n",
      "157/157 [==============================] - 27s 171ms/step - loss: 0.0321 - acc: 0.9908 - val_loss: 0.5655 - val_acc: 0.8416\n"
     ]
    }
   ],
   "source": [
    "from keras.layers import Dense\n",
    "\n",
    "model = Sequential()\n",
    "model.add(Embedding(max_features, 32))\n",
    "model.add(SimpleRNN(32))\n",
    "model.add(Dense(1, activation='sigmoid'))\n",
    "\n",
    "model.compile(optimizer='rmsprop', loss='binary_crossentropy', metrics=['acc'])\n",
    "history = model.fit(input_train, y_train,\n",
    "                    epochs=10,\n",
    "                    batch_size=128,\n",
    "                    validation_split=0.2)"
   ]
  },
  {
   "cell_type": "markdown",
   "metadata": {
    "id": "z5hB5aLaaZeH"
   },
   "source": [
    "Now we can view the accuracy graphs and losses in the training and validation processes:"
   ]
  },
  {
   "cell_type": "code",
   "execution_count": 10,
   "metadata": {
    "colab": {
     "base_uri": "https://localhost:8080/",
     "height": 545
    },
    "id": "rRo7ellbaZeH",
    "outputId": "b9fe6483-cf59-4166-89c7-237ac6febd85"
   },
   "outputs": [
    {
     "data": {
      "image/png": "[encoded data removed]",
      "text/plain": [
       "<Figure size 432x288 with 1 Axes>"
      ]
     },
     "metadata": {
      "needs_background": "light"
     },
     "output_type": "display_data"
    },
    {
     "data": {
      "image/png": "[encoded data removed]",
      "text/plain": [
       "<Figure size 432x288 with 1 Axes>"
      ]
     },
     "metadata": {
      "needs_background": "light"
     },
     "output_type": "display_data"
    }
   ],
   "source": [
    "import matplotlib.pyplot as plt\n",
    "\n",
    "acc = history.history['acc']\n",
    "val_acc = history.history['val_acc']\n",
    "loss = history.history['loss']\n",
    "val_loss = history.history['val_loss']\n",
    "\n",
    "epochs = range(len(acc))\n",
    "\n",
    "plt.plot(epochs, acc, 'bo', label='Accuracy of training')\n",
    "plt.plot(epochs, val_acc, 'b', label='Validation accuracy')\n",
    "plt.title('Accuracy of training and validation')\n",
    "plt.legend()\n",
    "\n",
    "plt.figure()\n",
    "\n",
    "plt.plot(epochs, loss, 'bo', label='Loss of training')\n",
    "plt.plot(epochs, val_loss, 'b', label='Loss of validation')\n",
    "plt.title('Loss of training and validation')\n",
    "plt.legend()\n",
    "\n",
    "plt.show()"
   ]
  },
  {
   "cell_type": "markdown",
   "metadata": {
    "id": "XtvMVQi4aZeI"
   },
   "source": [
    "[...]\n",
    "\n",
    "## Example of a LSTM layer implemented in Keras\n",
    "\n",
    "It's time to look at a practical example of how to use the LSTM layer. We will configure the model in which such a layer will be located and train it on the IMDB dataset. It resembles the previously presented model with the SimpleRNN layer. We will specify only the number of dimensions of the LSTM output object. The remaining arguments of this layer (there are many) will be left with the default values. The default settings of the Keras package are well thought out and usually \"just work\" without having to spend a lot of time manually tuning the parameters."
   ]
  },
  {
   "cell_type": "code",
   "execution_count": 11,
   "metadata": {
    "colab": {
     "base_uri": "https://localhost:8080/"
    },
    "id": "RCenWNtZaZeI",
    "outputId": "33a273fe-1b62-438f-e442-ef21502fdf1d"
   },
   "outputs": [
    {
     "name": "stdout",
     "output_type": "stream",
     "text": [
      "Epoch 1/10\n",
      "157/157 [==============================] - 59s 360ms/step - loss: 0.5520 - acc: 0.7495 - val_loss: 0.3813 - val_acc: 0.8474\n",
      "Epoch 2/10\n",
      "157/157 [==============================] - 56s 358ms/step - loss: 0.3290 - acc: 0.8674 - val_loss: 0.2934 - val_acc: 0.8798\n",
      "Epoch 3/10\n",
      "157/157 [==============================] - 57s 362ms/step - loss: 0.2495 - acc: 0.9054 - val_loss: 0.2821 - val_acc: 0.8790\n",
      "Epoch 4/10\n",
      "157/157 [==============================] - 57s 365ms/step - loss: 0.2085 - acc: 0.9236 - val_loss: 0.2962 - val_acc: 0.8910\n",
      "Epoch 5/10\n",
      "157/157 [==============================] - 57s 363ms/step - loss: 0.1810 - acc: 0.9347 - val_loss: 0.3335 - val_acc: 0.8516\n",
      "Epoch 6/10\n",
      "157/157 [==============================] - 57s 363ms/step - loss: 0.1651 - acc: 0.9433 - val_loss: 0.2883 - val_acc: 0.8872\n",
      "Epoch 7/10\n",
      "157/157 [==============================] - 56s 359ms/step - loss: 0.1453 - acc: 0.9486 - val_loss: 0.3203 - val_acc: 0.8644\n",
      "Epoch 8/10\n",
      "157/157 [==============================] - 56s 359ms/step - loss: 0.1360 - acc: 0.9520 - val_loss: 0.3191 - val_acc: 0.8834\n",
      "Epoch 9/10\n",
      "157/157 [==============================] - 56s 359ms/step - loss: 0.1222 - acc: 0.9584 - val_loss: 0.3226 - val_acc: 0.8770\n",
      "Epoch 10/10\n",
      "157/157 [==============================] - 57s 362ms/step - loss: 0.1163 - acc: 0.9593 - val_loss: 0.3468 - val_acc: 0.8810\n"
     ]
    }
   ],
   "source": [
    "from keras.layers import LSTM\n",
    "\n",
    "model = Sequential()\n",
    "model.add(Embedding(max_features, 32))\n",
    "model.add(LSTM(32))\n",
    "model.add(Dense(1, activation='sigmoid'))\n",
    "\n",
    "model.compile(optimizer='rmsprop',\n",
    "              loss='binary_crossentropy',\n",
    "              metrics=['acc'])\n",
    "history = model.fit(input_train, y_train,\n",
    "                    epochs=10,\n",
    "                    batch_size=128,\n",
    "                    validation_split=0.2)"
   ]
  },
  {
   "cell_type": "code",
   "execution_count": 12,
   "metadata": {
    "colab": {
     "base_uri": "https://localhost:8080/",
     "height": 545
    },
    "id": "-M7OKm-0aZeI",
    "outputId": "10ca4903-9870-4f3f-e18c-ea77446616fc"
   },
   "outputs": [
    {
     "data": {
      "image/png": "[encoded data removed]",
      "text/plain": [
       "<Figure size 432x288 with 1 Axes>"
      ]
     },
     "metadata": {
      "needs_background": "light"
     },
     "output_type": "display_data"
    },
    {
     "data": {
      "image/png": "[encoded data removed]",
      "text/plain": [
       "<Figure size 432x288 with 1 Axes>"
      ]
     },
     "metadata": {
      "needs_background": "light"
     },
     "output_type": "display_data"
    }
   ],
   "source": [
    "acc = history.history['acc']\n",
    "val_acc = history.history['val_acc']\n",
    "loss = history.history['loss']\n",
    "val_loss = history.history['val_loss']\n",
    "\n",
    "epochs = range(len(acc))\n",
    "\n",
    "plt.plot(epochs, acc, 'bo', label='Accuracy of training')\n",
    "plt.plot(epochs, val_acc, 'b', label='Validation accuracy')\n",
    "plt.title('Accuracy of training and validation')\n",
    "plt.legend()\n",
    "\n",
    "plt.figure()\n",
    "\n",
    "plt.plot(epochs, loss, 'bo', label='Loss of training')\n",
    "plt.plot(epochs, val_loss, 'b', label='Loss of validation')\n",
    "plt.title('Loss of training and validation')\n",
    "plt.legend()\n",
    "\n",
    "plt.show()"
   ]
  }
 ],
 "metadata": {
  "colab": {
   "collapsed_sections": [],
   "name": "recursive_networks.ipynb",
   "provenance": [],
   "toc_visible": true
  },
  "kernelspec": {
   "display_name": "Python 3",
   "language": "python",
   "name": "python3"
  },
  "language_info": {
   "codemirror_mode": {
    "name": "ipython",
    "version": 3
   },
   "file_extension": ".py",
   "mimetype": "text/x-python",
   "name": "python",
   "nbconvert_exporter": "python",
   "pygments_lexer": "ipython3",
   "version": "3.7.4"
  }
 },
 "nbformat": 4,
 "nbformat_minor": 1
}
