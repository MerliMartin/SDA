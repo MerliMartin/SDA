{
 "cells": [
  {
   "cell_type": "code",
   "execution_count": 61,
   "metadata": {},
   "outputs": [],
   "source": [
    "# !pip install -U textblob"
   ]
  },
  {
   "cell_type": "code",
   "execution_count": 62,
   "metadata": {},
   "outputs": [],
   "source": [
    "# !python -m textblob.download_corpora"
   ]
  },
  {
   "cell_type": "code",
   "execution_count": 63,
   "metadata": {},
   "outputs": [],
   "source": [
    "from __future__ import division\n",
    "from textblob import TextBlob\n",
    "import math"
   ]
  },
  {
   "cell_type": "code",
   "execution_count": 64,
   "metadata": {},
   "outputs": [],
   "source": [
    "def tf(word, blob):\n",
    "    return blob.words.count(word) / len(blob.words)"
   ]
  },
  {
   "cell_type": "code",
   "execution_count": 65,
   "metadata": {},
   "outputs": [],
   "source": [
    "def n_containing(word, bloblist):\n",
    "    return 1 + sum(1 for blob in bloblist if word in blob)"
   ]
  },
  {
   "cell_type": "code",
   "execution_count": 72,
   "metadata": {},
   "outputs": [],
   "source": [
    "def idf(word, bloblist):\n",
    "  x = n_containing(word,bloblist)\n",
    "  return math.log(len(bloblist) / (x if x else 1))\n"
   ]
  },
  {
   "cell_type": "code",
   "execution_count": 71,
   "metadata": {},
   "outputs": [],
   "source": [
    "def tfidf(word, blob, bloblist):\n",
    "    return tf(word, blob) * idf(word, bloblist)"
   ]
  },
  {
   "cell_type": "code",
   "execution_count": 76,
   "metadata": {},
   "outputs": [],
   "source": [
    "#text = 'tf idf, shirt form of term frequency, inverse document frequency'\n",
    "#text2 = 'is a numerical statistic that is intended to reflect how important'\n",
    "#text3 = 'a word is to a document in a collection or corpus'\n",
    "text = \"Hi this is a short meeting\"\n",
    "text2 = \" This is a long meeting \"\n",
    "text3 = \" This is another meeting\"\n"
   ]
  },
  {
   "cell_type": "code",
   "execution_count": 77,
   "metadata": {},
   "outputs": [
    {
     "data": {
      "text/plain": [
       "[TextBlob(\"Hi this is a short meeting\"),\n",
       " TextBlob(\" This is a long meeting \"),\n",
       " TextBlob(\" This is another meeting\")]"
      ]
     },
     "execution_count": 77,
     "metadata": {},
     "output_type": "execute_result"
    }
   ],
   "source": [
    "blob = TextBlob(text)\n",
    "blob2 = TextBlob(text2)\n",
    "blob3 = TextBlob(text3)\n",
    "bloblist = [blob, blob2, blob3]\n",
    "bloblist"
   ]
  },
  {
   "cell_type": "code",
   "execution_count": 78,
   "metadata": {},
   "outputs": [],
   "source": [
    "tf_score = tf('short', blob)\n",
    "idf_score = idf('short', bloblist)\n",
    "tfidf_score = tfidf('short', blob, bloblist)"
   ]
  },
  {
   "cell_type": "code",
   "execution_count": 79,
   "metadata": {},
   "outputs": [
    {
     "name": "stdout",
     "output_type": "stream",
     "text": [
      "tf score for word short--- 0.16666666666666666\n",
      "\n",
      "idf score for word short--- 0.4054651081081644\n",
      "\n",
      "tf x idf score of word short--- 0.06757751801802739\n"
     ]
    }
   ],
   "source": [
    "print(f\"tf score for word short--- {str(tf_score)}\\n\")\n",
    "print(f\"idf score for word short--- {str(idf_score)}\\n\")\n",
    "print(f\"tf x idf score of word short--- {str(tfidf_score)}\")"
   ]
  },
  {
   "cell_type": "code",
   "execution_count": null,
   "metadata": {},
   "outputs": [],
   "source": []
  }
 ],
 "metadata": {
  "kernelspec": {
   "display_name": "Python 3.10.8 64-bit (microsoft store)",
   "language": "python",
   "name": "python3"
  },
  "language_info": {
   "codemirror_mode": {
    "name": "ipython",
    "version": 3
   },
   "file_extension": ".py",
   "mimetype": "text/x-python",
   "name": "python",
   "nbconvert_exporter": "python",
   "pygments_lexer": "ipython3",
   "version": "3.10.8"
  },
  "orig_nbformat": 4,
  "vscode": {
   "interpreter": {
    "hash": "04aa9e85f0a87975a5b24e07f65309498190deb4d02ed08f8d67dd994279bb28"
   }
  }
 },
 "nbformat": 4,
 "nbformat_minor": 2
}
