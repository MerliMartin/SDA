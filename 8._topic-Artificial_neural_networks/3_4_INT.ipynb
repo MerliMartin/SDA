{
 "cells": [
  {
   "cell_type": "code",
   "execution_count": 4,
   "metadata": {
    "id": "B33tM5JHt8ux",
    "outputId": "e392f202-7d80-4ccb-d26a-d83b0abcfac3"
   },
   "outputs": [
    {
     "data": {
      "text/plain": [
       "'2.10.0'"
      ]
     },
     "execution_count": 4,
     "metadata": {},
     "output_type": "execute_result"
    }
   ],
   "source": [
    "import keras\n",
    "keras.__version__"
   ]
  },
  {
   "cell_type": "markdown",
   "metadata": {
    "id": "rPVF2Zo2t8u2"
   },
   "source": [
    "# Example of  a binary classification: classification of movie reviews\n",
    "\n",
    "This is a classification that is divided into two groups (i.e. it is a binary classification). It represents the most common problem of machine learning. By analyzing this example, you will learn to classify movie reviews. You will be able to divide them into positive and negative reviews based on their content."
   ]
  },
  {
   "cell_type": "markdown",
   "metadata": {
    "id": "55ZJRhA6t8u5"
   },
   "source": [
    "## The IMDB dataset\n",
    "\n",
    "\n",
    "We'll be working with the IMDB set. It is a collection of 50,000 highly polarized reviews published on the Internet Movie Database. The reviews were divided into a training set (consisting of 25,000 reviews) and a test set (it consists of 25,000 reviews). Each of these collections is made up of half positive and half negative reviews.\n",
    "\n",
    "Why do we use separate collections? In principle you should never test a machine learning model on the same data that was used to train it. Just because the model classifies the training data well does not mean that it will classify it with the same quality level. What we are really interested in is the performance of the model when classifying new data. We know the sample labels of the training dataset. It is obvious that we do not need them. We make predictions by using a model. The model might just remember the training dataset labels and be completely useless when predicting the labels for new reviews. This issue will be described in more detail in the next chapter.\n",
    "\n",
    "The IMDB file, like the MNIST file, is included in the Keras package. This set has already been prepared for analysis: reviews (word sequences) have been converted into sequences of integer values. Each value symbolizes the presence of a selected word from the dictionary in the review.\n",
    "\n",
    "The following code will load a dataset (when you run it for the first time, about 80MB of data will be downloaded to your computer's hard drive).\n",
    "\n"
   ]
  },
  {
   "cell_type": "code",
   "execution_count": 5,
   "metadata": {
    "collapsed": true,
    "id": "RRtr1qVft8u6"
   },
   "outputs": [],
   "source": [
    "from keras.datasets import imdb\n",
    "\n",
    "(train_data, train_labels), (test_data, test_labels) = imdb.load_data(num_words=10000)"
   ]
  },
  {
   "cell_type": "markdown",
   "metadata": {
    "id": "bPKrLa1Rt8u7"
   },
   "source": [
    "\n",
    "Num_words = 10000 - this value indicates that only the most common 10,000 words in the training dataset will be retained. Less frequent words will be omitted. This solution allows you to work with a data vector that has a processing size.\n",
    "\n",
    "Train_data and test_data are review lists. Each review is a list of word indexes (as an encoded word sequence). Train_labels and test_labels contain labels in the form of 0s and 1s: 0 is a negative review and 1 is a positive review:\n"
   ]
  },
  {
   "cell_type": "code",
   "execution_count": 6,
   "metadata": {
    "id": "7EwyhodXt8u8",
    "outputId": "b75c8c03-2386-4fe5-8186-20c952bfa5bb"
   },
   "outputs": [
    {
     "data": {
      "text/plain": [
       "[1,\n",
       " 14,\n",
       " 22,\n",
       " 16,\n",
       " 43,\n",
       " 530,\n",
       " 973,\n",
       " 1622,\n",
       " 1385,\n",
       " 65,\n",
       " 458,\n",
       " 4468,\n",
       " 66,\n",
       " 3941,\n",
       " 4,\n",
       " 173,\n",
       " 36,\n",
       " 256,\n",
       " 5,\n",
       " 25,\n",
       " 100,\n",
       " 43,\n",
       " 838,\n",
       " 112,\n",
       " 50,\n",
       " 670,\n",
       " 2,\n",
       " 9,\n",
       " 35,\n",
       " 480,\n",
       " 284,\n",
       " 5,\n",
       " 150,\n",
       " 4,\n",
       " 172,\n",
       " 112,\n",
       " 167,\n",
       " 2,\n",
       " 336,\n",
       " 385,\n",
       " 39,\n",
       " 4,\n",
       " 172,\n",
       " 4536,\n",
       " 1111,\n",
       " 17,\n",
       " 546,\n",
       " 38,\n",
       " 13,\n",
       " 447,\n",
       " 4,\n",
       " 192,\n",
       " 50,\n",
       " 16,\n",
       " 6,\n",
       " 147,\n",
       " 2025,\n",
       " 19,\n",
       " 14,\n",
       " 22,\n",
       " 4,\n",
       " 1920,\n",
       " 4613,\n",
       " 469,\n",
       " 4,\n",
       " 22,\n",
       " 71,\n",
       " 87,\n",
       " 12,\n",
       " 16,\n",
       " 43,\n",
       " 530,\n",
       " 38,\n",
       " 76,\n",
       " 15,\n",
       " 13,\n",
       " 1247,\n",
       " 4,\n",
       " 22,\n",
       " 17,\n",
       " 515,\n",
       " 17,\n",
       " 12,\n",
       " 16,\n",
       " 626,\n",
       " 18,\n",
       " 2,\n",
       " 5,\n",
       " 62,\n",
       " 386,\n",
       " 12,\n",
       " 8,\n",
       " 316,\n",
       " 8,\n",
       " 106,\n",
       " 5,\n",
       " 4,\n",
       " 2223,\n",
       " 5244,\n",
       " 16,\n",
       " 480,\n",
       " 66,\n",
       " 3785,\n",
       " 33,\n",
       " 4,\n",
       " 130,\n",
       " 12,\n",
       " 16,\n",
       " 38,\n",
       " 619,\n",
       " 5,\n",
       " 25,\n",
       " 124,\n",
       " 51,\n",
       " 36,\n",
       " 135,\n",
       " 48,\n",
       " 25,\n",
       " 1415,\n",
       " 33,\n",
       " 6,\n",
       " 22,\n",
       " 12,\n",
       " 215,\n",
       " 28,\n",
       " 77,\n",
       " 52,\n",
       " 5,\n",
       " 14,\n",
       " 407,\n",
       " 16,\n",
       " 82,\n",
       " 2,\n",
       " 8,\n",
       " 4,\n",
       " 107,\n",
       " 117,\n",
       " 5952,\n",
       " 15,\n",
       " 256,\n",
       " 4,\n",
       " 2,\n",
       " 7,\n",
       " 3766,\n",
       " 5,\n",
       " 723,\n",
       " 36,\n",
       " 71,\n",
       " 43,\n",
       " 530,\n",
       " 476,\n",
       " 26,\n",
       " 400,\n",
       " 317,\n",
       " 46,\n",
       " 7,\n",
       " 4,\n",
       " 2,\n",
       " 1029,\n",
       " 13,\n",
       " 104,\n",
       " 88,\n",
       " 4,\n",
       " 381,\n",
       " 15,\n",
       " 297,\n",
       " 98,\n",
       " 32,\n",
       " 2071,\n",
       " 56,\n",
       " 26,\n",
       " 141,\n",
       " 6,\n",
       " 194,\n",
       " 7486,\n",
       " 18,\n",
       " 4,\n",
       " 226,\n",
       " 22,\n",
       " 21,\n",
       " 134,\n",
       " 476,\n",
       " 26,\n",
       " 480,\n",
       " 5,\n",
       " 144,\n",
       " 30,\n",
       " 5535,\n",
       " 18,\n",
       " 51,\n",
       " 36,\n",
       " 28,\n",
       " 224,\n",
       " 92,\n",
       " 25,\n",
       " 104,\n",
       " 4,\n",
       " 226,\n",
       " 65,\n",
       " 16,\n",
       " 38,\n",
       " 1334,\n",
       " 88,\n",
       " 12,\n",
       " 16,\n",
       " 283,\n",
       " 5,\n",
       " 16,\n",
       " 4472,\n",
       " 113,\n",
       " 103,\n",
       " 32,\n",
       " 15,\n",
       " 16,\n",
       " 5345,\n",
       " 19,\n",
       " 178,\n",
       " 32]"
      ]
     },
     "execution_count": 6,
     "metadata": {},
     "output_type": "execute_result"
    }
   ],
   "source": [
    "train_data[0]"
   ]
  },
  {
   "cell_type": "code",
   "execution_count": 7,
   "metadata": {
    "id": "Sbv0ecvct8u9",
    "outputId": "4ca9f5ab-db66-44b7-ca52-ee31406ef9b2"
   },
   "outputs": [
    {
     "data": {
      "text/plain": [
       "1"
      ]
     },
     "execution_count": 7,
     "metadata": {},
     "output_type": "execute_result"
    }
   ],
   "source": [
    "train_labels[0]"
   ]
  },
  {
   "cell_type": "markdown",
   "metadata": {
    "id": "IrTFGKu6t8u-"
   },
   "source": [
    "We limit ourselves to the 10,000 most common words. As a result, we will have 10,000 word index values:"
   ]
  },
  {
   "cell_type": "code",
   "execution_count": 8,
   "metadata": {
    "id": "Uk1ieu9Xt8u_",
    "outputId": "b184396f-de29-473a-da34-6a6b4c0cb8ed"
   },
   "outputs": [
    {
     "data": {
      "text/plain": [
       "9999"
      ]
     },
     "execution_count": 8,
     "metadata": {},
     "output_type": "execute_result"
    }
   ],
   "source": [
    "max([max(sequence) for sequence in train_data])"
   ]
  },
  {
   "cell_type": "markdown",
   "metadata": {
    "id": "oUSZwxvMt8vB"
   },
   "source": [
    "Here's a quick way to decode one of the reviews and read it in English:"
   ]
  },
  {
   "cell_type": "code",
   "execution_count": 9,
   "metadata": {
    "collapsed": true,
    "id": "9EBDlj31t8vC"
   },
   "outputs": [
    {
     "name": "stdout",
     "output_type": "stream",
     "text": [
      "Downloading data from https://storage.googleapis.com/tensorflow/tf-keras-datasets/imdb_word_index.json\n",
      "1641221/1641221 [==============================] - 1s 1us/step\n"
     ]
    }
   ],
   "source": [
    "# The word_index dictionary assigns index values ​​to words.\n",
    "word_index = imdb.get_word_index ()\n",
    "# By inverting it, we can assign indexes to words.\n",
    "reverse_word_index = dict ([(value, key) for (key, value) in word_index.items ()])\n",
    "# Review the decoded code. Notice that the indexes are shifted by 3 because under the indexes for 0, 1, and 2\n",
    "# there are indexes for \"fill\", \"start of sequence\" and \"unknown word\".\n",
    "decoded_review = ' '.join([reverse_word_index.get(i - 3, '?') for i in train_data[0]])"
   ]
  },
  {
   "cell_type": "code",
   "execution_count": 10,
   "metadata": {
    "id": "oAJPfbbQt8vD",
    "outputId": "66fe62ca-686e-4dd1-f192-459456753362",
    "scrolled": true
   },
   "outputs": [
    {
     "data": {
      "text/plain": [
       "\"? this film was just brilliant casting location scenery story direction everyone's really suited the part they played and you could just imagine being there robert ? is an amazing actor and now the same being director ? father came from the same scottish island as myself so i loved the fact there was a real connection with this film the witty remarks throughout the film were great it was just brilliant so much that i bought the film as soon as it was released for ? and would recommend it to everyone to watch and the fly fishing was amazing really cried at the end it was so sad and you know what they say if you cry at a film it must have been good and this definitely was also ? to the two little boy's that played the ? of norman and paul they were just brilliant children are often left out of the ? list i think because the stars that play them all grown up are such a big profile for the whole film but these children are amazing and should be praised for what they have done don't you think the whole story was so lovely because it was true and was someone's life after all that was shared with us all\""
      ]
     },
     "execution_count": 10,
     "metadata": {},
     "output_type": "execute_result"
    }
   ],
   "source": [
    "decoded_review"
   ]
  },
  {
   "cell_type": "markdown",
   "metadata": {
    "id": "dbeXlcbut8vE"
   },
   "source": [
    "## Data preparation\n",
    "\n",
    "\n",
    "An integer list cannot be passed directly to a neural network. You have to turn them into a list of tensors. This can be done in two ways:\n",
    "\n",
    "• You can complete the lists so that they have the same length. Next you can convert them into an integer tensor that has a shape (samples or word_indices). The first layer of the neural network needs to use a layer that can process integer tensors (the Embedding layer - more information on the topic can be found in later chapters).\n",
    "\n",
    "• You can encode lists to convert them into vectors of ones and zeros. This means that you can replace the sequence [3, 5] with a vector of 10,000 dimensions. It  will be filled with all zeros, and only under the indices numbered 3 and 5 there will be ones. In such a situation, the first layer of our network could be a Dense layer that can handle floating point data vectors.\n",
    "\n",
    "\n",
    "Let's use the second solution and convert the data to vectors. For the sake of code clarity, we will do it manually."
   ]
  },
  {
   "cell_type": "code",
   "execution_count": 12,
   "metadata": {
    "collapsed": true,
    "id": "NnIMQbSYt8vE"
   },
   "outputs": [],
   "source": [
    "import numpy as np\n",
    "\n",
    "def vectorize_sequences(sequences, dimension=10000):\n",
    "# Creates a zero padded matrix of the shape (len (sequences), dimension).\n",
    "     results = np.zeros((len (sequences), dimension))\n",
    "     for i, sequence in enumerate (sequences):\n",
    "         results [i, sequence] = 1. # Place the value 1 at the selected indexes.\n",
    "     return results\n",
    "\n",
    "# Training set in the form of a vector.\n",
    "x_train = vectorize_sequences (train_data)\n",
    "# Vector test set.\n",
    "x_test = vectorize_sequences (test_data)"
   ]
  },
  {
   "cell_type": "markdown",
   "metadata": {
    "id": "k9EgpmzTt8vF"
   },
   "source": [
    "Now samples will look like this: "
   ]
  },
  {
   "cell_type": "code",
   "execution_count": 13,
   "metadata": {
    "id": "6ZCuqIlVt8vF",
    "outputId": "f56efbea-a83d-42a5-8378-094c93d79631"
   },
   "outputs": [
    {
     "data": {
      "text/plain": [
       "array([0., 1., 1., ..., 0., 0., 0.])"
      ]
     },
     "execution_count": 13,
     "metadata": {},
     "output_type": "execute_result"
    }
   ],
   "source": [
    "x_train[0]"
   ]
  },
  {
   "cell_type": "markdown",
   "metadata": {
    "id": "rJoUAhAUt8vG"
   },
   "source": [
    "We still have to perform the operation of converting sample labels to vectors:"
   ]
  },
  {
   "cell_type": "code",
   "execution_count": 14,
   "metadata": {
    "collapsed": true,
    "id": "tfRwGdf0t8vH"
   },
   "outputs": [],
   "source": [
    "# Converting labels to vectors.\n",
    "y_train = np.asarray(train_labels).astype('float32')\n",
    "y_test = np.asarray(test_labels).astype('float32')"
   ]
  },
  {
   "cell_type": "markdown",
   "metadata": {
    "id": "cRFgfDQtt8vI"
   },
   "source": [
    "Now the data can be processed by the neural network."
   ]
  },
  {
   "cell_type": "markdown",
   "metadata": {
    "id": "ja_91XXGt8vI"
   },
   "source": [
    "## Construction of a neural network\n",
    "\n",
    "\n",
    "The inputs are vectors and the labels are scalar values ​​(ones and zeros). This is the simplest situation you can deal with. This type of problem is best solved with a simple fully connected layer (Dense) stack network with relu activations: the Dense layer (16, activation = 'relu').\n",
    "\n",
    "The argument passed to each Dense layer (16) is the number of hidden units of the layer. Hidden unit is a dimension of the layer representation space. In Chapter 2, we wrote about how each Dense layer with relu activation implements the following chain of tensor operations:\n",
    "\n",
    "output = relu (dot (W, input) + b)\n",
    "\n",
    "With 16 hidden units, the weight matrix W will have a shape (input_dimension, 16): the dot product of the matrix W will project the input data into a 16-dimensional representation space (then the b threshold vector is added and the relu operation is performed). The dimensions of the data representation space can be understood as \"the degree of freedom that the network has in learning internal data representations\". Increasing the number of hidden units (increasing the number of representation for space dimensions) allows the network to learn more complex representations. The operation of such a network will require more computing power and may lead to the training of unwanted parameters. These are regularities that will improve the processing efficiency of the training dataset but at the same time they are useless when processing test data.\n",
    "When working with Dense layers, you need to answer two questions about the network architecture:\n",
    "\n",
    "• How many layers should be used?\n",
    "\n",
    "• How many hidden units do you need to select in each layer?\n",
    "\n",
    "\n",
    "In the next chapter, we will present the formal rules for answering these questions. For now, let's make the following assumptions:\n",
    "\n",
    "• two intermediate layers - each containing 16 hidden units,\n",
    "\n",
    "• the third layer generating the prediction of the emotional mood of the analyzed review in the form of a scalar value.\n",
    "\n",
    "The mid-tiers will use the relu activation function and the last tier will use the sigmoid activation function. It will generate a value between 0 and 1 indicating the probability that the review is positive. The relu function (a straightened linear unit) is a function to reset negative values ​​(see Figure 3.4), and the sigmoid function \"stuffs\" the values ​​into the range between 0 to 1 (see the Figure 3.5), which allows the network to generate values ​​that can be interpreted as a probability."
   ]
  },
  {
   "cell_type": "markdown",
   "metadata": {
    "id": "WXypDnKzt8vJ"
   },
   "source": [
    "The schema of our network:\n",
    "\n",
    "![3-layer network](img\\3_4.png)"
   ]
  },
  {
   "cell_type": "markdown",
   "metadata": {
    "id": "0Oqo88Jqt8vM"
   },
   "source": [
    "Here is the network implementation code using the Keras package (it is similar to the network implementation from the MNIST processing example as shown earlier)."
   ]
  },
  {
   "cell_type": "code",
   "execution_count": 15,
   "metadata": {
    "collapsed": true,
    "id": "o4yvSBpJt8vM"
   },
   "outputs": [],
   "source": [
    "from keras import models\n",
    "from keras import layers\n",
    "\n",
    "model = models.Sequential()\n",
    "model.add(layers.Dense(16, activation='relu', input_shape=(10000,)))\n",
    "model.add(layers.Dense(16, activation='relu'))\n",
    "model.add(layers.Dense(1, activation='sigmoid'))"
   ]
  },
  {
   "cell_type": "markdown",
   "metadata": {
    "id": "C6qq89o3t8vO"
   },
   "source": [
    "\n",
    "Finally, we need to select the loss function and the optimizer. We are working on a binary classification problem and the network returns probability values ​​(at the end of the network there is a layer of one unit with the sigmoid activation function). It is best to use the binary_crossentropy loss function. This is not the only option that we can incorporate. We can also include the mean squared error function mean_squared_error. However, the cross entropy is usually the best option for models that return probability values. The term cross entropy is derived from the information theory. It is a measure of the distance between the probability distributions. In this case this is the distribution of true values ​​and the distribution of predicted values.\n",
    "\n",
    "Below you will find the code setting up the model. In it we select the rmsprop optimizer and the loss function binary_crossentropy. Note that we will also monitor accuracy while training.\n"
   ]
  },
  {
   "cell_type": "code",
   "execution_count": 16,
   "metadata": {
    "collapsed": true,
    "id": "01gbWZ99t8vQ"
   },
   "outputs": [],
   "source": [
    "model.compile(optimizer='rmsprop',\n",
    "              loss='binary_crossentropy',\n",
    "              metrics=['accuracy'])"
   ]
  },
  {
   "cell_type": "markdown",
   "metadata": {
    "id": "8IHUKEXNt8vQ"
   },
   "source": [
    "The metric, optimizer, and loss function are defined using strings. This is possible because rmsprop, binary_crossentropy and accuracy are packages that are part of the Keras library. Sometimes it is necessary to configure optimizer parameters or to pass a self-executed loss function or a metric function. This can be done by passing an instance of the optimizer class as the optimizer argument (see the Listing 3.5) and passing the object function as loss and metrics arguments (see the next block of code)."
   ]
  },
  {
   "cell_type": "code",
   "execution_count": 17,
   "metadata": {
    "collapsed": true,
    "id": "sjW8W1CAt8vR"
   },
   "outputs": [
    {
     "name": "stderr",
     "output_type": "stream",
     "text": [
      "c:\\Users\\merli\\AppData\\Local\\Programs\\Python\\Python310\\lib\\site-packages\\keras\\optimizers\\optimizer_v2\\rmsprop.py:140: UserWarning: The `lr` argument is deprecated, use `learning_rate` instead.\n",
      "  super().__init__(name, **kwargs)\n"
     ]
    }
   ],
   "source": [
    "from keras import optimizers\n",
    "\n",
    "model.compile(optimizer=optimizers.RMSprop(lr=0.001),\n",
    "              loss='binary_crossentropy',\n",
    "              metrics=['accuracy'])"
   ]
  },
  {
   "cell_type": "code",
   "execution_count": 18,
   "metadata": {
    "collapsed": true,
    "id": "ek2YX5qYt8vR"
   },
   "outputs": [],
   "source": [
    "from keras import losses\n",
    "from keras import metrics\n",
    "\n",
    "model.compile(optimizer=optimizers.RMSprop(lr=0.001),\n",
    "              loss=losses.binary_crossentropy,\n",
    "              metrics=[metrics.binary_accuracy])"
   ]
  },
  {
   "cell_type": "markdown",
   "metadata": {
    "id": "EYF9yangt8vR"
   },
   "source": [
    "## Model validation\n",
    "\n",
    "To monitor the accuracy of the model during training, we will create a dataset that has not been used to train the model. We will do this by detaching 10,000 samples from the training dataset."
   ]
  },
  {
   "cell_type": "code",
   "execution_count": 19,
   "metadata": {
    "collapsed": true,
    "id": "YptbODeit8vT"
   },
   "outputs": [],
   "source": [
    "x_val = x_train[:10000]\n",
    "partial_x_train = x_train[10000:]\n",
    "\n",
    "y_val = y_train[:10000]\n",
    "partial_y_train = y_train[10000:]"
   ]
  },
  {
   "cell_type": "markdown",
   "metadata": {
    "collapsed": true,
    "id": "NNyaRF-ft8vV"
   },
   "source": [
    "In this case we will train the model for 20 epochs (we will perform 20 iterations of all samples located in x_train and y_train tensors) that is divided into batches of 512 samples. At the same time, we will monitor the loss and accuracy functions of the model while processing the 10,000 samples we have just set aside. For this purpose, we need to pass the validation (control) set as the validation_data argument:"
   ]
  },
  {
   "cell_type": "code",
   "execution_count": 20,
   "metadata": {
    "id": "-3MtbPzUt8vV",
    "outputId": "81f25ab3-2b97-4b63-a5bc-1f6125484e5a"
   },
   "outputs": [
    {
     "name": "stdout",
     "output_type": "stream",
     "text": [
      "Epoch 1/20\n",
      "30/30 [==============================] - 5s 134ms/step - loss: 0.5330 - binary_accuracy: 0.7861 - val_loss: 0.4018 - val_binary_accuracy: 0.8696\n",
      "Epoch 2/20\n",
      "30/30 [==============================] - 1s 17ms/step - loss: 0.3247 - binary_accuracy: 0.8997 - val_loss: 0.3230 - val_binary_accuracy: 0.8773\n",
      "Epoch 3/20\n",
      "30/30 [==============================] - 1s 18ms/step - loss: 0.2348 - binary_accuracy: 0.9257 - val_loss: 0.2896 - val_binary_accuracy: 0.8847\n",
      "Epoch 4/20\n",
      "30/30 [==============================] - 1s 18ms/step - loss: 0.1867 - binary_accuracy: 0.9383 - val_loss: 0.2889 - val_binary_accuracy: 0.8857\n",
      "Epoch 5/20\n",
      "30/30 [==============================] - 1s 21ms/step - loss: 0.1503 - binary_accuracy: 0.9527 - val_loss: 0.2767 - val_binary_accuracy: 0.8895\n",
      "Epoch 6/20\n",
      "30/30 [==============================] - 1s 21ms/step - loss: 0.1249 - binary_accuracy: 0.9613 - val_loss: 0.2881 - val_binary_accuracy: 0.8880\n",
      "Epoch 7/20\n",
      "30/30 [==============================] - 1s 24ms/step - loss: 0.0996 - binary_accuracy: 0.9709 - val_loss: 0.3110 - val_binary_accuracy: 0.8839\n",
      "Epoch 8/20\n",
      "30/30 [==============================] - 1s 26ms/step - loss: 0.0831 - binary_accuracy: 0.9772 - val_loss: 0.3224 - val_binary_accuracy: 0.8843\n",
      "Epoch 9/20\n",
      "30/30 [==============================] - 1s 21ms/step - loss: 0.0685 - binary_accuracy: 0.9815 - val_loss: 0.3431 - val_binary_accuracy: 0.8814\n",
      "Epoch 10/20\n",
      "30/30 [==============================] - 1s 28ms/step - loss: 0.0549 - binary_accuracy: 0.9860 - val_loss: 0.3795 - val_binary_accuracy: 0.8731\n",
      "Epoch 11/20\n",
      "30/30 [==============================] - 1s 18ms/step - loss: 0.0441 - binary_accuracy: 0.9907 - val_loss: 0.4070 - val_binary_accuracy: 0.8719\n",
      "Epoch 12/20\n",
      "30/30 [==============================] - 1s 21ms/step - loss: 0.0346 - binary_accuracy: 0.9930 - val_loss: 0.4622 - val_binary_accuracy: 0.8646\n",
      "Epoch 13/20\n",
      "30/30 [==============================] - 1s 20ms/step - loss: 0.0279 - binary_accuracy: 0.9947 - val_loss: 0.4626 - val_binary_accuracy: 0.8756\n",
      "Epoch 14/20\n",
      "30/30 [==============================] - 1s 31ms/step - loss: 0.0199 - binary_accuracy: 0.9971 - val_loss: 0.5000 - val_binary_accuracy: 0.8741\n",
      "Epoch 15/20\n",
      "30/30 [==============================] - 1s 20ms/step - loss: 0.0171 - binary_accuracy: 0.9977 - val_loss: 0.5257 - val_binary_accuracy: 0.8704\n",
      "Epoch 16/20\n",
      "30/30 [==============================] - 1s 21ms/step - loss: 0.0125 - binary_accuracy: 0.9987 - val_loss: 0.5644 - val_binary_accuracy: 0.8700\n",
      "Epoch 17/20\n",
      "30/30 [==============================] - 1s 20ms/step - loss: 0.0079 - binary_accuracy: 0.9993 - val_loss: 0.6606 - val_binary_accuracy: 0.8554\n",
      "Epoch 18/20\n",
      "30/30 [==============================] - 1s 19ms/step - loss: 0.0073 - binary_accuracy: 0.9994 - val_loss: 0.6320 - val_binary_accuracy: 0.8661\n",
      "Epoch 19/20\n",
      "30/30 [==============================] - 1s 18ms/step - loss: 0.0059 - binary_accuracy: 0.9993 - val_loss: 0.6639 - val_binary_accuracy: 0.8677\n",
      "Epoch 20/20\n",
      "30/30 [==============================] - 1s 24ms/step - loss: 0.0031 - binary_accuracy: 0.9999 - val_loss: 0.7036 - val_binary_accuracy: 0.8667\n"
     ]
    }
   ],
   "source": [
    "history = model.fit(partial_x_train,\n",
    "                    partial_y_train,\n",
    "                    epochs=20,\n",
    "                    batch_size=512,\n",
    "                    validation_data=(x_val, y_val))"
   ]
  },
  {
   "cell_type": "markdown",
   "metadata": {
    "id": "uKWaRoKst8vV"
   },
   "source": [
    "When training on the CPU, one process epoch takes less than 2 seconds to process. The entire process takes about 20 seconds. At the end of each epoch, the algorithm pauses for a moment as the model calculates the loss and accuracy using 10,000 samples of the validation dataset.\n",
    "\n",
    "Note that by calling model.fit() we return a History object. This object has an item called history, which is a dictionary item of training data. Let's take a look at it in more detail: When training on the CPU, one process epoch takes less than 2 seconds to process. The entire process takes about 20 seconds. At the end of each epoch, the algorithm pauses for a moment as the model calculates the loss and accuracy using 10,000 samples of the validation dataset.\n",
    "\n",
    "Remember, that we called model.fit() that returned a History object. This object had an item called history, which was a dictionary of training data. Let's now take a look at it:\n",
    "\n"
   ]
  },
  {
   "cell_type": "code",
   "execution_count": 21,
   "metadata": {
    "id": "yhHrz6hvt8vW",
    "outputId": "87a66d2d-4ea5-476a-fda9-de3eb545582a"
   },
   "outputs": [
    {
     "data": {
      "text/plain": [
       "dict_keys(['loss', 'binary_accuracy', 'val_loss', 'val_binary_accuracy'])"
      ]
     },
     "execution_count": 21,
     "metadata": {},
     "output_type": "execute_result"
    }
   ],
   "source": [
    "history_dict = history.history\n",
    "history_dict.keys()"
   ]
  },
  {
   "cell_type": "markdown",
   "metadata": {
    "id": "d91b6CA6t8vW"
   },
   "source": [
    "The dictionary contains four items: one for each of the metrics monitored during training and validation. Let's create a graph comparing training and validation loss. The second graph we will create changes training accuracy and validation. Your results may be slightly different due to the random network initialization."
   ]
  },
  {
   "cell_type": "code",
   "execution_count": 23,
   "metadata": {
    "id": "FyRIP68Ft8vX",
    "outputId": "156c4753-19d9-4ac8-d6d1-2da98c8945df",
    "scrolled": true
   },
   "outputs": [
    {
     "data": {
      "image/png": "[encoded data removed]",
      "text/plain": [
       "<Figure size 432x288 with 1 Axes>"
      ]
     },
     "metadata": {
      "needs_background": "light"
     },
     "output_type": "display_data"
    }
   ],
   "source": [
    "import matplotlib.pyplot as plt\n",
    "\n",
    "acc = history.history['binary_accuracy']\n",
    "val_acc = history.history['val_binary_accuracy']\n",
    "loss = history.history['loss']\n",
    "val_loss = history.history['val_loss']\n",
    "\n",
    "epochs = range(1, len(acc) + 1)\n",
    "\n",
    "# The bo parameter defines the dashed line in the form of blue dots.\n",
    "plt.plot (epochs, loss, 'bo', label = 'Training loss')\n",
    "# The b parameter defines a solid blue line.\n",
    "plt.plot (epochs, val_loss, 'b', label = 'Validation Loss')\n",
    "plt.title ('Training and validation loss')\n",
    "plt.xlabel ('Epochs')\n",
    "plt.ylabel ('Loss')\n",
    "plt.legend()\n",
    "\n",
    "plt.show()"
   ]
  },
  {
   "cell_type": "code",
   "execution_count": 24,
   "metadata": {
    "id": "WtePot6ut8vX",
    "outputId": "659475a5-b949-40f5-df50-ed39e953e9fd"
   },
   "outputs": [
    {
     "data": {
      "image/png": "[encoded data removed]",
      "text/plain": [
       "<Figure size 432x288 with 1 Axes>"
      ]
     },
     "metadata": {
      "needs_background": "light"
     },
     "output_type": "display_data"
    }
   ],
   "source": [
    "plt.clf()   # The cleaning draw.\n",
    "acc_values = history_dict['binary_accuracy']\n",
    "val_acc_values = history_dict['val_binary_accuracy']\n",
    "\n",
    "plt.plot (epochs, acc, 'bo', label = 'Training Accuracy')\n",
    "plt.plot (epochs, val_acc, 'b', label = 'Validation accuracy')\n",
    "plt.title ('Training and validation accuracy')\n",
    "plt.xlabel ('Epochs')\n",
    "plt.ylabel ('Loss')\n",
    "plt.legend ()\n",
    "\n",
    "plt.show()"
   ]
  },
  {
   "cell_type": "markdown",
   "metadata": {
    "id": "QE2m7xvlt8vY"
   },
   "source": [
    "As you can see, the training loss decreases with each epoch while the accuracy of training increases. This is what we expect from the optimization with the gradient descent algorithm. The value that we are trying to minimize should decrease with each subsequent iteration. In the fourth epoch the validation loss and validation accuracy increase. This is an example of a situation we took notice of  earlier. A model that works better on a training dataset does not have to work better when processing new data. In practice, this is an example of overfitting - after the second epoch, the model is too optimized on the training dataset and learns a specific representation of the training dataset. It does not take into account the overall vision that works well beyond the training dataset.\n",
    "\n",
    "In this case, we can prevent overfitting by breaking the algorithm after 3 epochs. We can use many techniques to prevent overfitting of the model. We will focus on them in the next chapter.\n",
    "\n",
    "Now we can train the new network from scratch (let's do it over four epochs) and then evaluate it against a test dataset.\n"
   ]
  },
  {
   "cell_type": "code",
   "execution_count": 25,
   "metadata": {
    "id": "QmjC32rAt8vZ",
    "outputId": "cd05342b-10f5-4388-e1ed-cb3b434a7172"
   },
   "outputs": [
    {
     "name": "stdout",
     "output_type": "stream",
     "text": [
      "Epoch 1/4\n",
      "49/49 [==============================] - 2s 17ms/step - loss: 0.4468 - accuracy: 0.8148\n",
      "Epoch 2/4\n",
      "49/49 [==============================] - 1s 18ms/step - loss: 0.2563 - accuracy: 0.9114\n",
      "Epoch 3/4\n",
      "49/49 [==============================] - 1s 17ms/step - loss: 0.1988 - accuracy: 0.9287\n",
      "Epoch 4/4\n",
      "49/49 [==============================] - 1s 14ms/step - loss: 0.1631 - accuracy: 0.9432\n",
      "782/782 [==============================] - 6s 7ms/step - loss: 0.3822 - accuracy: 0.8534\n"
     ]
    }
   ],
   "source": [
    "model = models.Sequential()\n",
    "model.add(layers.Dense(16, activation='relu', input_shape=(10000,)))\n",
    "model.add(layers.Dense(16, activation='relu'))\n",
    "model.add(layers.Dense(1, activation='sigmoid'))\n",
    "\n",
    "model.compile(optimizer='rmsprop',\n",
    "              loss='binary_crossentropy',\n",
    "              metrics=['accuracy'])\n",
    "\n",
    "model.fit(x_train, y_train, epochs=4, batch_size=512)\n",
    "results = model.evaluate(x_test, y_test)"
   ]
  },
  {
   "cell_type": "code",
   "execution_count": 26,
   "metadata": {
    "id": "wS4lJAzyt8vZ",
    "outputId": "07bcaeb0-2dff-4119-85fd-57b99c08a438",
    "scrolled": true
   },
   "outputs": [
    {
     "data": {
      "text/plain": [
       "[0.38218024373054504, 0.8533599972724915]"
      ]
     },
     "execution_count": 26,
     "metadata": {},
     "output_type": "execute_result"
    }
   ],
   "source": [
    "results"
   ]
  },
  {
   "cell_type": "markdown",
   "metadata": {
    "id": "PDyrvlx1t8va"
   },
   "source": [
    "[link text](https://) This naive solution helps obtain an accuracy of 88%. Refined models should approach 95% accuracy."
   ]
  },
  {
   "cell_type": "markdown",
   "metadata": {
    "id": "ZGeU1hEpt8va"
   },
   "source": [
    "## Using a trained network to generate predictions about new data\n",
    "\n",
    "Once the net is trained, we can use it to do something practical. To generate a value that determines the probability that a review is positive we can  use the predict method:"
   ]
  },
  {
   "cell_type": "code",
   "execution_count": 27,
   "metadata": {
    "id": "YqYTvYRet8vd",
    "outputId": "9e8631c8-83b1-44ec-aedd-d7f2b6fda26b"
   },
   "outputs": [
    {
     "name": "stdout",
     "output_type": "stream",
     "text": [
      "782/782 [==============================] - 2s 2ms/step\n"
     ]
    },
    {
     "data": {
      "text/plain": [
       "array([[0.09140945],\n",
       "       [0.99919325],\n",
       "       [0.2858565 ],\n",
       "       ...,\n",
       "       [0.04580709],\n",
       "       [0.03081057],\n",
       "       [0.31643167]], dtype=float32)"
      ]
     },
     "execution_count": 27,
     "metadata": {},
     "output_type": "execute_result"
    }
   ],
   "source": [
    "model.predict(x_test)"
   ]
  },
  {
   "cell_type": "markdown",
   "metadata": {
    "id": "jXHVEtc4t8vd"
   },
   "source": [
    "For new samples, the network is very confident in its verdict (it produces values ​​close to 0.99 or 0.01). For others it produces much less reliable results, such as 0.6 or 0.4.\n"
   ]
  },
  {
   "cell_type": "markdown",
   "metadata": {
    "id": "9NJL-fG4t8ve"
   },
   "source": [
    "## Further experiments\n",
    "\n",
    "Here are the experiments that will help you confirm that we have chosen a  reasonable architecture (they can also be improved):\n",
    "\n",
    "* We used two hidden layers. Try adding one or three hidden layers and see how this affects the accuracy of the validation and the testing.\n",
    "* Try to use layers with more or less hidden units: try layers with e.g. 32 and 64 units.\n",
    "* Use the loss mse function instead of the loss function binary_crossentropy.\n",
    "* Try the tanh activation function (this function was popular at the beginning of the development of neural networks). Replace the relu function with it."
   ]
  },
  {
   "cell_type": "markdown",
   "metadata": {
    "id": "-kG2DI2_t8vf"
   },
   "source": [
    "## Conclusions\n",
    "\n",
    "\n",
    "Here are the conclusions that can be drawn from this example:\n",
    "\n",
    "* Usually, data requires pre-treatment. After that operation, it can be routed in the form of tensors to the input of a neural network. The word sequence can be represented as vectors of binary values, but there are other ways to go about it.\n",
    "* Dense layer stacks with relu activation can be used to solve a variety of problems (including the tone classification). Consequently, you will most likely use them frequently in the future.\n",
    "* For the binary classification problem (two output classes) there should be a Dense layer with one unit and sigmoid activation function at the end of the network. The output values ​​generated by the network should be scalars in the range of 0 to 1 (it should be a probability).\n",
    "* In this configuration of the network output layer, the loss function should be the binary_crossentropy.\n",
    "* The rmsprop optimizer is generally a good choice for any problem. Consequently, you have one less thing to analyze.\n",
    "* Neural networks, as they learn more about the training data, start to over-adjust. This leads to a deterioration of the results of new data processing. You must constantly monitor network performance while processing data that is not part of the training set.\n"
   ]
  },
  {
   "cell_type": "markdown",
   "metadata": {},
   "source": []
  }
 ],
 "metadata": {
  "colab": {
   "collapsed_sections": [],
   "name": "3.4_INT.ipynb",
   "provenance": []
  },
  "kernelspec": {
   "display_name": "Python 3.10.5 64-bit",
   "language": "python",
   "name": "python3"
  },
  "language_info": {
   "codemirror_mode": {
    "name": "ipython",
    "version": 3
   },
   "file_extension": ".py",
   "mimetype": "text/x-python",
   "name": "python",
   "nbconvert_exporter": "python",
   "pygments_lexer": "ipython3",
   "version": "3.10.5"
  },
  "vscode": {
   "interpreter": {
    "hash": "3429981c687d110c4c5c63635eed955f89f79b5c29f7b8819e5bb3afec2d8ca0"
   }
  }
 },
 "nbformat": 4,
 "nbformat_minor": 1
}
