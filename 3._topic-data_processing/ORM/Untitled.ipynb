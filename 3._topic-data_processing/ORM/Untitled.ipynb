{
 "cells": [
  {
   "cell_type": "code",
   "execution_count": null,
   "id": "02fe791c",
   "metadata": {},
   "outputs": [],
   "source": [
    "!apt-get install mysql-server > /dev/null\n",
    "!service mysql start\n",
    "!mysql -e \"ALTER USER 'root'@'localhost' INDENTIFIED WITH mysql_native_password BY 'root'\"\n",
    "!pip -q install PyMySQL\n",
    "\n",
    "FROM sqlalchemy import create_engine\n",
    "\n",
    "engine = "
   ]
  }
 ],
 "metadata": {
  "kernelspec": {
   "display_name": "Python 3 (ipykernel)",
   "language": "python",
   "name": "python3"
  },
  "language_info": {
   "codemirror_mode": {
    "name": "ipython",
    "version": 3
   },
   "file_extension": ".py",
   "mimetype": "text/x-python",
   "name": "python",
   "nbconvert_exporter": "python",
   "pygments_lexer": "ipython3",
   "version": "3.10.5"
  }
 },
 "nbformat": 4,
 "nbformat_minor": 5
}
