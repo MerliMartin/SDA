{
 "cells": [
  {
   "cell_type": "code",
   "execution_count": 40,
   "metadata": {
    "colab": {
     "base_uri": "https://localhost:8080/",
     "height": 35
    },
    "id": "EcAhN7p55_t-",
    "outputId": "fbd5ee4c-8da0-40f2-a7cc-a1283401c607",
    "scrolled": true
   },
   "outputs": [
    {
     "data": {
      "text/plain": [
       "'2.10.0'"
      ]
     },
     "execution_count": 40,
     "metadata": {},
     "output_type": "execute_result"
    }
   ],
   "source": [
    "import keras\n",
    "keras.__version__"
   ]
  },
  {
   "cell_type": "markdown",
   "metadata": {
    "id": "fdrX9lpR5_ug"
   },
   "source": [
    "# The first example of a neural network\n",
    "\n",
    "If you don't understand all the elements of this example, don't worry. This is normal if you are not experienced with Keras or any other package similar to it. You probably haven't even installed Keras yet… It doesn't bother you at all. In the next chapter I will describe each element of this example in detail. Therefore, don't worry if some things seem to you to be black magic! We have to start somewhere.\n",
    "\n",
    "In the presented example, we try to solve the problem of classification of grayscale images representing handwritten digits (these images have a resolution of 28x28 pixels). We want to divide them into 10 categories (numbers from 0 to 9). We will use the MNIST dataset, which is recognized by the analyst community as a classic dataset. It exists as long as the history of machine learning is long. This collection contains 60,000 training images and 10,000 test images. It was established by the National Institute of Standards and Technology (NIST) in the 1980s. The solution to this problem can be compared to the display of the words \"Hello world!\" while learning a new programming language. This set is also used to check that the algorithm is working properly. If you start working professionally with machine learning, you will find that the MNIST set appears repeatedly in various scientific papers, articles published on the Internet, and so on. Figure 2.1 shows some of the elements of that set.\n"
   ]
  },
  {
   "cell_type": "markdown",
   "metadata": {
    "id": "5vj-fqx35_un"
   },
   "source": [
    "\n",
    "\n",
    "```\n",
    "# Formatted as code\n",
    "```\n",
    "\n",
    "The MNIST dataset is included with Keras in the form of four Numpy tables:"
   ]
  },
  {
   "cell_type": "code",
   "execution_count": 41,
   "metadata": {
    "colab": {
     "base_uri": "https://localhost:8080/"
    },
    "id": "8RYWa3HT5_up",
    "outputId": "6125d070-7a42-4b1d-c0bc-077fd0c0eca4"
   },
   "outputs": [],
   "source": [
    "from keras.datasets import mnist\n",
    "\n",
    "(train_images, train_labels), (test_images, test_labels) = mnist.load_data()"
   ]
  },
  {
   "cell_type": "markdown",
   "metadata": {
    "id": "CWhxg1GH5_ur"
   },
   "source": [
    "Tablice train_images i train_labels create the training dataset. It will be used when training the model. For testing, we will use a test dataset, consisting of the arrays test_images and test_labels. The images are encoded as Numpy arrays and the labels are in the form of an array of numbers (0 through 9). Only one label is assigned to each image.\n",
    "\n",
    "Let's take a look at the training dataset:"
   ]
  },
  {
   "cell_type": "code",
   "execution_count": 42,
   "metadata": {
    "colab": {
     "base_uri": "https://localhost:8080/"
    },
    "id": "6lu2e-E_5_uu",
    "outputId": "c4529c5a-d1d1-49a3-91f3-97ba4160788d"
   },
   "outputs": [
    {
     "data": {
      "text/plain": [
       "(60000, 28, 28)"
      ]
     },
     "execution_count": 42,
     "metadata": {},
     "output_type": "execute_result"
    }
   ],
   "source": [
    "train_images.shape"
   ]
  },
  {
   "cell_type": "code",
   "execution_count": 43,
   "metadata": {
    "colab": {
     "base_uri": "https://localhost:8080/"
    },
    "id": "M9wlYG0Y5_uv",
    "outputId": "5b1b7e6c-60e5-4e9d-f696-4641dd478cd1"
   },
   "outputs": [
    {
     "data": {
      "text/plain": [
       "60000"
      ]
     },
     "execution_count": 43,
     "metadata": {},
     "output_type": "execute_result"
    }
   ],
   "source": [
    "len(train_labels)"
   ]
  },
  {
   "cell_type": "code",
   "execution_count": 44,
   "metadata": {
    "colab": {
     "base_uri": "https://localhost:8080/"
    },
    "id": "K91yePNi5_ux",
    "outputId": "6772b51e-0aba-4c49-c57a-8307320df148"
   },
   "outputs": [
    {
     "data": {
      "text/plain": [
       "array([5, 0, 4, ..., 5, 6, 8], dtype=uint8)"
      ]
     },
     "execution_count": 44,
     "metadata": {},
     "output_type": "execute_result"
    }
   ],
   "source": [
    "train_labels"
   ]
  },
  {
   "cell_type": "code",
   "execution_count": 45,
   "metadata": {},
   "outputs": [],
   "source": [
    "import numpy as np"
   ]
  },
  {
   "cell_type": "code",
   "execution_count": 46,
   "metadata": {},
   "outputs": [
    {
     "data": {
      "text/plain": [
       "array([0, 1, 2, 3, 4, 5, 6, 7, 8, 9], dtype=uint8)"
      ]
     },
     "execution_count": 46,
     "metadata": {},
     "output_type": "execute_result"
    }
   ],
   "source": [
    "np.unique(train_labels)"
   ]
  },
  {
   "cell_type": "markdown",
   "metadata": {
    "id": "q8narrhL5_u0"
   },
   "source": [
    "And now, let see how look testing data: "
   ]
  },
  {
   "cell_type": "code",
   "execution_count": 47,
   "metadata": {
    "colab": {
     "base_uri": "https://localhost:8080/"
    },
    "id": "I42mf8K-5_u2",
    "outputId": "b9719719-193d-4226-df95-711cb15f57cb"
   },
   "outputs": [
    {
     "data": {
      "text/plain": [
       "(10000, 28, 28)"
      ]
     },
     "execution_count": 47,
     "metadata": {},
     "output_type": "execute_result"
    }
   ],
   "source": [
    "test_images.shape"
   ]
  },
  {
   "cell_type": "code",
   "execution_count": 48,
   "metadata": {
    "colab": {
     "base_uri": "https://localhost:8080/"
    },
    "id": "nF96JbXs5_u4",
    "outputId": "49f87125-f01d-49af-c364-79c682d2c83c"
   },
   "outputs": [
    {
     "data": {
      "text/plain": [
       "10000"
      ]
     },
     "execution_count": 48,
     "metadata": {},
     "output_type": "execute_result"
    }
   ],
   "source": [
    "len(test_labels)"
   ]
  },
  {
   "cell_type": "code",
   "execution_count": 49,
   "metadata": {
    "colab": {
     "base_uri": "https://localhost:8080/"
    },
    "id": "QyowQccG5_u6",
    "outputId": "9f98f41a-a8d1-4f81-900e-514eb5ebed4b"
   },
   "outputs": [
    {
     "data": {
      "text/plain": [
       "array([7, 2, 1, ..., 4, 5, 6], dtype=uint8)"
      ]
     },
     "execution_count": 49,
     "metadata": {},
     "output_type": "execute_result"
    }
   ],
   "source": [
    "test_labels"
   ]
  },
  {
   "cell_type": "markdown",
   "metadata": {
    "id": "uk-2ZK6U5_u7"
   },
   "source": [
    "We will work according to the following workflow: first we will train the neural network on the training data: train_images and train_labels. The network will learn to associate images and labels. Then our network will generate predictions about the test_images set, and we will compare the results with the test_labels labels.\n",
    "\n",
    "Let's build our network. As a reminder, you do not yet need to understand everything that is happening in this example."
   ]
  },
  {
   "cell_type": "code",
   "execution_count": 50,
   "metadata": {
    "collapsed": true,
    "id": "chQ0J5Mt5_u9"
   },
   "outputs": [],
   "source": [
    "from keras import models\n",
    "from keras import layers\n",
    "from keras.layers import Dropout\n",
    "\n",
    "network = models.Sequential()\n",
    "network.add(layers.Dense(512, activation='relu', input_shape=(28 * 28,)))\n",
    "network.add(Dropout(0.4))\n",
    "network.add(layers.Dense(256, activation='tanh', input_shape=(28 * 28,)))\n",
    "network.add(layers.Dense(10, activation='softmax'))"
   ]
  },
  {
   "cell_type": "markdown",
   "metadata": {
    "id": "TXvMtL7r5_u-"
   },
   "source": [
    "The main building block of a neural network is the layer. It is a data processing module that can be treated as a data filter. The data going out of the filter has a more useful form than the data going into it. Some layers extract representations of the data directed to them - these representations should help solve the problem we are struggling with. Most of deep learning consists of combining simple layers together to implement progressive data distillation. The deep learning model is like a sieve that processes data made up of finer and finer grids - layers.\n",
    "\n",
    "Our network consists of a sequence of two Dense layers that are densely connected to each other (there is a dense connection here). The second layer is a ten-element softmax layer - this layer will return an array of 10 probability values ​​(the sum of all these values ​​equals 1). Each of these results determines the probability that a given image is represented by a given digit (the image may be one of ten digits).\n",
    "\n",
    "During the compilation phase, we need to define three more things in order to prepare the network for training. These are:\n",
    "\n",
    "* Loss function - this function defines how the network performance is measured while processing the training dataset, and thus allows you to tune the network parameters in the right direction.\n",
    "* Optimizer - a mechanism for tuning the network based on the data returned by the loss functions.\n",
    "* Metrics monitored during training and testing - here we are only interested in accuracy (the part of the images that has been properly classified).\n",
    "\n",
    "In the next two chapters, I will explain the purpose of using the loss and optimizer functions."
   ]
  },
  {
   "cell_type": "code",
   "execution_count": 51,
   "metadata": {
    "collapsed": true,
    "id": "S5y2RYYE5_vA"
   },
   "outputs": [],
   "source": [
    "network.compile(optimizer='adam',\n",
    "                loss='categorical_crossentropy',\n",
    "                metrics=['accuracy'])"
   ]
  },
  {
   "cell_type": "markdown",
   "metadata": {
    "id": "i9-FrGg-5_vB"
   },
   "source": [
    "\n",
    "Before we start training, we'll reshape the data so that it takes the shape expected by the network and scale it to a value in the range [0, 1]. Initially, our training images were saved in the form of a matrix with dimensions (60000, 28, 28), containing values ​​in the range [0, 255], and the uint8 type. We transform them into a float32 array with dimensions (60000, 28 * 28) containing values ​​from 0 to 1."
   ]
  },
  {
   "cell_type": "code",
   "execution_count": 52,
   "metadata": {
    "collapsed": true,
    "id": "5YaYMX5f5_vC"
   },
   "outputs": [],
   "source": [
    "train_images = train_images.reshape((60000, 28 * 28))\n",
    "train_images = train_images.astype('float32') / 255\n",
    "\n",
    "test_images = test_images.reshape((10000, 28 * 28))\n",
    "test_images = test_images.astype('float32') / 255"
   ]
  },
  {
   "cell_type": "code",
   "execution_count": 53,
   "metadata": {
    "colab": {
     "base_uri": "https://localhost:8080/"
    },
    "id": "BPA1nQoeMQ-p",
    "outputId": "f64301ce-b766-4446-a4a6-81363be8a7ca"
   },
   "outputs": [
    {
     "data": {
      "text/plain": [
       "array([5, 0, 4, ..., 5, 6, 8], dtype=uint8)"
      ]
     },
     "execution_count": 53,
     "metadata": {},
     "output_type": "execute_result"
    }
   ],
   "source": [
    "train_labels"
   ]
  },
  {
   "cell_type": "markdown",
   "metadata": {
    "id": "q_YhQunS5_vD"
   },
   "source": [
    "We have to additionally encode labels with categories\n",
    "\n",
    "> Block with indentation\n"
   ]
  },
  {
   "cell_type": "code",
   "execution_count": 54,
   "metadata": {},
   "outputs": [],
   "source": [
    "from tensorflow.keras.utils import to_categorical"
   ]
  },
  {
   "cell_type": "code",
   "execution_count": 55,
   "metadata": {
    "collapsed": true,
    "id": "RMIoSC1U5_vE"
   },
   "outputs": [],
   "source": [
    "# from tensorflow.keras.utils import to_categorical\n",
    "train_labels = to_categorical(train_labels)\n",
    "test_labels = to_categorical(test_labels)"
   ]
  },
  {
   "cell_type": "code",
   "execution_count": 56,
   "metadata": {},
   "outputs": [
    {
     "data": {
      "text/plain": [
       "array([0., 0., 0., 0., 0., 1., 0., 0., 0., 0.], dtype=float32)"
      ]
     },
     "execution_count": 56,
     "metadata": {},
     "output_type": "execute_result"
    }
   ],
   "source": [
    "train_labels[0]"
   ]
  },
  {
   "cell_type": "code",
   "execution_count": 58,
   "metadata": {
    "colab": {
     "base_uri": "https://localhost:8080/"
    },
    "id": "mDm7-fCN5_vG",
    "outputId": "4661ef28-8a1e-4c39-e676-b59d757b4ed1"
   },
   "outputs": [
    {
     "name": "stdout",
     "output_type": "stream",
     "text": [
      "Epoch 1/10\n",
      "118/118 [==============================] - 2s 16ms/step - loss: 0.0231 - accuracy: 0.9925\n",
      "Epoch 2/10\n",
      "118/118 [==============================] - 2s 15ms/step - loss: 0.0168 - accuracy: 0.9944\n",
      "Epoch 3/10\n",
      "118/118 [==============================] - 2s 17ms/step - loss: 0.0136 - accuracy: 0.9957\n",
      "Epoch 4/10\n",
      "118/118 [==============================] - 2s 16ms/step - loss: 0.0126 - accuracy: 0.9963\n",
      "Epoch 5/10\n",
      "118/118 [==============================] - 2s 19ms/step - loss: 0.0114 - accuracy: 0.9962\n",
      "Epoch 6/10\n",
      "118/118 [==============================] - 2s 16ms/step - loss: 0.0112 - accuracy: 0.9963\n",
      "Epoch 7/10\n",
      "118/118 [==============================] - 2s 16ms/step - loss: 0.0104 - accuracy: 0.9966\n",
      "Epoch 8/10\n",
      "118/118 [==============================] - 2s 16ms/step - loss: 0.0099 - accuracy: 0.9970\n",
      "Epoch 9/10\n",
      "118/118 [==============================] - 2s 17ms/step - loss: 0.0097 - accuracy: 0.9967\n",
      "Epoch 10/10\n",
      "118/118 [==============================] - 2s 16ms/step - loss: 0.0093 - accuracy: 0.9969\n"
     ]
    },
    {
     "data": {
      "text/plain": [
       "<keras.callbacks.History at 0x1e5816e17b0>"
      ]
     },
     "execution_count": 58,
     "metadata": {},
     "output_type": "execute_result"
    }
   ],
   "source": [
    "network.fit(train_images, train_labels, epochs=10, batch_size=512)"
   ]
  },
  {
   "cell_type": "markdown",
   "metadata": {
    "id": "pqpdYbPa5_vI"
   },
   "source": [
    "During training, two values ​​are displayed: net loss network accuracy (both values ​​are for the training dataset).\n",
    "\n",
    "During training, we quickly achieve accuracy of 0.989 (98.9%). Now we can check the processing accuracy of the test dataset:"
   ]
  },
  {
   "cell_type": "code",
   "execution_count": 59,
   "metadata": {
    "colab": {
     "base_uri": "https://localhost:8080/"
    },
    "id": "DGHu5FZq5_vK",
    "outputId": "4825894a-9ca4-4486-866d-0f240707d697"
   },
   "outputs": [
    {
     "name": "stdout",
     "output_type": "stream",
     "text": [
      "313/313 [==============================] - 1s 3ms/step - loss: 0.0598 - accuracy: 0.9851\n"
     ]
    }
   ],
   "source": [
    "test_loss, test_acc = network.evaluate(test_images, test_labels)"
   ]
  },
  {
   "cell_type": "code",
   "execution_count": 60,
   "metadata": {
    "colab": {
     "base_uri": "https://localhost:8080/"
    },
    "id": "XXvD7vO05_vM",
    "outputId": "931530af-78d7-4c6e-eafc-d418d30041bd",
    "scrolled": true
   },
   "outputs": [
    {
     "name": "stdout",
     "output_type": "stream",
     "text": [
      "test_acc: 0.9850999712944031\n"
     ]
    }
   ],
   "source": [
    "print('test_acc:', test_acc)"
   ]
  },
  {
   "cell_type": "markdown",
   "metadata": {
    "id": "06W1cwvB5_vN"
   },
   "source": [
    "\n",
    "In the case of the test data set, we obtained an accuracy of 97.8%, which is a slightly lower value than for the training set. The difference between these values ​​is due to overfitting. Machine learning models tend to process new data less accurately than training data. This issue is at the heart of Chapter 3.\n",
    "\n",
    "So much for our first example - you just saw that building and training a neural network to classify digits by hand can take less than 20 lines of Python code. In the next chapter, I will go into detail about all the lines of this code and explain what operations are performed in the background. You will learn what tensors, network data storage objects, and tensor operations are. You will learn about the structure of network layers and the gradient descent algorithm that enables networks to learn from a training dataset."
   ]
  },
  {
   "cell_type": "markdown",
   "metadata": {},
   "source": []
  }
 ],
 "metadata": {
  "colab": {
   "collapsed_sections": [],
   "name": "2_1_INT.ipynb",
   "provenance": []
  },
  "kernelspec": {
   "display_name": "Python 3.10.5 64-bit",
   "language": "python",
   "name": "python3"
  },
  "language_info": {
   "codemirror_mode": {
    "name": "ipython",
    "version": 3
   },
   "file_extension": ".py",
   "mimetype": "text/x-python",
   "name": "python",
   "nbconvert_exporter": "python",
   "pygments_lexer": "ipython3",
   "version": "3.10.5"
  },
  "vscode": {
   "interpreter": {
    "hash": "3429981c687d110c4c5c63635eed955f89f79b5c29f7b8819e5bb3afec2d8ca0"
   }
  }
 },
 "nbformat": 4,
 "nbformat_minor": 1
}
