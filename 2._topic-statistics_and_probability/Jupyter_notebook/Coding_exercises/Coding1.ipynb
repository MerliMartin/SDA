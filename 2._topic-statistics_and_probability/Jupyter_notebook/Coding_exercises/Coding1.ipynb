{
 "cells": [
  {
   "cell_type": "markdown",
   "id": "078e6ef8",
   "metadata": {},
   "source": [
    "**Import necessary package**"
   ]
  },
  {
   "cell_type": "code",
   "execution_count": 8,
   "id": "e5225f84",
   "metadata": {},
   "outputs": [],
   "source": [
    "import numpy as np"
   ]
  },
  {
   "cell_type": "markdown",
   "id": "82aee50c",
   "metadata": {},
   "source": [
    "**Create numpy arrays representing the vectors**"
   ]
  },
  {
   "cell_type": "code",
   "execution_count": 9,
   "id": "3645a7ee",
   "metadata": {},
   "outputs": [],
   "source": [
    "v = np.array([1,3,5])\n",
    "w = np.array([2,4,1])"
   ]
  },
  {
   "cell_type": "markdown",
   "id": "67b10df7",
   "metadata": {},
   "source": [
    "**Vector addition**"
   ]
  },
  {
   "cell_type": "code",
   "execution_count": 10,
   "id": "c883e6f9",
   "metadata": {},
   "outputs": [
    {
     "data": {
      "text/plain": [
       "array([3, 7, 6])"
      ]
     },
     "execution_count": 10,
     "metadata": {},
     "output_type": "execute_result"
    }
   ],
   "source": [
    "v + w"
   ]
  },
  {
   "cell_type": "markdown",
   "id": "7bbbdca4",
   "metadata": {},
   "source": [
    "**Vector multiplication by a scalar**"
   ]
  },
  {
   "cell_type": "code",
   "execution_count": 4,
   "id": "b5cffa44",
   "metadata": {},
   "outputs": [
    {
     "data": {
      "text/plain": [
       "array([ 2,  6, 10])"
      ]
     },
     "execution_count": 4,
     "metadata": {},
     "output_type": "execute_result"
    }
   ],
   "source": [
    "2 * v"
   ]
  },
  {
   "cell_type": "markdown",
   "id": "4e6127ae",
   "metadata": {},
   "source": [
    "**Dot product**"
   ]
  },
  {
   "cell_type": "code",
   "execution_count": 5,
   "id": "957ae2af",
   "metadata": {},
   "outputs": [
    {
     "data": {
      "text/plain": [
       "19"
      ]
     },
     "execution_count": 5,
     "metadata": {},
     "output_type": "execute_result"
    }
   ],
   "source": [
    "np.dot(v, w)"
   ]
  },
  {
   "cell_type": "markdown",
   "id": "94197c20",
   "metadata": {},
   "source": [
    "**Alternative way to make the dot product**"
   ]
  },
  {
   "cell_type": "code",
   "execution_count": 6,
   "id": "aade2f40",
   "metadata": {},
   "outputs": [
    {
     "data": {
      "text/plain": [
       "19"
      ]
     },
     "execution_count": 6,
     "metadata": {},
     "output_type": "execute_result"
    }
   ],
   "source": [
    "v  @ w"
   ]
  },
  {
   "cell_type": "code",
   "execution_count": null,
   "id": "e95af015",
   "metadata": {},
   "outputs": [],
   "source": []
  }
 ],
 "metadata": {
  "kernelspec": {
   "display_name": "Python 3 (ipykernel)",
   "language": "python",
   "name": "python3"
  },
  "language_info": {
   "codemirror_mode": {
    "name": "ipython",
    "version": 3
   },
   "file_extension": ".py",
   "mimetype": "text/x-python",
   "name": "python",
   "nbconvert_exporter": "python",
   "pygments_lexer": "ipython3",
   "version": "3.10.5"
  }
 },
 "nbformat": 4,
 "nbformat_minor": 5
}
