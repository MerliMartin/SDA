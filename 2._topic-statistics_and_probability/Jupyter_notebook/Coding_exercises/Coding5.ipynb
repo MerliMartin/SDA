{
 "cells": [
  {
   "cell_type": "code",
   "execution_count": 1,
   "id": "7f192c65",
   "metadata": {},
   "outputs": [],
   "source": [
    "import scipy.stats as scs"
   ]
  },
  {
   "cell_type": "markdown",
   "id": "b1c4a995",
   "metadata": {},
   "source": [
    "**Sample from Bernoulli distribution**"
   ]
  },
  {
   "cell_type": "code",
   "execution_count": 2,
   "id": "965fd79b",
   "metadata": {},
   "outputs": [
    {
     "data": {
      "text/plain": [
       "array([0, 0, 0, 0, 1, 1, 1, 1, 0, 0])"
      ]
     },
     "execution_count": 2,
     "metadata": {},
     "output_type": "execute_result"
    }
   ],
   "source": [
    "scs.bernoulli.rvs(p=0.2, size=10)"
   ]
  },
  {
   "cell_type": "markdown",
   "id": "b1f7c053",
   "metadata": {},
   "source": [
    "**Sample from Binomial distribution**"
   ]
  },
  {
   "cell_type": "code",
   "execution_count": 3,
   "id": "52efa640",
   "metadata": {},
   "outputs": [
    {
     "data": {
      "text/plain": [
       "array([2, 2, 2, 1, 3, 0, 0, 2, 0, 2])"
      ]
     },
     "execution_count": 3,
     "metadata": {},
     "output_type": "execute_result"
    }
   ],
   "source": [
    "scs.binom.rvs(n=5, p=0.2, size=10)"
   ]
  },
  {
   "cell_type": "markdown",
   "id": "bd063eb0",
   "metadata": {},
   "source": [
    "**Sample from Poisson distribution**"
   ]
  },
  {
   "cell_type": "code",
   "execution_count": 4,
   "id": "a2165bab",
   "metadata": {},
   "outputs": [
    {
     "data": {
      "text/plain": [
       "array([12, 14, 12, 11,  9, 13, 12, 12,  6,  4])"
      ]
     },
     "execution_count": 4,
     "metadata": {},
     "output_type": "execute_result"
    }
   ],
   "source": [
    "scs.poisson.rvs(mu=10, size=10)"
   ]
  },
  {
   "cell_type": "markdown",
   "id": "9c52bd6f",
   "metadata": {},
   "source": [
    "**Sample from Normal distribution**"
   ]
  },
  {
   "cell_type": "code",
   "execution_count": 5,
   "id": "f536fe97",
   "metadata": {},
   "outputs": [
    {
     "data": {
      "text/plain": [
       "array([ 0.21833459, -1.23561349,  2.80632175, -5.86726193,  1.27792102,\n",
       "        3.22338429,  4.27109837, -1.07165607,  4.07458587,  0.73423873])"
      ]
     },
     "execution_count": 5,
     "metadata": {},
     "output_type": "execute_result"
    }
   ],
   "source": [
    "scs.norm.rvs(loc=1, scale=5, size=10)"
   ]
  }
 ],
 "metadata": {
  "kernelspec": {
   "display_name": "Python 3 (ipykernel)",
   "language": "python",
   "name": "python3"
  },
  "language_info": {
   "codemirror_mode": {
    "name": "ipython",
    "version": 3
   },
   "file_extension": ".py",
   "mimetype": "text/x-python",
   "name": "python",
   "nbconvert_exporter": "python",
   "pygments_lexer": "ipython3",
   "version": "3.10.5"
  }
 },
 "nbformat": 4,
 "nbformat_minor": 5
}
