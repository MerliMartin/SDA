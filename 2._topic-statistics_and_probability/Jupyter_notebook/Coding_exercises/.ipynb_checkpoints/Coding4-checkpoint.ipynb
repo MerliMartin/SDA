{
 "cells": [
  {
   "cell_type": "code",
   "execution_count": 1,
   "id": "bdc1e376",
   "metadata": {},
   "outputs": [],
   "source": [
    "import numpy as np"
   ]
  },
  {
   "cell_type": "markdown",
   "id": "8e5a0321",
   "metadata": {},
   "source": [
    "**Sample value from normal distribution (jaotus)**"
   ]
  },
  {
   "cell_type": "code",
   "execution_count": 3,
   "id": "59cb8c11",
   "metadata": {},
   "outputs": [
    {
     "data": {
      "text/plain": [
       "-0.23388995188959802"
      ]
     },
     "execution_count": 3,
     "metadata": {},
     "output_type": "execute_result"
    }
   ],
   "source": [
    "np.random.normal()"
   ]
  },
  {
   "cell_type": "code",
   "execution_count": 11,
   "id": "2168bd35",
   "metadata": {},
   "outputs": [
    {
     "data": {
      "text/plain": [
       "array([[7.08542267, 7.54112517],\n",
       "       [5.46917895, 0.51421917],\n",
       "       [0.54104111, 0.14478193],\n",
       "       [5.86446455, 6.5378308 ],\n",
       "       [5.67195291, 3.07287282],\n",
       "       [2.54340314, 0.57256271]])"
      ]
     },
     "execution_count": 11,
     "metadata": {},
     "output_type": "execute_result"
    }
   ],
   "source": [
    "np.random.normal(loc=4, scale=3, size=(6,2)) #loc=mean, scale=standard deviation, size-the shape of the returned array"
   ]
  },
  {
   "cell_type": "markdown",
   "id": "af65d224",
   "metadata": {},
   "source": [
    "**Sample value from uniform distribution**"
   ]
  },
  {
   "cell_type": "code",
   "execution_count": 12,
   "id": "c9cfdaef",
   "metadata": {},
   "outputs": [
    {
     "data": {
      "text/plain": [
       "0.36736560026690557"
      ]
     },
     "execution_count": 12,
     "metadata": {},
     "output_type": "execute_result"
    }
   ],
   "source": [
    "np.random.uniform()"
   ]
  },
  {
   "cell_type": "markdown",
   "id": "906daea5",
   "metadata": {},
   "source": [
    "**Sample integr value from the range**"
   ]
  },
  {
   "cell_type": "code",
   "execution_count": 14,
   "id": "8f48435c",
   "metadata": {},
   "outputs": [
    {
     "data": {
      "text/plain": [
       "array([ 9, 24, 29, 22, 15, 26])"
      ]
     },
     "execution_count": 14,
     "metadata": {},
     "output_type": "execute_result"
    }
   ],
   "source": [
    "np.random.randint(3, 30, size=6)"
   ]
  },
  {
   "cell_type": "code",
   "execution_count": 21,
   "id": "69efe2c3",
   "metadata": {},
   "outputs": [],
   "source": [
    "x = np.random.normal(loc=2, scale=3, size=500)"
   ]
  },
  {
   "cell_type": "code",
   "execution_count": 22,
   "id": "b87f3035",
   "metadata": {},
   "outputs": [
    {
     "data": {
      "text/plain": [
       "2.0768225357950056"
      ]
     },
     "execution_count": 22,
     "metadata": {},
     "output_type": "execute_result"
    }
   ],
   "source": [
    "np.mean(x) #average value"
   ]
  },
  {
   "cell_type": "code",
   "execution_count": 17,
   "id": "ac969e05",
   "metadata": {},
   "outputs": [
    {
     "data": {
      "text/plain": [
       "3.1070579882452316"
      ]
     },
     "execution_count": 17,
     "metadata": {},
     "output_type": "execute_result"
    }
   ],
   "source": [
    "np.std(x)"
   ]
  },
  {
   "cell_type": "code",
   "execution_count": 18,
   "id": "d2ccac64",
   "metadata": {},
   "outputs": [
    {
     "data": {
      "text/plain": [
       "9.653809342318505"
      ]
     },
     "execution_count": 18,
     "metadata": {},
     "output_type": "execute_result"
    }
   ],
   "source": [
    "np.var(x)"
   ]
  },
  {
   "cell_type": "code",
   "execution_count": 25,
   "id": "c280ac53",
   "metadata": {},
   "outputs": [],
   "source": [
    "y = 3 + 5 * x"
   ]
  },
  {
   "cell_type": "code",
   "execution_count": 26,
   "id": "078f587b",
   "metadata": {},
   "outputs": [
    {
     "data": {
      "text/plain": [
       "array([[1., 1.],\n",
       "       [1., 1.]])"
      ]
     },
     "execution_count": 26,
     "metadata": {},
     "output_type": "execute_result"
    }
   ],
   "source": [
    "np.corrcoef(x, y)"
   ]
  },
  {
   "cell_type": "code",
   "execution_count": 27,
   "id": "f9ecb706",
   "metadata": {},
   "outputs": [],
   "source": [
    "y = np.random.normal(loc=0, scale=1, size=500)"
   ]
  },
  {
   "cell_type": "code",
   "execution_count": 28,
   "id": "eae6528f",
   "metadata": {},
   "outputs": [
    {
     "data": {
      "text/plain": [
       "array([[ 1.        , -0.00477362],\n",
       "       [-0.00477362,  1.        ]])"
      ]
     },
     "execution_count": 28,
     "metadata": {},
     "output_type": "execute_result"
    }
   ],
   "source": [
    "np.corrcoef(x, y)"
   ]
  },
  {
   "cell_type": "code",
   "execution_count": 29,
   "id": "e9c76389",
   "metadata": {},
   "outputs": [],
   "source": [
    "y = 3 + 5 * x + np.random.normal(loc=0, scale=1, size=500)"
   ]
  },
  {
   "cell_type": "code",
   "execution_count": 30,
   "id": "6fe3aaf0",
   "metadata": {},
   "outputs": [
    {
     "data": {
      "text/plain": [
       "array([[1.        , 0.99765864],\n",
       "       [0.99765864, 1.        ]])"
      ]
     },
     "execution_count": 30,
     "metadata": {},
     "output_type": "execute_result"
    }
   ],
   "source": [
    "np.corrcoef(x, y)"
   ]
  },
  {
   "cell_type": "code",
   "execution_count": 31,
   "id": "b1816426",
   "metadata": {},
   "outputs": [],
   "source": [
    "y = 3 + 5 * x + np.random.normal(loc=0, scale=10, size=500)"
   ]
  },
  {
   "cell_type": "code",
   "execution_count": 32,
   "id": "44e495e2",
   "metadata": {},
   "outputs": [
    {
     "data": {
      "text/plain": [
       "array([[1.        , 0.81857149],\n",
       "       [0.81857149, 1.        ]])"
      ]
     },
     "execution_count": 32,
     "metadata": {},
     "output_type": "execute_result"
    }
   ],
   "source": [
    "np.corrcoef(x, y)"
   ]
  }
 ],
 "metadata": {
  "kernelspec": {
   "display_name": "Python 3 (ipykernel)",
   "language": "python",
   "name": "python3"
  },
  "language_info": {
   "codemirror_mode": {
    "name": "ipython",
    "version": 3
   },
   "file_extension": ".py",
   "mimetype": "text/x-python",
   "name": "python",
   "nbconvert_exporter": "python",
   "pygments_lexer": "ipython3",
   "version": "3.10.5"
  }
 },
 "nbformat": 4,
 "nbformat_minor": 5
}
