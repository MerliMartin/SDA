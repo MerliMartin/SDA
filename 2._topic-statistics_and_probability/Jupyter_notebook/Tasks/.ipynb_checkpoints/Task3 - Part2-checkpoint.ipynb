{
 "cells": [
  {
   "cell_type": "code",
   "execution_count": 50,
   "id": "e54bfa6c",
   "metadata": {},
   "outputs": [],
   "source": [
    "import numpy as np # NumPy is most popular python library for numeralic computing\n",
    "from scipy.spatial.distance import euclidean # SciPy is python library for scientific computing "
   ]
  },
  {
   "cell_type": "markdown",
   "id": "504fe6e9",
   "metadata": {},
   "source": [
    "Create a function that takes two vectors (both with the same dimension) as a numpy array and \n",
    "returns the Euclidean distance between them."
   ]
  },
  {
   "cell_type": "markdown",
   "id": "ba169ce3",
   "metadata": {},
   "source": [
    "**1-D with 2 aruments x,y**"
   ]
  },
  {
   "cell_type": "code",
   "execution_count": 46,
   "id": "85a18389",
   "metadata": {},
   "outputs": [],
   "source": [
    "v1 = np.array([1,2])\n",
    "w1 = np.array([3,4])"
   ]
  },
  {
   "cell_type": "markdown",
   "id": "c74b245f",
   "metadata": {},
   "source": [
    "Euclidean distance"
   ]
  },
  {
   "cell_type": "code",
   "execution_count": 45,
   "id": "47cc5df3",
   "metadata": {},
   "outputs": [
    {
     "data": {
      "text/plain": [
       "2.8284271247461903"
      ]
     },
     "execution_count": 45,
     "metadata": {},
     "output_type": "execute_result"
    }
   ],
   "source": [
    "d1 = np.sqrt(np.sum((w1-v1)**2))\n",
    "d1"
   ]
  },
  {
   "cell_type": "code",
   "execution_count": 44,
   "id": "40189151",
   "metadata": {},
   "outputs": [
    {
     "data": {
      "text/plain": [
       "2.8284271247461903"
      ]
     },
     "execution_count": 44,
     "metadata": {},
     "output_type": "execute_result"
    }
   ],
   "source": [
    "d1_2 = np.linalg.norm(w1-v1) # NumPy built-in function to calculate Euclidean distance\n",
    "d1_2"
   ]
  },
  {
   "cell_type": "code",
   "execution_count": 43,
   "id": "1dc78e1b",
   "metadata": {},
   "outputs": [
    {
     "data": {
      "text/plain": [
       "2.8284271247461903"
      ]
     },
     "execution_count": 43,
     "metadata": {},
     "output_type": "execute_result"
    }
   ],
   "source": [
    "d1_3 = euclidean(w1,v1) #SciPy built-in function for Euclidean distance\n",
    "d1_3"
   ]
  },
  {
   "cell_type": "markdown",
   "id": "48153b3e",
   "metadata": {},
   "source": [
    "**1-D with 3 arguments x,y,z**"
   ]
  },
  {
   "cell_type": "code",
   "execution_count": 30,
   "id": "d49e5589",
   "metadata": {},
   "outputs": [],
   "source": [
    "v2 = np.array([1,2,3])\n",
    "w2 = np.array([4,5,6])"
   ]
  },
  {
   "cell_type": "code",
   "execution_count": 31,
   "id": "e186ae65",
   "metadata": {},
   "outputs": [
    {
     "data": {
      "text/plain": [
       "5.196152422706632"
      ]
     },
     "execution_count": 31,
     "metadata": {},
     "output_type": "execute_result"
    }
   ],
   "source": [
    "d2 = np.sqrt(np.sum((w2-v2)**2))\n",
    "d2"
   ]
  },
  {
   "cell_type": "markdown",
   "id": "80fdaef7",
   "metadata": {},
   "source": [
    "**3x3 matrix**"
   ]
  },
  {
   "cell_type": "code",
   "execution_count": 32,
   "id": "ce28eea7",
   "metadata": {},
   "outputs": [],
   "source": [
    "v3 = np.array([\n",
    "    [1,2,3],\n",
    "    [4,5,6],\n",
    "    [7,8,9]\n",
    "])\n",
    "w3 = np.array([\n",
    "    [3,2,1],\n",
    "    [6,5,4],\n",
    "    [9,8,7]\n",
    "])"
   ]
  },
  {
   "cell_type": "code",
   "execution_count": 33,
   "id": "6eec8a57",
   "metadata": {},
   "outputs": [
    {
     "data": {
      "text/plain": [
       "4.898979485566356"
      ]
     },
     "execution_count": 33,
     "metadata": {},
     "output_type": "execute_result"
    }
   ],
   "source": [
    "d3 = np.sqrt(np.sum((w3-v3)**2))\n",
    "d3"
   ]
  },
  {
   "cell_type": "code",
   "execution_count": 49,
   "id": "7306a6fa",
   "metadata": {},
   "outputs": [
    {
     "data": {
      "text/plain": [
       "4.898979485566356"
      ]
     },
     "execution_count": 49,
     "metadata": {},
     "output_type": "execute_result"
    }
   ],
   "source": [
    "d3_2 = np.linalg.norm(w3-v3)\n",
    "d3_2"
   ]
  }
 ],
 "metadata": {
  "kernelspec": {
   "display_name": "Python 3 (ipykernel)",
   "language": "python",
   "name": "python3"
  },
  "language_info": {
   "codemirror_mode": {
    "name": "ipython",
    "version": 3
   },
   "file_extension": ".py",
   "mimetype": "text/x-python",
   "name": "python",
   "nbconvert_exporter": "python",
   "pygments_lexer": "ipython3",
   "version": "3.10.5"
  }
 },
 "nbformat": 4,
 "nbformat_minor": 5
}
