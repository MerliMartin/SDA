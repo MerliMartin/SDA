{
 "cells": [
  {
   "cell_type": "code",
   "execution_count": 1,
   "id": "0ac6d6fe",
   "metadata": {},
   "outputs": [],
   "source": [
    "import numpy as np"
   ]
  },
  {
   "cell_type": "markdown",
   "id": "96a59838",
   "metadata": {},
   "source": [
    "**Create a 4 by 4 matrix using numpy**"
   ]
  },
  {
   "cell_type": "code",
   "execution_count": 4,
   "id": "69c94699",
   "metadata": {},
   "outputs": [
    {
     "data": {
      "text/plain": [
       "array([[2, 4, 7, 5],\n",
       "       [5, 6, 8, 1],\n",
       "       [7, 7, 1, 3],\n",
       "       [9, 1, 5, 6]])"
      ]
     },
     "execution_count": 4,
     "metadata": {},
     "output_type": "execute_result"
    }
   ],
   "source": [
    "matrix1 = np.array([\n",
    "    [2,4,7,5],\n",
    "    [5,6,8,1],\n",
    "    [7,7,1,3],\n",
    "    [9,1,5,6]\n",
    "])\n",
    "matrix1"
   ]
  },
  {
   "cell_type": "markdown",
   "id": "8add090c",
   "metadata": {},
   "source": [
    "**Calculate its determinant**"
   ]
  },
  {
   "cell_type": "code",
   "execution_count": 5,
   "id": "21c79018",
   "metadata": {},
   "outputs": [
    {
     "data": {
      "text/plain": [
       "2405.0"
      ]
     },
     "execution_count": 5,
     "metadata": {},
     "output_type": "execute_result"
    }
   ],
   "source": [
    "np.linalg.det(matrix1)"
   ]
  },
  {
   "cell_type": "markdown",
   "id": "e4f64de6",
   "metadata": {},
   "source": [
    "**Calculate its inverse matrix**"
   ]
  },
  {
   "cell_type": "code",
   "execution_count": 6,
   "id": "753232c5",
   "metadata": {},
   "outputs": [
    {
     "data": {
      "text/plain": [
       "array([[-0.13804574,  0.05779626,  0.01538462,  0.0977131 ],\n",
       "       [ 0.05779626,  0.0029106 ,  0.12307692, -0.11018711],\n",
       "       [ 0.02037422,  0.10893971, -0.10769231,  0.01871102],\n",
       "       [ 0.18045738, -0.17796258,  0.04615385,  0.02286902]])"
      ]
     },
     "execution_count": 6,
     "metadata": {},
     "output_type": "execute_result"
    }
   ],
   "source": [
    "np.linalg.inv(matrix1)"
   ]
  },
  {
   "cell_type": "markdown",
   "id": "bdbf5e94",
   "metadata": {},
   "source": [
    "**Calculate its eigenvalues and eigenvectors**"
   ]
  },
  {
   "cell_type": "code",
   "execution_count": 7,
   "id": "ab3777ea",
   "metadata": {},
   "outputs": [
    {
     "data": {
      "text/plain": [
       "(array([19.07152254,  5.74005717, -3.45747642, -6.35410329]),\n",
       " array([[ 0.47177065,  0.13151436, -0.5555581 ,  0.59428552],\n",
       "        [ 0.51008179, -0.57896196,  0.46572256,  0.25569482],\n",
       "        [ 0.47060442, -0.16191191, -0.28190615, -0.74739507],\n",
       "        [ 0.54385706,  0.7882205 ,  0.62847961, -0.15114728]]))"
      ]
     },
     "execution_count": 7,
     "metadata": {},
     "output_type": "execute_result"
    }
   ],
   "source": [
    "np.linalg.eig(matrix1)"
   ]
  }
 ],
 "metadata": {
  "kernelspec": {
   "display_name": "Python 3 (ipykernel)",
   "language": "python",
   "name": "python3"
  },
  "language_info": {
   "codemirror_mode": {
    "name": "ipython",
    "version": 3
   },
   "file_extension": ".py",
   "mimetype": "text/x-python",
   "name": "python",
   "nbconvert_exporter": "python",
   "pygments_lexer": "ipython3",
   "version": "3.10.5"
  }
 },
 "nbformat": 4,
 "nbformat_minor": 5
}
