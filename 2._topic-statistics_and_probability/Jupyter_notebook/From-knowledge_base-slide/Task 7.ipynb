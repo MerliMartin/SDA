{
 "cells": [
  {
   "cell_type": "markdown",
   "id": "18c79a76",
   "metadata": {},
   "source": [
    "**Create any array of values and then calculate the mean and \n",
    "median**"
   ]
  },
  {
   "cell_type": "code",
   "execution_count": 1,
   "id": "bb9c6797",
   "metadata": {},
   "outputs": [],
   "source": [
    "import numpy as np"
   ]
  },
  {
   "cell_type": "code",
   "execution_count": 4,
   "id": "1e9754c3",
   "metadata": {},
   "outputs": [
    {
     "data": {
      "text/plain": [
       "array([1, 3, 5, 7, 9])"
      ]
     },
     "execution_count": 4,
     "metadata": {},
     "output_type": "execute_result"
    }
   ],
   "source": [
    "array_7 = np.arange(1, 11, 2)  # created array with range of 1 to 10 with a step\n",
    "array_7"
   ]
  },
  {
   "cell_type": "code",
   "execution_count": 5,
   "id": "1ad4c063",
   "metadata": {},
   "outputs": [
    {
     "data": {
      "text/plain": [
       "5.0"
      ]
     },
     "execution_count": 5,
     "metadata": {},
     "output_type": "execute_result"
    }
   ],
   "source": [
    "first_mean = np.mean(array_7)\n",
    "first_mean"
   ]
  },
  {
   "cell_type": "code",
   "execution_count": 7,
   "id": "d00fe77f",
   "metadata": {},
   "outputs": [
    {
     "data": {
      "text/plain": [
       "5.0"
      ]
     },
     "execution_count": 7,
     "metadata": {},
     "output_type": "execute_result"
    }
   ],
   "source": [
    "first_median = np.median(array_7)\n",
    "first_median"
   ]
  },
  {
   "cell_type": "markdown",
   "id": "cd300cb8",
   "metadata": {},
   "source": [
    "### My own thought odd size array"
   ]
  },
  {
   "cell_type": "code",
   "execution_count": 8,
   "id": "56592f92",
   "metadata": {},
   "outputs": [
    {
     "data": {
      "text/plain": [
       "array([15, 21, 17,  2,  3,  8, 25])"
      ]
     },
     "execution_count": 8,
     "metadata": {},
     "output_type": "execute_result"
    }
   ],
   "source": [
    "my_array = np.array([15, 21, 17, 2, 3, 8, 25])\n",
    "my_array"
   ]
  },
  {
   "cell_type": "code",
   "execution_count": 9,
   "id": "2d3499f7",
   "metadata": {},
   "outputs": [
    {
     "data": {
      "text/plain": [
       "15.0"
      ]
     },
     "execution_count": 9,
     "metadata": {},
     "output_type": "execute_result"
    }
   ],
   "source": [
    "np.median(my_array)"
   ]
  },
  {
   "cell_type": "code",
   "execution_count": 10,
   "id": "5192f1ec",
   "metadata": {},
   "outputs": [
    {
     "data": {
      "text/plain": [
       "array([ 2,  3,  8, 15, 17, 21, 25])"
      ]
     },
     "execution_count": 10,
     "metadata": {},
     "output_type": "execute_result"
    }
   ],
   "source": [
    "np.sort(my_array)"
   ]
  },
  {
   "cell_type": "code",
   "execution_count": 11,
   "id": "7200ad78",
   "metadata": {},
   "outputs": [
    {
     "data": {
      "text/plain": [
       "7"
      ]
     },
     "execution_count": 11,
     "metadata": {},
     "output_type": "execute_result"
    }
   ],
   "source": [
    "my_array.size"
   ]
  },
  {
   "cell_type": "code",
   "execution_count": 13,
   "id": "af4089c8",
   "metadata": {},
   "outputs": [
    {
     "data": {
      "text/plain": [
       "91"
      ]
     },
     "execution_count": 13,
     "metadata": {},
     "output_type": "execute_result"
    }
   ],
   "source": [
    "np.sum(my_array)"
   ]
  },
  {
   "cell_type": "code",
   "execution_count": 14,
   "id": "81570cb5",
   "metadata": {},
   "outputs": [
    {
     "data": {
      "text/plain": [
       "13.0"
      ]
     },
     "execution_count": 14,
     "metadata": {},
     "output_type": "execute_result"
    }
   ],
   "source": [
    "91/7"
   ]
  },
  {
   "cell_type": "code",
   "execution_count": 15,
   "id": "f635c853",
   "metadata": {},
   "outputs": [
    {
     "data": {
      "text/plain": [
       "13.0"
      ]
     },
     "execution_count": 15,
     "metadata": {},
     "output_type": "execute_result"
    }
   ],
   "source": [
    "np.mean(my_array)"
   ]
  },
  {
   "cell_type": "markdown",
   "id": "ae746544",
   "metadata": {},
   "source": [
    "### My own thought even size array"
   ]
  },
  {
   "cell_type": "code",
   "execution_count": 16,
   "id": "818e422a",
   "metadata": {},
   "outputs": [
    {
     "data": {
      "text/plain": [
       "array([15,  2,  3,  8, 20,  7, 18, 11])"
      ]
     },
     "execution_count": 16,
     "metadata": {},
     "output_type": "execute_result"
    }
   ],
   "source": [
    "even_array = np.array([15, 2, 3, 8, 20, 7, 18, 11])\n",
    "even_array"
   ]
  },
  {
   "cell_type": "code",
   "execution_count": 18,
   "id": "2ef4f49a",
   "metadata": {},
   "outputs": [
    {
     "data": {
      "text/plain": [
       "array([ 2,  3,  7,  8, 11, 15, 18, 20])"
      ]
     },
     "execution_count": 18,
     "metadata": {},
     "output_type": "execute_result"
    }
   ],
   "source": [
    "np.sort(even_array)"
   ]
  },
  {
   "cell_type": "code",
   "execution_count": 19,
   "id": "3fc3eaf1",
   "metadata": {},
   "outputs": [
    {
     "data": {
      "text/plain": [
       "9.5"
      ]
     },
     "execution_count": 19,
     "metadata": {},
     "output_type": "execute_result"
    }
   ],
   "source": [
    "np.median(even_array)"
   ]
  },
  {
   "cell_type": "code",
   "execution_count": 20,
   "id": "0369d29e",
   "metadata": {},
   "outputs": [
    {
     "data": {
      "text/plain": [
       "array([15,  2,  3,  8, 20,  7, 18, 11])"
      ]
     },
     "execution_count": 20,
     "metadata": {},
     "output_type": "execute_result"
    }
   ],
   "source": [
    "even_array"
   ]
  },
  {
   "cell_type": "code",
   "execution_count": 21,
   "id": "30e760bd",
   "metadata": {},
   "outputs": [
    {
     "data": {
      "text/plain": [
       "84"
      ]
     },
     "execution_count": 21,
     "metadata": {},
     "output_type": "execute_result"
    }
   ],
   "source": [
    "np.sum(even_array)"
   ]
  },
  {
   "cell_type": "code",
   "execution_count": 22,
   "id": "4ca182de",
   "metadata": {},
   "outputs": [
    {
     "data": {
      "text/plain": [
       "8"
      ]
     },
     "execution_count": 22,
     "metadata": {},
     "output_type": "execute_result"
    }
   ],
   "source": [
    "even_array.size"
   ]
  },
  {
   "cell_type": "code",
   "execution_count": 23,
   "id": "14e4ce43",
   "metadata": {},
   "outputs": [
    {
     "data": {
      "text/plain": [
       "10.5"
      ]
     },
     "execution_count": 23,
     "metadata": {},
     "output_type": "execute_result"
    }
   ],
   "source": [
    "84/8"
   ]
  },
  {
   "cell_type": "code",
   "execution_count": 24,
   "id": "1ffd0458",
   "metadata": {},
   "outputs": [
    {
     "data": {
      "text/plain": [
       "10.5"
      ]
     },
     "execution_count": 24,
     "metadata": {},
     "output_type": "execute_result"
    }
   ],
   "source": [
    "np.mean(even_array)"
   ]
  }
 ],
 "metadata": {
  "kernelspec": {
   "display_name": "Python 3 (ipykernel)",
   "language": "python",
   "name": "python3"
  },
  "language_info": {
   "codemirror_mode": {
    "name": "ipython",
    "version": 3
   },
   "file_extension": ".py",
   "mimetype": "text/x-python",
   "name": "python",
   "nbconvert_exporter": "python",
   "pygments_lexer": "ipython3",
   "version": "3.10.5"
  }
 },
 "nbformat": 4,
 "nbformat_minor": 5
}
