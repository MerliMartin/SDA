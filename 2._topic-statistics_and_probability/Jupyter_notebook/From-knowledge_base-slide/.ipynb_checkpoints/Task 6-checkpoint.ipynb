{
 "cells": [
  {
   "cell_type": "code",
   "execution_count": 1,
   "id": "b2727da0",
   "metadata": {},
   "outputs": [],
   "source": [
    "import numpy as np"
   ]
  },
  {
   "cell_type": "markdown",
   "id": "6e1a015e",
   "metadata": {},
   "source": [
    "Create the 4x4 matrix below, then:<br>\n",
    "1. display item from second row and third column,\n",
    "2. calculate its determinant,\n",
    "3. calculate its trace (sum of elements on the main diagonal),\n",
    "4. find the largest and smallest item"
   ]
  },
  {
   "cell_type": "code",
   "execution_count": 2,
   "id": "bd123269",
   "metadata": {},
   "outputs": [
    {
     "data": {
      "text/plain": [
       "array([[ 1, 15,  4, 13],\n",
       "       [ 8, 21,  3, 12],\n",
       "       [11, 13, 11,  5],\n",
       "       [32, 13,  0,  2]])"
      ]
     },
     "execution_count": 2,
     "metadata": {},
     "output_type": "execute_result"
    }
   ],
   "source": [
    "matrix_1 = np.array([\n",
    "    [1,15,4,13],\n",
    "    [8,21,3,12],\n",
    "    [11,13,11,5],\n",
    "    [32,13,0,2]\n",
    "])\n",
    "matrix_1"
   ]
  },
  {
   "cell_type": "markdown",
   "id": "3179a017",
   "metadata": {},
   "source": [
    "1. display item from second row and third column,"
   ]
  },
  {
   "cell_type": "code",
   "execution_count": 5,
   "id": "0e176b1e",
   "metadata": {},
   "outputs": [
    {
     "data": {
      "text/plain": [
       "3"
      ]
     },
     "execution_count": 5,
     "metadata": {},
     "output_type": "execute_result"
    }
   ],
   "source": [
    "matrix_1[1,2]"
   ]
  },
  {
   "cell_type": "markdown",
   "id": "0724f36a",
   "metadata": {},
   "source": [
    "2. calculate the determinant"
   ]
  },
  {
   "cell_type": "code",
   "execution_count": 6,
   "id": "4279e6b4",
   "metadata": {},
   "outputs": [
    {
     "data": {
      "text/plain": [
       "-19963.99999999999"
      ]
     },
     "execution_count": 6,
     "metadata": {},
     "output_type": "execute_result"
    }
   ],
   "source": [
    "np.linalg.det(matrix_1)"
   ]
  },
  {
   "cell_type": "markdown",
   "id": "4d33ef1b",
   "metadata": {},
   "source": [
    "3. calculate its trace (sum of elements on the main diagonal)"
   ]
  },
  {
   "cell_type": "code",
   "execution_count": 7,
   "id": "4d1e39de",
   "metadata": {},
   "outputs": [
    {
     "data": {
      "text/plain": [
       "35"
      ]
     },
     "execution_count": 7,
     "metadata": {},
     "output_type": "execute_result"
    }
   ],
   "source": [
    "matrix_1.diagonal().sum()"
   ]
  },
  {
   "cell_type": "code",
   "execution_count": 9,
   "id": "49b7273e",
   "metadata": {},
   "outputs": [
    {
     "data": {
      "text/plain": [
       "35"
      ]
     },
     "execution_count": 9,
     "metadata": {},
     "output_type": "execute_result"
    }
   ],
   "source": [
    "np.trace(matrix_1)  # alternative way to calculate diagonal sum"
   ]
  },
  {
   "cell_type": "markdown",
   "id": "5a6fdf85",
   "metadata": {},
   "source": [
    "4. find the largest and smallest item"
   ]
  },
  {
   "cell_type": "code",
   "execution_count": 14,
   "id": "6ff9fd5f",
   "metadata": {},
   "outputs": [
    {
     "data": {
      "text/plain": [
       "32"
      ]
     },
     "execution_count": 14,
     "metadata": {},
     "output_type": "execute_result"
    }
   ],
   "source": [
    "np.max(matrix_1)  # largest item i.e. it means the largest element in the matrix i.e. the largest number in matrix"
   ]
  },
  {
   "cell_type": "code",
   "execution_count": 12,
   "id": "7191823c",
   "metadata": {},
   "outputs": [
    {
     "data": {
      "text/plain": [
       "0"
      ]
     },
     "execution_count": 12,
     "metadata": {},
     "output_type": "execute_result"
    }
   ],
   "source": [
    "np.min(matrix_1)  # smallest item "
   ]
  }
 ],
 "metadata": {
  "kernelspec": {
   "display_name": "Python 3 (ipykernel)",
   "language": "python",
   "name": "python3"
  },
  "language_info": {
   "codemirror_mode": {
    "name": "ipython",
    "version": 3
   },
   "file_extension": ".py",
   "mimetype": "text/x-python",
   "name": "python",
   "nbconvert_exporter": "python",
   "pygments_lexer": "ipython3",
   "version": "3.10.5"
  }
 },
 "nbformat": 4,
 "nbformat_minor": 5
}
