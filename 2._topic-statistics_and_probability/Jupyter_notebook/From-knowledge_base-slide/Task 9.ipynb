{
 "cells": [
  {
   "cell_type": "markdown",
   "id": "f9e1be98",
   "metadata": {},
   "source": [
    "**Create a function that takes two vectors (both with the same \n",
    "dimension) as a numpy array and returns the Euclidean distance \n",
    "between them**"
   ]
  },
  {
   "cell_type": "code",
   "execution_count": 2,
   "id": "74743997",
   "metadata": {},
   "outputs": [],
   "source": [
    "import numpy as np"
   ]
  },
  {
   "cell_type": "code",
   "execution_count": 3,
   "id": "c0efd262",
   "metadata": {},
   "outputs": [],
   "source": [
    "one_vector = np.array([11, 2, 5, 7, 9, 5])\n",
    "second_vector = np.array([7, 9, 12, 5, 7, 3])"
   ]
  },
  {
   "cell_type": "code",
   "execution_count": 4,
   "id": "3834743a",
   "metadata": {},
   "outputs": [
    {
     "data": {
      "text/plain": [
       "11.224972160321824"
      ]
     },
     "execution_count": 4,
     "metadata": {},
     "output_type": "execute_result"
    }
   ],
   "source": [
    "np.sqrt(np.sum((np.subtract(one_vector, second_vector))**2))"
   ]
  },
  {
   "cell_type": "code",
   "execution_count": 7,
   "id": "9fff34d1",
   "metadata": {},
   "outputs": [
    {
     "data": {
      "text/plain": [
       "11.224972160321824"
      ]
     },
     "execution_count": 7,
     "metadata": {},
     "output_type": "execute_result"
    }
   ],
   "source": [
    "np.linalg.norm(one_vector - second_vector)"
   ]
  },
  {
   "cell_type": "code",
   "execution_count": 8,
   "id": "b93640f6",
   "metadata": {},
   "outputs": [
    {
     "data": {
      "text/plain": [
       "11.224972160321824"
      ]
     },
     "execution_count": 8,
     "metadata": {},
     "output_type": "execute_result"
    }
   ],
   "source": [
    "np.sqrt(np.sum(np.square(np.subtract(one_vector, second_vector))))"
   ]
  }
 ],
 "metadata": {
  "kernelspec": {
   "display_name": "Python 3 (ipykernel)",
   "language": "python",
   "name": "python3"
  },
  "language_info": {
   "codemirror_mode": {
    "name": "ipython",
    "version": 3
   },
   "file_extension": ".py",
   "mimetype": "text/x-python",
   "name": "python",
   "nbconvert_exporter": "python",
   "pygments_lexer": "ipython3",
   "version": "3.10.5"
  }
 },
 "nbformat": 4,
 "nbformat_minor": 5
}
