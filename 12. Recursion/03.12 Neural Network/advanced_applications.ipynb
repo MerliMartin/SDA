{
  "cells": [
    {
      "cell_type": "code",
      "execution_count": 1,
      "metadata": {
        "colab": {
          "base_uri": "https://localhost:8080/",
          "height": 35
        },
        "id": "eeYUtY6xms2E",
        "outputId": "ee4ce00f-2032-4a1c-f9e1-c94169c5a837"
      },
      "outputs": [
        {
          "data": {
            "text/plain": [
              "'2.10.0'"
            ]
          },
          "execution_count": 1,
          "metadata": {},
          "output_type": "execute_result"
        }
      ],
      "source": [
        "from tensorflow import keras\n",
        "keras.__version__"
      ]
    },
    {
      "cell_type": "markdown",
      "metadata": {
        "id": "3qkJ0Oglms2L"
      },
      "source": [
        "# Advanced applications of recursive neural networks\n",
        "\n",
        "We will present  three advanced techniques to improve the performance of recursive neural networks and their ability to create generalizations. All three techniques will be presented on the example of predicting temperature. This is done on the basis of a set in the form of a time series of values read from sensors mounted on the roof of the building. These values determine the temperature, pressure and humidity of the air. We will use them to predict the temperature in 24 hours from the last observation. This is quite a difficult task. On the basis of this tak we will be able to draw attention to many difficulties encountered when working with time series data.\n",
        "\n",
        "We will describe the following techniques:\n",
        "* Recursive rejection – A built-in rejection algorithm designed to prevent recursive layers from being overshadowed;\n",
        "* creating stacks of recursive layers – this technique is aimed at increasing the power of creating representations over the network at the expense of having to perform more complex calculations;\n",
        "* Bidirectional recursive layers – layers that present the same information in a recursive network, but do so in different ways; this solution increases accuracy and solves problems with the loss of information."
      ]
    },
    {
      "cell_type": "markdown",
      "metadata": {
        "id": "7slsFzK0ms2M"
      },
      "source": [
        "## The problem of temperature forecasting\n",
        "\n",
        "So far, we have only used sequential data in the form of text (e.g. IMDB and Reuters datasets), but sequential data is also found in many other problems beyond the scope of  language processing. In all the examples presented in this section, we will work with a set of weather data recorded at the weather station of the Max Planck Institute for Biogeochemistry in the German city of Jena: http://www.bgc-jena.mpg.de/wetter/.\n",
        "\n",
        "This collection contains 14 quantities, such as air temperature, atmospheric pressure, humidity and wind direction. The data was read from the sensors every 10 minutes over a 7-year period. The original set contains data dating back to 2003, but let's limit ourselves to an example of data from 2009 to 2016. This is great for learning to work with numerical time series data. We will use them to build a model that accepts data from the recent past (measurements from several days) and predicts the air temperature in 24 hours."
      ]
    },
    {
      "cell_type": "markdown",
      "metadata": {
        "id": "fMcfOIglms2N"
      },
      "source": [
        "Let us look at the data:"
      ]
    },
    {
      "cell_type": "code",
      "execution_count": 2,
      "metadata": {
        "colab": {
          "base_uri": "https://localhost:8080/"
        },
        "id": "9xLKoogrYpEO",
        "outputId": "7452d8c2-b246-4d71-dfd3-0e86fa67a0f2"
      },
      "outputs": [
        {
          "name": "stderr",
          "output_type": "stream",
          "text": [
            "  % Total    % Received % Xferd  Average Speed   Time    Time     Time  Current\n",
            "                                 Dload  Upload   Total   Spent    Left  Speed\n",
            "\n",
            "  0     0    0     0    0     0      0      0 --:--:-- --:--:-- --:--:--     0\n",
            "  0     0    0     0    0     0      0      0 --:--:--  0:00:01 --:--:--     0\n",
            "  0 41.1M    0  2742    0     0   1223      0  9:48:13  0:00:02  9:48:11  1224\n",
            "  3 41.1M    3 1520k    0     0   511k      0  0:01:22  0:00:02  0:01:20  511k\n",
            "  8 41.1M    8 3392k    0     0   854k      0  0:00:49  0:00:03  0:00:46  854k\n",
            " 11 41.1M   11 4768k    0     0   958k      0  0:00:43  0:00:04  0:00:39  958k\n",
            " 16 41.1M   16 6784k    0     0  1136k      0  0:00:37  0:00:05  0:00:32 1488k\n",
            " 20 41.1M   20 8448k    0     0  1212k      0  0:00:34  0:00:06  0:00:28 1786k\n",
            " 23 41.1M   23  9.8M    0     0  1264k      0  0:00:33  0:00:07  0:00:26 1712k\n",
            " 27 41.1M   27 11.3M    0     0  1298k      0  0:00:32  0:00:08  0:00:24 1651k\n",
            " 31 41.1M   31 13.0M    0     0  1334k      0  0:00:31  0:00:09  0:00:22 1708k\n",
            " 36 41.1M   36 15.2M    0     0  1420k      0  0:00:29  0:00:10  0:00:19 1760k\n",
            " 40 41.1M   40 16.7M    0     0  1433k      0  0:00:29  0:00:11  0:00:18 1740k\n",
            " 45 41.1M   45 18.9M    0     0  1492k      0  0:00:28  0:00:12  0:00:16 1856k\n",
            " 50 41.1M   50 20.6M    0     0  1510k      0  0:00:27  0:00:13  0:00:14 1891k\n",
            " 54 41.1M   54 22.3M    0     0  1527k      0  0:00:27  0:00:14  0:00:13 1911k\n",
            " 57 41.1M   57 23.7M    0     0  1525k      0  0:00:27  0:00:15  0:00:12 1756k\n",
            " 63 41.1M   63 26.1M    0     0  1579k      0  0:00:26  0:00:16  0:00:10 1929k\n",
            " 68 41.1M   68 28.3M    0     0  1616k      0  0:00:26  0:00:17  0:00:09 1936k\n",
            " 74 41.1M   74 30.6M    0     0  1652k      0  0:00:25  0:00:18  0:00:07 2048k\n",
            " 78 41.1M   78 32.3M    0     0  1660k      0  0:00:25  0:00:19  0:00:06 2059k\n",
            " 82 41.1M   82 33.7M    0     0  1649k      0  0:00:25  0:00:20  0:00:05 2043k\n",
            " 86 41.1M   86 35.4M    0     0  1651k      0  0:00:25  0:00:21  0:00:04 1897k\n",
            " 90 41.1M   90 37.0M    0     0  1652k      0  0:00:25  0:00:22  0:00:03 1783k\n",
            " 94 41.1M   94 38.8M    0     0  1658k      0  0:00:25  0:00:23  0:00:02 1680k\n",
            " 97 41.1M   97 40.2M    0     0  1652k      0  0:00:25  0:00:24  0:00:01 1622k\n",
            "100 41.1M  100 41.1M    0     0  1656k      0  0:00:25  0:00:25 --:--:-- 1689k\n"
          ]
        }
      ],
      "source": [
        "# Linux !wget https://github.com/hamaadshah/hackathon_june_2018/raw/master/jena_climate_2009_2016.csv\n",
        "!curl https://raw.githubusercontent.com/hamaadshah/hackathon_june_2018/master/jena_climate_2009_2016.csv --output jena_climate_2009_2016.csv"
      ]
    },
    {
      "cell_type": "code",
      "execution_count": 19,
      "metadata": {},
      "outputs": [
        {
          "data": {
            "text/html": [
              "<div>\n",
              "<style scoped>\n",
              "    .dataframe tbody tr th:only-of-type {\n",
              "        vertical-align: middle;\n",
              "    }\n",
              "\n",
              "    .dataframe tbody tr th {\n",
              "        vertical-align: top;\n",
              "    }\n",
              "\n",
              "    .dataframe thead th {\n",
              "        text-align: right;\n",
              "    }\n",
              "</style>\n",
              "<table border=\"1\" class=\"dataframe\">\n",
              "  <thead>\n",
              "    <tr style=\"text-align: right;\">\n",
              "      <th></th>\n",
              "      <th>Date Time</th>\n",
              "      <th>p (mbar)</th>\n",
              "      <th>T (degC)</th>\n",
              "      <th>Tpot (K)</th>\n",
              "      <th>Tdew (degC)</th>\n",
              "      <th>rh (%)</th>\n",
              "      <th>VPmax (mbar)</th>\n",
              "      <th>VPact (mbar)</th>\n",
              "      <th>VPdef (mbar)</th>\n",
              "      <th>sh (g/kg)</th>\n",
              "      <th>H2OC (mmol/mol)</th>\n",
              "      <th>rho (g/m**3)</th>\n",
              "      <th>wv (m/s)</th>\n",
              "      <th>max. wv (m/s)</th>\n",
              "      <th>wd (deg)</th>\n",
              "    </tr>\n",
              "  </thead>\n",
              "  <tbody>\n",
              "    <tr>\n",
              "      <th>0</th>\n",
              "      <td>01.01.2009 00:10:00</td>\n",
              "      <td>996.52</td>\n",
              "      <td>-8.02</td>\n",
              "      <td>265.40</td>\n",
              "      <td>-8.90</td>\n",
              "      <td>93.3</td>\n",
              "      <td>3.33</td>\n",
              "      <td>3.11</td>\n",
              "      <td>0.22</td>\n",
              "      <td>1.94</td>\n",
              "      <td>3.12</td>\n",
              "      <td>1307.75</td>\n",
              "      <td>1.03</td>\n",
              "      <td>1.75</td>\n",
              "      <td>152.3</td>\n",
              "    </tr>\n",
              "    <tr>\n",
              "      <th>1</th>\n",
              "      <td>01.01.2009 00:20:00</td>\n",
              "      <td>996.57</td>\n",
              "      <td>-8.41</td>\n",
              "      <td>265.01</td>\n",
              "      <td>-9.28</td>\n",
              "      <td>93.4</td>\n",
              "      <td>3.23</td>\n",
              "      <td>3.02</td>\n",
              "      <td>0.21</td>\n",
              "      <td>1.89</td>\n",
              "      <td>3.03</td>\n",
              "      <td>1309.80</td>\n",
              "      <td>0.72</td>\n",
              "      <td>1.50</td>\n",
              "      <td>136.1</td>\n",
              "    </tr>\n",
              "    <tr>\n",
              "      <th>2</th>\n",
              "      <td>01.01.2009 00:30:00</td>\n",
              "      <td>996.53</td>\n",
              "      <td>-8.51</td>\n",
              "      <td>264.91</td>\n",
              "      <td>-9.31</td>\n",
              "      <td>93.9</td>\n",
              "      <td>3.21</td>\n",
              "      <td>3.01</td>\n",
              "      <td>0.20</td>\n",
              "      <td>1.88</td>\n",
              "      <td>3.02</td>\n",
              "      <td>1310.24</td>\n",
              "      <td>0.19</td>\n",
              "      <td>0.63</td>\n",
              "      <td>171.6</td>\n",
              "    </tr>\n",
              "    <tr>\n",
              "      <th>3</th>\n",
              "      <td>01.01.2009 00:40:00</td>\n",
              "      <td>996.51</td>\n",
              "      <td>-8.31</td>\n",
              "      <td>265.12</td>\n",
              "      <td>-9.07</td>\n",
              "      <td>94.2</td>\n",
              "      <td>3.26</td>\n",
              "      <td>3.07</td>\n",
              "      <td>0.19</td>\n",
              "      <td>1.92</td>\n",
              "      <td>3.08</td>\n",
              "      <td>1309.19</td>\n",
              "      <td>0.34</td>\n",
              "      <td>0.50</td>\n",
              "      <td>198.0</td>\n",
              "    </tr>\n",
              "    <tr>\n",
              "      <th>4</th>\n",
              "      <td>01.01.2009 00:50:00</td>\n",
              "      <td>996.51</td>\n",
              "      <td>-8.27</td>\n",
              "      <td>265.15</td>\n",
              "      <td>-9.04</td>\n",
              "      <td>94.1</td>\n",
              "      <td>3.27</td>\n",
              "      <td>3.08</td>\n",
              "      <td>0.19</td>\n",
              "      <td>1.92</td>\n",
              "      <td>3.09</td>\n",
              "      <td>1309.00</td>\n",
              "      <td>0.32</td>\n",
              "      <td>0.63</td>\n",
              "      <td>214.3</td>\n",
              "    </tr>\n",
              "  </tbody>\n",
              "</table>\n",
              "</div>"
            ],
            "text/plain": [
              "             Date Time  p (mbar)  T (degC)  Tpot (K)  Tdew (degC)  rh (%)  \\\n",
              "0  01.01.2009 00:10:00    996.52     -8.02    265.40        -8.90    93.3   \n",
              "1  01.01.2009 00:20:00    996.57     -8.41    265.01        -9.28    93.4   \n",
              "2  01.01.2009 00:30:00    996.53     -8.51    264.91        -9.31    93.9   \n",
              "3  01.01.2009 00:40:00    996.51     -8.31    265.12        -9.07    94.2   \n",
              "4  01.01.2009 00:50:00    996.51     -8.27    265.15        -9.04    94.1   \n",
              "\n",
              "   VPmax (mbar)  VPact (mbar)  VPdef (mbar)  sh (g/kg)  H2OC (mmol/mol)  \\\n",
              "0          3.33          3.11          0.22       1.94             3.12   \n",
              "1          3.23          3.02          0.21       1.89             3.03   \n",
              "2          3.21          3.01          0.20       1.88             3.02   \n",
              "3          3.26          3.07          0.19       1.92             3.08   \n",
              "4          3.27          3.08          0.19       1.92             3.09   \n",
              "\n",
              "   rho (g/m**3)  wv (m/s)  max. wv (m/s)  wd (deg)  \n",
              "0       1307.75      1.03           1.75     152.3  \n",
              "1       1309.80      0.72           1.50     136.1  \n",
              "2       1310.24      0.19           0.63     171.6  \n",
              "3       1309.19      0.34           0.50     198.0  \n",
              "4       1309.00      0.32           0.63     214.3  "
            ]
          },
          "execution_count": 19,
          "metadata": {},
          "output_type": "execute_result"
        }
      ],
      "source": [
        "import pandas as pd\n",
        "\n",
        "climate_data = pd.read_csv(\"jena_climate_2009_2016.csv\")\n",
        "climate_data.head()"
      ]
    },
    {
      "cell_type": "code",
      "execution_count": 21,
      "metadata": {},
      "outputs": [
        {
          "data": {
            "text/plain": [
              "(420551, 15)"
            ]
          },
          "execution_count": 21,
          "metadata": {},
          "output_type": "execute_result"
        }
      ],
      "source": [
        "climate_data.shape"
      ]
    },
    {
      "cell_type": "code",
      "execution_count": 27,
      "metadata": {},
      "outputs": [
        {
          "data": {
            "text/plain": [
              "tuple"
            ]
          },
          "execution_count": 27,
          "metadata": {},
          "output_type": "execute_result"
        }
      ],
      "source": [
        "type(climate_data.shape)"
      ]
    },
    {
      "cell_type": "code",
      "execution_count": 29,
      "metadata": {},
      "outputs": [
        {
          "data": {
            "text/plain": [
              "15"
            ]
          },
          "execution_count": 29,
          "metadata": {},
          "output_type": "execute_result"
        }
      ],
      "source": [
        "climate_data.shape[-1]"
      ]
    },
    {
      "cell_type": "code",
      "execution_count": 20,
      "metadata": {},
      "outputs": [
        {
          "data": {
            "text/plain": [
              "Date Time          420224\n",
              "p (mbar)             6117\n",
              "T (degC)             5530\n",
              "Tpot (K)             5639\n",
              "Tdew (degC)          4343\n",
              "rh (%)               4805\n",
              "VPmax (mbar)         3658\n",
              "VPact (mbar)         2438\n",
              "VPdef (mbar)         3649\n",
              "sh (g/kg)            1600\n",
              "H2OC (mmol/mol)      2483\n",
              "rho (g/m**3)        22972\n",
              "wv (m/s)             1193\n",
              "max. wv (m/s)        1503\n",
              "wd (deg)             9893\n",
              "dtype: int64"
            ]
          },
          "execution_count": 20,
          "metadata": {},
          "output_type": "execute_result"
        }
      ],
      "source": [
        "climate_data.nunique()"
      ]
    },
    {
      "cell_type": "code",
      "execution_count": 3,
      "metadata": {
        "colab": {
          "base_uri": "https://localhost:8080/"
        },
        "id": "R8lb94ymms2N",
        "outputId": "aae77167-111e-4398-a03d-463ab3b0fcae"
      },
      "outputs": [
        {
          "name": "stdout",
          "output_type": "stream",
          "text": [
            "['\"Date Time\"', '\"p (mbar)\"', '\"T (degC)\"', '\"Tpot (K)\"', '\"Tdew (degC)\"', '\"rh (%)\"', '\"VPmax (mbar)\"', '\"VPact (mbar)\"', '\"VPdef (mbar)\"', '\"sh (g/kg)\"', '\"H2OC (mmol/mol)\"', '\"rho (g/m**3)\"', '\"wv (m/s)\"', '\"max. wv (m/s)\"', '\"wd (deg)\"']\n",
            "420551\n"
          ]
        }
      ],
      "source": [
        "import os\n",
        "\n",
        "fname = 'jena_climate_2009_2016.csv'\n",
        "\n",
        "f = open(fname)\n",
        "data = f.read()\n",
        "f.close()\n",
        "\n",
        "lines = data.split('\\n')\n",
        "header = lines[0].split(',')\n",
        "lines = lines[1:]\n",
        "\n",
        "print(header)\n",
        "print(len(lines))"
      ]
    },
    {
      "cell_type": "code",
      "execution_count": 10,
      "metadata": {},
      "outputs": [
        {
          "data": {
            "text/plain": [
              "list"
            ]
          },
          "execution_count": 10,
          "metadata": {},
          "output_type": "execute_result"
        }
      ],
      "source": [
        "type(lines)"
      ]
    },
    {
      "cell_type": "markdown",
      "metadata": {
        "id": "Z5EXh7KMms2N"
      },
      "source": [
        "Let us change this 420 551 lines of data  for a Numpy array:"
      ]
    },
    {
      "cell_type": "code",
      "execution_count": 4,
      "metadata": {
        "collapsed": true,
        "id": "1gR84yRVms2O"
      },
      "outputs": [],
      "source": [
        "import numpy as np\n",
        "\n",
        "float_data = np.zeros((len(lines), len(header) - 1))\n",
        "for i, line in enumerate(lines):\n",
        "    values = [float(x) for x in line.split(',')[1:]]\n",
        "    float_data[i, :] = values"
      ]
    },
    {
      "cell_type": "code",
      "execution_count": 5,
      "metadata": {},
      "outputs": [
        {
          "data": {
            "text/plain": [
              "numpy.ndarray"
            ]
          },
          "execution_count": 5,
          "metadata": {},
          "output_type": "execute_result"
        }
      ],
      "source": [
        "type(float_data)"
      ]
    },
    {
      "cell_type": "code",
      "execution_count": 6,
      "metadata": {},
      "outputs": [
        {
          "data": {
            "text/plain": [
              "array([[ 9.9652e+02, -8.0200e+00,  2.6540e+02, ...,  1.0300e+00,\n",
              "         1.7500e+00,  1.5230e+02],\n",
              "       [ 9.9657e+02, -8.4100e+00,  2.6501e+02, ...,  7.2000e-01,\n",
              "         1.5000e+00,  1.3610e+02],\n",
              "       [ 9.9653e+02, -8.5100e+00,  2.6491e+02, ...,  1.9000e-01,\n",
              "         6.3000e-01,  1.7160e+02],\n",
              "       ...,\n",
              "       [ 9.9982e+02, -3.1600e+00,  2.7001e+02, ...,  1.0800e+00,\n",
              "         2.0000e+00,  2.1520e+02],\n",
              "       [ 9.9981e+02, -4.2300e+00,  2.6894e+02, ...,  1.4900e+00,\n",
              "         2.1600e+00,  2.2580e+02],\n",
              "       [ 9.9982e+02, -4.8200e+00,  2.6836e+02, ...,  1.2300e+00,\n",
              "         1.9600e+00,  1.8490e+02]])"
            ]
          },
          "execution_count": 6,
          "metadata": {},
          "output_type": "execute_result"
        }
      ],
      "source": [
        "float_data"
      ]
    },
    {
      "cell_type": "markdown",
      "metadata": {
        "id": "tN8dS6ujms2O"
      },
      "source": [
        "Here is an example graph of temperature changes (values expressed in Celsius). It shows a clear annual trend of periodic temperature changes:"
      ]
    },
    {
      "cell_type": "code",
      "execution_count": 11,
      "metadata": {
        "colab": {
          "base_uri": "https://localhost:8080/",
          "height": 268
        },
        "id": "-Hvmys_yms2O",
        "outputId": "736cd5c6-6a20-4680-87c3-2dd2a1c35011"
      },
      "outputs": [
        {
          "data": {
            "image/png": "[encoded data removed]",
            "text/plain": [
              "<Figure size 432x288 with 1 Axes>"
            ]
          },
          "metadata": {
            "needs_background": "light"
          },
          "output_type": "display_data"
        }
      ],
      "source": [
        "from matplotlib import pyplot as plt\n",
        "\n",
        "temp = float_data[:, 1]  # Temperature (in Celsius) we will get the following results:\n",
        "plt.plot(range(len(temp)), temp)\n",
        "plt.show()"
      ]
    },
    {
      "cell_type": "markdown",
      "metadata": {
        "id": "pnjWdYr2ms2P"
      },
      "source": [
        "\n",
        "Now let's look at the graph of temperature changes during the first ten days included in the harvest. The data was added to the set every 10 minutes. The daily graph of temperature changes consists of 144 points."
      ]
    },
    {
      "cell_type": "code",
      "execution_count": 12,
      "metadata": {
        "colab": {
          "base_uri": "https://localhost:8080/",
          "height": 265
        },
        "id": "5Vt_E9R7ms2P",
        "outputId": "246aeaf6-8501-4b09-94b0-0fd714bd6207",
        "scrolled": true
      },
      "outputs": [
        {
          "data": {
            "image/png": "[encoded data removed]",
            "text/plain": [
              "<Figure size 432x288 with 1 Axes>"
            ]
          },
          "metadata": {
            "needs_background": "light"
          },
          "output_type": "display_data"
        }
      ],
      "source": [
        "plt.plot(range(1440), temp[:1440])\n",
        "plt.show()"
      ]
    },
    {
      "cell_type": "markdown",
      "metadata": {
        "id": "YIHNrTNMms2P"
      },
      "source": [
        "\n",
        "In this graph you can see the daily cycle of temperature changes. It is particularly noticeable in the case of the last 4 days. Let's also pay attention to the fact that this 10-day period must come from a fairly cold winter month. \n",
        "\n",
        "Predicting the average temperature in the next month based on data from the previous few months is quite easy, because such data are repetitive on an annual basis, but looking at the data on a daily scale, you can get the impression that temperature changes are quite chaotic. Can the data of this time series be predicted on a daily scale? Let's check it out."
      ]
    },
    {
      "cell_type": "markdown",
      "metadata": {
        "id": "YhrDWGr5ms2Q"
      },
      "source": [
        "## Data preparation\n",
        "Our problem is the following:\n",
        "\n",
        "Based on data in the form of lookback observations made every 10 minutes, we select information on every step. Can we predict the temperature at the delay time interval on this basis? We will use the following parameter values: \n",
        "* 'lookback = 720' - we will use observations from 5 days;\n",
        " * 'steps = 6' - we will use one observation per hour; \n",
        " * 'delay = 144' - our goal is to determine the temperature in 24 hours. To begin with, we need to do two things:\n",
        "\n",
        "* Process the data to give it a form in which it can be routed to a neural network. It's simple. The data is already numerical, so there is no need to vectorize it. Unfortunately, each quantity is expressed on a different scale (temperature values usually range from –20 to +30, and atmospheric pressure is expressed in millibars and takes values oscillating around 1000. Each of the measured quantities should be standardised independently. Thanks to this, they will accept small values from similar ranges.\n",
        "\n",
        "* Write a Python generator that accepts an array of floating-point values and returns data batches from the recent past (from a period specific to the point we want to predict). The samples in the collection are characterized by high redundancy (the N sample and the N+1 sample take assentially the same values). Therefore, it makes no sense to explicitly allocate each sample. Samples will be generated on an ongoing basis by using the original data.\n",
        "\n",
        "We will prepare the data by calculating the average of each series and performing the operation of dividing by standard deviation. We will use the first 200,000 observations as a training dataset. Therefore, the mean and standard deviation should be calculated only on that part of the entire data set:"
      ]
    },
    {
      "cell_type": "code",
      "execution_count": 13,
      "metadata": {
        "collapsed": true,
        "id": "NNV2In_tms2Q"
      },
      "outputs": [],
      "source": [
        "mean = float_data[:200000].mean(axis=0)\n",
        "float_data -= mean\n",
        "std = float_data[:200000].std(axis=0)\n",
        "float_data /= std"
      ]
    },
    {
      "cell_type": "markdown",
      "metadata": {
        "id": "tlYMiyuVms2Q"
      },
      "source": [
        "\n",
        "Our data generator returns tuples (samples, targets) in which the samples object is the input and the targets object is an array of target temperatures.\n",
        "The generator accepts the following arguments:\n",
        "\n",
        "* 'data' — original floating-point data array\n",
        "* 'lookback' — the number of time steps to which the input should reach;\n",
        "* 'delay' — the number of time steps determining the future temperature; \n",
        "* 'min_index' and 'max_index' — indexes of the date array specifying the steps whose samples should be read. This solution is useful for creating a validation set and a test set;\n",
        "* 'shuffle' — specifies whether samples are to be drawn or taken in chronological order;\n",
        "* 'batch_size' — the number of samples included in the batch;\n",
        "* 'step' — a time interval that determines the sampling rate of the data. We assign this parameter a value of 6 to have a sample of data read every hour."
      ]
    },
    {
      "cell_type": "code",
      "execution_count": 14,
      "metadata": {
        "collapsed": true,
        "id": "cXmkiP-dms2R"
      },
      "outputs": [],
      "source": [
        "def generator(data, lookback, delay, min_index, max_index,\n",
        "              shuffle=False, batch_size=128, step=6):\n",
        "    if max_index is None:\n",
        "        max_index = len(data) - delay - 1\n",
        "    i = min_index + lookback\n",
        "    while 1:\n",
        "        if shuffle:\n",
        "            rows = np.random.randint(\n",
        "                min_index + lookback, max_index, size=batch_size)\n",
        "        else:\n",
        "            if i + batch_size >= max_index:\n",
        "                i = min_index + lookback\n",
        "            rows = np.arange(i, min(i + batch_size, max_index))\n",
        "            i += len(rows)\n",
        "\n",
        "        samples = np.zeros((len(rows),\n",
        "                           lookback // step,\n",
        "                           data.shape[-1]))\n",
        "        targets = np.zeros((len(rows),))\n",
        "        for j, row in enumerate(rows):\n",
        "            indices = range(rows[j] - lookback, rows[j], step)\n",
        "            samples[j] = data[indices]\n",
        "            targets[j] = data[rows[j] + delay][1]\n",
        "        yield samples, targets"
      ]
    },
    {
      "cell_type": "markdown",
      "metadata": {
        "id": "rOf3Qp-Ums2R"
      },
      "source": [
        "\n",
        "Let's use the abstract generator function to create an instance of three generators: we need one generator for the training process, one for the validation process, and one for the testing process. Each of them will process different segments of the initial data set: the training generator processes the first 200,000 observations, the validation generator processes 100,000 consecutive observations, and the test generator processes the remaining observations."
      ]
    },
    {
      "cell_type": "code",
      "execution_count": 15,
      "metadata": {
        "collapsed": true,
        "id": "MrZVAJNtms2S"
      },
      "outputs": [],
      "source": [
        "lookback = 1440\n",
        "step = 6\n",
        "delay = 144\n",
        "batch_size = 128\n",
        "\n",
        "train_gen = generator(float_data,\n",
        "                      lookback=lookback,\n",
        "                      delay=delay,\n",
        "                      min_index=0,\n",
        "                      max_index=200000,\n",
        "                      shuffle=True,\n",
        "                      step=step, \n",
        "                      batch_size=batch_size)\n",
        "val_gen = generator(float_data,\n",
        "                    lookback=lookback,\n",
        "                    delay=delay,\n",
        "                    min_index=200001,\n",
        "                    max_index=300000,\n",
        "                    step=step,\n",
        "                    batch_size=batch_size)\n",
        "test_gen = generator(float_data,\n",
        "                     lookback=lookback,\n",
        "                     delay=delay,\n",
        "                     min_index=300001,\n",
        "                     max_index=None,\n",
        "                     step=step,\n",
        "                     batch_size=batch_size)\n",
        "\n",
        "# Number of steps to retrieve data from the val_gen object\n",
        "# ensuring the processing of the entire validation data set.\n",
        "val_steps = (300000 - 200001 - lookback) // batch_size\n",
        "\n",
        "# Number of steps to retrieve data from the test_gen object, \n",
        "# at which the entire test data set will be processed.\n",
        "test_steps = (len(float_data) - 300001 - lookback) // batch_size"
      ]
    },
    {
      "cell_type": "markdown",
      "metadata": {
        "id": "IxE0uXHdms2S"
      },
      "source": [
        "## Common sense reference point\n",
        "\n",
        "Before we start predicting temperature with black boxes—deep learning models—let's try to do it with common sense. In this way, we will obtain a reference point for assessing the effectiveness of the machine learning model. Common sense is a good point of reference when working on new problems for which we do not (yet) have a solution. A classic example of such a situation is an uneven classification. If our dataset contains 90% of Class A observations and only 10% of Class B observations, then common sense would create a classifier that assigns the label A to all new observations. Such a classifier would have an efficiency of 90%, so all teaching techniques should have an efficiency greater than 90% in order to be considered useful. Sometimes the classifiers created in this way are really difficult to beat.\n",
        "\n",
        "In the analyzed example, we can make a safe assumption about the continuity of temperatures (tomorrow's temperature will probably be close to today's temperature), as well as the existence of daily cycles of temperature fluctuations. Therefore, it would be common sense to predict that the temperature in 24 hours will always be equal to the current temperature. Let's validate this assumption using the average metric of the absolute error value:"
      ]
    },
    {
      "cell_type": "code",
      "execution_count": 10,
      "metadata": {
        "collapsed": true,
        "id": "KXS_cfwTms2T"
      },
      "outputs": [],
      "source": [
        "# np.mean(np.abs(preds - targets))"
      ]
    },
    {
      "cell_type": "markdown",
      "metadata": {
        "id": "srzulJmems2T"
      },
      "source": [
        "Here's the evaluation loop:"
      ]
    },
    {
      "cell_type": "code",
      "execution_count": 22,
      "metadata": {
        "colab": {
          "base_uri": "https://localhost:8080/"
        },
        "id": "fTM-bHtPms2T",
        "outputId": "8b988e07-1fd4-4500-d921-3ddebde1302d"
      },
      "outputs": [
        {
          "name": "stdout",
          "output_type": "stream",
          "text": [
            "0.2897359729905486\n"
          ]
        }
      ],
      "source": [
        "def evaluate_naive_method():\n",
        "    batch_maes = []\n",
        "    for step in range(val_steps):\n",
        "        samples, targets = next(val_gen)\n",
        "        preds = samples[:, -1, 1]\n",
        "        mae = np.mean(np.abs(preds - targets))\n",
        "        batch_maes.append(mae)\n",
        "    print(np.mean(batch_maes))\n",
        "    \n",
        "evaluate_naive_method()"
      ]
    },
    {
      "cell_type": "markdown",
      "metadata": {
        "id": "tKSMw_1wms2T"
      },
      "source": [
        "We will get a value equal to 0.29. The temperature values have been normalized to take a median value of 0 and a standard deviation of 1; the result obtained is not at all easy to interpret. The average absolute error value obtained by us corresponds to a temperature of 2.57°C (0.29 x temperature_std = 2.57). This is a fairly large average error value. Now we will try to take advantage of our knowledge of deep learning and get a better result."
      ]
    },
    {
      "cell_type": "markdown",
      "metadata": {
        "id": "-r9TwYyzms2U"
      },
      "source": [
        "## Basic solution to the problem by using a machine learning technique\n",
        "\n",
        "As with the development of a simple logical method as a reference point, we can try to solve the problem using simple machine learning models (e.g. using small, densely connected networks). Let's do this before we get into more complicated models like recursive neural networks. This is the best way to make sure that using more complex models makes sense and brings real benefits.\n",
        "\n",
        "Here's the code for a fully connected model that flattens the data first and then passes it through two Dense layers. The Dense layer does not use the activation function, which is typical for regression problems. As a loss function, we will again use the average absolute error. We carry out the evaluation using the same data and the same metric as in the case of the previously described solution acting as our reference point. We will be able to compare the results obtained in a direct way."
      ]
    },
    {
      "cell_type": "code",
      "execution_count": 23,
      "metadata": {
        "colab": {
          "base_uri": "https://localhost:8080/"
        },
        "id": "IUfGNagsms2U",
        "outputId": "4c64bd39-5c27-47f9-cb2e-fe6a420edb82"
      },
      "outputs": [
        {
          "name": "stdout",
          "output_type": "stream",
          "text": [
            "Epoch 1/20\n"
          ]
        },
        {
          "name": "stderr",
          "output_type": "stream",
          "text": [
            "C:\\Users\\merli\\AppData\\Local\\Temp\\ipykernel_4636\\2300666704.py:11: UserWarning: `Model.fit_generator` is deprecated and will be removed in a future version. Please use `Model.fit`, which supports generators.\n",
            "  history = model.fit_generator(train_gen,\n"
          ]
        },
        {
          "name": "stdout",
          "output_type": "stream",
          "text": [
            "500/500 [==============================] - 12s 23ms/step - loss: 1.3284 - val_loss: 0.6675\n",
            "Epoch 2/20\n",
            "500/500 [==============================] - 11s 22ms/step - loss: 0.4479 - val_loss: 0.3426\n",
            "Epoch 3/20\n",
            "500/500 [==============================] - 11s 22ms/step - loss: 0.2959 - val_loss: 0.3168\n",
            "Epoch 4/20\n",
            "500/500 [==============================] - 11s 22ms/step - loss: 0.2690 - val_loss: 0.3049\n",
            "Epoch 5/20\n",
            "500/500 [==============================] - 11s 22ms/step - loss: 0.2559 - val_loss: 0.3150\n",
            "Epoch 6/20\n",
            "500/500 [==============================] - 11s 22ms/step - loss: 0.2466 - val_loss: 0.3069\n",
            "Epoch 7/20\n",
            "500/500 [==============================] - 11s 21ms/step - loss: 0.2403 - val_loss: 0.3300\n",
            "Epoch 8/20\n",
            "500/500 [==============================] - 11s 22ms/step - loss: 0.2336 - val_loss: 0.3144\n",
            "Epoch 9/20\n",
            "500/500 [==============================] - 11s 21ms/step - loss: 0.2284 - val_loss: 0.3219\n",
            "Epoch 10/20\n",
            "500/500 [==============================] - 11s 22ms/step - loss: 0.2238 - val_loss: 0.3373\n",
            "Epoch 11/20\n",
            "500/500 [==============================] - 11s 22ms/step - loss: 0.2203 - val_loss: 0.3299\n",
            "Epoch 12/20\n",
            "500/500 [==============================] - 11s 22ms/step - loss: 0.2158 - val_loss: 0.3301\n",
            "Epoch 13/20\n",
            "500/500 [==============================] - 11s 22ms/step - loss: 0.2114 - val_loss: 0.3232\n",
            "Epoch 14/20\n",
            "500/500 [==============================] - 11s 21ms/step - loss: 0.2118 - val_loss: 0.3241\n",
            "Epoch 15/20\n",
            "500/500 [==============================] - 11s 21ms/step - loss: 0.2083 - val_loss: 0.3352\n",
            "Epoch 16/20\n",
            "500/500 [==============================] - 10s 21ms/step - loss: 0.2061 - val_loss: 0.3281\n",
            "Epoch 17/20\n",
            "500/500 [==============================] - 11s 22ms/step - loss: 0.2057 - val_loss: 0.3512\n",
            "Epoch 18/20\n",
            "500/500 [==============================] - 11s 22ms/step - loss: 0.2036 - val_loss: 0.3447\n",
            "Epoch 19/20\n",
            "500/500 [==============================] - 11s 21ms/step - loss: 0.2022 - val_loss: 0.3648\n",
            "Epoch 20/20\n",
            "500/500 [==============================] - 11s 21ms/step - loss: 0.1995 - val_loss: 0.3276\n"
          ]
        }
      ],
      "source": [
        "from keras.models import Sequential\n",
        "from keras import layers\n",
        "from tensorflow.keras.optimizers import RMSprop\n",
        "\n",
        "model = Sequential()\n",
        "model.add(layers.Flatten(input_shape=(lookback // step, float_data.shape[-1])))\n",
        "model.add(layers.Dense(32, activation='relu'))\n",
        "model.add(layers.Dense(1))\n",
        "\n",
        "model.compile(optimizer=RMSprop(), loss='mae')\n",
        "history = model.fit_generator(train_gen,\n",
        "                              steps_per_epoch=500,\n",
        "                              epochs=20,\n",
        "                              validation_data=val_gen,\n",
        "                              validation_steps=val_steps)"
      ]
    },
    {
      "cell_type": "markdown",
      "metadata": {
        "id": "ou2-G0vLms2U"
      },
      "source": [
        "Let's view the loss graphs in the training and validation processes:"
      ]
    },
    {
      "cell_type": "code",
      "execution_count": 24,
      "metadata": {
        "colab": {
          "base_uri": "https://localhost:8080/",
          "height": 281
        },
        "id": "7F7FUMg_ms2U",
        "outputId": "4d2ccc23-e619-4f12-c19d-0075109c3740"
      },
      "outputs": [
        {
          "data": {
            "image/png": "[encoded data removed]",
            "text/plain": [
              "<Figure size 432x288 with 1 Axes>"
            ]
          },
          "metadata": {
            "needs_background": "light"
          },
          "output_type": "display_data"
        }
      ],
      "source": [
        "loss = history.history['loss']\n",
        "val_loss = history.history['val_loss']\n",
        "\n",
        "epochs = range(len(loss))\n",
        "\n",
        "plt.figure()\n",
        "\n",
        "plt.plot(epochs, loss, 'bo', label='Loss of training')\n",
        "plt.plot(epochs, val_loss, 'b', label='Loss of validation')\n",
        "plt.title('Loss of training and validation')\n",
        "plt.legend()\n",
        "\n",
        "plt.show()"
      ]
    },
    {
      "cell_type": "markdown",
      "metadata": {
        "id": "i-XVW8A5ms2V"
      },
      "source": [
        "\n",
        "\n",
        "Only some values of the validation loss are close to the result obtained by the reference method (the result obtained without machine learning). This example is intended to show that it is worth setting a reference point, and that crossing it using the model is not so easy. By developing a logical solution to the problem, unlike the model, we had access to valuable information.\n",
        "\n",
        "Is there a simple model that can combine data with targets? Why can't the model we developed do this? This is because our simple solution does not seek an answer to this question. The space in which models seek a solution (hypothesis space) is the space of all possible two-layer networks with a configuration we defined. These networks are already quite complicated by themselves. If solutions are sought in a space consisting of complex models, simple, well-performing underlying solutions may be untrainable, despite the fact that, technically speaking, they belong to the space of hypotheses. This is an important limitation of machine learning: if the algorithm code is not written to look for a specific type of simple model, it may turn out that during training it is impossible to find a simple solution to a simple problem."
      ]
    },
    {
      "cell_type": "markdown",
      "metadata": {
        "id": "cXxbFoASms2V"
      },
      "source": [
        "## Reference point in the form of the first recursive model\n",
        "\n",
        "The first fully connected network didn't work well, but that doesn't mean machine learning can't solve the problem. This network first flattened the time series data, which removed the time information from the input. Let's try to look at the data without modifying it: analyze it as a sequence in which both randomness and order matter. We will try the recursive-sequential processing model. It should be perfect for processing sequential data. This is because, unlike the first model, it uses the order in which the observation data is set.\n",
        "\n",
        "Instead of the LSTM layer, this time we will use the GRU layer developed in 2014 by a team led by Junyoung Chung. GRU layers (gate-constrained recursive units) work on the same principle as LSTM layers, but require less costly calculations. This in turn can generates inferior representations to LSTM layers. The trade-off between computational complexity and the power of representation is a standard machine learning problem."
      ]
    },
    {
      "cell_type": "code",
      "execution_count": 25,
      "metadata": {
        "colab": {
          "base_uri": "https://localhost:8080/"
        },
        "id": "2CQSwrd_ms2V",
        "outputId": "7766c9c8-401c-429a-fdb0-2bdd51c3f0ab"
      },
      "outputs": [
        {
          "name": "stdout",
          "output_type": "stream",
          "text": [
            "Epoch 1/20\n"
          ]
        },
        {
          "name": "stderr",
          "output_type": "stream",
          "text": [
            "C:\\Users\\merli\\AppData\\Local\\Temp\\ipykernel_4636\\2820699998.py:10: UserWarning: `Model.fit_generator` is deprecated and will be removed in a future version. Please use `Model.fit`, which supports generators.\n",
            "  history = model.fit_generator(train_gen,\n"
          ]
        },
        {
          "name": "stdout",
          "output_type": "stream",
          "text": [
            "500/500 [==============================] - 60s 115ms/step - loss: 0.3007 - val_loss: 0.2739\n",
            "Epoch 2/20\n",
            "500/500 [==============================] - 54s 108ms/step - loss: 0.2867 - val_loss: 0.2703\n",
            "Epoch 3/20\n",
            "500/500 [==============================] - 54s 109ms/step - loss: 0.2783 - val_loss: 0.2708\n",
            "Epoch 4/20\n",
            "500/500 [==============================] - 54s 108ms/step - loss: 0.2742 - val_loss: 0.2603\n",
            "Epoch 5/20\n",
            "500/500 [==============================] - 54s 109ms/step - loss: 0.2692 - val_loss: 0.2656\n",
            "Epoch 6/20\n",
            "500/500 [==============================] - 55s 110ms/step - loss: 0.2634 - val_loss: 0.2620\n",
            "Epoch 7/20\n",
            "500/500 [==============================] - 56s 113ms/step - loss: 0.2592 - val_loss: 0.2670\n",
            "Epoch 8/20\n",
            "500/500 [==============================] - 57s 113ms/step - loss: 0.2536 - val_loss: 0.2625\n",
            "Epoch 9/20\n",
            "500/500 [==============================] - 56s 112ms/step - loss: 0.2516 - val_loss: 0.2693\n",
            "Epoch 10/20\n",
            "500/500 [==============================] - 54s 109ms/step - loss: 0.2452 - val_loss: 0.2661\n",
            "Epoch 11/20\n",
            "500/500 [==============================] - 56s 113ms/step - loss: 0.2406 - val_loss: 0.2685\n",
            "Epoch 12/20\n",
            "500/500 [==============================] - 64s 128ms/step - loss: 0.2343 - val_loss: 0.2755\n",
            "Epoch 13/20\n",
            "500/500 [==============================] - 60s 121ms/step - loss: 0.2321 - val_loss: 0.2763\n",
            "Epoch 14/20\n",
            "500/500 [==============================] - 55s 110ms/step - loss: 0.2273 - val_loss: 0.2763\n",
            "Epoch 15/20\n",
            "500/500 [==============================] - 54s 108ms/step - loss: 0.2213 - val_loss: 0.2889\n",
            "Epoch 16/20\n",
            "500/500 [==============================] - 56s 112ms/step - loss: 0.2174 - val_loss: 0.2876\n",
            "Epoch 17/20\n",
            "500/500 [==============================] - 55s 110ms/step - loss: 0.2124 - val_loss: 0.2917\n",
            "Epoch 18/20\n",
            "500/500 [==============================] - 55s 111ms/step - loss: 0.2089 - val_loss: 0.2891\n",
            "Epoch 19/20\n",
            "500/500 [==============================] - 55s 110ms/step - loss: 0.2032 - val_loss: 0.2981\n",
            "Epoch 20/20\n",
            "500/500 [==============================] - 55s 110ms/step - loss: 0.2005 - val_loss: 0.3007\n"
          ]
        }
      ],
      "source": [
        "from keras.models import Sequential\n",
        "from keras import layers\n",
        "from tensorflow.keras.optimizers import RMSprop\n",
        "\n",
        "model = Sequential()\n",
        "model.add(layers.GRU(32, input_shape=(None, float_data.shape[-1])))\n",
        "model.add(layers.Dense(1))\n",
        "\n",
        "model.compile(optimizer=RMSprop(), loss='mae')\n",
        "history = model.fit_generator(train_gen,\n",
        "                              steps_per_epoch=500,\n",
        "                              epochs=20,\n",
        "                              validation_data=val_gen,\n",
        "                              validation_steps=val_steps)"
      ]
    },
    {
      "cell_type": "markdown",
      "metadata": {
        "id": "qOQkJj6Pms2V"
      },
      "source": [
        "Time to show the results in a graph:"
      ]
    },
    {
      "cell_type": "code",
      "execution_count": 26,
      "metadata": {
        "colab": {
          "base_uri": "https://localhost:8080/",
          "height": 281
        },
        "id": "9Ary_XyUms2V",
        "outputId": "a0042c7a-88f9-48df-fa02-61c40ac43021"
      },
      "outputs": [
        {
          "data": {
            "image/png": "[encoded data removed]",
            "text/plain": [
              "<Figure size 432x288 with 1 Axes>"
            ]
          },
          "metadata": {
            "needs_background": "light"
          },
          "output_type": "display_data"
        }
      ],
      "source": [
        "loss = history.history['loss']\n",
        "val_loss = history.history['val_loss']\n",
        "\n",
        "epochs = range(len(loss))\n",
        "\n",
        "plt.figure()\n",
        "\n",
        "plt.plot(epochs, loss, 'bo', label='Loss of training')\n",
        "plt.plot(epochs, val_loss, 'b', label='Loss of validation')\n",
        "plt.title('Loss of training and validation')\n",
        "plt.legend()\n",
        "\n",
        "plt.show()"
      ]
    },
    {
      "cell_type": "markdown",
      "metadata": {
        "id": "Ac4WseG1ms2W"
      },
      "source": [
        "\n",
        "Now we have obtained much better parameters! We have significantly defeated the predefined logical classifier that is our reference point. We have proven the wisdom of using machine learning, as well as the superiority of recursive networks over dense sequence flattening networks in this type of tasks. We obtained an average absolute error value of ~0.265 (before the model began to undergo significant overhaul), which corresponds to an average error of 2.35 ° C. This is a clear improvement over the previously obtained value of 2.57 ° C, but we can still get a much better result."
      ]
    },
    {
      "cell_type": "code",
      "execution_count": 30,
      "metadata": {
        "colab": {
          "base_uri": "https://localhost:8080/"
        },
        "id": "DA6hN-jlms2W",
        "outputId": "09004970-32df-49b5-8e9b-61fdf0b2eb0a"
      },
      "outputs": [
        {
          "name": "stdout",
          "output_type": "stream",
          "text": [
            "Epoch 1/20\n"
          ]
        },
        {
          "name": "stderr",
          "output_type": "stream",
          "text": [
            "C:\\Users\\merli\\AppData\\Local\\Temp\\ipykernel_4636\\2696442773.py:13: UserWarning: `Model.fit_generator` is deprecated and will be removed in a future version. Please use `Model.fit`, which supports generators.\n",
            "  history = model.fit_generator(train_gen,\n"
          ]
        },
        {
          "name": "stdout",
          "output_type": "stream",
          "text": [
            "500/500 [==============================] - 96s 185ms/step - loss: 0.3224 - val_loss: 0.2876\n",
            "Epoch 2/20\n",
            "500/500 [==============================] - 87s 174ms/step - loss: 0.3044 - val_loss: 0.2778\n",
            "Epoch 3/20\n",
            "500/500 [==============================] - 87s 174ms/step - loss: 0.2994 - val_loss: 0.2736\n",
            "Epoch 4/20\n",
            "500/500 [==============================] - 87s 175ms/step - loss: 0.2948 - val_loss: 0.2682\n",
            "Epoch 5/20\n",
            "500/500 [==============================] - 86s 172ms/step - loss: 0.2897 - val_loss: 0.2740\n",
            "Epoch 6/20\n",
            "500/500 [==============================] - 86s 172ms/step - loss: 0.2868 - val_loss: 0.2652\n",
            "Epoch 7/20\n",
            "500/500 [==============================] - 91s 182ms/step - loss: 0.2842 - val_loss: 0.2704\n",
            "Epoch 8/20\n",
            "500/500 [==============================] - 92s 183ms/step - loss: 0.2775 - val_loss: 0.2672\n",
            "Epoch 9/20\n",
            "500/500 [==============================] - 101s 202ms/step - loss: 0.2733 - val_loss: 0.2704\n",
            "Epoch 10/20\n",
            "500/500 [==============================] - 92s 183ms/step - loss: 0.2714 - val_loss: 0.2681\n",
            "Epoch 11/20\n",
            "500/500 [==============================] - 85s 169ms/step - loss: 0.2677 - val_loss: 0.2722\n",
            "Epoch 12/20\n",
            "500/500 [==============================] - 92s 183ms/step - loss: 0.2656 - val_loss: 0.2726\n",
            "Epoch 13/20\n",
            "500/500 [==============================] - 94s 188ms/step - loss: 0.2650 - val_loss: 0.2727\n",
            "Epoch 14/20\n",
            "500/500 [==============================] - 92s 183ms/step - loss: 0.2628 - val_loss: 0.2747\n",
            "Epoch 15/20\n",
            "500/500 [==============================] - 88s 176ms/step - loss: 0.2602 - val_loss: 0.2758\n",
            "Epoch 16/20\n",
            "500/500 [==============================] - 88s 177ms/step - loss: 0.2589 - val_loss: 0.2812\n",
            "Epoch 17/20\n",
            "500/500 [==============================] - 92s 183ms/step - loss: 0.2566 - val_loss: 0.2780\n",
            "Epoch 18/20\n",
            "500/500 [==============================] - ETA: 0s - loss: 0.2546"
          ]
        }
      ],
      "source": [
        "from keras.models import Sequential\n",
        "from keras import layers\n",
        "from tensorflow.keras.optimizers import RMSprop\n",
        "\n",
        "model = Sequential()\n",
        "model.add(layers.GRU(32,\n",
        "                     dropout=0.2,\n",
        "                     recurrent_dropout=0.2,\n",
        "                     input_shape=(None, float_data.shape[-1])))\n",
        "model.add(layers.Dense(1))\n",
        "\n",
        "model.compile(optimizer=RMSprop(), loss='mae')\n",
        "history = model.fit_generator(train_gen,\n",
        "                              steps_per_epoch=500,\n",
        "                              epochs=20,\n",
        "                              validation_data=val_gen,\n",
        "                              validation_steps=val_steps)"
      ]
    },
    {
      "cell_type": "code",
      "execution_count": 17,
      "metadata": {
        "colab": {
          "base_uri": "https://localhost:8080/",
          "height": 281
        },
        "id": "518LUAPOms2W",
        "outputId": "432679d2-5815-46ec-955f-01c43ae732be"
      },
      "outputs": [
        {
          "data": {
            "image/png": "[encoded data removed]",
            "text/plain": [
              "<Figure size 432x288 with 1 Axes>"
            ]
          },
          "metadata": {
            "needs_background": "light"
          },
          "output_type": "display_data"
        }
      ],
      "source": [
        "loss = history.history['loss']\n",
        "val_loss = history.history['val_loss']\n",
        "\n",
        "epochs = range(len(loss))\n",
        "\n",
        "plt.figure()\n",
        "\n",
        "plt.plot(epochs, loss, 'bo', label='Loss of training')\n",
        "plt.plot(epochs, val_loss, 'b', label='Loss of validation')\n",
        "plt.title('Loss of training and validation')\n",
        "plt.legend()\n",
        "\n",
        "plt.show()"
      ]
    },
    {
      "cell_type": "markdown",
      "metadata": {
        "id": "MbxP2XRAms2W"
      },
      "source": [
        "Very well! During the first 30 epochs of the algorithm's work, there is no excessive matching. Despite the fact that the evaluation results are more stable, the best results obtained by us are much lower than those we obtained earlier."
      ]
    },
    {
      "cell_type": "markdown",
      "metadata": {
        "id": "jX51S6Xhms2X"
      },
      "source": [
        "## Create recursive layer stacks\n",
        "\n",
        "The model does not over-fit, but we have come to a performance bottleneck and we should think about increasing the capacity of the network. Recall the description of a universal machine learning workflow: In general, it's a good idea to increase network capacity until over-matching becomes a major obstacle (assuming you're doing basic steps to prevent overfitting, such as discarding). If we don't achieve an over-match, we can most likely get a better model.)\n",
        "\n",
        "Network capacity is typically enlarged by increasing the number of units in layers or by adding more layers. Creating recursive layer stacks is a classic way to build stronger recursive networks: currently, the Google Translate algorithm is based on a stack of seven LSTM layers (it's a huge network). To create a stack of recursive layers in Keras, ensure that all intermediate layers return full output sequences (three-dimensional tensors), not just the output objects generated during the processing of the last observation. To do this, assign a value of True to the return_sequence parameter:"
      ]
    },
    {
      "cell_type": "code",
      "execution_count": 10,
      "metadata": {
        "colab": {
          "base_uri": "https://localhost:8080/"
        },
        "id": "Ov8Rgir1ms2X",
        "outputId": "aab1691d-7155-46df-bcc3-998f0827830c"
      },
      "outputs": [
        {
          "name": "stdout",
          "output_type": "stream",
          "text": [
            "Epoch 1/20\n"
          ]
        },
        {
          "name": "stderr",
          "output_type": "stream",
          "text": [
            "/usr/local/lib/python3.7/dist-packages/ipykernel_launcher.py:21: UserWarning: `Model.fit_generator` is deprecated and will be removed in a future version. Please use `Model.fit`, which supports generators.\n"
          ]
        },
        {
          "name": "stdout",
          "output_type": "stream",
          "text": [
            "500/500 [==============================] - 425s 840ms/step - loss: 0.3213 - val_loss: 0.2791\n",
            "Epoch 2/20\n",
            "500/500 [==============================] - 418s 836ms/step - loss: 0.3008 - val_loss: 0.2811\n",
            "Epoch 3/20\n",
            "500/500 [==============================] - 418s 837ms/step - loss: 0.2929 - val_loss: 0.2778\n",
            "Epoch 4/20\n",
            "500/500 [==============================] - 422s 844ms/step - loss: 0.2871 - val_loss: 0.2742\n",
            "Epoch 5/20\n",
            "500/500 [==============================] - 422s 843ms/step - loss: 0.2788 - val_loss: 0.2690\n",
            "Epoch 6/20\n",
            "500/500 [==============================] - 417s 835ms/step - loss: 0.2726 - val_loss: 0.2836\n",
            "Epoch 7/20\n",
            "500/500 [==============================] - 421s 842ms/step - loss: 0.2685 - val_loss: 0.2774\n",
            "Epoch 8/20\n",
            "500/500 [==============================] - 422s 844ms/step - loss: 0.2634 - val_loss: 0.2941\n",
            "Epoch 9/20\n",
            "500/500 [==============================] - 426s 852ms/step - loss: 0.2590 - val_loss: 0.2831\n",
            "Epoch 10/20\n",
            "500/500 [==============================] - 417s 833ms/step - loss: 0.2554 - val_loss: 0.2861\n",
            "Epoch 11/20\n",
            "500/500 [==============================] - 420s 841ms/step - loss: 0.2502 - val_loss: 0.2852\n",
            "Epoch 12/20\n",
            "500/500 [==============================] - 419s 838ms/step - loss: 0.2444 - val_loss: 0.2818\n",
            "Epoch 13/20\n",
            "500/500 [==============================] - 419s 839ms/step - loss: 0.2401 - val_loss: 0.2871\n",
            "Epoch 14/20\n",
            "500/500 [==============================] - 424s 848ms/step - loss: 0.2372 - val_loss: 0.2910\n",
            "Epoch 15/20\n",
            "500/500 [==============================] - 419s 838ms/step - loss: 0.2342 - val_loss: 0.2995\n",
            "Epoch 16/20\n",
            "500/500 [==============================] - 418s 837ms/step - loss: 0.2300 - val_loss: 0.2985\n",
            "Epoch 17/20\n",
            "500/500 [==============================] - 417s 834ms/step - loss: 0.2297 - val_loss: 0.2985\n",
            "Epoch 18/20\n",
            "500/500 [==============================] - 416s 832ms/step - loss: 0.2254 - val_loss: 0.3042\n",
            "Epoch 19/20\n",
            "500/500 [==============================] - 416s 833ms/step - loss: 0.2238 - val_loss: 0.3017\n",
            "Epoch 20/20\n",
            "500/500 [==============================] - 417s 834ms/step - loss: 0.2211 - val_loss: 0.3051\n"
          ]
        }
      ],
      "source": [
        "from keras.models import Sequential\n",
        "from keras import layers\n",
        "from tensorflow.keras.optimizers import RMSprop\n",
        "\n",
        "model = Sequential()\n",
        "model.add(layers.GRU(32,\n",
        "                     dropout=0.1,\n",
        "                     recurrent_dropout=0.5,\n",
        "                     return_sequences=True,\n",
        "                     input_shape=(None, float_data.shape[-1])))\n",
        "model.add(layers.GRU(64, activation='relu',\n",
        "                     dropout=0.1, \n",
        "                     recurrent_dropout=0.5))\n",
        "model.add(layers.Dense(1))\n",
        "\n",
        "model.compile(optimizer=RMSprop(), loss='mae')\n",
        "history = model.fit_generator(train_gen,\n",
        "                              steps_per_epoch=500,\n",
        "                              epochs=20,\n",
        "                              validation_data=val_gen,\n",
        "                              validation_steps=val_steps)"
      ]
    },
    {
      "cell_type": "markdown",
      "metadata": {
        "id": "-n7t3v3Wms2X"
      },
      "source": [
        "Time to show the results on a plot:"
      ]
    },
    {
      "cell_type": "code",
      "execution_count": 13,
      "metadata": {
        "colab": {
          "base_uri": "https://localhost:8080/",
          "height": 281
        },
        "id": "YxEAiY75ms2X",
        "outputId": "baad7bb4-d568-45a0-8ef4-a22e97e0ce1c"
      },
      "outputs": [
        {
          "data": {
            "image/png": "[encoded data removed]",
            "text/plain": [
              "<Figure size 432x288 with 1 Axes>"
            ]
          },
          "metadata": {
            "needs_background": "light"
          },
          "output_type": "display_data"
        }
      ],
      "source": [
        "loss = history.history['loss']\n",
        "val_loss = history.history['val_loss']\n",
        "\n",
        "epochs = range(len(loss))\n",
        "\n",
        "plt.figure()\n",
        "\n",
        "plt.plot(epochs, loss, 'bo', label='Loss of training')\n",
        "plt.plot(epochs, val_loss, 'b', label='Loss of validation')\n",
        "plt.title('Loss of training and validation')\n",
        "plt.legend()\n",
        "\n",
        "plt.show()"
      ]
    },
    {
      "cell_type": "markdown",
      "metadata": {
        "id": "V2Ae3lkyms2Y"
      },
      "source": [
        "The chart shows that adding a layer improves the work of the model slightly, but this is not a significant improvement.\n",
        "Two conclusions can be drawn from this:\n",
        "* There is no over-fitting, so it is safe to increase the layer size to improve validation loss.\n",
        "Of course, this is associated with an increased computational cost.\n",
        "* Adding a layer did not result in a significant improvement, so further increasing the capacity of the network may lead to an increasingly noticeable improvement in the performance of the model."
      ]
    },
    {
      "cell_type": "markdown",
      "metadata": {
        "id": "5xRw4s5-ms2Y"
      },
      "source": [
        "## Using bidirectional recursive neural networks\n",
        "\n",
        "The last solution that we would like to introduce is the bidirectional recursive neural network. These are popular versions of recursive networks, which for some tasks are characterized by very good performance. They are often used in natural language processing. It can be described as a universal lockpick that works well when working on problems related to natural language processing.\n",
        "\n",
        "Recursive neural networks process dependencies resulting from the sequence or passage of time — they process sequences in an orderly manner. Changing the order of observations or reversing it can completely change the representations created by this type of network. It is for this reason that these networks work well when solving problems in which the order matters (an example of such a problem is temperature forecasting). Bidirectional recursive neural networks use this property of recursive networks. They consist of two standard recursive networks (e.g. GRU or LSTM layers). Each of these component networks processes the input sequence in a different direction (chronological or opposite to chronological). The representations they create are then combined. A bidirectional recursive network, by processing the sequence in both directions, can catch dependencies that are not perceived by the one-way recursive network.\n",
        "\n",
        "Of course, the chronological processing of sequences by the layers of recursive networks presented so far is our unconscious choice (so far we have not had the opportunity to question its reasonableness). Would recursive networks work well enough if they processed input sequences in the opposite direction to chronological order? Let's check it in practice, Just create a generator that reverses the input sequence according to the dimension that is the timeline (we need to replace the last line of code with the following solution: yield samples[:, ::-1, :], targets). After training the same network with one GRU layer (we used this layer in the first experiment), we will get the following results:"
      ]
    },
    {
      "cell_type": "code",
      "execution_count": 14,
      "metadata": {
        "collapsed": true,
        "id": "PJKeWpX3ms2Y"
      },
      "outputs": [],
      "source": [
        "def reverse_order_generator(data, lookback, delay, min_index, max_index,\n",
        "                            shuffle=False, batch_size=128, step=6):\n",
        "    if max_index is None:\n",
        "        max_index = len(data) - delay - 1\n",
        "    i = min_index + lookback\n",
        "    while 1:\n",
        "        if shuffle:\n",
        "            rows = np.random.randint(\n",
        "                min_index + lookback, max_index, size=batch_size)\n",
        "        else:\n",
        "            if i + batch_size >= max_index:\n",
        "                i = min_index + lookback\n",
        "            rows = np.arange(i, min(i + batch_size, max_index))\n",
        "            i += len(rows)\n",
        "\n",
        "        samples = np.zeros((len(rows),\n",
        "                           lookback // step,\n",
        "                           data.shape[-1]))\n",
        "        targets = np.zeros((len(rows),))\n",
        "        for j, row in enumerate(rows):\n",
        "            indices = range(rows[j] - lookback, rows[j], step)\n",
        "            samples[j] = data[indices]\n",
        "            targets[j] = data[rows[j] + delay][1]\n",
        "        yield samples[:, ::-1, :], targets\n",
        "        \n",
        "train_gen_reverse = reverse_order_generator(\n",
        "    float_data,\n",
        "    lookback=lookback,\n",
        "    delay=delay,\n",
        "    min_index=0,\n",
        "    max_index=200000,\n",
        "    shuffle=True,\n",
        "    step=step, \n",
        "    batch_size=batch_size)\n",
        "val_gen_reverse = reverse_order_generator(\n",
        "    float_data,\n",
        "    lookback=lookback,\n",
        "    delay=delay,\n",
        "    min_index=200001,\n",
        "    max_index=300000,\n",
        "    step=step,\n",
        "    batch_size=batch_size)"
      ]
    },
    {
      "cell_type": "code",
      "execution_count": 15,
      "metadata": {
        "colab": {
          "base_uri": "https://localhost:8080/"
        },
        "id": "12TGcanOms2Y",
        "outputId": "846bbf08-8b4d-4807-d98b-c4399582243d"
      },
      "outputs": [
        {
          "name": "stdout",
          "output_type": "stream",
          "text": [
            "Epoch 1/20\n"
          ]
        },
        {
          "name": "stderr",
          "output_type": "stream",
          "text": [
            "/usr/local/lib/python3.7/dist-packages/ipykernel_launcher.py:10: UserWarning: `Model.fit_generator` is deprecated and will be removed in a future version. Please use `Model.fit`, which supports generators.\n",
            "  # Remove the CWD from sys.path while we load stuff.\n"
          ]
        },
        {
          "name": "stdout",
          "output_type": "stream",
          "text": [
            "500/500 [==============================] - 92s 181ms/step - loss: 0.4818 - val_loss: 0.4726\n",
            "Epoch 2/20\n",
            "500/500 [==============================] - 96s 191ms/step - loss: 0.4418 - val_loss: 0.4582\n",
            "Epoch 3/20\n",
            "500/500 [==============================] - 95s 190ms/step - loss: 0.3706 - val_loss: 0.3819\n",
            "Epoch 4/20\n",
            "500/500 [==============================] - 93s 187ms/step - loss: 0.3191 - val_loss: 0.3550\n",
            "Epoch 5/20\n",
            "500/500 [==============================] - 92s 185ms/step - loss: 0.2923 - val_loss: 0.3472\n",
            "Epoch 6/20\n",
            "500/500 [==============================] - 91s 183ms/step - loss: 0.2794 - val_loss: 0.3333\n",
            "Epoch 7/20\n",
            "500/500 [==============================] - 91s 182ms/step - loss: 0.2706 - val_loss: 0.3377\n",
            "Epoch 8/20\n",
            "500/500 [==============================] - 91s 181ms/step - loss: 0.2629 - val_loss: 0.3344\n",
            "Epoch 9/20\n",
            "500/500 [==============================] - 91s 182ms/step - loss: 0.2561 - val_loss: 0.3420\n",
            "Epoch 10/20\n",
            "500/500 [==============================] - 92s 185ms/step - loss: 0.2504 - val_loss: 0.3592\n",
            "Epoch 11/20\n",
            "500/500 [==============================] - 94s 187ms/step - loss: 0.2459 - val_loss: 0.3454\n",
            "Epoch 12/20\n",
            "500/500 [==============================] - 93s 185ms/step - loss: 0.2408 - val_loss: 0.3486\n",
            "Epoch 13/20\n",
            "500/500 [==============================] - 92s 184ms/step - loss: 0.2354 - val_loss: 0.3485\n",
            "Epoch 14/20\n",
            "500/500 [==============================] - 90s 181ms/step - loss: 0.2303 - val_loss: 0.3572\n",
            "Epoch 15/20\n",
            "500/500 [==============================] - 92s 183ms/step - loss: 0.2273 - val_loss: 0.3591\n",
            "Epoch 16/20\n",
            "500/500 [==============================] - 94s 188ms/step - loss: 0.2239 - val_loss: 0.3605\n",
            "Epoch 17/20\n",
            "500/500 [==============================] - 91s 182ms/step - loss: 0.2186 - val_loss: 0.3751\n",
            "Epoch 18/20\n",
            "500/500 [==============================] - 90s 181ms/step - loss: 0.2172 - val_loss: 0.3633\n",
            "Epoch 19/20\n",
            "500/500 [==============================] - 91s 182ms/step - loss: 0.2134 - val_loss: 0.3800\n",
            "Epoch 20/20\n",
            "500/500 [==============================] - 92s 184ms/step - loss: 0.2106 - val_loss: 0.3720\n"
          ]
        }
      ],
      "source": [
        "model = Sequential()\n",
        "model.add(layers.GRU(32, input_shape=(None, float_data.shape[-1])))\n",
        "model.add(layers.Dense(1))\n",
        "\n",
        "model.compile(optimizer=RMSprop(), loss='mae')\n",
        "history = model.fit_generator(train_gen_reverse,\n",
        "                              steps_per_epoch=500,\n",
        "                              epochs=20,\n",
        "                              validation_data=val_gen_reverse,\n",
        "                              validation_steps=val_steps)"
      ]
    },
    {
      "cell_type": "code",
      "execution_count": 16,
      "metadata": {
        "colab": {
          "base_uri": "https://localhost:8080/",
          "height": 281
        },
        "id": "6MyWlotBms2Y",
        "outputId": "90c39902-d4f9-4552-a796-b0c41a79cbe7"
      },
      "outputs": [
        {
          "data": {
            "image/png": "[encoded data removed]",
            "text/plain": [
              "<Figure size 432x288 with 1 Axes>"
            ]
          },
          "metadata": {
            "needs_background": "light"
          },
          "output_type": "display_data"
        }
      ],
      "source": [
        "loss = history.history['loss']\n",
        "val_loss = history.history['val_loss']\n",
        "\n",
        "epochs = range(len(loss))\n",
        "\n",
        "plt.figure()\n",
        "\n",
        "plt.plot(epochs, loss, 'bo', label='Loss of training')\n",
        "plt.plot(epochs, val_loss, 'b', label='Loss of validation')\n",
        "plt.title('Loss of training and validation')\n",
        "plt.legend()\n",
        "\n",
        "plt.show()"
      ]
    },
    {
      "cell_type": "code",
      "execution_count": 26,
      "metadata": {
        "colab": {
          "base_uri": "https://localhost:8080/"
        },
        "id": "1rPbXA4Fms2Z",
        "outputId": "997f1ac7-fd04-46f6-eaad-2c7602ddeee2"
      },
      "outputs": [
        {
          "name": "stdout",
          "output_type": "stream",
          "text": [
            "Downloading data from https://storage.googleapis.com/tensorflow/tf-keras-datasets/imdb.npz\n",
            "17465344/17464789 [==============================] - 0s 0us/step\n",
            "17473536/17464789 [==============================] - 0s 0us/step\n",
            "Epoch 1/10\n",
            "157/157 [==============================] - 80s 496ms/step - loss: 0.4850 - acc: 0.7665 - val_loss: 0.3964 - val_acc: 0.8332\n",
            "Epoch 2/10\n",
            "157/157 [==============================] - 76s 481ms/step - loss: 0.3055 - acc: 0.8818 - val_loss: 0.4162 - val_acc: 0.8246\n",
            "Epoch 3/10\n",
            "157/157 [==============================] - 76s 482ms/step - loss: 0.2523 - acc: 0.9071 - val_loss: 0.3336 - val_acc: 0.8736\n",
            "Epoch 4/10\n",
            "157/157 [==============================] - 75s 480ms/step - loss: 0.2127 - acc: 0.9226 - val_loss: 0.3733 - val_acc: 0.8462\n",
            "Epoch 5/10\n",
            "157/157 [==============================] - 76s 483ms/step - loss: 0.1855 - acc: 0.9344 - val_loss: 0.3341 - val_acc: 0.8718\n",
            "Epoch 6/10\n",
            "157/157 [==============================] - 82s 521ms/step - loss: 0.1664 - acc: 0.9409 - val_loss: 0.4101 - val_acc: 0.8750\n",
            "Epoch 7/10\n",
            "157/157 [==============================] - 75s 477ms/step - loss: 0.1513 - acc: 0.9484 - val_loss: 0.6295 - val_acc: 0.8140\n",
            "Epoch 8/10\n",
            "157/157 [==============================] - 75s 480ms/step - loss: 0.1365 - acc: 0.9533 - val_loss: 0.4075 - val_acc: 0.8528\n",
            "Epoch 9/10\n",
            "157/157 [==============================] - 76s 482ms/step - loss: 0.1225 - acc: 0.9599 - val_loss: 0.7146 - val_acc: 0.7806\n",
            "Epoch 10/10\n",
            "157/157 [==============================] - 75s 480ms/step - loss: 0.1150 - acc: 0.9624 - val_loss: 0.5179 - val_acc: 0.8586\n"
          ]
        }
      ],
      "source": [
        "from keras.datasets import imdb\n",
        "from keras.preprocessing import sequence\n",
        "from keras import layers\n",
        "from keras.models import Sequential\n",
        "\n",
        "# The number of words treated as characteristics.\n",
        "max_features = 10000\n",
        "# Cuts reviews after this number of words belonging to the set of max_features words most common in the set.\n",
        "maxlen = 500\n",
        "\n",
        "# Loading data.\n",
        "(x_train, y_train), (x_test, y_test) = imdb.load_data(num_words=max_features)\n",
        "\n",
        "# Reverse sequence.\n",
        "x_train = [x[::-1] for x in x_train]\n",
        "x_test = [x[::-1] for x in x_test]\n",
        "\n",
        "# Sequence blocking.\n",
        "x_train = sequence.pad_sequences(x_train, maxlen=maxlen)\n",
        "x_test = sequence.pad_sequences(x_test, maxlen=maxlen)\n",
        "\n",
        "model = Sequential()\n",
        "model.add(layers.Embedding(max_features, 128))\n",
        "model.add(layers.LSTM(32))\n",
        "model.add(layers.Dense(1, activation='sigmoid'))\n",
        "\n",
        "model.compile(optimizer='rmsprop',\n",
        "              loss='binary_crossentropy',\n",
        "              metrics=['acc'])\n",
        "history = model.fit(x_train, y_train,\n",
        "                    epochs=10,\n",
        "                    batch_size=128,\n",
        "                    validation_split=0.2)"
      ]
    },
    {
      "cell_type": "markdown",
      "metadata": {
        "id": "9v70IL36ms2Z"
      },
      "source": [
        "To create a bidirectional recursive network instance, use the Bidirectional layer implemented in Keras. it takes the recursive layer instance as its first argument. The Bidirectional function creates a second separate instance of this layer. One instance is used to process the input sequence in a chronological direction, and the other instance is used to process the reversed input sequence. Let's try this solution to solve the problem of sentiment analysis of reviews of films included in the IMDB collection."
      ]
    },
    {
      "cell_type": "code",
      "execution_count": 27,
      "metadata": {
        "collapsed": true,
        "id": "WAU8WIyBms2Z"
      },
      "outputs": [],
      "source": [
        "from keras import backend as K\n",
        "K.clear_session()"
      ]
    },
    {
      "cell_type": "code",
      "execution_count": 28,
      "metadata": {
        "colab": {
          "base_uri": "https://localhost:8080/"
        },
        "id": "XeAHZu-zms2Z",
        "outputId": "0c76c8fe-7582-40a2-cc8e-6fdfea7983dc"
      },
      "outputs": [
        {
          "name": "stdout",
          "output_type": "stream",
          "text": [
            "Epoch 1/10\n",
            "157/157 [==============================] - 104s 635ms/step - loss: 0.5513 - acc: 0.7264 - val_loss: 0.4612 - val_acc: 0.8104\n",
            "Epoch 2/10\n",
            "157/157 [==============================] - 99s 632ms/step - loss: 0.3286 - acc: 0.8746 - val_loss: 0.3891 - val_acc: 0.8536\n",
            "Epoch 3/10\n",
            "157/157 [==============================] - 99s 631ms/step - loss: 0.2632 - acc: 0.9025 - val_loss: 0.3484 - val_acc: 0.8494\n",
            "Epoch 4/10\n",
            "157/157 [==============================] - 99s 633ms/step - loss: 0.2257 - acc: 0.9189 - val_loss: 0.3344 - val_acc: 0.8862\n",
            "Epoch 5/10\n",
            "157/157 [==============================] - 100s 634ms/step - loss: 0.2031 - acc: 0.9311 - val_loss: 0.3666 - val_acc: 0.8630\n",
            "Epoch 6/10\n",
            "157/157 [==============================] - 99s 630ms/step - loss: 0.1823 - acc: 0.9365 - val_loss: 0.3184 - val_acc: 0.8708\n",
            "Epoch 7/10\n",
            "157/157 [==============================] - 99s 630ms/step - loss: 0.1645 - acc: 0.9422 - val_loss: 0.3663 - val_acc: 0.8808\n",
            "Epoch 8/10\n",
            "157/157 [==============================] - 99s 632ms/step - loss: 0.1539 - acc: 0.9470 - val_loss: 0.3327 - val_acc: 0.8778\n",
            "Epoch 9/10\n",
            "157/157 [==============================] - 100s 634ms/step - loss: 0.1405 - acc: 0.9528 - val_loss: 0.4209 - val_acc: 0.8636\n",
            "Epoch 10/10\n",
            "157/157 [==============================] - 99s 632ms/step - loss: 0.1303 - acc: 0.9549 - val_loss: 0.3792 - val_acc: 0.8716\n"
          ]
        }
      ],
      "source": [
        "model = Sequential()\n",
        "model.add(layers.Embedding(max_features, 32))\n",
        "model.add(layers.Bidirectional(layers.LSTM(32)))\n",
        "model.add(layers.Dense(1, activation='sigmoid'))\n",
        "\n",
        "model.compile(optimizer='rmsprop', loss='binary_crossentropy', metrics=['acc'])\n",
        "history = model.fit(x_train, y_train, epochs=10, batch_size=128, validation_split=0.2)"
      ]
    },
    {
      "cell_type": "markdown",
      "metadata": {
        "id": "T30uDNLfms2a"
      },
      "source": [
        "This solution performs slightly better than the previously presented code using the standard LSTM layer – now we have a validation accuracy of over 87%. This model begins to be learned more quickly, which is not surprising – a two-way layer has twice as many parameters as a regular LSTM layer. With the addition of mechanisms to ensure regularization, the two-way data processing technique would work even better in this task. Let's check the operation of this method when predicting temperature:"
      ]
    },
    {
      "cell_type": "code",
      "execution_count": 30,
      "metadata": {
        "colab": {
          "base_uri": "https://localhost:8080/"
        },
        "id": "_bzqhImQms2a",
        "outputId": "1fd9c974-78ba-4298-8f4d-0df10c3cbf79"
      },
      "outputs": [
        {
          "name": "stdout",
          "output_type": "stream",
          "text": [
            "Epoch 1/20\n"
          ]
        },
        {
          "name": "stderr",
          "output_type": "stream",
          "text": [
            "/usr/local/lib/python3.7/dist-packages/ipykernel_launcher.py:15: UserWarning: `Model.fit_generator` is deprecated and will be removed in a future version. Please use `Model.fit`, which supports generators.\n",
            "  from ipykernel import kernelapp as app\n"
          ]
        },
        {
          "name": "stdout",
          "output_type": "stream",
          "text": [
            "500/500 [==============================] - 158s 308ms/step - loss: 0.2981 - val_loss: 0.2795\n",
            "Epoch 2/20\n",
            "500/500 [==============================] - 154s 307ms/step - loss: 0.2732 - val_loss: 0.2670\n",
            "Epoch 3/20\n",
            "500/500 [==============================] - 154s 308ms/step - loss: 0.2668 - val_loss: 0.2708\n",
            "Epoch 4/20\n",
            "500/500 [==============================] - 154s 308ms/step - loss: 0.2637 - val_loss: 0.2668\n",
            "Epoch 5/20\n",
            "500/500 [==============================] - 156s 313ms/step - loss: 0.2578 - val_loss: 0.2759\n",
            "Epoch 6/20\n",
            "500/500 [==============================] - 157s 315ms/step - loss: 0.2503 - val_loss: 0.2698\n",
            "Epoch 7/20\n",
            "500/500 [==============================] - 155s 310ms/step - loss: 0.2445 - val_loss: 0.2714\n",
            "Epoch 8/20\n",
            "500/500 [==============================] - 153s 307ms/step - loss: 0.2364 - val_loss: 0.2754\n",
            "Epoch 9/20\n",
            "500/500 [==============================] - 154s 308ms/step - loss: 0.2289 - val_loss: 0.2864\n",
            "Epoch 10/20\n",
            "500/500 [==============================] - 154s 308ms/step - loss: 0.2219 - val_loss: 0.2920\n",
            "Epoch 11/20\n",
            "500/500 [==============================] - 153s 307ms/step - loss: 0.2169 - val_loss: 0.2935\n",
            "Epoch 12/20\n",
            "500/500 [==============================] - 155s 309ms/step - loss: 0.2099 - val_loss: 0.3017\n",
            "Epoch 13/20\n",
            "500/500 [==============================] - 154s 309ms/step - loss: 0.2065 - val_loss: 0.3041\n",
            "Epoch 14/20\n",
            "500/500 [==============================] - 154s 308ms/step - loss: 0.2000 - val_loss: 0.3025\n",
            "Epoch 15/20\n",
            "500/500 [==============================] - 155s 311ms/step - loss: 0.1958 - val_loss: 0.3092\n",
            "Epoch 16/20\n",
            "500/500 [==============================] - 154s 309ms/step - loss: 0.1909 - val_loss: 0.3210\n",
            "Epoch 17/20\n",
            "500/500 [==============================] - 155s 310ms/step - loss: 0.1868 - val_loss: 0.3240\n",
            "Epoch 18/20\n",
            "500/500 [==============================] - 158s 316ms/step - loss: 0.1819 - val_loss: 0.3294\n",
            "Epoch 19/20\n",
            "500/500 [==============================] - 157s 315ms/step - loss: 0.1784 - val_loss: 0.3289\n",
            "Epoch 20/20\n",
            "500/500 [==============================] - 158s 315ms/step - loss: 0.1749 - val_loss: 0.3329\n"
          ]
        }
      ],
      "source": [
        "from keras.models import Sequential\n",
        "from keras import layers\n",
        "from tensorflow.keras.optimizers import RMSprop\n",
        "\n",
        "model = Sequential()\n",
        "model.add(layers.Bidirectional(\n",
        "    layers.GRU(32), input_shape=(None, float_data.shape[-1])))\n",
        "model.add(layers.Dense(1))\n",
        "\n",
        "model.compile(optimizer=RMSprop(), loss='mae')\n",
        "history = model.fit_generator(train_gen,\n",
        "                              steps_per_epoch=500,\n",
        "                              epochs=20,\n",
        "                              validation_data=val_gen,\n",
        "                              validation_steps=val_steps)"
      ]
    },
    {
      "cell_type": "code",
      "execution_count": 31,
      "metadata": {
        "colab": {
          "base_uri": "https://localhost:8080/",
          "height": 281
        },
        "id": "v3Z10o_bZBVE",
        "outputId": "78fe52a9-e039-450b-ab9e-68d90de1b307"
      },
      "outputs": [
        {
          "data": {
            "image/png": "[encoded data removed]",
            "text/plain": [
              "<Figure size 432x288 with 1 Axes>"
            ]
          },
          "metadata": {
            "needs_background": "light"
          },
          "output_type": "display_data"
        }
      ],
      "source": [
        "loss = history.history['loss']\n",
        "val_loss = history.history['val_loss']\n",
        "\n",
        "epochs = range(len(loss))\n",
        "\n",
        "plt.figure()\n",
        "\n",
        "plt.plot(epochs, loss, 'bo', label='Loss of training')\n",
        "plt.plot(epochs, val_loss, 'b', label='Loss of validation')\n",
        "plt.title('Loss of training and validation')\n",
        "plt.legend()\n",
        "\n",
        "plt.show()"
      ]
    }
  ],
  "metadata": {
    "accelerator": "GPU",
    "colab": {
      "collapsed_sections": [],
      "name": "advanced_applications.ipynb",
      "provenance": []
    },
    "kernelspec": {
      "display_name": "Python 3.10.5 64-bit",
      "language": "python",
      "name": "python3"
    },
    "language_info": {
      "codemirror_mode": {
        "name": "ipython",
        "version": 3
      },
      "file_extension": ".py",
      "mimetype": "text/x-python",
      "name": "python",
      "nbconvert_exporter": "python",
      "pygments_lexer": "ipython3",
      "version": "3.10.5"
    },
    "vscode": {
      "interpreter": {
        "hash": "3429981c687d110c4c5c63635eed955f89f79b5c29f7b8819e5bb3afec2d8ca0"
      }
    }
  },
  "nbformat": 4,
  "nbformat_minor": 0
}
