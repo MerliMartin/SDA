{
    "cells": [
        {
            "cell_type": "code",
            "execution_count": 1,
            "metadata": {
                "colab": {
                    "base_uri": "https://localhost:8080/",
                    "height": 35
                },
                "id": "rqxkVD5maZd5",
                "outputId": "6278aa36-97e8-4c4f-c3ff-9c87105b3847"
            },
            "outputs": [
                {
                    "data": {
                        "text/plain": [
                            "'2.10.0'"
                        ]
                    },
                    "execution_count": 1,
                    "metadata": {},
                    "output_type": "execute_result"
                }
            ],
            "source": [
                "# import keras\n",
                "import tensorflow as tf\n",
                "from tensorflow import keras\n",
                "keras.__version__"
            ]
        },
        {
            "cell_type": "markdown",
            "metadata": {
                "id": "e-vZfTTaaZeA"
            },
            "source": [
                "# Recursive neural networks\n",
                "\n",
                "[...]\n",
                "\n",
                "## Recursive layer in the Keras package\n",
                "\n",
                "\n",
                "The process we implemented using the Numpy library is equivalent to a simple layer called The SimpleRNN of the Keras package:"
            ]
        },
        {
            "cell_type": "code",
            "execution_count": 2,
            "metadata": {
                "id": "0_aCUilHaZeB"
            },
            "outputs": [],
            "source": [
                "from keras.layers import SimpleRNN"
            ]
        },
        {
            "cell_type": "markdown",
            "metadata": {
                "id": "krg9AmNVaZeC"
            },
            "source": [
                "However, there is a small difference between these implementations: the SimpleRNN layer divides the sequences into batches (this is done by all Keras layers) — it does not process individual sequences as it did in the example implemented with The Numpy library. Therefore, this layer accepts input objects with a shape (input_value, time_steps, entry_characteristics) and not (time_steps, entry_characteristics).\n",
                "\n",
                "The SimpleRNN layer, like all recursive layers of the Keras package, can be run in two modes: it can return full sequences of consecutive output objects for each step of time (three-dimensional tensors in shape (input_value, time_steps, entry_characteristics)) or only the last output objects of individual input sequences (two-dimensional tensors in shape (time_steps, entry_characteristics)). The selection of the operating mode is made using the return_sequences argument. Let's analyze an example where the SimpleRNN layer is applied, and the output is returned only when processing the last step of time:"
            ]
        },
        {
            "cell_type": "code",
            "execution_count": 3,
            "metadata": {
                "colab": {
                    "base_uri": "https://localhost:8080/"
                },
                "id": "hh1-wECtaZeC",
                "outputId": "33abe6dc-cb48-4d94-adb2-7241dc96fccb"
            },
            "outputs": [
                {
                    "name": "stdout",
                    "output_type": "stream",
                    "text": [
                        "Model: \"sequential\"\n",
                        "_________________________________________________________________\n",
                        " Layer (type)                Output Shape              Param #   \n",
                        "=================================================================\n",
                        " embedding (Embedding)       (None, None, 32)          320000    \n",
                        "                                                                 \n",
                        " simple_rnn (SimpleRNN)      (None, 32)                2080      \n",
                        "                                                                 \n",
                        "=================================================================\n",
                        "Total params: 322,080\n",
                        "Trainable params: 322,080\n",
                        "Non-trainable params: 0\n",
                        "_________________________________________________________________\n"
                    ]
                }
            ],
            "source": [
                "from keras.models import Sequential\n",
                "from keras.layers import Embedding, SimpleRNN\n",
                "\n",
                "model = Sequential()\n",
                "model.add(Embedding(10000, 32))\n",
                "model.add(SimpleRNN(32))\n",
                "model.summary()"
            ]
        },
        {
            "cell_type": "code",
            "execution_count": null,
            "metadata": {
                "id": "DTSZWavyBthT"
            },
            "outputs": [],
            "source": []
        },
        {
            "cell_type": "code",
            "execution_count": 4,
            "metadata": {
                "colab": {
                    "base_uri": "https://localhost:8080/"
                },
                "id": "7tcM3SL_aZeD",
                "outputId": "e7652f92-4274-426d-ebf4-311bfd13ae13",
                "scrolled": true
            },
            "outputs": [
                {
                    "name": "stdout",
                    "output_type": "stream",
                    "text": [
                        "Model: \"sequential_1\"\n",
                        "_________________________________________________________________\n",
                        " Layer (type)                Output Shape              Param #   \n",
                        "=================================================================\n",
                        " embedding_1 (Embedding)     (None, None, 32)          320000    \n",
                        "                                                                 \n",
                        " simple_rnn_1 (SimpleRNN)    (None, None, 32)          2080      \n",
                        "                                                                 \n",
                        "=================================================================\n",
                        "Total params: 322,080\n",
                        "Trainable params: 322,080\n",
                        "Non-trainable params: 0\n",
                        "_________________________________________________________________\n"
                    ]
                }
            ],
            "source": [
                "model = Sequential()\n",
                "model.add(Embedding(10000, 32))\n",
                "model.add(SimpleRNN(32, return_sequences=True))\n",
                "model.summary()"
            ]
        },
        {
            "cell_type": "markdown",
            "metadata": {
                "id": "bpYkkSeOaZeE"
            },
            "source": [
                "Sometimes it's a good idea to create a stack of several recursive layers. This increases the power of representation by the network. With this configuration, all intermediate layers must return the full sequence of output objects:"
            ]
        },
        {
            "cell_type": "code",
            "execution_count": 5,
            "metadata": {
                "colab": {
                    "base_uri": "https://localhost:8080/"
                },
                "id": "QwzO0M4QaZeE",
                "outputId": "1a35182c-73b9-49d1-f0fd-9f10bde29ab3"
            },
            "outputs": [
                {
                    "name": "stdout",
                    "output_type": "stream",
                    "text": [
                        "Model: \"sequential_2\"\n",
                        "_________________________________________________________________\n",
                        " Layer (type)                Output Shape              Param #   \n",
                        "=================================================================\n",
                        " embedding_2 (Embedding)     (None, None, 32)          320000    \n",
                        "                                                                 \n",
                        " simple_rnn_2 (SimpleRNN)    (None, None, 32)          2080      \n",
                        "                                                                 \n",
                        " simple_rnn_3 (SimpleRNN)    (None, None, 32)          2080      \n",
                        "                                                                 \n",
                        " simple_rnn_4 (SimpleRNN)    (None, None, 32)          2080      \n",
                        "                                                                 \n",
                        " simple_rnn_5 (SimpleRNN)    (None, 32)                2080      \n",
                        "                                                                 \n",
                        "=================================================================\n",
                        "Total params: 328,320\n",
                        "Trainable params: 328,320\n",
                        "Non-trainable params: 0\n",
                        "_________________________________________________________________\n"
                    ]
                }
            ],
            "source": [
                "model = Sequential()\n",
                "model.add(Embedding(10000, 32))\n",
                "model.add(SimpleRNN(32, return_sequences=True))\n",
                "model.add(SimpleRNN(32, return_sequences=True))\n",
                "model.add(SimpleRNN(32, return_sequences=True))\n",
                "model.add(SimpleRNN(32))  # The last layer returns only the last output object.\n",
                "model.summary()"
            ]
        },
        {
            "cell_type": "markdown",
            "metadata": {
                "id": "438ch59iaZeF"
            },
            "source": [
                "Now let's use such a model to solve the problem of rating movie reviews. Let's start with the pre-processing of data:"
            ]
        },
        {
            "cell_type": "code",
            "execution_count": 6,
            "metadata": {},
            "outputs": [],
            "source": [
                "# !pip install keras\n",
                "# !pip install tensorflow"
            ]
        },
        {
            "cell_type": "code",
            "execution_count": 7,
            "metadata": {
                "colab": {
                    "base_uri": "https://localhost:8080/"
                },
                "id": "zB9XO6f9aZeF",
                "outputId": "292a9299-93e6-4909-b57b-fe4b9826d589"
            },
            "outputs": [
                {
                    "name": "stdout",
                    "output_type": "stream",
                    "text": [
                        "Loading data...\n",
                        "25000 training sequences\n",
                        "25000 test sequences\n",
                        "Sequences (samples x time)\n",
                        "Shape of the object input_train: (25000, 500)\n",
                        "Shape of the object input_test: (25000, 500)\n"
                    ]
                }
            ],
            "source": [
                "from keras.datasets import imdb\n",
                "from keras_preprocessing.sequence import pad_sequences\n",
                "\n",
                "max_features = 10000  # The number of words treated as characteristics.\n",
                "maxlen = 500  # Cuts reviews after this number of words belonging to the set of max_features words most common in the set.\n",
                "batch_size = 32\n",
                "\n",
                "print('Loading data...')\n",
                "(input_train, y_train), (input_test, y_test) = imdb.load_data(num_words=max_features)\n",
                "print(len(input_train), 'training sequences')\n",
                "print(len(input_test), 'test sequences')\n",
                "\n",
                "print('Sequences (samples x time)')\n",
                "input_train = pad_sequences(input_train, maxlen=maxlen)\n",
                "input_test = pad_sequences(input_test, maxlen=maxlen)\n",
                "print('Shape of the object input_train:', input_train.shape)\n",
                "print('Shape of the object input_test:', input_test.shape)\n"
            ]
        },
        {
            "cell_type": "code",
            "execution_count": 8,
            "metadata": {},
            "outputs": [
                {
                    "data": {
                        "text/plain": [
                            "array([list([1, 14, 22, 16, 43, 530, 973, 1622, 1385, 65, 458, 4468, 66, 3941, 4, 173, 36, 256, 5, 25, 100, 43, 838, 112, 50, 670, 2, 9, 35, 480, 284, 5, 150, 4, 172, 112, 167, 2, 336, 385, 39, 4, 172, 4536, 1111, 17, 546, 38, 13, 447, 4, 192, 50, 16, 6, 147, 2025, 19, 14, 22, 4, 1920, 4613, 469, 4, 22, 71, 87, 12, 16, 43, 530, 38, 76, 15, 13, 1247, 4, 22, 17, 515, 17, 12, 16, 626, 18, 2, 5, 62, 386, 12, 8, 316, 8, 106, 5, 4, 2223, 5244, 16, 480, 66, 3785, 33, 4, 130, 12, 16, 38, 619, 5, 25, 124, 51, 36, 135, 48, 25, 1415, 33, 6, 22, 12, 215, 28, 77, 52, 5, 14, 407, 16, 82, 2, 8, 4, 107, 117, 5952, 15, 256, 4, 2, 7, 3766, 5, 723, 36, 71, 43, 530, 476, 26, 400, 317, 46, 7, 4, 2, 1029, 13, 104, 88, 4, 381, 15, 297, 98, 32, 2071, 56, 26, 141, 6, 194, 7486, 18, 4, 226, 22, 21, 134, 476, 26, 480, 5, 144, 30, 5535, 18, 51, 36, 28, 224, 92, 25, 104, 4, 226, 65, 16, 38, 1334, 88, 12, 16, 283, 5, 16, 4472, 113, 103, 32, 15, 16, 5345, 19, 178, 32]),\n",
                            "       list([1, 194, 1153, 194, 8255, 78, 228, 5, 6, 1463, 4369, 5012, 134, 26, 4, 715, 8, 118, 1634, 14, 394, 20, 13, 119, 954, 189, 102, 5, 207, 110, 3103, 21, 14, 69, 188, 8, 30, 23, 7, 4, 249, 126, 93, 4, 114, 9, 2300, 1523, 5, 647, 4, 116, 9, 35, 8163, 4, 229, 9, 340, 1322, 4, 118, 9, 4, 130, 4901, 19, 4, 1002, 5, 89, 29, 952, 46, 37, 4, 455, 9, 45, 43, 38, 1543, 1905, 398, 4, 1649, 26, 6853, 5, 163, 11, 3215, 2, 4, 1153, 9, 194, 775, 7, 8255, 2, 349, 2637, 148, 605, 2, 8003, 15, 123, 125, 68, 2, 6853, 15, 349, 165, 4362, 98, 5, 4, 228, 9, 43, 2, 1157, 15, 299, 120, 5, 120, 174, 11, 220, 175, 136, 50, 9, 4373, 228, 8255, 5, 2, 656, 245, 2350, 5, 4, 9837, 131, 152, 491, 18, 2, 32, 7464, 1212, 14, 9, 6, 371, 78, 22, 625, 64, 1382, 9, 8, 168, 145, 23, 4, 1690, 15, 16, 4, 1355, 5, 28, 6, 52, 154, 462, 33, 89, 78, 285, 16, 145, 95]),\n",
                            "       list([1, 14, 47, 8, 30, 31, 7, 4, 249, 108, 7, 4, 5974, 54, 61, 369, 13, 71, 149, 14, 22, 112, 4, 2401, 311, 12, 16, 3711, 33, 75, 43, 1829, 296, 4, 86, 320, 35, 534, 19, 263, 4821, 1301, 4, 1873, 33, 89, 78, 12, 66, 16, 4, 360, 7, 4, 58, 316, 334, 11, 4, 1716, 43, 645, 662, 8, 257, 85, 1200, 42, 1228, 2578, 83, 68, 3912, 15, 36, 165, 1539, 278, 36, 69, 2, 780, 8, 106, 14, 6905, 1338, 18, 6, 22, 12, 215, 28, 610, 40, 6, 87, 326, 23, 2300, 21, 23, 22, 12, 272, 40, 57, 31, 11, 4, 22, 47, 6, 2307, 51, 9, 170, 23, 595, 116, 595, 1352, 13, 191, 79, 638, 89, 2, 14, 9, 8, 106, 607, 624, 35, 534, 6, 227, 7, 129, 113]),\n",
                            "       list([1, 4, 2, 2, 33, 2804, 4, 2040, 432, 111, 153, 103, 4, 1494, 13, 70, 131, 67, 11, 61, 2, 744, 35, 3715, 761, 61, 5766, 452, 9214, 4, 985, 7, 2, 59, 166, 4, 105, 216, 1239, 41, 1797, 9, 15, 7, 35, 744, 2413, 31, 8, 4, 687, 23, 4, 2, 7339, 6, 3693, 42, 38, 39, 121, 59, 456, 10, 10, 7, 265, 12, 575, 111, 153, 159, 59, 16, 1447, 21, 25, 586, 482, 39, 4, 96, 59, 716, 12, 4, 172, 65, 9, 579, 11, 6004, 4, 1615, 5, 2, 7, 5168, 17, 13, 7064, 12, 19, 6, 464, 31, 314, 11, 2, 6, 719, 605, 11, 8, 202, 27, 310, 4, 3772, 3501, 8, 2722, 58, 10, 10, 537, 2116, 180, 40, 14, 413, 173, 7, 263, 112, 37, 152, 377, 4, 537, 263, 846, 579, 178, 54, 75, 71, 476, 36, 413, 263, 2504, 182, 5, 17, 75, 2306, 922, 36, 279, 131, 2895, 17, 2867, 42, 17, 35, 921, 2, 192, 5, 1219, 3890, 19, 2, 217, 4122, 1710, 537, 2, 1236, 5, 736, 10, 10, 61, 403, 9, 2, 40, 61, 4494, 5, 27, 4494, 159, 90, 263, 2311, 4319, 309, 8, 178, 5, 82, 4319, 4, 65, 15, 9225, 145, 143, 5122, 12, 7039, 537, 746, 537, 537, 15, 7979, 4, 2, 594, 7, 5168, 94, 9096, 3987, 2, 11, 2, 4, 538, 7, 1795, 246, 2, 9, 2, 11, 635, 14, 9, 51, 408, 12, 94, 318, 1382, 12, 47, 6, 2683, 936, 5, 6307, 2, 19, 49, 7, 4, 1885, 2, 1118, 25, 80, 126, 842, 10, 10, 2, 2, 4726, 27, 4494, 11, 1550, 3633, 159, 27, 341, 29, 2733, 19, 4185, 173, 7, 90, 2, 8, 30, 11, 4, 1784, 86, 1117, 8, 3261, 46, 11, 2, 21, 29, 9, 2841, 23, 4, 1010, 2, 793, 6, 2, 1386, 1830, 10, 10, 246, 50, 9, 6, 2750, 1944, 746, 90, 29, 2, 8, 124, 4, 882, 4, 882, 496, 27, 2, 2213, 537, 121, 127, 1219, 130, 5, 29, 494, 8, 124, 4, 882, 496, 4, 341, 7, 27, 846, 10, 10, 29, 9, 1906, 8, 97, 6, 236, 2, 1311, 8, 4, 2, 7, 31, 7, 2, 91, 2, 3987, 70, 4, 882, 30, 579, 42, 9, 12, 32, 11, 537, 10, 10, 11, 14, 65, 44, 537, 75, 2, 1775, 3353, 2, 1846, 4, 2, 7, 154, 5, 4, 518, 53, 2, 2, 7, 3211, 882, 11, 399, 38, 75, 257, 3807, 19, 2, 17, 29, 456, 4, 65, 7, 27, 205, 113, 10, 10, 2, 4, 2, 2, 9, 242, 4, 91, 1202, 2, 5, 2070, 307, 22, 7, 5168, 126, 93, 40, 2, 13, 188, 1076, 3222, 19, 4, 2, 7, 2348, 537, 23, 53, 537, 21, 82, 40, 2, 13, 2, 14, 280, 13, 219, 4, 2, 431, 758, 859, 4, 953, 1052, 2, 7, 5991, 5, 94, 40, 25, 238, 60, 2, 4, 2, 804, 2, 7, 4, 9941, 132, 8, 67, 6, 22, 15, 9, 283, 8, 5168, 14, 31, 9, 242, 955, 48, 25, 279, 2, 23, 12, 1685, 195, 25, 238, 60, 796, 2, 4, 671, 7, 2804, 5, 4, 559, 154, 888, 7, 726, 50, 26, 49, 7008, 15, 566, 30, 579, 21, 64, 2574]),\n",
                            "       list([1, 249, 1323, 7, 61, 113, 10, 10, 13, 1637, 14, 20, 56, 33, 2401, 18, 457, 88, 13, 2626, 1400, 45, 3171, 13, 70, 79, 49, 706, 919, 13, 16, 355, 340, 355, 1696, 96, 143, 4, 22, 32, 289, 7, 61, 369, 71, 2359, 5, 13, 16, 131, 2073, 249, 114, 249, 229, 249, 20, 13, 28, 126, 110, 13, 473, 8, 569, 61, 419, 56, 429, 6, 1513, 18, 35, 534, 95, 474, 570, 5, 25, 124, 138, 88, 12, 421, 1543, 52, 725, 6397, 61, 419, 11, 13, 1571, 15, 1543, 20, 11, 4, 2, 5, 296, 12, 3524, 5, 15, 421, 128, 74, 233, 334, 207, 126, 224, 12, 562, 298, 2167, 1272, 7, 2601, 5, 516, 988, 43, 8, 79, 120, 15, 595, 13, 784, 25, 3171, 18, 165, 170, 143, 19, 14, 5, 7224, 6, 226, 251, 7, 61, 113])],\n",
                            "      dtype=object)"
                        ]
                    },
                    "execution_count": 8,
                    "metadata": {},
                    "output_type": "execute_result"
                }
            ],
            "source": [
                "# Visualizing the data that is going to be used\n",
                "imdb.load_data(num_words=max_features)[0][0][:5]"
            ]
        },
        {
            "cell_type": "markdown",
            "metadata": {
                "id": "y8G3ledDaZeG"
            },
            "source": [
                "Let's train a simple recursive network using the Embedding layer and the SimpleRNN layer."
            ]
        },
        {
            "cell_type": "code",
            "execution_count": 9,
            "metadata": {
                "colab": {
                    "base_uri": "https://localhost:8080/"
                },
                "id": "VrTd0k-SaZeG",
                "outputId": "9d41504d-515c-4fed-af85-d01ebffb303e",
                "scrolled": true
            },
            "outputs": [
                {
                    "name": "stdout",
                    "output_type": "stream",
                    "text": [
                        "Epoch 1/10\n",
                        "157/157 [==============================] - 15s 87ms/step - loss: 0.6534 - acc: 0.6033 - val_loss: 0.5412 - val_acc: 0.7598\n",
                        "Epoch 2/10\n",
                        "157/157 [==============================] - 15s 94ms/step - loss: 0.4121 - acc: 0.8230 - val_loss: 0.3707 - val_acc: 0.8488\n",
                        "Epoch 3/10\n",
                        "157/157 [==============================] - 13s 81ms/step - loss: 0.2920 - acc: 0.8830 - val_loss: 0.3729 - val_acc: 0.8390\n",
                        "Epoch 4/10\n",
                        "157/157 [==============================] - 13s 84ms/step - loss: 0.2305 - acc: 0.9111 - val_loss: 0.4430 - val_acc: 0.7934\n",
                        "Epoch 5/10\n",
                        "157/157 [==============================] - 13s 82ms/step - loss: 0.1553 - acc: 0.9456 - val_loss: 0.4408 - val_acc: 0.8522\n",
                        "Epoch 6/10\n",
                        "157/157 [==============================] - 13s 84ms/step - loss: 0.1006 - acc: 0.9654 - val_loss: 0.5914 - val_acc: 0.7652\n",
                        "Epoch 7/10\n",
                        "157/157 [==============================] - 13s 82ms/step - loss: 0.0592 - acc: 0.9826 - val_loss: 0.5199 - val_acc: 0.8292\n",
                        "Epoch 8/10\n",
                        "157/157 [==============================] - 14s 86ms/step - loss: 0.0339 - acc: 0.9905 - val_loss: 0.5235 - val_acc: 0.8492\n",
                        "Epoch 9/10\n",
                        "157/157 [==============================] - 13s 81ms/step - loss: 0.0208 - acc: 0.9945 - val_loss: 0.7094 - val_acc: 0.7872\n",
                        "Epoch 10/10\n",
                        "157/157 [==============================] - 13s 84ms/step - loss: 0.0122 - acc: 0.9969 - val_loss: 0.7089 - val_acc: 0.8156\n"
                    ]
                }
            ],
            "source": [
                "from keras.layers import Dense\n",
                "\n",
                "model = Sequential()\n",
                "model.add(Embedding(max_features, 32))\n",
                "model.add(SimpleRNN(32))\n",
                "model.add(Dense(1, activation='sigmoid'))\n",
                "\n",
                "model.compile(optimizer='rmsprop', loss='binary_crossentropy', metrics=['acc'])\n",
                "history = model.fit(input_train, y_train,\n",
                "                    epochs=10,\n",
                "                    batch_size=128,\n",
                "                    validation_split=0.2)"
            ]
        },
        {
            "cell_type": "markdown",
            "metadata": {
                "id": "z5hB5aLaaZeH"
            },
            "source": [
                "Now we can view the accuracy graphs and losses in the training and validation processes:"
            ]
        },
        {
            "cell_type": "code",
            "execution_count": 10,
            "metadata": {
                "colab": {
                    "base_uri": "https://localhost:8080/",
                    "height": 545
                },
                "id": "rRo7ellbaZeH",
                "outputId": "b9fe6483-cf59-4166-89c7-237ac6febd85"
            },
            "outputs": [
                {
                    "data": {
                        "image/png": "[encoded data removed]",
                        "text/plain": [
                            "<Figure size 432x288 with 1 Axes>"
                        ]
                    },
                    "metadata": {
                        "needs_background": "light"
                    },
                    "output_type": "display_data"
                },
                {
                    "data": {
                        "image/png": "[encoded data removed]",
                        "text/plain": [
                            "<Figure size 432x288 with 1 Axes>"
                        ]
                    },
                    "metadata": {
                        "needs_background": "light"
                    },
                    "output_type": "display_data"
                }
            ],
            "source": [
                "import matplotlib.pyplot as plt\n",
                "\n",
                "acc = history.history['acc']\n",
                "val_acc = history.history['val_acc']\n",
                "loss = history.history['loss']\n",
                "val_loss = history.history['val_loss']\n",
                "\n",
                "epochs = range(len(acc))\n",
                "\n",
                "plt.plot(epochs, acc, 'bo', label='Accuracy of training')\n",
                "plt.plot(epochs, val_acc, 'b', label='Validation accuracy')\n",
                "plt.title('Accuracy of training and validation')\n",
                "plt.legend()\n",
                "\n",
                "plt.figure()\n",
                "\n",
                "plt.plot(epochs, loss, 'bo', label='Loss of training')\n",
                "plt.plot(epochs, val_loss, 'b', label='Loss of validation')\n",
                "plt.title('Loss of training and validation')\n",
                "plt.legend()\n",
                "\n",
                "plt.show()"
            ]
        },
        {
            "cell_type": "markdown",
            "metadata": {
                "id": "XtvMVQi4aZeI"
            },
            "source": [
                "[...]\n",
                "\n",
                "## Example of a LSTM layer implemented in Keras\n",
                "\n",
                "It's time to look at a practical example of how to use the LSTM layer. We will configure the model in which such a layer will be located and train it on the IMDB dataset. It resembles the previously presented model with the SimpleRNN layer. We will specify only the number of dimensions of the LSTM output object. The remaining arguments of this layer (there are many) will be left with the default values. The default settings of the Keras package are well thought out and usually \"just work\" without having to spend a lot of time manually tuning the parameters."
            ]
        },
        {
            "cell_type": "code",
            "execution_count": 13,
            "metadata": {
                "colab": {
                    "base_uri": "https://localhost:8080/"
                },
                "id": "RCenWNtZaZeI",
                "outputId": "33a273fe-1b62-438f-e442-ef21502fdf1d"
            },
            "outputs": [
                {
                    "name": "stdout",
                    "output_type": "stream",
                    "text": [
                        "Epoch 1/10\n",
                        "157/157 [==============================] - 42s 240ms/step - loss: 0.4983 - acc: 0.7646 - val_loss: 0.3193 - val_acc: 0.8760\n",
                        "Epoch 2/10\n",
                        "157/157 [==============================] - 37s 235ms/step - loss: 0.2905 - acc: 0.8855 - val_loss: 0.8050 - val_acc: 0.7354\n",
                        "Epoch 3/10\n",
                        "157/157 [==============================] - 37s 234ms/step - loss: 0.2378 - acc: 0.9096 - val_loss: 0.3026 - val_acc: 0.8836\n",
                        "Epoch 4/10\n",
                        "157/157 [==============================] - 37s 238ms/step - loss: 0.2012 - acc: 0.9258 - val_loss: 0.3266 - val_acc: 0.8616\n",
                        "Epoch 5/10\n",
                        "157/157 [==============================] - 38s 243ms/step - loss: 0.1798 - acc: 0.9367 - val_loss: 0.3487 - val_acc: 0.8804\n",
                        "Epoch 6/10\n",
                        "157/157 [==============================] - 41s 262ms/step - loss: 0.1591 - acc: 0.9433 - val_loss: 0.3153 - val_acc: 0.8718\n",
                        "Epoch 7/10\n",
                        "157/157 [==============================] - 37s 237ms/step - loss: 0.1470 - acc: 0.9470 - val_loss: 0.3012 - val_acc: 0.8744\n",
                        "Epoch 8/10\n",
                        "157/157 [==============================] - 36s 231ms/step - loss: 0.1362 - acc: 0.9539 - val_loss: 0.4396 - val_acc: 0.8760\n",
                        "Epoch 9/10\n",
                        "157/157 [==============================] - 35s 225ms/step - loss: 0.1256 - acc: 0.9565 - val_loss: 0.3608 - val_acc: 0.8842\n",
                        "Epoch 10/10\n",
                        "157/157 [==============================] - 36s 227ms/step - loss: 0.1171 - acc: 0.9596 - val_loss: 0.3355 - val_acc: 0.8796\n"
                    ]
                }
            ],
            "source": [
                "from keras.layers import LSTM\n",
                "\n",
                "model = Sequential()\n",
                "model.add(Embedding(max_features, 32))\n",
                "model.add(LSTM(32))\n",
                "model.add(Dense(1, activation='sigmoid'))\n",
                "\n",
                "model.compile(optimizer='rmsprop',\n",
                "              loss='binary_crossentropy',\n",
                "              metrics=['acc'])\n",
                "history = model.fit(input_train, y_train,\n",
                "                    epochs=10,\n",
                "                    batch_size=128,\n",
                "                    validation_split=0.2)"
            ]
        },
        {
            "cell_type": "code",
            "execution_count": 14,
            "metadata": {
                "colab": {
                    "base_uri": "https://localhost:8080/",
                    "height": 545
                },
                "id": "-M7OKm-0aZeI",
                "outputId": "10ca4903-9870-4f3f-e18c-ea77446616fc"
            },
            "outputs": [
                {
                    "data": {
                        "image/png": "[encoded data removed]",
                        "text/plain": [
                            "<Figure size 432x288 with 1 Axes>"
                        ]
                    },
                    "metadata": {
                        "needs_background": "light"
                    },
                    "output_type": "display_data"
                },
                {
                    "data": {
                        "image/png": "[encoded data removed]",
                        "text/plain": [
                            "<Figure size 432x288 with 1 Axes>"
                        ]
                    },
                    "metadata": {
                        "needs_background": "light"
                    },
                    "output_type": "display_data"
                }
            ],
            "source": [
                "acc = history.history['acc']\n",
                "val_acc = history.history['val_acc']\n",
                "loss = history.history['loss']\n",
                "val_loss = history.history['val_loss']\n",
                "\n",
                "epochs = range(len(acc))\n",
                "\n",
                "plt.plot(epochs, acc, 'bo', label='Accuracy of training')\n",
                "plt.plot(epochs, val_acc, 'b', label='Validation accuracy')\n",
                "plt.title('Accuracy of training and validation')\n",
                "plt.legend()\n",
                "\n",
                "plt.figure()\n",
                "\n",
                "plt.plot(epochs, loss, 'bo', label='Loss of training')\n",
                "plt.plot(epochs, val_loss, 'b', label='Loss of validation')\n",
                "plt.title('Loss of training and validation')\n",
                "plt.legend()\n",
                "\n",
                "plt.show()"
            ]
        },
        {
            "cell_type": "code",
            "execution_count": 15,
            "metadata": {},
            "outputs": [
                {
                    "data": {
                        "text/plain": [
                            "'Merli'"
                        ]
                    },
                    "execution_count": 15,
                    "metadata": {},
                    "output_type": "execute_result"
                }
            ],
            "source": [
                "names = [\"Mihhail\", \"Kadi\", \"Merli\", \"Allar\", \"Olga\"]\n",
                "\n",
                "import random\n",
                "\n",
                "random.choice(names)"
            ]
        },
        {
            "cell_type": "code",
            "execution_count": null,
            "metadata": {},
            "outputs": [],
            "source": []
        }
    ],
    "metadata": {
        "colab": {
            "collapsed_sections": [],
            "name": "recursive_networks.ipynb",
            "provenance": [],
            "toc_visible": true
        },
        "kernelspec": {
            "display_name": "Python 3.10.5 64-bit",
            "language": "python",
            "name": "python3"
        },
        "language_info": {
            "codemirror_mode": {
                "name": "ipython",
                "version": 3
            },
            "file_extension": ".py",
            "mimetype": "text/x-python",
            "name": "python",
            "nbconvert_exporter": "python",
            "pygments_lexer": "ipython3",
            "version": "3.10.5"
        },
        "vscode": {
            "interpreter": {
                "hash": "3429981c687d110c4c5c63635eed955f89f79b5c29f7b8819e5bb3afec2d8ca0"
            }
        }
    },
    "nbformat": 4,
    "nbformat_minor": 0
}
