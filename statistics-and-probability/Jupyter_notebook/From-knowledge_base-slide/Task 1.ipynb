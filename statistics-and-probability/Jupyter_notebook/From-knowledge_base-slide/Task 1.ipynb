{
 "cells": [
  {
   "cell_type": "markdown",
   "id": "09f812b7",
   "metadata": {},
   "source": [
    "**Create a numpy array with values from 1 to 9, display and \n",
    "then invert this array (first element becomes last, etc.)**"
   ]
  },
  {
   "cell_type": "code",
   "execution_count": 1,
   "id": "e374517b",
   "metadata": {},
   "outputs": [],
   "source": [
    "import numpy as np"
   ]
  },
  {
   "cell_type": "code",
   "execution_count": 3,
   "id": "24bc28d3",
   "metadata": {},
   "outputs": [
    {
     "data": {
      "text/plain": [
       "array([1, 2, 3, 4, 5, 6, 7, 8, 9])"
      ]
     },
     "execution_count": 3,
     "metadata": {},
     "output_type": "execute_result"
    }
   ],
   "source": [
    "numpy_array_1 = np.arange(1,10)\n",
    "numpy_array_1"
   ]
  },
  {
   "cell_type": "code",
   "execution_count": 4,
   "id": "0862fc54",
   "metadata": {},
   "outputs": [
    {
     "data": {
      "text/plain": [
       "array([9, 8, 7, 6, 5, 4, 3, 2, 1])"
      ]
     },
     "execution_count": 4,
     "metadata": {},
     "output_type": "execute_result"
    }
   ],
   "source": [
    "inverted_array = numpy_array_1[::-1]\n",
    "inverted_array"
   ]
  }
 ],
 "metadata": {
  "kernelspec": {
   "display_name": "Python 3 (ipykernel)",
   "language": "python",
   "name": "python3"
  },
  "language_info": {
   "codemirror_mode": {
    "name": "ipython",
    "version": 3
   },
   "file_extension": ".py",
   "mimetype": "text/x-python",
   "name": "python",
   "nbconvert_exporter": "python",
   "pygments_lexer": "ipython3",
   "version": "3.10.5"
  }
 },
 "nbformat": 4,
 "nbformat_minor": 5
}
