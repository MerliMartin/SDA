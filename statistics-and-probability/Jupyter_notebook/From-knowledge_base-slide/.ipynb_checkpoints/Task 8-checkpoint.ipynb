{
 "cells": [
  {
   "cell_type": "markdown",
   "id": "ac9c64f7",
   "metadata": {},
   "source": [
    "**Create any array of values and then normalize them - i.e. from \n",
    "each element of the array subtract the mean and divide by the \n",
    "standard deviation**"
   ]
  },
  {
   "cell_type": "code",
   "execution_count": 1,
   "id": "67b671b9",
   "metadata": {},
   "outputs": [],
   "source": [
    "import numpy as np"
   ]
  },
  {
   "cell_type": "code",
   "execution_count": 4,
   "id": "80f098a3",
   "metadata": {},
   "outputs": [
    {
     "data": {
      "text/plain": [
       "array([15,  2,  4,  2,  6, 18, 20,  5,  7,  1,  9,  2, 11,  5])"
      ]
     },
     "execution_count": 4,
     "metadata": {},
     "output_type": "execute_result"
    }
   ],
   "source": [
    "array_8 = np.array([15, 2, 4, 2, 6, 18, 20, 5, 7, 1, 9, 2, 11, 5])\n",
    "array_8"
   ]
  },
  {
   "cell_type": "code",
   "execution_count": 8,
   "id": "288ca8b4",
   "metadata": {},
   "outputs": [
    {
     "data": {
      "text/plain": [
       "array([ 1,  2,  2,  2,  4,  5,  5,  6,  7,  9, 11, 15, 18, 20])"
      ]
     },
     "execution_count": 8,
     "metadata": {},
     "output_type": "execute_result"
    }
   ],
   "source": [
    "np.sort(array_8)"
   ]
  },
  {
   "cell_type": "code",
   "execution_count": 9,
   "id": "070cf14f",
   "metadata": {},
   "outputs": [
    {
     "data": {
      "text/plain": [
       "7.642857142857143"
      ]
     },
     "execution_count": 9,
     "metadata": {},
     "output_type": "execute_result"
    }
   ],
   "source": [
    "np.mean(array_8)"
   ]
  },
  {
   "cell_type": "code",
   "execution_count": 10,
   "id": "1849f8ee",
   "metadata": {},
   "outputs": [
    {
     "data": {
      "text/plain": [
       "array([-6.64285714, -5.64285714, -5.64285714, -5.64285714, -3.64285714,\n",
       "       -2.64285714, -2.64285714, -1.64285714, -0.64285714,  1.35714286,\n",
       "        3.35714286,  7.35714286, 10.35714286, 12.35714286])"
      ]
     },
     "execution_count": 10,
     "metadata": {},
     "output_type": "execute_result"
    }
   ],
   "source": [
    "(array_8 - np.mean(array_8))"
   ]
  },
  {
   "cell_type": "code",
   "execution_count": 11,
   "id": "d76709e9",
   "metadata": {},
   "outputs": [
    {
     "data": {
      "text/plain": [
       "array([-1.1146721 , -0.946872  , -0.946872  , -0.946872  , -0.6112718 ,\n",
       "       -0.4434717 , -0.4434717 , -0.2756716 , -0.10787149,  0.22772871,\n",
       "        0.56332891,  1.23452932,  1.73792962,  2.07352982])"
      ]
     },
     "execution_count": 11,
     "metadata": {},
     "output_type": "execute_result"
    }
   ],
   "source": [
    "(array_8 - np.mean(array_8))/np.std(array_8)"
   ]
  },
  {
   "cell_type": "code",
   "execution_count": 13,
   "id": "20dfc373",
   "metadata": {},
   "outputs": [
    {
     "data": {
      "text/plain": [
       "5.959471966747472"
      ]
     },
     "execution_count": 13,
     "metadata": {},
     "output_type": "execute_result"
    }
   ],
   "source": [
    "np.std(array_8)  # standard deviation"
   ]
  },
  {
   "cell_type": "code",
   "execution_count": 15,
   "id": "e86920ec",
   "metadata": {},
   "outputs": [
    {
     "data": {
      "text/plain": [
       "14"
      ]
     },
     "execution_count": 15,
     "metadata": {},
     "output_type": "execute_result"
    }
   ],
   "source": [
    "np.size(array_8)"
   ]
  },
  {
   "cell_type": "code",
   "execution_count": 16,
   "id": "9a9494d4",
   "metadata": {},
   "outputs": [
    {
     "data": {
      "text/plain": [
       "107"
      ]
     },
     "execution_count": 16,
     "metadata": {},
     "output_type": "execute_result"
    }
   ],
   "source": [
    "np.sum(array_8)"
   ]
  },
  {
   "cell_type": "code",
   "execution_count": 19,
   "id": "e285b08a",
   "metadata": {},
   "outputs": [
    {
     "data": {
      "text/plain": [
       "5.959471966747472"
      ]
     },
     "execution_count": 19,
     "metadata": {},
     "output_type": "execute_result"
    }
   ],
   "source": [
    "np.sqrt((np.sum((array_8-np.mean(array_8))**2))/(np.size(array_8)))  # standard deviation function same as np.std(), just tired out the function writing"
   ]
  }
 ],
 "metadata": {
  "kernelspec": {
   "display_name": "Python 3 (ipykernel)",
   "language": "python",
   "name": "python3"
  },
  "language_info": {
   "codemirror_mode": {
    "name": "ipython",
    "version": 3
   },
   "file_extension": ".py",
   "mimetype": "text/x-python",
   "name": "python",
   "nbconvert_exporter": "python",
   "pygments_lexer": "ipython3",
   "version": "3.10.5"
  }
 },
 "nbformat": 4,
 "nbformat_minor": 5
}
