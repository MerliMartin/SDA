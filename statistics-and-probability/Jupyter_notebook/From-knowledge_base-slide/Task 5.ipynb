{
 "cells": [
  {
   "cell_type": "markdown",
   "id": "ce729779",
   "metadata": {},
   "source": [
    "**From the array of values: [23, 45, 112, 150, 43, 254, 95, 8] filter those \n",
    "that are greater than 100** - greater_array is asked"
   ]
  },
  {
   "cell_type": "code",
   "execution_count": 4,
   "id": "82a22180",
   "metadata": {},
   "outputs": [],
   "source": [
    "import numpy as np"
   ]
  },
  {
   "cell_type": "code",
   "execution_count": 6,
   "id": "c4e51901",
   "metadata": {},
   "outputs": [
    {
     "data": {
      "text/plain": [
       "array([ 23,  45, 112, 150,  43, 254,  95,   8])"
      ]
     },
     "execution_count": 6,
     "metadata": {},
     "output_type": "execute_result"
    }
   ],
   "source": [
    "array_5 = np.array([23, 45, 112, 150, 43, 254, 95, 8])\n",
    "array_5"
   ]
  },
  {
   "cell_type": "markdown",
   "id": "03c2735d",
   "metadata": {},
   "source": [
    "Filter ? - I think it is get numbers what are greater than 100"
   ]
  },
  {
   "cell_type": "code",
   "execution_count": 9,
   "id": "e47b9883",
   "metadata": {},
   "outputs": [
    {
     "data": {
      "text/plain": [
       "array([112, 150, 254])"
      ]
     },
     "execution_count": 9,
     "metadata": {},
     "output_type": "execute_result"
    }
   ],
   "source": [
    "greater_array = array_5[array_5>100]\n",
    "greater_array"
   ]
  },
  {
   "cell_type": "code",
   "execution_count": 13,
   "id": "67976b46",
   "metadata": {},
   "outputs": [
    {
     "data": {
      "text/plain": [
       "array([112, 150, 254])"
      ]
     },
     "execution_count": 13,
     "metadata": {},
     "output_type": "execute_result"
    }
   ],
   "source": [
    "array_5[np.where(array_5>100)]"
   ]
  },
  {
   "cell_type": "code",
   "execution_count": 14,
   "id": "b8afa8bc",
   "metadata": {},
   "outputs": [
    {
     "data": {
      "text/plain": [
       "(array([2, 3, 5], dtype=int64),)"
      ]
     },
     "execution_count": 14,
     "metadata": {},
     "output_type": "execute_result"
    }
   ],
   "source": [
    "np.where(array_5>100)"
   ]
  },
  {
   "cell_type": "markdown",
   "id": "eea3d163",
   "metadata": {},
   "source": [
    "Filter? = filter out ? - it means don'd show numbers that are greater than 100 only number what are less than 100"
   ]
  },
  {
   "cell_type": "code",
   "execution_count": 10,
   "id": "fe712de2",
   "metadata": {},
   "outputs": [
    {
     "data": {
      "text/plain": [
       "array([23, 45, 43, 95,  8])"
      ]
     },
     "execution_count": 10,
     "metadata": {},
     "output_type": "execute_result"
    }
   ],
   "source": [
    "lesser_array = array_5[array_5<100]\n",
    "lesser_array"
   ]
  }
 ],
 "metadata": {
  "kernelspec": {
   "display_name": "Python 3 (ipykernel)",
   "language": "python",
   "name": "python3"
  },
  "language_info": {
   "codemirror_mode": {
    "name": "ipython",
    "version": 3
   },
   "file_extension": ".py",
   "mimetype": "text/x-python",
   "name": "python",
   "nbconvert_exporter": "python",
   "pygments_lexer": "ipython3",
   "version": "3.10.5"
  }
 },
 "nbformat": 4,
 "nbformat_minor": 5
}
