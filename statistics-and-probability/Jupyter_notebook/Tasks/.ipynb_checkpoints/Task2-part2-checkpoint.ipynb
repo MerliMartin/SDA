{
 "cells": [
  {
   "cell_type": "code",
   "execution_count": 1,
   "id": "c8998039",
   "metadata": {},
   "outputs": [],
   "source": [
    "import numpy as np"
   ]
  },
  {
   "cell_type": "markdown",
   "id": "3c7abcfb",
   "metadata": {},
   "source": [
    "**Create an array.**"
   ]
  },
  {
   "cell_type": "code",
   "execution_count": 2,
   "id": "01ed8956",
   "metadata": {},
   "outputs": [
    {
     "data": {
      "text/plain": [
       "array([[ 1, 15,  4, 13],\n",
       "       [ 8, 21,  3, 12],\n",
       "       [11, 13, 11,  5],\n",
       "       [32, 13,  0,  2]])"
      ]
     },
     "execution_count": 2,
     "metadata": {},
     "output_type": "execute_result"
    }
   ],
   "source": [
    "array_2 = np.array([[1,15,4,13],\n",
    "                 [8,21,3,12],\n",
    "                 [11,13,11,5],\n",
    "                 [32,13,0,2]])\n",
    "array_2"
   ]
  },
  {
   "cell_type": "markdown",
   "id": "bdd46908",
   "metadata": {},
   "source": [
    "**Display item from second row and third column.**"
   ]
  },
  {
   "cell_type": "code",
   "execution_count": 4,
   "id": "53c52670",
   "metadata": {},
   "outputs": [
    {
     "data": {
      "text/plain": [
       "3"
      ]
     },
     "execution_count": 4,
     "metadata": {},
     "output_type": "execute_result"
    }
   ],
   "source": [
    "array_2[1,2]"
   ]
  },
  {
   "cell_type": "markdown",
   "id": "3fd39efd",
   "metadata": {},
   "source": [
    "**Calculate its trace (sum of elements on the main diagonal).**"
   ]
  },
  {
   "cell_type": "code",
   "execution_count": 10,
   "id": "b368c67a",
   "metadata": {},
   "outputs": [
    {
     "data": {
      "text/plain": [
       "array([ 1, 21, 11,  2])"
      ]
     },
     "execution_count": 10,
     "metadata": {},
     "output_type": "execute_result"
    }
   ],
   "source": [
    "array_2.diagonal()"
   ]
  },
  {
   "cell_type": "code",
   "execution_count": 9,
   "id": "34dc811e",
   "metadata": {},
   "outputs": [
    {
     "data": {
      "text/plain": [
       "35"
      ]
     },
     "execution_count": 9,
     "metadata": {},
     "output_type": "execute_result"
    }
   ],
   "source": [
    "np.sum(array_2.diagonal())"
   ]
  },
  {
   "cell_type": "markdown",
   "id": "d9aaf9c1",
   "metadata": {},
   "source": [
    "**Find the largest and smallest item.**"
   ]
  },
  {
   "cell_type": "code",
   "execution_count": 11,
   "id": "b9eed410",
   "metadata": {},
   "outputs": [
    {
     "data": {
      "text/plain": [
       "32"
      ]
     },
     "execution_count": 11,
     "metadata": {},
     "output_type": "execute_result"
    }
   ],
   "source": [
    "np.max(array_2)"
   ]
  },
  {
   "cell_type": "code",
   "execution_count": 12,
   "id": "c1618208",
   "metadata": {},
   "outputs": [
    {
     "data": {
      "text/plain": [
       "0"
      ]
     },
     "execution_count": 12,
     "metadata": {},
     "output_type": "execute_result"
    }
   ],
   "source": [
    "np.min(array_2)"
   ]
  }
 ],
 "metadata": {
  "kernelspec": {
   "display_name": "Python 3 (ipykernel)",
   "language": "python",
   "name": "python3"
  },
  "language_info": {
   "codemirror_mode": {
    "name": "ipython",
    "version": 3
   },
   "file_extension": ".py",
   "mimetype": "text/x-python",
   "name": "python",
   "nbconvert_exporter": "python",
   "pygments_lexer": "ipython3",
   "version": "3.10.5"
  }
 },
 "nbformat": 4,
 "nbformat_minor": 5
}
