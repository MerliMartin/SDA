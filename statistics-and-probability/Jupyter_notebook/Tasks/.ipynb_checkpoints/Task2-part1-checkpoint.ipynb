{
 "cells": [
  {
   "cell_type": "code",
   "execution_count": 2,
   "id": "5cb8298e",
   "metadata": {},
   "outputs": [],
   "source": [
    "import numpy as np"
   ]
  },
  {
   "cell_type": "markdown",
   "id": "a6edfea1",
   "metadata": {},
   "source": [
    "**Create an array of values from 4 to 19**"
   ]
  },
  {
   "cell_type": "code",
   "execution_count": 4,
   "id": "26a2314c",
   "metadata": {},
   "outputs": [
    {
     "data": {
      "text/plain": [
       "array([ 4,  5,  6,  7,  8,  9, 10, 11, 12, 13, 14, 15, 16, 17, 18, 19])"
      ]
     },
     "execution_count": 4,
     "metadata": {},
     "output_type": "execute_result"
    }
   ],
   "source": [
    "array_1 = np.arange(4,20)\n",
    "array_1"
   ]
  },
  {
   "cell_type": "markdown",
   "id": "bb111ed6",
   "metadata": {},
   "source": [
    "**Choose the values that are higher than 6 to form another array.**"
   ]
  },
  {
   "cell_type": "code",
   "execution_count": 6,
   "id": "ed2e55a8",
   "metadata": {},
   "outputs": [
    {
     "data": {
      "text/plain": [
       "array([ 7,  8,  9, 10, 11, 12, 13, 14, 15, 16, 17, 18, 19])"
      ]
     },
     "execution_count": 6,
     "metadata": {},
     "output_type": "execute_result"
    }
   ],
   "source": [
    "another_array_1 = array_1[array_1>6]\n",
    "another_array_1"
   ]
  },
  {
   "cell_type": "markdown",
   "id": "9277bbb6",
   "metadata": {},
   "source": [
    "**Calculate the max value** is it the max value from array ? or sum of the elements in array?"
   ]
  },
  {
   "cell_type": "code",
   "execution_count": 7,
   "id": "75016971",
   "metadata": {},
   "outputs": [
    {
     "data": {
      "text/plain": [
       "19"
      ]
     },
     "execution_count": 7,
     "metadata": {},
     "output_type": "execute_result"
    }
   ],
   "source": [
    "array_1.max()"
   ]
  },
  {
   "cell_type": "code",
   "execution_count": 8,
   "id": "81e5022d",
   "metadata": {},
   "outputs": [
    {
     "data": {
      "text/plain": [
       "184"
      ]
     },
     "execution_count": 8,
     "metadata": {},
     "output_type": "execute_result"
    }
   ],
   "source": [
    "array_1.sum()"
   ]
  },
  {
   "cell_type": "markdown",
   "id": "43722ec0",
   "metadata": {},
   "source": [
    "**Normalize the array by the sum of all its values** Cannot understand what is needed :( - is normalized a array with elements between 0 and 1 ?"
   ]
  },
  {
   "cell_type": "code",
   "execution_count": 9,
   "id": "976aabe6",
   "metadata": {},
   "outputs": [
    {
     "data": {
      "text/plain": [
       "array([0.02173913, 0.02717391, 0.0326087 , 0.03804348, 0.04347826,\n",
       "       0.04891304, 0.05434783, 0.05978261, 0.06521739, 0.07065217,\n",
       "       0.07608696, 0.08152174, 0.08695652, 0.0923913 , 0.09782609,\n",
       "       0.10326087])"
      ]
     },
     "execution_count": 9,
     "metadata": {},
     "output_type": "execute_result"
    }
   ],
   "source": [
    "array_1/(array_1.sum())"
   ]
  }
 ],
 "metadata": {
  "kernelspec": {
   "display_name": "Python 3 (ipykernel)",
   "language": "python",
   "name": "python3"
  },
  "language_info": {
   "codemirror_mode": {
    "name": "ipython",
    "version": 3
   },
   "file_extension": ".py",
   "mimetype": "text/x-python",
   "name": "python",
   "nbconvert_exporter": "python",
   "pygments_lexer": "ipython3",
   "version": "3.10.5"
  }
 },
 "nbformat": 4,
 "nbformat_minor": 5
}
