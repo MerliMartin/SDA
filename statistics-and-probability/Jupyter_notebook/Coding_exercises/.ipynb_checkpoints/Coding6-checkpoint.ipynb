{
 "cells": [
  {
   "cell_type": "code",
   "execution_count": 1,
   "id": "c11fd7a9",
   "metadata": {},
   "outputs": [],
   "source": [
    "import scipy.stats as scs"
   ]
  },
  {
   "cell_type": "code",
   "execution_count": 2,
   "id": "16604d85",
   "metadata": {},
   "outputs": [],
   "source": [
    "from scipy.stats import norm"
   ]
  },
  {
   "cell_type": "code",
   "execution_count": 3,
   "id": "cbfaf118",
   "metadata": {},
   "outputs": [],
   "source": [
    "x1 = norm.rvs(loc=5, scale=10, size=500, random_state=12345)\n",
    "x2 = norm.rvs(loc=5, scale=10, size=500, random_state=23456)\n",
    "x3 = norm.rvs(loc=10, scale=10, size=500, random_state=13456)"
   ]
  },
  {
   "cell_type": "code",
   "execution_count": 4,
   "id": "65fd77d7",
   "metadata": {},
   "outputs": [
    {
     "data": {
      "text/plain": [
       "Ttest_indResult(statistic=-0.8406338841374557, pvalue=0.40075442358268787)"
      ]
     },
     "execution_count": 4,
     "metadata": {},
     "output_type": "execute_result"
    }
   ],
   "source": [
    "scs.ttest_ind(x1, x2)"
   ]
  },
  {
   "cell_type": "code",
   "execution_count": 5,
   "id": "c7ebb6de",
   "metadata": {},
   "outputs": [
    {
     "data": {
      "text/plain": [
       "Ttest_indResult(statistic=-9.580024863077483, pvalue=7.407142641391078e-21)"
      ]
     },
     "execution_count": 5,
     "metadata": {},
     "output_type": "execute_result"
    }
   ],
   "source": [
    "scs.ttest_ind(x1, x3)"
   ]
  },
  {
   "cell_type": "code",
   "execution_count": 6,
   "id": "0af439a0",
   "metadata": {},
   "outputs": [],
   "source": [
    "normal_data = scs.norm.rvs(size=1000)"
   ]
  },
  {
   "cell_type": "code",
   "execution_count": 8,
   "id": "f909fa77",
   "metadata": {},
   "outputs": [
    {
     "data": {
      "text/plain": [
       "KstestResult(statistic=0.037239674133136336, pvalue=0.1217560167919709)"
      ]
     },
     "execution_count": 8,
     "metadata": {},
     "output_type": "execute_result"
    }
   ],
   "source": [
    "ks_results = scs.kstest(normal_data, \"norm\")\n",
    "ks_results"
   ]
  }
 ],
 "metadata": {
  "kernelspec": {
   "display_name": "Python 3 (ipykernel)",
   "language": "python",
   "name": "python3"
  },
  "language_info": {
   "codemirror_mode": {
    "name": "ipython",
    "version": 3
   },
   "file_extension": ".py",
   "mimetype": "text/x-python",
   "name": "python",
   "nbconvert_exporter": "python",
   "pygments_lexer": "ipython3",
   "version": "3.10.5"
  }
 },
 "nbformat": 4,
 "nbformat_minor": 5
}
