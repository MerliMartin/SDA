{
 "cells": [
  {
   "cell_type": "code",
   "execution_count": 2,
   "id": "8a0d5b87",
   "metadata": {},
   "outputs": [],
   "source": [
    "import numpy as np"
   ]
  },
  {
   "cell_type": "code",
   "execution_count": 6,
   "id": "b546c61e",
   "metadata": {},
   "outputs": [
    {
     "data": {
      "text/plain": [
       "array([[1, 2, 3, 9],\n",
       "       [2, 3, 4, 0],\n",
       "       [3, 4, 5, 1],\n",
       "       [8, 6, 2, 3]])"
      ]
     },
     "execution_count": 6,
     "metadata": {},
     "output_type": "execute_result"
    }
   ],
   "source": [
    "M = np.array([\n",
    " [1,2,3,9],\n",
    " [2,3,4,0],\n",
    " [3,4,5,1],\n",
    " [8,6,2,3],\n",
    "])\n",
    "M"
   ]
  },
  {
   "cell_type": "markdown",
   "id": "776e04cb",
   "metadata": {},
   "source": [
    "**Matrix determinant**"
   ]
  },
  {
   "cell_type": "code",
   "execution_count": 7,
   "id": "95a5500a",
   "metadata": {},
   "outputs": [
    {
     "data": {
      "text/plain": [
       "-19.999999999999925"
      ]
     },
     "execution_count": 7,
     "metadata": {},
     "output_type": "execute_result"
    }
   ],
   "source": [
    "np.linalg.det(M)"
   ]
  },
  {
   "cell_type": "markdown",
   "id": "95183d4f",
   "metadata": {},
   "source": [
    "**Inverse matrix**"
   ]
  },
  {
   "cell_type": "code",
   "execution_count": 8,
   "id": "98e0b88c",
   "metadata": {},
   "outputs": [
    {
     "data": {
      "text/plain": [
       "array([[-7.50000000e-01, -9.50000000e+00,  8.25000000e+00,\n",
       "        -5.00000000e-01],\n",
       "       [ 1.10000000e+00,  1.48000000e+01, -1.29000000e+01,\n",
       "         1.00000000e+00],\n",
       "       [-4.50000000e-01, -6.10000000e+00,  5.55000000e+00,\n",
       "        -5.00000000e-01],\n",
       "       [ 1.00000000e-01, -2.00000000e-01,  1.00000000e-01,\n",
       "        -2.22044605e-17]])"
      ]
     },
     "execution_count": 8,
     "metadata": {},
     "output_type": "execute_result"
    }
   ],
   "source": [
    "np.linalg.inv(M)"
   ]
  },
  {
   "cell_type": "markdown",
   "id": "41085e63",
   "metadata": {},
   "source": [
    "**Eigenvalues and eigenvectors**"
   ]
  },
  {
   "cell_type": "code",
   "execution_count": 9,
   "id": "dc0589c1",
   "metadata": {},
   "outputs": [
    {
     "data": {
      "text/plain": [
       "(array([13.78960663, -6.31259431,  4.47160619,  0.05138149]),\n",
       " array([[-0.59287205, -0.79625908, -0.56704857,  0.50847644],\n",
       "        [-0.25565909,  0.12070379,  0.48436199, -0.79460544],\n",
       "        [-0.39317923,  0.11711319,  0.46172181,  0.33150885],\n",
       "        [-0.65463827,  0.58110805, -0.4802732 ,  0.01248157]]))"
      ]
     },
     "execution_count": 9,
     "metadata": {},
     "output_type": "execute_result"
    }
   ],
   "source": [
    "np.linalg.eig(M)"
   ]
  }
 ],
 "metadata": {
  "kernelspec": {
   "display_name": "Python 3 (ipykernel)",
   "language": "python",
   "name": "python3"
  },
  "language_info": {
   "codemirror_mode": {
    "name": "ipython",
    "version": 3
   },
   "file_extension": ".py",
   "mimetype": "text/x-python",
   "name": "python",
   "nbconvert_exporter": "python",
   "pygments_lexer": "ipython3",
   "version": "3.10.5"
  }
 },
 "nbformat": 4,
 "nbformat_minor": 5
}
