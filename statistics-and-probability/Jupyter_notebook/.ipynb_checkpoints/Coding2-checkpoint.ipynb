{
 "cells": [
  {
   "cell_type": "markdown",
   "id": "7ed81424",
   "metadata": {},
   "source": [
    "**Import necessary package**"
   ]
  },
  {
   "cell_type": "code",
   "execution_count": 3,
   "id": "71558bb0",
   "metadata": {},
   "outputs": [],
   "source": [
    "import numpy as np"
   ]
  },
  {
   "cell_type": "markdown",
   "id": "32152bea",
   "metadata": {},
   "source": [
    "**Create Numpy Array**"
   ]
  },
  {
   "cell_type": "code",
   "execution_count": 11,
   "id": "94c6330b",
   "metadata": {},
   "outputs": [
    {
     "data": {
      "text/plain": [
       "array([[1, 2, 3, 9, 5],\n",
       "       [2, 3, 4, 0, 1],\n",
       "       [3, 4, 5, 1, 7],\n",
       "       [8, 6, 2, 3, 2]])"
      ]
     },
     "execution_count": 11,
     "metadata": {},
     "output_type": "execute_result"
    }
   ],
   "source": [
    "M = np.array([\n",
    " [1,2,3,9,5],\n",
    " [2,3,4,0,1],\n",
    " [3,4,5,1,7],\n",
    " [8,6,2,3,2],\n",
    "])\n",
    "M"
   ]
  },
  {
   "cell_type": "markdown",
   "id": "bb963ffa",
   "metadata": {},
   "source": [
    "Shape-how many (row, column), Size-number of elements, ndim-how many dimensions"
   ]
  },
  {
   "cell_type": "code",
   "execution_count": 12,
   "id": "112e8225",
   "metadata": {},
   "outputs": [
    {
     "data": {
      "text/plain": [
       "((4, 5), 20, 2)"
      ]
     },
     "execution_count": 12,
     "metadata": {},
     "output_type": "execute_result"
    }
   ],
   "source": [
    "M.shape, M.size, M.ndim"
   ]
  },
  {
   "cell_type": "markdown",
   "id": "c66e6e5b",
   "metadata": {},
   "source": [
    "**Find first row**"
   ]
  },
  {
   "cell_type": "code",
   "execution_count": 13,
   "id": "4ad2a4cf",
   "metadata": {},
   "outputs": [
    {
     "data": {
      "text/plain": [
       "array([1, 2, 3, 9, 5])"
      ]
     },
     "execution_count": 13,
     "metadata": {},
     "output_type": "execute_result"
    }
   ],
   "source": [
    "M[0]"
   ]
  },
  {
   "cell_type": "markdown",
   "id": "0b588500",
   "metadata": {},
   "source": [
    "**Find the element** n'th-row and m'th column"
   ]
  },
  {
   "cell_type": "code",
   "execution_count": 15,
   "id": "ca59cc8c",
   "metadata": {},
   "outputs": [
    {
     "data": {
      "text/plain": [
       "0"
      ]
     },
     "execution_count": 15,
     "metadata": {},
     "output_type": "execute_result"
    }
   ],
   "source": [
    "M[1,3]"
   ]
  },
  {
   "cell_type": "markdown",
   "id": "ba0ef139",
   "metadata": {},
   "source": [
    "**Access sub-matrix** (range of rows, range of columns)"
   ]
  },
  {
   "cell_type": "code",
   "execution_count": 20,
   "id": "05ddb42d",
   "metadata": {},
   "outputs": [
    {
     "data": {
      "text/plain": [
       "array([[4, 0],\n",
       "       [5, 1],\n",
       "       [2, 3]])"
      ]
     },
     "execution_count": 20,
     "metadata": {},
     "output_type": "execute_result"
    }
   ],
   "source": [
    "M[1:4, 2:4]"
   ]
  },
  {
   "cell_type": "code",
   "execution_count": 21,
   "id": "3b89416a",
   "metadata": {},
   "outputs": [
    {
     "data": {
      "text/plain": [
       "array([[2, 3, 4, 0, 1],\n",
       "       [3, 4, 5, 1, 7]])"
      ]
     },
     "execution_count": 21,
     "metadata": {},
     "output_type": "execute_result"
    }
   ],
   "source": [
    "M[1:3, :]    "
   ]
  },
  {
   "cell_type": "markdown",
   "id": "e9c9ebb0",
   "metadata": {},
   "source": [
    "**Create an array of consecutive values**"
   ]
  },
  {
   "cell_type": "code",
   "execution_count": 22,
   "id": "5be5bc02",
   "metadata": {},
   "outputs": [
    {
     "data": {
      "text/plain": [
       "array([ 2,  3,  4,  5,  6,  7,  8,  9, 10])"
      ]
     },
     "execution_count": 22,
     "metadata": {},
     "output_type": "execute_result"
    }
   ],
   "source": [
    "a = np.arange(2,11)\n",
    "a"
   ]
  },
  {
   "cell_type": "markdown",
   "id": "233e8c2a",
   "metadata": {},
   "source": [
    "**Create an array of consecutive values from a to b \n",
    "with the certain number of steps**"
   ]
  },
  {
   "cell_type": "code",
   "execution_count": 23,
   "id": "e66efa71",
   "metadata": {},
   "outputs": [
    {
     "data": {
      "text/plain": [
       "array([0.  , 0.25, 0.5 , 0.75, 1.  ])"
      ]
     },
     "execution_count": 23,
     "metadata": {},
     "output_type": "execute_result"
    }
   ],
   "source": [
    "np.linspace(0,1,5)"
   ]
  },
  {
   "cell_type": "markdown",
   "id": "b5e4cf2a",
   "metadata": {},
   "source": [
    "**np.where for access indices of array based on \n",
    "condition**"
   ]
  },
  {
   "cell_type": "code",
   "execution_count": 28,
   "id": "c77921ea",
   "metadata": {},
   "outputs": [
    {
     "data": {
      "text/plain": [
       "(array([0, 0, 1, 2, 2, 2, 3, 3], dtype=int64),\n",
       " array([3, 4, 2, 1, 2, 4, 0, 1], dtype=int64))"
      ]
     },
     "execution_count": 28,
     "metadata": {},
     "output_type": "execute_result"
    }
   ],
   "source": [
    "np.where(M>3)"
   ]
  },
  {
   "cell_type": "code",
   "execution_count": 27,
   "id": "ca77d062",
   "metadata": {},
   "outputs": [
    {
     "data": {
      "text/plain": [
       "(array([2, 3, 4, 5, 6, 7, 8], dtype=int64),)"
      ]
     },
     "execution_count": 27,
     "metadata": {},
     "output_type": "execute_result"
    }
   ],
   "source": [
    "np.where(a>3)"
   ]
  },
  {
   "cell_type": "code",
   "execution_count": 30,
   "id": "12318005",
   "metadata": {},
   "outputs": [
    {
     "data": {
      "text/plain": [
       "array([ 4,  5,  6,  7,  8,  9, 10])"
      ]
     },
     "execution_count": 30,
     "metadata": {},
     "output_type": "execute_result"
    }
   ],
   "source": [
    "a[a>3]"
   ]
  },
  {
   "cell_type": "markdown",
   "id": "3d7f0b07",
   "metadata": {},
   "source": [
    "**.reshape to change arrays dimensions**"
   ]
  },
  {
   "cell_type": "code",
   "execution_count": 33,
   "id": "cf3b703b",
   "metadata": {},
   "outputs": [
    {
     "data": {
      "text/plain": [
       "array([[ 2,  3,  4],\n",
       "       [ 5,  6,  7],\n",
       "       [ 8,  9, 10]])"
      ]
     },
     "execution_count": 33,
     "metadata": {},
     "output_type": "execute_result"
    }
   ],
   "source": [
    "a.reshape(3,3)  # reshapes it to 3 rows and 3 columns"
   ]
  },
  {
   "cell_type": "code",
   "execution_count": 37,
   "id": "aa248f9b",
   "metadata": {},
   "outputs": [
    {
     "data": {
      "text/plain": [
       "array([[1, 2, 3, 9, 5],\n",
       "       [2, 3, 4, 0, 1],\n",
       "       [3, 4, 5, 1, 7],\n",
       "       [8, 6, 2, 3, 2]])"
      ]
     },
     "execution_count": 37,
     "metadata": {},
     "output_type": "execute_result"
    }
   ],
   "source": [
    "M.reshape(4,5) # M array has 20elments , you can do arrays -4rows and 5columns or 2 rows and 10 columns (basically)"
   ]
  },
  {
   "cell_type": "markdown",
   "id": "d129cf06",
   "metadata": {},
   "source": [
    "**Make the M array to 1-dimensional**"
   ]
  },
  {
   "cell_type": "code",
   "execution_count": 39,
   "id": "1f7b85e0",
   "metadata": {},
   "outputs": [
    {
     "data": {
      "text/plain": [
       "array([1, 2, 3, 9, 5, 2, 3, 4, 0, 1, 3, 4, 5, 1, 7, 8, 6, 2, 3, 2])"
      ]
     },
     "execution_count": 39,
     "metadata": {},
     "output_type": "execute_result"
    }
   ],
   "source": [
    "M.flatten()"
   ]
  },
  {
   "cell_type": "markdown",
   "id": "7b2bc931",
   "metadata": {},
   "source": [
    "**Access the matrix diagonal**"
   ]
  },
  {
   "cell_type": "code",
   "execution_count": 41,
   "id": "76ed0c0f",
   "metadata": {},
   "outputs": [
    {
     "data": {
      "text/plain": [
       "array([1, 3, 5, 3])"
      ]
     },
     "execution_count": 41,
     "metadata": {},
     "output_type": "execute_result"
    }
   ],
   "source": [
    "M.diagonal()"
   ]
  },
  {
   "cell_type": "markdown",
   "id": "fa0204d8",
   "metadata": {},
   "source": [
    "**Statistical functions** max element from array, min element from array, elements average"
   ]
  },
  {
   "cell_type": "code",
   "execution_count": 42,
   "id": "7c4503cb",
   "metadata": {},
   "outputs": [
    {
     "data": {
      "text/plain": [
       "(9, 0, 3.55)"
      ]
     },
     "execution_count": 42,
     "metadata": {},
     "output_type": "execute_result"
    }
   ],
   "source": [
    "np.max(M), np.min(M), np.mean(M)"
   ]
  },
  {
   "cell_type": "markdown",
   "id": "c38d3f2e",
   "metadata": {},
   "source": [
    "**Creating identity matrix**"
   ]
  },
  {
   "cell_type": "code",
   "execution_count": 44,
   "id": "417d7786",
   "metadata": {},
   "outputs": [
    {
     "data": {
      "text/plain": [
       "array([[1., 0., 0., 0.],\n",
       "       [0., 1., 0., 0.],\n",
       "       [0., 0., 1., 0.],\n",
       "       [0., 0., 0., 1.]])"
      ]
     },
     "execution_count": 44,
     "metadata": {},
     "output_type": "execute_result"
    }
   ],
   "source": [
    "np.identity(4)"
   ]
  },
  {
   "cell_type": "code",
   "execution_count": 45,
   "id": "fd40ba74",
   "metadata": {},
   "outputs": [],
   "source": [
    "m1 = np.array([[1,2,1], [2,4,6]])\n",
    "m2 = np.array([[1,1], [2,3], [6,1]])"
   ]
  },
  {
   "cell_type": "code",
   "execution_count": 46,
   "id": "c8f04992",
   "metadata": {},
   "outputs": [
    {
     "data": {
      "text/plain": [
       "array([[1, 2, 1],\n",
       "       [2, 4, 6]])"
      ]
     },
     "execution_count": 46,
     "metadata": {},
     "output_type": "execute_result"
    }
   ],
   "source": [
    "m1"
   ]
  },
  {
   "cell_type": "code",
   "execution_count": 47,
   "id": "c802ad10",
   "metadata": {},
   "outputs": [
    {
     "data": {
      "text/plain": [
       "array([[1, 1],\n",
       "       [2, 3],\n",
       "       [6, 1]])"
      ]
     },
     "execution_count": 47,
     "metadata": {},
     "output_type": "execute_result"
    }
   ],
   "source": [
    "m2"
   ]
  },
  {
   "cell_type": "code",
   "execution_count": 50,
   "id": "19c346f6",
   "metadata": {},
   "outputs": [
    {
     "data": {
      "text/plain": [
       "array([[11,  8],\n",
       "       [46, 20]])"
      ]
     },
     "execution_count": 50,
     "metadata": {},
     "output_type": "execute_result"
    }
   ],
   "source": [
    "np.dot(m1, m2)  # .dot does a lot of things based what dimension arrays are given"
   ]
  },
  {
   "cell_type": "code",
   "execution_count": 52,
   "id": "d427b7b9",
   "metadata": {},
   "outputs": [
    {
     "data": {
      "text/plain": [
       "array([[11,  8],\n",
       "       [46, 20]])"
      ]
     },
     "execution_count": 52,
     "metadata": {},
     "output_type": "execute_result"
    }
   ],
   "source": [
    "m1 @ m2  # does the same thing what .dot, when you have both 2-D arrays.  @-matmul"
   ]
  },
  {
   "cell_type": "code",
   "execution_count": 53,
   "id": "184bf078",
   "metadata": {},
   "outputs": [
    {
     "data": {
      "text/plain": [
       "array([[1, 1, 2],\n",
       "       [3, 6, 1]])"
      ]
     },
     "execution_count": 53,
     "metadata": {},
     "output_type": "execute_result"
    }
   ],
   "source": [
    "m2.reshape(2,3)"
   ]
  },
  {
   "cell_type": "code",
   "execution_count": 54,
   "id": "039c53f5",
   "metadata": {},
   "outputs": [
    {
     "data": {
      "text/plain": [
       "array([[ 2,  3,  3],\n",
       "       [ 5, 10,  7]])"
      ]
     },
     "execution_count": 54,
     "metadata": {},
     "output_type": "execute_result"
    }
   ],
   "source": [
    "m1 + m2.reshape(2,3)"
   ]
  },
  {
   "cell_type": "code",
   "execution_count": 55,
   "id": "81b3538b",
   "metadata": {},
   "outputs": [
    {
     "data": {
      "text/plain": [
       "array([[ 0,  1, -1],\n",
       "       [-1, -2,  5]])"
      ]
     },
     "execution_count": 55,
     "metadata": {},
     "output_type": "execute_result"
    }
   ],
   "source": [
    "m1 - m2.reshape(2,3)"
   ]
  }
 ],
 "metadata": {
  "kernelspec": {
   "display_name": "Python 3 (ipykernel)",
   "language": "python",
   "name": "python3"
  },
  "language_info": {
   "codemirror_mode": {
    "name": "ipython",
    "version": 3
   },
   "file_extension": ".py",
   "mimetype": "text/x-python",
   "name": "python",
   "nbconvert_exporter": "python",
   "pygments_lexer": "ipython3",
   "version": "3.10.5"
  }
 },
 "nbformat": 4,
 "nbformat_minor": 5
}
